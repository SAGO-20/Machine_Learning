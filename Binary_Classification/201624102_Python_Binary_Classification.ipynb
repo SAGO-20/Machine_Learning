{
  "nbformat": 4,
  "nbformat_minor": 0,
  "metadata": {
    "colab": {
      "provenance": [],
      "collapsed_sections": [
        "Q-gmOOZfFPOG",
        "tSQsnJL8FdaZ",
        "iJNUImpyGXXh",
        "jlnEo4bLOGwX",
        "5OO8nq5_zWLl",
        "Y_lndjOYGjjK"
      ]
    },
    "kernelspec": {
      "name": "python3",
      "display_name": "Python 3"
    },
    "language_info": {
      "name": "python"
    }
  },
  "cells": [
    {
      "cell_type": "markdown",
      "source": [
        "#**1. Loading the necessary libraries**"
      ],
      "metadata": {
        "id": "Q-gmOOZfFPOG"
      }
    },
    {
      "cell_type": "code",
      "execution_count": 22,
      "metadata": {
        "id": "iattNkrvFF0K"
      },
      "outputs": [],
      "source": [
        "import numpy as np\n",
        "import pandas as pd\n",
        "import matplotlib.pyplot as plt\n",
        "import seaborn as sns\n",
        "from sklearn.model_selection import train_test_split,GridSearchCV\n",
        "from sklearn.model_selection import cross_val_score\n",
        "from sklearn.model_selection import KFold\n",
        "from sklearn.metrics import confusion_matrix, precision_score,recall_score,f1_score,accuracy_score\n",
        "from sklearn.tree import DecisionTreeClassifier,plot_tree\n",
        "from sklearn.neighbors import KNeighborsClassifier\n",
        "from sklearn.ensemble import RandomForestClassifier\n"
      ]
    },
    {
      "cell_type": "code",
      "source": [
        "import random\n",
        "\n",
        "# Setting the seed\n",
        "random.seed(42)\n",
        "np.random.seed(42)\n"
      ],
      "metadata": {
        "id": "USOL7uSlIJcP"
      },
      "execution_count": 23,
      "outputs": []
    },
    {
      "cell_type": "markdown",
      "source": [
        "#**2. Loading the dataset into Colab**"
      ],
      "metadata": {
        "id": "tSQsnJL8FdaZ"
      }
    },
    {
      "cell_type": "code",
      "source": [
        "from google.colab import files\n",
        "uploaded = files.upload()"
      ],
      "metadata": {
        "colab": {
          "base_uri": "https://localhost:8080/",
          "height": 69
        },
        "id": "66vtF2muFc3P",
        "outputId": "7eef491c-ac14-4398-ede1-1dfd796a5d3d"
      },
      "execution_count": 3,
      "outputs": [
        {
          "output_type": "display_data",
          "data": {
            "text/plain": [
              "<IPython.core.display.HTML object>"
            ],
            "text/html": [
              "\n",
              "     <input type=\"file\" id=\"files-b7b539d0-a7be-4638-ac94-30c4cead44f8\" name=\"files[]\" multiple disabled\n",
              "        style=\"border:none\" />\n",
              "     <output id=\"result-b7b539d0-a7be-4638-ac94-30c4cead44f8\">\n",
              "      Upload widget is only available when the cell has been executed in the\n",
              "      current browser session. Please rerun this cell to enable.\n",
              "      </output>\n",
              "      <script>// Copyright 2017 Google LLC\n",
              "//\n",
              "// Licensed under the Apache License, Version 2.0 (the \"License\");\n",
              "// you may not use this file except in compliance with the License.\n",
              "// You may obtain a copy of the License at\n",
              "//\n",
              "//      http://www.apache.org/licenses/LICENSE-2.0\n",
              "//\n",
              "// Unless required by applicable law or agreed to in writing, software\n",
              "// distributed under the License is distributed on an \"AS IS\" BASIS,\n",
              "// WITHOUT WARRANTIES OR CONDITIONS OF ANY KIND, either express or implied.\n",
              "// See the License for the specific language governing permissions and\n",
              "// limitations under the License.\n",
              "\n",
              "/**\n",
              " * @fileoverview Helpers for google.colab Python module.\n",
              " */\n",
              "(function(scope) {\n",
              "function span(text, styleAttributes = {}) {\n",
              "  const element = document.createElement('span');\n",
              "  element.textContent = text;\n",
              "  for (const key of Object.keys(styleAttributes)) {\n",
              "    element.style[key] = styleAttributes[key];\n",
              "  }\n",
              "  return element;\n",
              "}\n",
              "\n",
              "// Max number of bytes which will be uploaded at a time.\n",
              "const MAX_PAYLOAD_SIZE = 100 * 1024;\n",
              "\n",
              "function _uploadFiles(inputId, outputId) {\n",
              "  const steps = uploadFilesStep(inputId, outputId);\n",
              "  const outputElement = document.getElementById(outputId);\n",
              "  // Cache steps on the outputElement to make it available for the next call\n",
              "  // to uploadFilesContinue from Python.\n",
              "  outputElement.steps = steps;\n",
              "\n",
              "  return _uploadFilesContinue(outputId);\n",
              "}\n",
              "\n",
              "// This is roughly an async generator (not supported in the browser yet),\n",
              "// where there are multiple asynchronous steps and the Python side is going\n",
              "// to poll for completion of each step.\n",
              "// This uses a Promise to block the python side on completion of each step,\n",
              "// then passes the result of the previous step as the input to the next step.\n",
              "function _uploadFilesContinue(outputId) {\n",
              "  const outputElement = document.getElementById(outputId);\n",
              "  const steps = outputElement.steps;\n",
              "\n",
              "  const next = steps.next(outputElement.lastPromiseValue);\n",
              "  return Promise.resolve(next.value.promise).then((value) => {\n",
              "    // Cache the last promise value to make it available to the next\n",
              "    // step of the generator.\n",
              "    outputElement.lastPromiseValue = value;\n",
              "    return next.value.response;\n",
              "  });\n",
              "}\n",
              "\n",
              "/**\n",
              " * Generator function which is called between each async step of the upload\n",
              " * process.\n",
              " * @param {string} inputId Element ID of the input file picker element.\n",
              " * @param {string} outputId Element ID of the output display.\n",
              " * @return {!Iterable<!Object>} Iterable of next steps.\n",
              " */\n",
              "function* uploadFilesStep(inputId, outputId) {\n",
              "  const inputElement = document.getElementById(inputId);\n",
              "  inputElement.disabled = false;\n",
              "\n",
              "  const outputElement = document.getElementById(outputId);\n",
              "  outputElement.innerHTML = '';\n",
              "\n",
              "  const pickedPromise = new Promise((resolve) => {\n",
              "    inputElement.addEventListener('change', (e) => {\n",
              "      resolve(e.target.files);\n",
              "    });\n",
              "  });\n",
              "\n",
              "  const cancel = document.createElement('button');\n",
              "  inputElement.parentElement.appendChild(cancel);\n",
              "  cancel.textContent = 'Cancel upload';\n",
              "  const cancelPromise = new Promise((resolve) => {\n",
              "    cancel.onclick = () => {\n",
              "      resolve(null);\n",
              "    };\n",
              "  });\n",
              "\n",
              "  // Wait for the user to pick the files.\n",
              "  const files = yield {\n",
              "    promise: Promise.race([pickedPromise, cancelPromise]),\n",
              "    response: {\n",
              "      action: 'starting',\n",
              "    }\n",
              "  };\n",
              "\n",
              "  cancel.remove();\n",
              "\n",
              "  // Disable the input element since further picks are not allowed.\n",
              "  inputElement.disabled = true;\n",
              "\n",
              "  if (!files) {\n",
              "    return {\n",
              "      response: {\n",
              "        action: 'complete',\n",
              "      }\n",
              "    };\n",
              "  }\n",
              "\n",
              "  for (const file of files) {\n",
              "    const li = document.createElement('li');\n",
              "    li.append(span(file.name, {fontWeight: 'bold'}));\n",
              "    li.append(span(\n",
              "        `(${file.type || 'n/a'}) - ${file.size} bytes, ` +\n",
              "        `last modified: ${\n",
              "            file.lastModifiedDate ? file.lastModifiedDate.toLocaleDateString() :\n",
              "                                    'n/a'} - `));\n",
              "    const percent = span('0% done');\n",
              "    li.appendChild(percent);\n",
              "\n",
              "    outputElement.appendChild(li);\n",
              "\n",
              "    const fileDataPromise = new Promise((resolve) => {\n",
              "      const reader = new FileReader();\n",
              "      reader.onload = (e) => {\n",
              "        resolve(e.target.result);\n",
              "      };\n",
              "      reader.readAsArrayBuffer(file);\n",
              "    });\n",
              "    // Wait for the data to be ready.\n",
              "    let fileData = yield {\n",
              "      promise: fileDataPromise,\n",
              "      response: {\n",
              "        action: 'continue',\n",
              "      }\n",
              "    };\n",
              "\n",
              "    // Use a chunked sending to avoid message size limits. See b/62115660.\n",
              "    let position = 0;\n",
              "    do {\n",
              "      const length = Math.min(fileData.byteLength - position, MAX_PAYLOAD_SIZE);\n",
              "      const chunk = new Uint8Array(fileData, position, length);\n",
              "      position += length;\n",
              "\n",
              "      const base64 = btoa(String.fromCharCode.apply(null, chunk));\n",
              "      yield {\n",
              "        response: {\n",
              "          action: 'append',\n",
              "          file: file.name,\n",
              "          data: base64,\n",
              "        },\n",
              "      };\n",
              "\n",
              "      let percentDone = fileData.byteLength === 0 ?\n",
              "          100 :\n",
              "          Math.round((position / fileData.byteLength) * 100);\n",
              "      percent.textContent = `${percentDone}% done`;\n",
              "\n",
              "    } while (position < fileData.byteLength);\n",
              "  }\n",
              "\n",
              "  // All done.\n",
              "  yield {\n",
              "    response: {\n",
              "      action: 'complete',\n",
              "    }\n",
              "  };\n",
              "}\n",
              "\n",
              "scope.google = scope.google || {};\n",
              "scope.google.colab = scope.google.colab || {};\n",
              "scope.google.colab._files = {\n",
              "  _uploadFiles,\n",
              "  _uploadFilesContinue,\n",
              "};\n",
              "})(self);\n",
              "</script> "
            ]
          },
          "metadata": {}
        },
        {
          "output_type": "stream",
          "name": "stdout",
          "text": [
            "Saving dataset_assignment1 (2).csv to dataset_assignment1 (2).csv\n"
          ]
        }
      ]
    },
    {
      "cell_type": "code",
      "source": [
        "df = pd.read_csv('dataset_assignment1 (2).csv')"
      ],
      "metadata": {
        "id": "dKEaPB3CF76c"
      },
      "execution_count": 4,
      "outputs": []
    },
    {
      "cell_type": "code",
      "source": [
        "# pritning the information about the data\n",
        "df.info()"
      ],
      "metadata": {
        "colab": {
          "base_uri": "https://localhost:8080/"
        },
        "id": "2_mQ6GqgGLNY",
        "outputId": "0023c0e1-627a-46ab-8900-03672791245e"
      },
      "execution_count": 5,
      "outputs": [
        {
          "output_type": "stream",
          "name": "stdout",
          "text": [
            "<class 'pandas.core.frame.DataFrame'>\n",
            "RangeIndex: 700 entries, 0 to 699\n",
            "Data columns (total 10 columns):\n",
            " #   Column    Non-Null Count  Dtype\n",
            "---  ------    --------------  -----\n",
            " 0   feature1  700 non-null    int64\n",
            " 1   feature2  700 non-null    int64\n",
            " 2   feature3  700 non-null    int64\n",
            " 3   feature4  700 non-null    int64\n",
            " 4   feature5  700 non-null    int64\n",
            " 5   feature6  700 non-null    int64\n",
            " 6   feature7  700 non-null    int64\n",
            " 7   feature8  700 non-null    int64\n",
            " 8   feature9  700 non-null    int64\n",
            " 9   class     700 non-null    int64\n",
            "dtypes: int64(10)\n",
            "memory usage: 54.8 KB\n"
          ]
        }
      ]
    },
    {
      "cell_type": "markdown",
      "source": [
        "***The above information of the data shows that there are no misssing values.***"
      ],
      "metadata": {
        "id": "SRO3IVvbFU0J"
      }
    },
    {
      "cell_type": "markdown",
      "source": [
        "\n",
        "\n",
        "#**3.Understanding the Data**"
      ],
      "metadata": {
        "id": "iJNUImpyGXXh"
      }
    },
    {
      "cell_type": "code",
      "source": [
        "# printing the first 5 rows\n",
        "df.head(5)"
      ],
      "metadata": {
        "colab": {
          "base_uri": "https://localhost:8080/",
          "height": 204
        },
        "id": "9PsoN2yQGZT_",
        "outputId": "836c8cf0-f0c9-4407-f5eb-e2927113958c"
      },
      "execution_count": null,
      "outputs": [
        {
          "output_type": "execute_result",
          "data": {
            "text/plain": [
              "   feature1  feature2  feature3  feature4  feature5  feature6  feature7  \\\n",
              "0         5         1         1         1         2         1         3   \n",
              "1         5         4         4         5         7        10         3   \n",
              "2         3         1         1         1         2         2         3   \n",
              "3         6         8         8         1         3         4         3   \n",
              "4         4         1         1         3         2         1         3   \n",
              "\n",
              "   feature8  featue9  class  \n",
              "0         1        1      0  \n",
              "1         2        1      0  \n",
              "2         1        1      0  \n",
              "3         7        1      0  \n",
              "4         1        1      0  "
            ],
            "text/html": [
              "\n",
              "  <div id=\"df-e7c1c648-97ac-4599-8742-e079461a9f93\">\n",
              "    <div class=\"colab-df-container\">\n",
              "      <div>\n",
              "<style scoped>\n",
              "    .dataframe tbody tr th:only-of-type {\n",
              "        vertical-align: middle;\n",
              "    }\n",
              "\n",
              "    .dataframe tbody tr th {\n",
              "        vertical-align: top;\n",
              "    }\n",
              "\n",
              "    .dataframe thead th {\n",
              "        text-align: right;\n",
              "    }\n",
              "</style>\n",
              "<table border=\"1\" class=\"dataframe\">\n",
              "  <thead>\n",
              "    <tr style=\"text-align: right;\">\n",
              "      <th></th>\n",
              "      <th>feature1</th>\n",
              "      <th>feature2</th>\n",
              "      <th>feature3</th>\n",
              "      <th>feature4</th>\n",
              "      <th>feature5</th>\n",
              "      <th>feature6</th>\n",
              "      <th>feature7</th>\n",
              "      <th>feature8</th>\n",
              "      <th>featue9</th>\n",
              "      <th>class</th>\n",
              "    </tr>\n",
              "  </thead>\n",
              "  <tbody>\n",
              "    <tr>\n",
              "      <th>0</th>\n",
              "      <td>5</td>\n",
              "      <td>1</td>\n",
              "      <td>1</td>\n",
              "      <td>1</td>\n",
              "      <td>2</td>\n",
              "      <td>1</td>\n",
              "      <td>3</td>\n",
              "      <td>1</td>\n",
              "      <td>1</td>\n",
              "      <td>0</td>\n",
              "    </tr>\n",
              "    <tr>\n",
              "      <th>1</th>\n",
              "      <td>5</td>\n",
              "      <td>4</td>\n",
              "      <td>4</td>\n",
              "      <td>5</td>\n",
              "      <td>7</td>\n",
              "      <td>10</td>\n",
              "      <td>3</td>\n",
              "      <td>2</td>\n",
              "      <td>1</td>\n",
              "      <td>0</td>\n",
              "    </tr>\n",
              "    <tr>\n",
              "      <th>2</th>\n",
              "      <td>3</td>\n",
              "      <td>1</td>\n",
              "      <td>1</td>\n",
              "      <td>1</td>\n",
              "      <td>2</td>\n",
              "      <td>2</td>\n",
              "      <td>3</td>\n",
              "      <td>1</td>\n",
              "      <td>1</td>\n",
              "      <td>0</td>\n",
              "    </tr>\n",
              "    <tr>\n",
              "      <th>3</th>\n",
              "      <td>6</td>\n",
              "      <td>8</td>\n",
              "      <td>8</td>\n",
              "      <td>1</td>\n",
              "      <td>3</td>\n",
              "      <td>4</td>\n",
              "      <td>3</td>\n",
              "      <td>7</td>\n",
              "      <td>1</td>\n",
              "      <td>0</td>\n",
              "    </tr>\n",
              "    <tr>\n",
              "      <th>4</th>\n",
              "      <td>4</td>\n",
              "      <td>1</td>\n",
              "      <td>1</td>\n",
              "      <td>3</td>\n",
              "      <td>2</td>\n",
              "      <td>1</td>\n",
              "      <td>3</td>\n",
              "      <td>1</td>\n",
              "      <td>1</td>\n",
              "      <td>0</td>\n",
              "    </tr>\n",
              "  </tbody>\n",
              "</table>\n",
              "</div>\n",
              "      <button class=\"colab-df-convert\" onclick=\"convertToInteractive('df-e7c1c648-97ac-4599-8742-e079461a9f93')\"\n",
              "              title=\"Convert this dataframe to an interactive table.\"\n",
              "              style=\"display:none;\">\n",
              "        \n",
              "  <svg xmlns=\"http://www.w3.org/2000/svg\" height=\"24px\"viewBox=\"0 0 24 24\"\n",
              "       width=\"24px\">\n",
              "    <path d=\"M0 0h24v24H0V0z\" fill=\"none\"/>\n",
              "    <path d=\"M18.56 5.44l.94 2.06.94-2.06 2.06-.94-2.06-.94-.94-2.06-.94 2.06-2.06.94zm-11 1L8.5 8.5l.94-2.06 2.06-.94-2.06-.94L8.5 2.5l-.94 2.06-2.06.94zm10 10l.94 2.06.94-2.06 2.06-.94-2.06-.94-.94-2.06-.94 2.06-2.06.94z\"/><path d=\"M17.41 7.96l-1.37-1.37c-.4-.4-.92-.59-1.43-.59-.52 0-1.04.2-1.43.59L10.3 9.45l-7.72 7.72c-.78.78-.78 2.05 0 2.83L4 21.41c.39.39.9.59 1.41.59.51 0 1.02-.2 1.41-.59l7.78-7.78 2.81-2.81c.8-.78.8-2.07 0-2.86zM5.41 20L4 18.59l7.72-7.72 1.47 1.35L5.41 20z\"/>\n",
              "  </svg>\n",
              "      </button>\n",
              "      \n",
              "  <style>\n",
              "    .colab-df-container {\n",
              "      display:flex;\n",
              "      flex-wrap:wrap;\n",
              "      gap: 12px;\n",
              "    }\n",
              "\n",
              "    .colab-df-convert {\n",
              "      background-color: #E8F0FE;\n",
              "      border: none;\n",
              "      border-radius: 50%;\n",
              "      cursor: pointer;\n",
              "      display: none;\n",
              "      fill: #1967D2;\n",
              "      height: 32px;\n",
              "      padding: 0 0 0 0;\n",
              "      width: 32px;\n",
              "    }\n",
              "\n",
              "    .colab-df-convert:hover {\n",
              "      background-color: #E2EBFA;\n",
              "      box-shadow: 0px 1px 2px rgba(60, 64, 67, 0.3), 0px 1px 3px 1px rgba(60, 64, 67, 0.15);\n",
              "      fill: #174EA6;\n",
              "    }\n",
              "\n",
              "    [theme=dark] .colab-df-convert {\n",
              "      background-color: #3B4455;\n",
              "      fill: #D2E3FC;\n",
              "    }\n",
              "\n",
              "    [theme=dark] .colab-df-convert:hover {\n",
              "      background-color: #434B5C;\n",
              "      box-shadow: 0px 1px 3px 1px rgba(0, 0, 0, 0.15);\n",
              "      filter: drop-shadow(0px 1px 2px rgba(0, 0, 0, 0.3));\n",
              "      fill: #FFFFFF;\n",
              "    }\n",
              "  </style>\n",
              "\n",
              "      <script>\n",
              "        const buttonEl =\n",
              "          document.querySelector('#df-e7c1c648-97ac-4599-8742-e079461a9f93 button.colab-df-convert');\n",
              "        buttonEl.style.display =\n",
              "          google.colab.kernel.accessAllowed ? 'block' : 'none';\n",
              "\n",
              "        async function convertToInteractive(key) {\n",
              "          const element = document.querySelector('#df-e7c1c648-97ac-4599-8742-e079461a9f93');\n",
              "          const dataTable =\n",
              "            await google.colab.kernel.invokeFunction('convertToInteractive',\n",
              "                                                     [key], {});\n",
              "          if (!dataTable) return;\n",
              "\n",
              "          const docLinkHtml = 'Like what you see? Visit the ' +\n",
              "            '<a target=\"_blank\" href=https://colab.research.google.com/notebooks/data_table.ipynb>data table notebook</a>'\n",
              "            + ' to learn more about interactive tables.';\n",
              "          element.innerHTML = '';\n",
              "          dataTable['output_type'] = 'display_data';\n",
              "          await google.colab.output.renderOutput(dataTable, element);\n",
              "          const docLink = document.createElement('div');\n",
              "          docLink.innerHTML = docLinkHtml;\n",
              "          element.appendChild(docLink);\n",
              "        }\n",
              "      </script>\n",
              "    </div>\n",
              "  </div>\n",
              "  "
            ]
          },
          "metadata": {},
          "execution_count": 7
        }
      ]
    },
    {
      "cell_type": "code",
      "source": [
        "# Checking the classes\n",
        "df['class'].value_counts()"
      ],
      "metadata": {
        "colab": {
          "base_uri": "https://localhost:8080/"
        },
        "id": "DEFMET98ik5G",
        "outputId": "214762e7-df0b-4438-9e6f-f0dbf2391dbc"
      },
      "execution_count": 6,
      "outputs": [
        {
          "output_type": "execute_result",
          "data": {
            "text/plain": [
              "0    459\n",
              "1    241\n",
              "Name: class, dtype: int64"
            ]
          },
          "metadata": {},
          "execution_count": 6
        }
      ]
    },
    {
      "cell_type": "markdown",
      "source": [
        "**So, there are two unique classes.**"
      ],
      "metadata": {
        "id": "S9M6tgWRitlC"
      }
    },
    {
      "cell_type": "code",
      "source": [
        "# Statistical description of data for class 0\n",
        "df[df['class'] == 0].describe()"
      ],
      "metadata": {
        "id": "kTx7Lc_tiwu5",
        "colab": {
          "base_uri": "https://localhost:8080/",
          "height": 297
        },
        "outputId": "91fd7465-1dcf-4968-f4fe-29225c1c9e5a"
      },
      "execution_count": 7,
      "outputs": [
        {
          "output_type": "execute_result",
          "data": {
            "text/plain": [
              "         feature1    feature2    feature3    feature4    feature5    feature6  \\\n",
              "count  459.000000  459.000000  459.000000  459.000000  459.000000  459.000000   \n",
              "mean     2.956427    1.324619    1.442266    1.363834    2.119826    1.437908   \n",
              "std      1.672490    0.906830    0.996960    0.995886    0.916145    1.310839   \n",
              "min      1.000000    1.000000    1.000000    1.000000    1.000000    1.000000   \n",
              "25%      1.000000    1.000000    1.000000    1.000000    2.000000    1.000000   \n",
              "50%      3.000000    1.000000    1.000000    1.000000    2.000000    1.000000   \n",
              "75%      4.000000    1.000000    1.000000    1.000000    2.000000    1.000000   \n",
              "max      8.000000    9.000000    8.000000   10.000000   10.000000   10.000000   \n",
              "\n",
              "         feature7    feature8    feature9  class  \n",
              "count  459.000000  459.000000  459.000000  459.0  \n",
              "mean     2.102397    1.289760    1.063181    0.0  \n",
              "std      1.079976    1.057787    0.501456    0.0  \n",
              "min      1.000000    1.000000    1.000000    0.0  \n",
              "25%      1.000000    1.000000    1.000000    0.0  \n",
              "50%      2.000000    1.000000    1.000000    0.0  \n",
              "75%      3.000000    1.000000    1.000000    0.0  \n",
              "max      7.000000    9.000000    8.000000    0.0  "
            ],
            "text/html": [
              "\n",
              "  <div id=\"df-5a116d45-33b8-4e8d-91f9-67dbb5e1d674\">\n",
              "    <div class=\"colab-df-container\">\n",
              "      <div>\n",
              "<style scoped>\n",
              "    .dataframe tbody tr th:only-of-type {\n",
              "        vertical-align: middle;\n",
              "    }\n",
              "\n",
              "    .dataframe tbody tr th {\n",
              "        vertical-align: top;\n",
              "    }\n",
              "\n",
              "    .dataframe thead th {\n",
              "        text-align: right;\n",
              "    }\n",
              "</style>\n",
              "<table border=\"1\" class=\"dataframe\">\n",
              "  <thead>\n",
              "    <tr style=\"text-align: right;\">\n",
              "      <th></th>\n",
              "      <th>feature1</th>\n",
              "      <th>feature2</th>\n",
              "      <th>feature3</th>\n",
              "      <th>feature4</th>\n",
              "      <th>feature5</th>\n",
              "      <th>feature6</th>\n",
              "      <th>feature7</th>\n",
              "      <th>feature8</th>\n",
              "      <th>feature9</th>\n",
              "      <th>class</th>\n",
              "    </tr>\n",
              "  </thead>\n",
              "  <tbody>\n",
              "    <tr>\n",
              "      <th>count</th>\n",
              "      <td>459.000000</td>\n",
              "      <td>459.000000</td>\n",
              "      <td>459.000000</td>\n",
              "      <td>459.000000</td>\n",
              "      <td>459.000000</td>\n",
              "      <td>459.000000</td>\n",
              "      <td>459.000000</td>\n",
              "      <td>459.000000</td>\n",
              "      <td>459.000000</td>\n",
              "      <td>459.0</td>\n",
              "    </tr>\n",
              "    <tr>\n",
              "      <th>mean</th>\n",
              "      <td>2.956427</td>\n",
              "      <td>1.324619</td>\n",
              "      <td>1.442266</td>\n",
              "      <td>1.363834</td>\n",
              "      <td>2.119826</td>\n",
              "      <td>1.437908</td>\n",
              "      <td>2.102397</td>\n",
              "      <td>1.289760</td>\n",
              "      <td>1.063181</td>\n",
              "      <td>0.0</td>\n",
              "    </tr>\n",
              "    <tr>\n",
              "      <th>std</th>\n",
              "      <td>1.672490</td>\n",
              "      <td>0.906830</td>\n",
              "      <td>0.996960</td>\n",
              "      <td>0.995886</td>\n",
              "      <td>0.916145</td>\n",
              "      <td>1.310839</td>\n",
              "      <td>1.079976</td>\n",
              "      <td>1.057787</td>\n",
              "      <td>0.501456</td>\n",
              "      <td>0.0</td>\n",
              "    </tr>\n",
              "    <tr>\n",
              "      <th>min</th>\n",
              "      <td>1.000000</td>\n",
              "      <td>1.000000</td>\n",
              "      <td>1.000000</td>\n",
              "      <td>1.000000</td>\n",
              "      <td>1.000000</td>\n",
              "      <td>1.000000</td>\n",
              "      <td>1.000000</td>\n",
              "      <td>1.000000</td>\n",
              "      <td>1.000000</td>\n",
              "      <td>0.0</td>\n",
              "    </tr>\n",
              "    <tr>\n",
              "      <th>25%</th>\n",
              "      <td>1.000000</td>\n",
              "      <td>1.000000</td>\n",
              "      <td>1.000000</td>\n",
              "      <td>1.000000</td>\n",
              "      <td>2.000000</td>\n",
              "      <td>1.000000</td>\n",
              "      <td>1.000000</td>\n",
              "      <td>1.000000</td>\n",
              "      <td>1.000000</td>\n",
              "      <td>0.0</td>\n",
              "    </tr>\n",
              "    <tr>\n",
              "      <th>50%</th>\n",
              "      <td>3.000000</td>\n",
              "      <td>1.000000</td>\n",
              "      <td>1.000000</td>\n",
              "      <td>1.000000</td>\n",
              "      <td>2.000000</td>\n",
              "      <td>1.000000</td>\n",
              "      <td>2.000000</td>\n",
              "      <td>1.000000</td>\n",
              "      <td>1.000000</td>\n",
              "      <td>0.0</td>\n",
              "    </tr>\n",
              "    <tr>\n",
              "      <th>75%</th>\n",
              "      <td>4.000000</td>\n",
              "      <td>1.000000</td>\n",
              "      <td>1.000000</td>\n",
              "      <td>1.000000</td>\n",
              "      <td>2.000000</td>\n",
              "      <td>1.000000</td>\n",
              "      <td>3.000000</td>\n",
              "      <td>1.000000</td>\n",
              "      <td>1.000000</td>\n",
              "      <td>0.0</td>\n",
              "    </tr>\n",
              "    <tr>\n",
              "      <th>max</th>\n",
              "      <td>8.000000</td>\n",
              "      <td>9.000000</td>\n",
              "      <td>8.000000</td>\n",
              "      <td>10.000000</td>\n",
              "      <td>10.000000</td>\n",
              "      <td>10.000000</td>\n",
              "      <td>7.000000</td>\n",
              "      <td>9.000000</td>\n",
              "      <td>8.000000</td>\n",
              "      <td>0.0</td>\n",
              "    </tr>\n",
              "  </tbody>\n",
              "</table>\n",
              "</div>\n",
              "      <button class=\"colab-df-convert\" onclick=\"convertToInteractive('df-5a116d45-33b8-4e8d-91f9-67dbb5e1d674')\"\n",
              "              title=\"Convert this dataframe to an interactive table.\"\n",
              "              style=\"display:none;\">\n",
              "        \n",
              "  <svg xmlns=\"http://www.w3.org/2000/svg\" height=\"24px\"viewBox=\"0 0 24 24\"\n",
              "       width=\"24px\">\n",
              "    <path d=\"M0 0h24v24H0V0z\" fill=\"none\"/>\n",
              "    <path d=\"M18.56 5.44l.94 2.06.94-2.06 2.06-.94-2.06-.94-.94-2.06-.94 2.06-2.06.94zm-11 1L8.5 8.5l.94-2.06 2.06-.94-2.06-.94L8.5 2.5l-.94 2.06-2.06.94zm10 10l.94 2.06.94-2.06 2.06-.94-2.06-.94-.94-2.06-.94 2.06-2.06.94z\"/><path d=\"M17.41 7.96l-1.37-1.37c-.4-.4-.92-.59-1.43-.59-.52 0-1.04.2-1.43.59L10.3 9.45l-7.72 7.72c-.78.78-.78 2.05 0 2.83L4 21.41c.39.39.9.59 1.41.59.51 0 1.02-.2 1.41-.59l7.78-7.78 2.81-2.81c.8-.78.8-2.07 0-2.86zM5.41 20L4 18.59l7.72-7.72 1.47 1.35L5.41 20z\"/>\n",
              "  </svg>\n",
              "      </button>\n",
              "      \n",
              "  <style>\n",
              "    .colab-df-container {\n",
              "      display:flex;\n",
              "      flex-wrap:wrap;\n",
              "      gap: 12px;\n",
              "    }\n",
              "\n",
              "    .colab-df-convert {\n",
              "      background-color: #E8F0FE;\n",
              "      border: none;\n",
              "      border-radius: 50%;\n",
              "      cursor: pointer;\n",
              "      display: none;\n",
              "      fill: #1967D2;\n",
              "      height: 32px;\n",
              "      padding: 0 0 0 0;\n",
              "      width: 32px;\n",
              "    }\n",
              "\n",
              "    .colab-df-convert:hover {\n",
              "      background-color: #E2EBFA;\n",
              "      box-shadow: 0px 1px 2px rgba(60, 64, 67, 0.3), 0px 1px 3px 1px rgba(60, 64, 67, 0.15);\n",
              "      fill: #174EA6;\n",
              "    }\n",
              "\n",
              "    [theme=dark] .colab-df-convert {\n",
              "      background-color: #3B4455;\n",
              "      fill: #D2E3FC;\n",
              "    }\n",
              "\n",
              "    [theme=dark] .colab-df-convert:hover {\n",
              "      background-color: #434B5C;\n",
              "      box-shadow: 0px 1px 3px 1px rgba(0, 0, 0, 0.15);\n",
              "      filter: drop-shadow(0px 1px 2px rgba(0, 0, 0, 0.3));\n",
              "      fill: #FFFFFF;\n",
              "    }\n",
              "  </style>\n",
              "\n",
              "      <script>\n",
              "        const buttonEl =\n",
              "          document.querySelector('#df-5a116d45-33b8-4e8d-91f9-67dbb5e1d674 button.colab-df-convert');\n",
              "        buttonEl.style.display =\n",
              "          google.colab.kernel.accessAllowed ? 'block' : 'none';\n",
              "\n",
              "        async function convertToInteractive(key) {\n",
              "          const element = document.querySelector('#df-5a116d45-33b8-4e8d-91f9-67dbb5e1d674');\n",
              "          const dataTable =\n",
              "            await google.colab.kernel.invokeFunction('convertToInteractive',\n",
              "                                                     [key], {});\n",
              "          if (!dataTable) return;\n",
              "\n",
              "          const docLinkHtml = 'Like what you see? Visit the ' +\n",
              "            '<a target=\"_blank\" href=https://colab.research.google.com/notebooks/data_table.ipynb>data table notebook</a>'\n",
              "            + ' to learn more about interactive tables.';\n",
              "          element.innerHTML = '';\n",
              "          dataTable['output_type'] = 'display_data';\n",
              "          await google.colab.output.renderOutput(dataTable, element);\n",
              "          const docLink = document.createElement('div');\n",
              "          docLink.innerHTML = docLinkHtml;\n",
              "          element.appendChild(docLink);\n",
              "        }\n",
              "      </script>\n",
              "    </div>\n",
              "  </div>\n",
              "  "
            ]
          },
          "metadata": {},
          "execution_count": 7
        }
      ]
    },
    {
      "cell_type": "code",
      "source": [
        "# Statistical description of data for class 1\n",
        "df[df['class'] == 1].describe()"
      ],
      "metadata": {
        "id": "LjAg_RxLi46U",
        "colab": {
          "base_uri": "https://localhost:8080/",
          "height": 297
        },
        "outputId": "26e10b17-dba0-4505-8d77-b067c5140af6"
      },
      "execution_count": 8,
      "outputs": [
        {
          "output_type": "execute_result",
          "data": {
            "text/plain": [
              "         feature1    feature2    feature3    feature4    feature5    feature6  \\\n",
              "count  241.000000  241.000000  241.000000  241.000000  241.000000  241.000000   \n",
              "mean     7.195021    6.572614    6.560166    5.547718    5.298755    7.593361   \n",
              "std      2.428849    2.719512    2.562045    3.210465    2.451606    3.129263   \n",
              "min      1.000000    1.000000    1.000000    1.000000    1.000000    1.000000   \n",
              "25%      5.000000    4.000000    4.000000    3.000000    3.000000    5.000000   \n",
              "50%      8.000000    6.000000    6.000000    5.000000    5.000000   10.000000   \n",
              "75%     10.000000   10.000000    9.000000    8.000000    6.000000   10.000000   \n",
              "max     10.000000   10.000000   10.000000   10.000000   10.000000   10.000000   \n",
              "\n",
              "         feature7    feature8    feature9  class  \n",
              "count  241.000000  241.000000  241.000000  241.0  \n",
              "mean     5.979253    5.863071    2.589212    1.0  \n",
              "std      2.273852    3.350672    2.557939    0.0  \n",
              "min      1.000000    1.000000    1.000000    1.0  \n",
              "25%      4.000000    3.000000    1.000000    1.0  \n",
              "50%      7.000000    6.000000    1.000000    1.0  \n",
              "75%      7.000000   10.000000    3.000000    1.0  \n",
              "max     10.000000   10.000000   10.000000    1.0  "
            ],
            "text/html": [
              "\n",
              "  <div id=\"df-c72230cb-65da-46fd-9b99-7ee5730394f5\">\n",
              "    <div class=\"colab-df-container\">\n",
              "      <div>\n",
              "<style scoped>\n",
              "    .dataframe tbody tr th:only-of-type {\n",
              "        vertical-align: middle;\n",
              "    }\n",
              "\n",
              "    .dataframe tbody tr th {\n",
              "        vertical-align: top;\n",
              "    }\n",
              "\n",
              "    .dataframe thead th {\n",
              "        text-align: right;\n",
              "    }\n",
              "</style>\n",
              "<table border=\"1\" class=\"dataframe\">\n",
              "  <thead>\n",
              "    <tr style=\"text-align: right;\">\n",
              "      <th></th>\n",
              "      <th>feature1</th>\n",
              "      <th>feature2</th>\n",
              "      <th>feature3</th>\n",
              "      <th>feature4</th>\n",
              "      <th>feature5</th>\n",
              "      <th>feature6</th>\n",
              "      <th>feature7</th>\n",
              "      <th>feature8</th>\n",
              "      <th>feature9</th>\n",
              "      <th>class</th>\n",
              "    </tr>\n",
              "  </thead>\n",
              "  <tbody>\n",
              "    <tr>\n",
              "      <th>count</th>\n",
              "      <td>241.000000</td>\n",
              "      <td>241.000000</td>\n",
              "      <td>241.000000</td>\n",
              "      <td>241.000000</td>\n",
              "      <td>241.000000</td>\n",
              "      <td>241.000000</td>\n",
              "      <td>241.000000</td>\n",
              "      <td>241.000000</td>\n",
              "      <td>241.000000</td>\n",
              "      <td>241.0</td>\n",
              "    </tr>\n",
              "    <tr>\n",
              "      <th>mean</th>\n",
              "      <td>7.195021</td>\n",
              "      <td>6.572614</td>\n",
              "      <td>6.560166</td>\n",
              "      <td>5.547718</td>\n",
              "      <td>5.298755</td>\n",
              "      <td>7.593361</td>\n",
              "      <td>5.979253</td>\n",
              "      <td>5.863071</td>\n",
              "      <td>2.589212</td>\n",
              "      <td>1.0</td>\n",
              "    </tr>\n",
              "    <tr>\n",
              "      <th>std</th>\n",
              "      <td>2.428849</td>\n",
              "      <td>2.719512</td>\n",
              "      <td>2.562045</td>\n",
              "      <td>3.210465</td>\n",
              "      <td>2.451606</td>\n",
              "      <td>3.129263</td>\n",
              "      <td>2.273852</td>\n",
              "      <td>3.350672</td>\n",
              "      <td>2.557939</td>\n",
              "      <td>0.0</td>\n",
              "    </tr>\n",
              "    <tr>\n",
              "      <th>min</th>\n",
              "      <td>1.000000</td>\n",
              "      <td>1.000000</td>\n",
              "      <td>1.000000</td>\n",
              "      <td>1.000000</td>\n",
              "      <td>1.000000</td>\n",
              "      <td>1.000000</td>\n",
              "      <td>1.000000</td>\n",
              "      <td>1.000000</td>\n",
              "      <td>1.000000</td>\n",
              "      <td>1.0</td>\n",
              "    </tr>\n",
              "    <tr>\n",
              "      <th>25%</th>\n",
              "      <td>5.000000</td>\n",
              "      <td>4.000000</td>\n",
              "      <td>4.000000</td>\n",
              "      <td>3.000000</td>\n",
              "      <td>3.000000</td>\n",
              "      <td>5.000000</td>\n",
              "      <td>4.000000</td>\n",
              "      <td>3.000000</td>\n",
              "      <td>1.000000</td>\n",
              "      <td>1.0</td>\n",
              "    </tr>\n",
              "    <tr>\n",
              "      <th>50%</th>\n",
              "      <td>8.000000</td>\n",
              "      <td>6.000000</td>\n",
              "      <td>6.000000</td>\n",
              "      <td>5.000000</td>\n",
              "      <td>5.000000</td>\n",
              "      <td>10.000000</td>\n",
              "      <td>7.000000</td>\n",
              "      <td>6.000000</td>\n",
              "      <td>1.000000</td>\n",
              "      <td>1.0</td>\n",
              "    </tr>\n",
              "    <tr>\n",
              "      <th>75%</th>\n",
              "      <td>10.000000</td>\n",
              "      <td>10.000000</td>\n",
              "      <td>9.000000</td>\n",
              "      <td>8.000000</td>\n",
              "      <td>6.000000</td>\n",
              "      <td>10.000000</td>\n",
              "      <td>7.000000</td>\n",
              "      <td>10.000000</td>\n",
              "      <td>3.000000</td>\n",
              "      <td>1.0</td>\n",
              "    </tr>\n",
              "    <tr>\n",
              "      <th>max</th>\n",
              "      <td>10.000000</td>\n",
              "      <td>10.000000</td>\n",
              "      <td>10.000000</td>\n",
              "      <td>10.000000</td>\n",
              "      <td>10.000000</td>\n",
              "      <td>10.000000</td>\n",
              "      <td>10.000000</td>\n",
              "      <td>10.000000</td>\n",
              "      <td>10.000000</td>\n",
              "      <td>1.0</td>\n",
              "    </tr>\n",
              "  </tbody>\n",
              "</table>\n",
              "</div>\n",
              "      <button class=\"colab-df-convert\" onclick=\"convertToInteractive('df-c72230cb-65da-46fd-9b99-7ee5730394f5')\"\n",
              "              title=\"Convert this dataframe to an interactive table.\"\n",
              "              style=\"display:none;\">\n",
              "        \n",
              "  <svg xmlns=\"http://www.w3.org/2000/svg\" height=\"24px\"viewBox=\"0 0 24 24\"\n",
              "       width=\"24px\">\n",
              "    <path d=\"M0 0h24v24H0V0z\" fill=\"none\"/>\n",
              "    <path d=\"M18.56 5.44l.94 2.06.94-2.06 2.06-.94-2.06-.94-.94-2.06-.94 2.06-2.06.94zm-11 1L8.5 8.5l.94-2.06 2.06-.94-2.06-.94L8.5 2.5l-.94 2.06-2.06.94zm10 10l.94 2.06.94-2.06 2.06-.94-2.06-.94-.94-2.06-.94 2.06-2.06.94z\"/><path d=\"M17.41 7.96l-1.37-1.37c-.4-.4-.92-.59-1.43-.59-.52 0-1.04.2-1.43.59L10.3 9.45l-7.72 7.72c-.78.78-.78 2.05 0 2.83L4 21.41c.39.39.9.59 1.41.59.51 0 1.02-.2 1.41-.59l7.78-7.78 2.81-2.81c.8-.78.8-2.07 0-2.86zM5.41 20L4 18.59l7.72-7.72 1.47 1.35L5.41 20z\"/>\n",
              "  </svg>\n",
              "      </button>\n",
              "      \n",
              "  <style>\n",
              "    .colab-df-container {\n",
              "      display:flex;\n",
              "      flex-wrap:wrap;\n",
              "      gap: 12px;\n",
              "    }\n",
              "\n",
              "    .colab-df-convert {\n",
              "      background-color: #E8F0FE;\n",
              "      border: none;\n",
              "      border-radius: 50%;\n",
              "      cursor: pointer;\n",
              "      display: none;\n",
              "      fill: #1967D2;\n",
              "      height: 32px;\n",
              "      padding: 0 0 0 0;\n",
              "      width: 32px;\n",
              "    }\n",
              "\n",
              "    .colab-df-convert:hover {\n",
              "      background-color: #E2EBFA;\n",
              "      box-shadow: 0px 1px 2px rgba(60, 64, 67, 0.3), 0px 1px 3px 1px rgba(60, 64, 67, 0.15);\n",
              "      fill: #174EA6;\n",
              "    }\n",
              "\n",
              "    [theme=dark] .colab-df-convert {\n",
              "      background-color: #3B4455;\n",
              "      fill: #D2E3FC;\n",
              "    }\n",
              "\n",
              "    [theme=dark] .colab-df-convert:hover {\n",
              "      background-color: #434B5C;\n",
              "      box-shadow: 0px 1px 3px 1px rgba(0, 0, 0, 0.15);\n",
              "      filter: drop-shadow(0px 1px 2px rgba(0, 0, 0, 0.3));\n",
              "      fill: #FFFFFF;\n",
              "    }\n",
              "  </style>\n",
              "\n",
              "      <script>\n",
              "        const buttonEl =\n",
              "          document.querySelector('#df-c72230cb-65da-46fd-9b99-7ee5730394f5 button.colab-df-convert');\n",
              "        buttonEl.style.display =\n",
              "          google.colab.kernel.accessAllowed ? 'block' : 'none';\n",
              "\n",
              "        async function convertToInteractive(key) {\n",
              "          const element = document.querySelector('#df-c72230cb-65da-46fd-9b99-7ee5730394f5');\n",
              "          const dataTable =\n",
              "            await google.colab.kernel.invokeFunction('convertToInteractive',\n",
              "                                                     [key], {});\n",
              "          if (!dataTable) return;\n",
              "\n",
              "          const docLinkHtml = 'Like what you see? Visit the ' +\n",
              "            '<a target=\"_blank\" href=https://colab.research.google.com/notebooks/data_table.ipynb>data table notebook</a>'\n",
              "            + ' to learn more about interactive tables.';\n",
              "          element.innerHTML = '';\n",
              "          dataTable['output_type'] = 'display_data';\n",
              "          await google.colab.output.renderOutput(dataTable, element);\n",
              "          const docLink = document.createElement('div');\n",
              "          docLink.innerHTML = docLinkHtml;\n",
              "          element.appendChild(docLink);\n",
              "        }\n",
              "      </script>\n",
              "    </div>\n",
              "  </div>\n",
              "  "
            ]
          },
          "metadata": {},
          "execution_count": 8
        }
      ]
    },
    {
      "cell_type": "code",
      "source": [
        "#Correlation\n",
        "correlation = df.corr()\n",
        "sns.heatmap(correlation,xticklabels=correlation.columns, yticklabels=correlation.columns, annot = True)"
      ],
      "metadata": {
        "colab": {
          "base_uri": "https://localhost:8080/",
          "height": 319
        },
        "id": "XjkQKid_EA3h",
        "outputId": "ee717cd9-6fe9-4404-fe10-88dd32c024f3"
      },
      "execution_count": 9,
      "outputs": [
        {
          "output_type": "execute_result",
          "data": {
            "text/plain": [
              "<AxesSubplot:>"
            ]
          },
          "metadata": {},
          "execution_count": 9
        },
        {
          "output_type": "display_data",
          "data": {
            "text/plain": [
              "<Figure size 432x288 with 2 Axes>"
            ],
            "image/png": "[encoded data removed]"
          },
          "metadata": {
            "needs_background": "light"
          }
        }
      ]
    },
    {
      "cell_type": "markdown",
      "source": [
        "**There seems to be strong correlation between feature 2 and feature 3**"
      ],
      "metadata": {
        "id": "E4r5qBGBgCi7"
      }
    },
    {
      "cell_type": "code",
      "source": [
        "df.hist(bins = 10,figsize = (20,15))"
      ],
      "metadata": {
        "id": "-9iF8IVxLK4D",
        "colab": {
          "base_uri": "https://localhost:8080/",
          "height": 1000
        },
        "outputId": "c3d6b1f1-5db4-4e86-afc2-89658f2fdde1"
      },
      "execution_count": 10,
      "outputs": [
        {
          "output_type": "execute_result",
          "data": {
            "text/plain": [
              "array([[<AxesSubplot:title={'center':'feature1'}>,\n",
              "        <AxesSubplot:title={'center':'feature2'}>,\n",
              "        <AxesSubplot:title={'center':'feature3'}>],\n",
              "       [<AxesSubplot:title={'center':'feature4'}>,\n",
              "        <AxesSubplot:title={'center':'feature5'}>,\n",
              "        <AxesSubplot:title={'center':'feature6'}>],\n",
              "       [<AxesSubplot:title={'center':'feature7'}>,\n",
              "        <AxesSubplot:title={'center':'feature8'}>,\n",
              "        <AxesSubplot:title={'center':'feature9'}>],\n",
              "       [<AxesSubplot:title={'center':'class'}>, <AxesSubplot:>,\n",
              "        <AxesSubplot:>]], dtype=object)"
            ]
          },
          "metadata": {},
          "execution_count": 10
        },
        {
          "output_type": "display_data",
          "data": {
            "text/plain": [
              "<Figure size 1440x1080 with 12 Axes>"
            ],
            "image/png": "[encoded data removed]"
          },
          "metadata": {
            "needs_background": "light"
          }
        }
      ]
    },
    {
      "cell_type": "markdown",
      "source": [
        "#**4. Splitting the data into feature and target**"
      ],
      "metadata": {
        "id": "jlnEo4bLOGwX"
      }
    },
    {
      "cell_type": "code",
      "source": [
        "X = df.drop('class',axis = 1).copy()\n",
        "X.head()"
      ],
      "metadata": {
        "colab": {
          "base_uri": "https://localhost:8080/",
          "height": 204
        },
        "id": "-eZcGS9HOIST",
        "outputId": "f410d23f-1e6a-40bd-aa5c-28d137ae89ec"
      },
      "execution_count": 14,
      "outputs": [
        {
          "output_type": "execute_result",
          "data": {
            "text/plain": [
              "   feature1  feature2  feature3  feature4  feature5  feature6  feature7  \\\n",
              "0         5         1         1         1         2         1         3   \n",
              "1         5         4         4         5         7        10         3   \n",
              "2         3         1         1         1         2         2         3   \n",
              "3         6         8         8         1         3         4         3   \n",
              "4         4         1         1         3         2         1         3   \n",
              "\n",
              "   feature8  feature9  \n",
              "0         1         1  \n",
              "1         2         1  \n",
              "2         1         1  \n",
              "3         7         1  \n",
              "4         1         1  "
            ],
            "text/html": [
              "\n",
              "  <div id=\"df-d32fbaa1-a039-4f57-b74f-bb30f86d8d89\">\n",
              "    <div class=\"colab-df-container\">\n",
              "      <div>\n",
              "<style scoped>\n",
              "    .dataframe tbody tr th:only-of-type {\n",
              "        vertical-align: middle;\n",
              "    }\n",
              "\n",
              "    .dataframe tbody tr th {\n",
              "        vertical-align: top;\n",
              "    }\n",
              "\n",
              "    .dataframe thead th {\n",
              "        text-align: right;\n",
              "    }\n",
              "</style>\n",
              "<table border=\"1\" class=\"dataframe\">\n",
              "  <thead>\n",
              "    <tr style=\"text-align: right;\">\n",
              "      <th></th>\n",
              "      <th>feature1</th>\n",
              "      <th>feature2</th>\n",
              "      <th>feature3</th>\n",
              "      <th>feature4</th>\n",
              "      <th>feature5</th>\n",
              "      <th>feature6</th>\n",
              "      <th>feature7</th>\n",
              "      <th>feature8</th>\n",
              "      <th>feature9</th>\n",
              "    </tr>\n",
              "  </thead>\n",
              "  <tbody>\n",
              "    <tr>\n",
              "      <th>0</th>\n",
              "      <td>5</td>\n",
              "      <td>1</td>\n",
              "      <td>1</td>\n",
              "      <td>1</td>\n",
              "      <td>2</td>\n",
              "      <td>1</td>\n",
              "      <td>3</td>\n",
              "      <td>1</td>\n",
              "      <td>1</td>\n",
              "    </tr>\n",
              "    <tr>\n",
              "      <th>1</th>\n",
              "      <td>5</td>\n",
              "      <td>4</td>\n",
              "      <td>4</td>\n",
              "      <td>5</td>\n",
              "      <td>7</td>\n",
              "      <td>10</td>\n",
              "      <td>3</td>\n",
              "      <td>2</td>\n",
              "      <td>1</td>\n",
              "    </tr>\n",
              "    <tr>\n",
              "      <th>2</th>\n",
              "      <td>3</td>\n",
              "      <td>1</td>\n",
              "      <td>1</td>\n",
              "      <td>1</td>\n",
              "      <td>2</td>\n",
              "      <td>2</td>\n",
              "      <td>3</td>\n",
              "      <td>1</td>\n",
              "      <td>1</td>\n",
              "    </tr>\n",
              "    <tr>\n",
              "      <th>3</th>\n",
              "      <td>6</td>\n",
              "      <td>8</td>\n",
              "      <td>8</td>\n",
              "      <td>1</td>\n",
              "      <td>3</td>\n",
              "      <td>4</td>\n",
              "      <td>3</td>\n",
              "      <td>7</td>\n",
              "      <td>1</td>\n",
              "    </tr>\n",
              "    <tr>\n",
              "      <th>4</th>\n",
              "      <td>4</td>\n",
              "      <td>1</td>\n",
              "      <td>1</td>\n",
              "      <td>3</td>\n",
              "      <td>2</td>\n",
              "      <td>1</td>\n",
              "      <td>3</td>\n",
              "      <td>1</td>\n",
              "      <td>1</td>\n",
              "    </tr>\n",
              "  </tbody>\n",
              "</table>\n",
              "</div>\n",
              "      <button class=\"colab-df-convert\" onclick=\"convertToInteractive('df-d32fbaa1-a039-4f57-b74f-bb30f86d8d89')\"\n",
              "              title=\"Convert this dataframe to an interactive table.\"\n",
              "              style=\"display:none;\">\n",
              "        \n",
              "  <svg xmlns=\"http://www.w3.org/2000/svg\" height=\"24px\"viewBox=\"0 0 24 24\"\n",
              "       width=\"24px\">\n",
              "    <path d=\"M0 0h24v24H0V0z\" fill=\"none\"/>\n",
              "    <path d=\"M18.56 5.44l.94 2.06.94-2.06 2.06-.94-2.06-.94-.94-2.06-.94 2.06-2.06.94zm-11 1L8.5 8.5l.94-2.06 2.06-.94-2.06-.94L8.5 2.5l-.94 2.06-2.06.94zm10 10l.94 2.06.94-2.06 2.06-.94-2.06-.94-.94-2.06-.94 2.06-2.06.94z\"/><path d=\"M17.41 7.96l-1.37-1.37c-.4-.4-.92-.59-1.43-.59-.52 0-1.04.2-1.43.59L10.3 9.45l-7.72 7.72c-.78.78-.78 2.05 0 2.83L4 21.41c.39.39.9.59 1.41.59.51 0 1.02-.2 1.41-.59l7.78-7.78 2.81-2.81c.8-.78.8-2.07 0-2.86zM5.41 20L4 18.59l7.72-7.72 1.47 1.35L5.41 20z\"/>\n",
              "  </svg>\n",
              "      </button>\n",
              "      \n",
              "  <style>\n",
              "    .colab-df-container {\n",
              "      display:flex;\n",
              "      flex-wrap:wrap;\n",
              "      gap: 12px;\n",
              "    }\n",
              "\n",
              "    .colab-df-convert {\n",
              "      background-color: #E8F0FE;\n",
              "      border: none;\n",
              "      border-radius: 50%;\n",
              "      cursor: pointer;\n",
              "      display: none;\n",
              "      fill: #1967D2;\n",
              "      height: 32px;\n",
              "      padding: 0 0 0 0;\n",
              "      width: 32px;\n",
              "    }\n",
              "\n",
              "    .colab-df-convert:hover {\n",
              "      background-color: #E2EBFA;\n",
              "      box-shadow: 0px 1px 2px rgba(60, 64, 67, 0.3), 0px 1px 3px 1px rgba(60, 64, 67, 0.15);\n",
              "      fill: #174EA6;\n",
              "    }\n",
              "\n",
              "    [theme=dark] .colab-df-convert {\n",
              "      background-color: #3B4455;\n",
              "      fill: #D2E3FC;\n",
              "    }\n",
              "\n",
              "    [theme=dark] .colab-df-convert:hover {\n",
              "      background-color: #434B5C;\n",
              "      box-shadow: 0px 1px 3px 1px rgba(0, 0, 0, 0.15);\n",
              "      filter: drop-shadow(0px 1px 2px rgba(0, 0, 0, 0.3));\n",
              "      fill: #FFFFFF;\n",
              "    }\n",
              "  </style>\n",
              "\n",
              "      <script>\n",
              "        const buttonEl =\n",
              "          document.querySelector('#df-d32fbaa1-a039-4f57-b74f-bb30f86d8d89 button.colab-df-convert');\n",
              "        buttonEl.style.display =\n",
              "          google.colab.kernel.accessAllowed ? 'block' : 'none';\n",
              "\n",
              "        async function convertToInteractive(key) {\n",
              "          const element = document.querySelector('#df-d32fbaa1-a039-4f57-b74f-bb30f86d8d89');\n",
              "          const dataTable =\n",
              "            await google.colab.kernel.invokeFunction('convertToInteractive',\n",
              "                                                     [key], {});\n",
              "          if (!dataTable) return;\n",
              "\n",
              "          const docLinkHtml = 'Like what you see? Visit the ' +\n",
              "            '<a target=\"_blank\" href=https://colab.research.google.com/notebooks/data_table.ipynb>data table notebook</a>'\n",
              "            + ' to learn more about interactive tables.';\n",
              "          element.innerHTML = '';\n",
              "          dataTable['output_type'] = 'display_data';\n",
              "          await google.colab.output.renderOutput(dataTable, element);\n",
              "          const docLink = document.createElement('div');\n",
              "          docLink.innerHTML = docLinkHtml;\n",
              "          element.appendChild(docLink);\n",
              "        }\n",
              "      </script>\n",
              "    </div>\n",
              "  </div>\n",
              "  "
            ]
          },
          "metadata": {},
          "execution_count": 14
        }
      ]
    },
    {
      "cell_type": "code",
      "source": [
        "y = df['class'].copy()\n",
        "y.head(10)"
      ],
      "metadata": {
        "colab": {
          "base_uri": "https://localhost:8080/"
        },
        "id": "OgZsN_84OYW6",
        "outputId": "b641e37b-d815-46b3-d924-db0e2ae3d9bb"
      },
      "execution_count": 15,
      "outputs": [
        {
          "output_type": "execute_result",
          "data": {
            "text/plain": [
              "0    0\n",
              "1    0\n",
              "2    0\n",
              "3    0\n",
              "4    0\n",
              "5    1\n",
              "6    0\n",
              "7    0\n",
              "8    0\n",
              "9    0\n",
              "Name: class, dtype: int64"
            ]
          },
          "metadata": {},
          "execution_count": 15
        }
      ]
    },
    {
      "cell_type": "code",
      "source": [
        "# split the datset into training and testing sets\n",
        "X_train,X_test,y_train,y_test = train_test_split(X,y,test_size = 0.2,random_state = 123)"
      ],
      "metadata": {
        "id": "E2h6WJDkRF4I"
      },
      "execution_count": 16,
      "outputs": []
    },
    {
      "cell_type": "code",
      "source": [
        "X_train"
      ],
      "metadata": {
        "id": "ii5w1zJTjeWf",
        "colab": {
          "base_uri": "https://localhost:8080/",
          "height": 419
        },
        "outputId": "10e7f48f-38ba-47d5-f075-397371952c7e"
      },
      "execution_count": 17,
      "outputs": [
        {
          "output_type": "execute_result",
          "data": {
            "text/plain": [
              "     feature1  feature2  feature3  feature4  feature5  feature6  feature7  \\\n",
              "518         3         1         2         2         2         1         1   \n",
              "344         7         6         4         8        10        10         9   \n",
              "252         6         3         3         5         3        10         3   \n",
              "332         5         2         2         2         2         1         2   \n",
              "563         3         1         1         1         2         1         2   \n",
              "..        ...       ...       ...       ...       ...       ...       ...   \n",
              "98          9         6         9         2        10         6         2   \n",
              "322         3         1         1         1         2         1         3   \n",
              "382         3         2         2         2         2         1         3   \n",
              "365         2         1         1         1         2         1         2   \n",
              "510         1         1         1         1         2         1         1   \n",
              "\n",
              "     feature8  feature9  \n",
              "518         1         1  \n",
              "344         5         3  \n",
              "252         5         3  \n",
              "332         2         1  \n",
              "563         1         1  \n",
              "..        ...       ...  \n",
              "98          9        10  \n",
              "322         1         1  \n",
              "382         2         1  \n",
              "365         1         1  \n",
              "510         1         1  \n",
              "\n",
              "[560 rows x 9 columns]"
            ],
            "text/html": [
              "\n",
              "  <div id=\"df-f7b60997-a80a-434b-8862-79e36b1bcc1f\">\n",
              "    <div class=\"colab-df-container\">\n",
              "      <div>\n",
              "<style scoped>\n",
              "    .dataframe tbody tr th:only-of-type {\n",
              "        vertical-align: middle;\n",
              "    }\n",
              "\n",
              "    .dataframe tbody tr th {\n",
              "        vertical-align: top;\n",
              "    }\n",
              "\n",
              "    .dataframe thead th {\n",
              "        text-align: right;\n",
              "    }\n",
              "</style>\n",
              "<table border=\"1\" class=\"dataframe\">\n",
              "  <thead>\n",
              "    <tr style=\"text-align: right;\">\n",
              "      <th></th>\n",
              "      <th>feature1</th>\n",
              "      <th>feature2</th>\n",
              "      <th>feature3</th>\n",
              "      <th>feature4</th>\n",
              "      <th>feature5</th>\n",
              "      <th>feature6</th>\n",
              "      <th>feature7</th>\n",
              "      <th>feature8</th>\n",
              "      <th>feature9</th>\n",
              "    </tr>\n",
              "  </thead>\n",
              "  <tbody>\n",
              "    <tr>\n",
              "      <th>518</th>\n",
              "      <td>3</td>\n",
              "      <td>1</td>\n",
              "      <td>2</td>\n",
              "      <td>2</td>\n",
              "      <td>2</td>\n",
              "      <td>1</td>\n",
              "      <td>1</td>\n",
              "      <td>1</td>\n",
              "      <td>1</td>\n",
              "    </tr>\n",
              "    <tr>\n",
              "      <th>344</th>\n",
              "      <td>7</td>\n",
              "      <td>6</td>\n",
              "      <td>4</td>\n",
              "      <td>8</td>\n",
              "      <td>10</td>\n",
              "      <td>10</td>\n",
              "      <td>9</td>\n",
              "      <td>5</td>\n",
              "      <td>3</td>\n",
              "    </tr>\n",
              "    <tr>\n",
              "      <th>252</th>\n",
              "      <td>6</td>\n",
              "      <td>3</td>\n",
              "      <td>3</td>\n",
              "      <td>5</td>\n",
              "      <td>3</td>\n",
              "      <td>10</td>\n",
              "      <td>3</td>\n",
              "      <td>5</td>\n",
              "      <td>3</td>\n",
              "    </tr>\n",
              "    <tr>\n",
              "      <th>332</th>\n",
              "      <td>5</td>\n",
              "      <td>2</td>\n",
              "      <td>2</td>\n",
              "      <td>2</td>\n",
              "      <td>2</td>\n",
              "      <td>1</td>\n",
              "      <td>2</td>\n",
              "      <td>2</td>\n",
              "      <td>1</td>\n",
              "    </tr>\n",
              "    <tr>\n",
              "      <th>563</th>\n",
              "      <td>3</td>\n",
              "      <td>1</td>\n",
              "      <td>1</td>\n",
              "      <td>1</td>\n",
              "      <td>2</td>\n",
              "      <td>1</td>\n",
              "      <td>2</td>\n",
              "      <td>1</td>\n",
              "      <td>1</td>\n",
              "    </tr>\n",
              "    <tr>\n",
              "      <th>...</th>\n",
              "      <td>...</td>\n",
              "      <td>...</td>\n",
              "      <td>...</td>\n",
              "      <td>...</td>\n",
              "      <td>...</td>\n",
              "      <td>...</td>\n",
              "      <td>...</td>\n",
              "      <td>...</td>\n",
              "      <td>...</td>\n",
              "    </tr>\n",
              "    <tr>\n",
              "      <th>98</th>\n",
              "      <td>9</td>\n",
              "      <td>6</td>\n",
              "      <td>9</td>\n",
              "      <td>2</td>\n",
              "      <td>10</td>\n",
              "      <td>6</td>\n",
              "      <td>2</td>\n",
              "      <td>9</td>\n",
              "      <td>10</td>\n",
              "    </tr>\n",
              "    <tr>\n",
              "      <th>322</th>\n",
              "      <td>3</td>\n",
              "      <td>1</td>\n",
              "      <td>1</td>\n",
              "      <td>1</td>\n",
              "      <td>2</td>\n",
              "      <td>1</td>\n",
              "      <td>3</td>\n",
              "      <td>1</td>\n",
              "      <td>1</td>\n",
              "    </tr>\n",
              "    <tr>\n",
              "      <th>382</th>\n",
              "      <td>3</td>\n",
              "      <td>2</td>\n",
              "      <td>2</td>\n",
              "      <td>2</td>\n",
              "      <td>2</td>\n",
              "      <td>1</td>\n",
              "      <td>3</td>\n",
              "      <td>2</td>\n",
              "      <td>1</td>\n",
              "    </tr>\n",
              "    <tr>\n",
              "      <th>365</th>\n",
              "      <td>2</td>\n",
              "      <td>1</td>\n",
              "      <td>1</td>\n",
              "      <td>1</td>\n",
              "      <td>2</td>\n",
              "      <td>1</td>\n",
              "      <td>2</td>\n",
              "      <td>1</td>\n",
              "      <td>1</td>\n",
              "    </tr>\n",
              "    <tr>\n",
              "      <th>510</th>\n",
              "      <td>1</td>\n",
              "      <td>1</td>\n",
              "      <td>1</td>\n",
              "      <td>1</td>\n",
              "      <td>2</td>\n",
              "      <td>1</td>\n",
              "      <td>1</td>\n",
              "      <td>1</td>\n",
              "      <td>1</td>\n",
              "    </tr>\n",
              "  </tbody>\n",
              "</table>\n",
              "<p>560 rows × 9 columns</p>\n",
              "</div>\n",
              "      <button class=\"colab-df-convert\" onclick=\"convertToInteractive('df-f7b60997-a80a-434b-8862-79e36b1bcc1f')\"\n",
              "              title=\"Convert this dataframe to an interactive table.\"\n",
              "              style=\"display:none;\">\n",
              "        \n",
              "  <svg xmlns=\"http://www.w3.org/2000/svg\" height=\"24px\"viewBox=\"0 0 24 24\"\n",
              "       width=\"24px\">\n",
              "    <path d=\"M0 0h24v24H0V0z\" fill=\"none\"/>\n",
              "    <path d=\"M18.56 5.44l.94 2.06.94-2.06 2.06-.94-2.06-.94-.94-2.06-.94 2.06-2.06.94zm-11 1L8.5 8.5l.94-2.06 2.06-.94-2.06-.94L8.5 2.5l-.94 2.06-2.06.94zm10 10l.94 2.06.94-2.06 2.06-.94-2.06-.94-.94-2.06-.94 2.06-2.06.94z\"/><path d=\"M17.41 7.96l-1.37-1.37c-.4-.4-.92-.59-1.43-.59-.52 0-1.04.2-1.43.59L10.3 9.45l-7.72 7.72c-.78.78-.78 2.05 0 2.83L4 21.41c.39.39.9.59 1.41.59.51 0 1.02-.2 1.41-.59l7.78-7.78 2.81-2.81c.8-.78.8-2.07 0-2.86zM5.41 20L4 18.59l7.72-7.72 1.47 1.35L5.41 20z\"/>\n",
              "  </svg>\n",
              "      </button>\n",
              "      \n",
              "  <style>\n",
              "    .colab-df-container {\n",
              "      display:flex;\n",
              "      flex-wrap:wrap;\n",
              "      gap: 12px;\n",
              "    }\n",
              "\n",
              "    .colab-df-convert {\n",
              "      background-color: #E8F0FE;\n",
              "      border: none;\n",
              "      border-radius: 50%;\n",
              "      cursor: pointer;\n",
              "      display: none;\n",
              "      fill: #1967D2;\n",
              "      height: 32px;\n",
              "      padding: 0 0 0 0;\n",
              "      width: 32px;\n",
              "    }\n",
              "\n",
              "    .colab-df-convert:hover {\n",
              "      background-color: #E2EBFA;\n",
              "      box-shadow: 0px 1px 2px rgba(60, 64, 67, 0.3), 0px 1px 3px 1px rgba(60, 64, 67, 0.15);\n",
              "      fill: #174EA6;\n",
              "    }\n",
              "\n",
              "    [theme=dark] .colab-df-convert {\n",
              "      background-color: #3B4455;\n",
              "      fill: #D2E3FC;\n",
              "    }\n",
              "\n",
              "    [theme=dark] .colab-df-convert:hover {\n",
              "      background-color: #434B5C;\n",
              "      box-shadow: 0px 1px 3px 1px rgba(0, 0, 0, 0.15);\n",
              "      filter: drop-shadow(0px 1px 2px rgba(0, 0, 0, 0.3));\n",
              "      fill: #FFFFFF;\n",
              "    }\n",
              "  </style>\n",
              "\n",
              "      <script>\n",
              "        const buttonEl =\n",
              "          document.querySelector('#df-f7b60997-a80a-434b-8862-79e36b1bcc1f button.colab-df-convert');\n",
              "        buttonEl.style.display =\n",
              "          google.colab.kernel.accessAllowed ? 'block' : 'none';\n",
              "\n",
              "        async function convertToInteractive(key) {\n",
              "          const element = document.querySelector('#df-f7b60997-a80a-434b-8862-79e36b1bcc1f');\n",
              "          const dataTable =\n",
              "            await google.colab.kernel.invokeFunction('convertToInteractive',\n",
              "                                                     [key], {});\n",
              "          if (!dataTable) return;\n",
              "\n",
              "          const docLinkHtml = 'Like what you see? Visit the ' +\n",
              "            '<a target=\"_blank\" href=https://colab.research.google.com/notebooks/data_table.ipynb>data table notebook</a>'\n",
              "            + ' to learn more about interactive tables.';\n",
              "          element.innerHTML = '';\n",
              "          dataTable['output_type'] = 'display_data';\n",
              "          await google.colab.output.renderOutput(dataTable, element);\n",
              "          const docLink = document.createElement('div');\n",
              "          docLink.innerHTML = docLinkHtml;\n",
              "          element.appendChild(docLink);\n",
              "        }\n",
              "      </script>\n",
              "    </div>\n",
              "  </div>\n",
              "  "
            ]
          },
          "metadata": {},
          "execution_count": 17
        }
      ]
    },
    {
      "cell_type": "code",
      "source": [
        "y_train"
      ],
      "metadata": {
        "id": "AmGhweARR-uX",
        "colab": {
          "base_uri": "https://localhost:8080/"
        },
        "outputId": "084ad801-b6b2-440a-c3e9-80ff083a49ed"
      },
      "execution_count": 18,
      "outputs": [
        {
          "output_type": "execute_result",
          "data": {
            "text/plain": [
              "518    0\n",
              "344    1\n",
              "252    0\n",
              "332    0\n",
              "563    0\n",
              "      ..\n",
              "98     1\n",
              "322    0\n",
              "382    0\n",
              "365    0\n",
              "510    0\n",
              "Name: class, Length: 560, dtype: int64"
            ]
          },
          "metadata": {},
          "execution_count": 18
        }
      ]
    },
    {
      "cell_type": "code",
      "source": [
        "X_test"
      ],
      "metadata": {
        "id": "d7TTCJa3SFa_",
        "colab": {
          "base_uri": "https://localhost:8080/",
          "height": 419
        },
        "outputId": "6f041321-1ae6-4bd6-8205-511caa568c2b"
      },
      "execution_count": 19,
      "outputs": [
        {
          "output_type": "execute_result",
          "data": {
            "text/plain": [
              "     feature1  feature2  feature3  feature4  feature5  feature6  feature7  \\\n",
              "57          8         2         4         1         5         1         5   \n",
              "478         5         2         1         1         2         1         1   \n",
              "597         5         1         3         1         2         1         3   \n",
              "689         1         1         1         1         2         1         1   \n",
              "647         1         1         1         3         2         1         1   \n",
              "..        ...       ...       ...       ...       ...       ...       ...   \n",
              "631         5         1         1         1         2         1         2   \n",
              "151         7         2         4         1         6        10         5   \n",
              "282         1         4         3        10         4        10         5   \n",
              "31          2         1         1         1         2         1         3   \n",
              "308         7         8         7         6         4         3         8   \n",
              "\n",
              "     feature8  feature9  \n",
              "57          4         4  \n",
              "478         1         1  \n",
              "597         1         1  \n",
              "689         1         8  \n",
              "647         1         1  \n",
              "..        ...       ...  \n",
              "631         1         1  \n",
              "151         4         3  \n",
              "282         6         1  \n",
              "31          1         1  \n",
              "308         8         4  \n",
              "\n",
              "[140 rows x 9 columns]"
            ],
            "text/html": [
              "\n",
              "  <div id=\"df-15b1d654-ffa4-4e94-898d-6d2de24ef51f\">\n",
              "    <div class=\"colab-df-container\">\n",
              "      <div>\n",
              "<style scoped>\n",
              "    .dataframe tbody tr th:only-of-type {\n",
              "        vertical-align: middle;\n",
              "    }\n",
              "\n",
              "    .dataframe tbody tr th {\n",
              "        vertical-align: top;\n",
              "    }\n",
              "\n",
              "    .dataframe thead th {\n",
              "        text-align: right;\n",
              "    }\n",
              "</style>\n",
              "<table border=\"1\" class=\"dataframe\">\n",
              "  <thead>\n",
              "    <tr style=\"text-align: right;\">\n",
              "      <th></th>\n",
              "      <th>feature1</th>\n",
              "      <th>feature2</th>\n",
              "      <th>feature3</th>\n",
              "      <th>feature4</th>\n",
              "      <th>feature5</th>\n",
              "      <th>feature6</th>\n",
              "      <th>feature7</th>\n",
              "      <th>feature8</th>\n",
              "      <th>feature9</th>\n",
              "    </tr>\n",
              "  </thead>\n",
              "  <tbody>\n",
              "    <tr>\n",
              "      <th>57</th>\n",
              "      <td>8</td>\n",
              "      <td>2</td>\n",
              "      <td>4</td>\n",
              "      <td>1</td>\n",
              "      <td>5</td>\n",
              "      <td>1</td>\n",
              "      <td>5</td>\n",
              "      <td>4</td>\n",
              "      <td>4</td>\n",
              "    </tr>\n",
              "    <tr>\n",
              "      <th>478</th>\n",
              "      <td>5</td>\n",
              "      <td>2</td>\n",
              "      <td>1</td>\n",
              "      <td>1</td>\n",
              "      <td>2</td>\n",
              "      <td>1</td>\n",
              "      <td>1</td>\n",
              "      <td>1</td>\n",
              "      <td>1</td>\n",
              "    </tr>\n",
              "    <tr>\n",
              "      <th>597</th>\n",
              "      <td>5</td>\n",
              "      <td>1</td>\n",
              "      <td>3</td>\n",
              "      <td>1</td>\n",
              "      <td>2</td>\n",
              "      <td>1</td>\n",
              "      <td>3</td>\n",
              "      <td>1</td>\n",
              "      <td>1</td>\n",
              "    </tr>\n",
              "    <tr>\n",
              "      <th>689</th>\n",
              "      <td>1</td>\n",
              "      <td>1</td>\n",
              "      <td>1</td>\n",
              "      <td>1</td>\n",
              "      <td>2</td>\n",
              "      <td>1</td>\n",
              "      <td>1</td>\n",
              "      <td>1</td>\n",
              "      <td>8</td>\n",
              "    </tr>\n",
              "    <tr>\n",
              "      <th>647</th>\n",
              "      <td>1</td>\n",
              "      <td>1</td>\n",
              "      <td>1</td>\n",
              "      <td>3</td>\n",
              "      <td>2</td>\n",
              "      <td>1</td>\n",
              "      <td>1</td>\n",
              "      <td>1</td>\n",
              "      <td>1</td>\n",
              "    </tr>\n",
              "    <tr>\n",
              "      <th>...</th>\n",
              "      <td>...</td>\n",
              "      <td>...</td>\n",
              "      <td>...</td>\n",
              "      <td>...</td>\n",
              "      <td>...</td>\n",
              "      <td>...</td>\n",
              "      <td>...</td>\n",
              "      <td>...</td>\n",
              "      <td>...</td>\n",
              "    </tr>\n",
              "    <tr>\n",
              "      <th>631</th>\n",
              "      <td>5</td>\n",
              "      <td>1</td>\n",
              "      <td>1</td>\n",
              "      <td>1</td>\n",
              "      <td>2</td>\n",
              "      <td>1</td>\n",
              "      <td>2</td>\n",
              "      <td>1</td>\n",
              "      <td>1</td>\n",
              "    </tr>\n",
              "    <tr>\n",
              "      <th>151</th>\n",
              "      <td>7</td>\n",
              "      <td>2</td>\n",
              "      <td>4</td>\n",
              "      <td>1</td>\n",
              "      <td>6</td>\n",
              "      <td>10</td>\n",
              "      <td>5</td>\n",
              "      <td>4</td>\n",
              "      <td>3</td>\n",
              "    </tr>\n",
              "    <tr>\n",
              "      <th>282</th>\n",
              "      <td>1</td>\n",
              "      <td>4</td>\n",
              "      <td>3</td>\n",
              "      <td>10</td>\n",
              "      <td>4</td>\n",
              "      <td>10</td>\n",
              "      <td>5</td>\n",
              "      <td>6</td>\n",
              "      <td>1</td>\n",
              "    </tr>\n",
              "    <tr>\n",
              "      <th>31</th>\n",
              "      <td>2</td>\n",
              "      <td>1</td>\n",
              "      <td>1</td>\n",
              "      <td>1</td>\n",
              "      <td>2</td>\n",
              "      <td>1</td>\n",
              "      <td>3</td>\n",
              "      <td>1</td>\n",
              "      <td>1</td>\n",
              "    </tr>\n",
              "    <tr>\n",
              "      <th>308</th>\n",
              "      <td>7</td>\n",
              "      <td>8</td>\n",
              "      <td>7</td>\n",
              "      <td>6</td>\n",
              "      <td>4</td>\n",
              "      <td>3</td>\n",
              "      <td>8</td>\n",
              "      <td>8</td>\n",
              "      <td>4</td>\n",
              "    </tr>\n",
              "  </tbody>\n",
              "</table>\n",
              "<p>140 rows × 9 columns</p>\n",
              "</div>\n",
              "      <button class=\"colab-df-convert\" onclick=\"convertToInteractive('df-15b1d654-ffa4-4e94-898d-6d2de24ef51f')\"\n",
              "              title=\"Convert this dataframe to an interactive table.\"\n",
              "              style=\"display:none;\">\n",
              "        \n",
              "  <svg xmlns=\"http://www.w3.org/2000/svg\" height=\"24px\"viewBox=\"0 0 24 24\"\n",
              "       width=\"24px\">\n",
              "    <path d=\"M0 0h24v24H0V0z\" fill=\"none\"/>\n",
              "    <path d=\"M18.56 5.44l.94 2.06.94-2.06 2.06-.94-2.06-.94-.94-2.06-.94 2.06-2.06.94zm-11 1L8.5 8.5l.94-2.06 2.06-.94-2.06-.94L8.5 2.5l-.94 2.06-2.06.94zm10 10l.94 2.06.94-2.06 2.06-.94-2.06-.94-.94-2.06-.94 2.06-2.06.94z\"/><path d=\"M17.41 7.96l-1.37-1.37c-.4-.4-.92-.59-1.43-.59-.52 0-1.04.2-1.43.59L10.3 9.45l-7.72 7.72c-.78.78-.78 2.05 0 2.83L4 21.41c.39.39.9.59 1.41.59.51 0 1.02-.2 1.41-.59l7.78-7.78 2.81-2.81c.8-.78.8-2.07 0-2.86zM5.41 20L4 18.59l7.72-7.72 1.47 1.35L5.41 20z\"/>\n",
              "  </svg>\n",
              "      </button>\n",
              "      \n",
              "  <style>\n",
              "    .colab-df-container {\n",
              "      display:flex;\n",
              "      flex-wrap:wrap;\n",
              "      gap: 12px;\n",
              "    }\n",
              "\n",
              "    .colab-df-convert {\n",
              "      background-color: #E8F0FE;\n",
              "      border: none;\n",
              "      border-radius: 50%;\n",
              "      cursor: pointer;\n",
              "      display: none;\n",
              "      fill: #1967D2;\n",
              "      height: 32px;\n",
              "      padding: 0 0 0 0;\n",
              "      width: 32px;\n",
              "    }\n",
              "\n",
              "    .colab-df-convert:hover {\n",
              "      background-color: #E2EBFA;\n",
              "      box-shadow: 0px 1px 2px rgba(60, 64, 67, 0.3), 0px 1px 3px 1px rgba(60, 64, 67, 0.15);\n",
              "      fill: #174EA6;\n",
              "    }\n",
              "\n",
              "    [theme=dark] .colab-df-convert {\n",
              "      background-color: #3B4455;\n",
              "      fill: #D2E3FC;\n",
              "    }\n",
              "\n",
              "    [theme=dark] .colab-df-convert:hover {\n",
              "      background-color: #434B5C;\n",
              "      box-shadow: 0px 1px 3px 1px rgba(0, 0, 0, 0.15);\n",
              "      filter: drop-shadow(0px 1px 2px rgba(0, 0, 0, 0.3));\n",
              "      fill: #FFFFFF;\n",
              "    }\n",
              "  </style>\n",
              "\n",
              "      <script>\n",
              "        const buttonEl =\n",
              "          document.querySelector('#df-15b1d654-ffa4-4e94-898d-6d2de24ef51f button.colab-df-convert');\n",
              "        buttonEl.style.display =\n",
              "          google.colab.kernel.accessAllowed ? 'block' : 'none';\n",
              "\n",
              "        async function convertToInteractive(key) {\n",
              "          const element = document.querySelector('#df-15b1d654-ffa4-4e94-898d-6d2de24ef51f');\n",
              "          const dataTable =\n",
              "            await google.colab.kernel.invokeFunction('convertToInteractive',\n",
              "                                                     [key], {});\n",
              "          if (!dataTable) return;\n",
              "\n",
              "          const docLinkHtml = 'Like what you see? Visit the ' +\n",
              "            '<a target=\"_blank\" href=https://colab.research.google.com/notebooks/data_table.ipynb>data table notebook</a>'\n",
              "            + ' to learn more about interactive tables.';\n",
              "          element.innerHTML = '';\n",
              "          dataTable['output_type'] = 'display_data';\n",
              "          await google.colab.output.renderOutput(dataTable, element);\n",
              "          const docLink = document.createElement('div');\n",
              "          docLink.innerHTML = docLinkHtml;\n",
              "          element.appendChild(docLink);\n",
              "        }\n",
              "      </script>\n",
              "    </div>\n",
              "  </div>\n",
              "  "
            ]
          },
          "metadata": {},
          "execution_count": 19
        }
      ]
    },
    {
      "cell_type": "code",
      "source": [
        "y_test"
      ],
      "metadata": {
        "id": "73fm_fqjSHjc",
        "colab": {
          "base_uri": "https://localhost:8080/"
        },
        "outputId": "1aa5e2ba-4ccf-42c7-da22-9062a516c1ee"
      },
      "execution_count": 20,
      "outputs": [
        {
          "output_type": "execute_result",
          "data": {
            "text/plain": [
              "57     1\n",
              "478    0\n",
              "597    0\n",
              "689    0\n",
              "647    0\n",
              "      ..\n",
              "631    0\n",
              "151    1\n",
              "282    1\n",
              "31     0\n",
              "308    1\n",
              "Name: class, Length: 140, dtype: int64"
            ]
          },
          "metadata": {},
          "execution_count": 20
        }
      ]
    },
    {
      "cell_type": "markdown",
      "source": [
        "# **5. Classification Algorithm**"
      ],
      "metadata": {
        "id": "gQTeuKs1hMI4"
      }
    },
    {
      "cell_type": "markdown",
      "source": [
        "# Decision Tree"
      ],
      "metadata": {
        "id": "5OO8nq5_zWLl"
      }
    },
    {
      "cell_type": "code",
      "source": [
        "# Hyperparameters\n",
        "dt_hyperparameters = {\n",
        "    'criterion' : ['gini', 'entropy'],\n",
        "    'max_depth' : [3, 5, 7, 8, 10, None],\n",
        "    'min_samples_split' : [2, 4, 5, 10],\n",
        "    'min_samples_leaf' : [1, 3, 5],\n",
        "    'max_features' : ['sqrt', 'log2',None]\n",
        "}"
      ],
      "metadata": {
        "id": "-vvsXI8CzbDq"
      },
      "execution_count": 66,
      "outputs": []
    },
    {
      "cell_type": "code",
      "source": [
        "# Searching the best hyperparameters\n",
        "dt_clf = DecisionTreeClassifier(random_state = 42)\n",
        "\n",
        "search_dt = GridSearchCV(dt_clf,dt_hyperparameters,cv =10, scoring = ('accuracy','precision','recall','f1'),refit = False)\n",
        "\n",
        "search_dt.fit(X_train,y_train)\n",
        "\n",
        "# Converting results into dataframe\n",
        "results_df_dt = pd.DataFrame(search_dt.cv_results_)[['params','mean_test_accuracy','mean_test_precision','mean_test_recall','mean_test_f1']]"
      ],
      "metadata": {
        "id": "CxrVeJhxze7R"
      },
      "execution_count": 67,
      "outputs": []
    },
    {
      "cell_type": "code",
      "source": [
        "# To increase size of column width\n",
        "pd.set_option('max_colwidth', 800)"
      ],
      "metadata": {
        "id": "_Oymy8aRuc6W"
      },
      "execution_count": 68,
      "outputs": []
    },
    {
      "cell_type": "markdown",
      "source": [
        "**Identifying the best hyperparameters on the basis of best accuracy**"
      ],
      "metadata": {
        "id": "8L3-WTAIiBss"
      }
    },
    {
      "cell_type": "code",
      "source": [
        "results_df_dt.sort_values(['mean_test_accuracy'],ascending = False).iloc[0]"
      ],
      "metadata": {
        "id": "4MNQOMEzC0Bp",
        "colab": {
          "base_uri": "https://localhost:8080/"
        },
        "outputId": "a3360012-f9d5-4007-beec-6d8e9f3f927f"
      },
      "execution_count": 70,
      "outputs": [
        {
          "output_type": "execute_result",
          "data": {
            "text/plain": [
              "params                 {'criterion': 'entropy', 'max_depth': 8, 'max_features': 'sqrt', 'min_samples_leaf': 5, 'min_samples_split': 10}\n",
              "mean_test_accuracy                                                                                                                 0.95\n",
              "mean_test_precision                                                                                                            0.931104\n",
              "mean_test_recall                                                                                                               0.926316\n",
              "mean_test_f1                                                                                                                    0.92522\n",
              "Name: 335, dtype: object"
            ]
          },
          "metadata": {},
          "execution_count": 70
        }
      ]
    },
    {
      "cell_type": "markdown",
      "source": [
        "**Applying the best hyperparameters on the testing dataset**"
      ],
      "metadata": {
        "id": "lReLh3YQiqCp"
      }
    },
    {
      "cell_type": "code",
      "source": [
        "dt_clf_acc = DecisionTreeClassifier(criterion = 'entropy', max_depth =  8, max_features =  'sqrt', min_samples_leaf = 5, min_samples_split =  10, random_state = 42)"
      ],
      "metadata": {
        "id": "7ehveCgduwir"
      },
      "execution_count": 71,
      "outputs": []
    },
    {
      "cell_type": "code",
      "source": [
        "# Fitting the model\n",
        "dt_clf_acc.fit(X_train,y_train)\n",
        "\n",
        "# Predicting the value\n",
        "y_pred = dt_clf_acc.predict(X_test)"
      ],
      "metadata": {
        "id": "D068tqW8wB5q"
      },
      "execution_count": 72,
      "outputs": []
    },
    {
      "cell_type": "code",
      "source": [
        "#Accuracy\n",
        "accuracy_score(y_test,y_pred)"
      ],
      "metadata": {
        "colab": {
          "base_uri": "https://localhost:8080/"
        },
        "id": "LDS7Ab86i-13",
        "outputId": "bcd51954-4f57-41f9-951c-d010c6d737db"
      },
      "execution_count": 73,
      "outputs": [
        {
          "output_type": "execute_result",
          "data": {
            "text/plain": [
              "0.9571428571428572"
            ]
          },
          "metadata": {},
          "execution_count": 73
        }
      ]
    },
    {
      "cell_type": "code",
      "source": [
        "# Precision\n",
        "precision_score(y_test,y_pred)"
      ],
      "metadata": {
        "colab": {
          "base_uri": "https://localhost:8080/"
        },
        "id": "jYApY84gx3UL",
        "outputId": "9dff320e-a980-494f-e935-86b83ea6aabc"
      },
      "execution_count": 74,
      "outputs": [
        {
          "output_type": "execute_result",
          "data": {
            "text/plain": [
              "0.9782608695652174"
            ]
          },
          "metadata": {},
          "execution_count": 74
        }
      ]
    },
    {
      "cell_type": "code",
      "source": [
        "# Recall\n",
        "recall_score(y_test,y_pred)"
      ],
      "metadata": {
        "colab": {
          "base_uri": "https://localhost:8080/"
        },
        "id": "1LsRTkL_x7HF",
        "outputId": "cb3c9b8a-3a8a-46f6-c80d-0ebc00b1a77f"
      },
      "execution_count": 75,
      "outputs": [
        {
          "output_type": "execute_result",
          "data": {
            "text/plain": [
              "0.9"
            ]
          },
          "metadata": {},
          "execution_count": 75
        }
      ]
    },
    {
      "cell_type": "code",
      "source": [
        "# F1 score\n",
        "f1_score(y_test,y_pred)"
      ],
      "metadata": {
        "colab": {
          "base_uri": "https://localhost:8080/"
        },
        "id": "eKXupfDsyAaa",
        "outputId": "fc391f0d-537a-4b3a-8e58-015c3311174a"
      },
      "execution_count": 76,
      "outputs": [
        {
          "output_type": "execute_result",
          "data": {
            "text/plain": [
              "0.9375"
            ]
          },
          "metadata": {},
          "execution_count": 76
        }
      ]
    },
    {
      "cell_type": "code",
      "source": [
        "# Confusion Matrix\n",
        "cm = confusion_matrix(y_test,y_pred,labels = [0,1])\n",
        "sns.heatmap(cm,annot = True,cmap = 'Blues')\n",
        "plt.xlabel('Predicted')\n",
        "plt.ylabel('Actual')\n",
        "plt.show()"
      ],
      "metadata": {
        "colab": {
          "base_uri": "https://localhost:8080/",
          "height": 279
        },
        "id": "1OHEUthoyXco",
        "outputId": "91e0f118-6caa-4210-af63-3019253f1db4"
      },
      "execution_count": 77,
      "outputs": [
        {
          "output_type": "display_data",
          "data": {
            "text/plain": [
              "<Figure size 432x288 with 2 Axes>"
            ],
            "image/png": "[encoded data removed]"
          },
          "metadata": {
            "needs_background": "light"
          }
        }
      ]
    },
    {
      "cell_type": "markdown",
      "source": [
        "**Identifying the best hyperparameters on the basis of best precision**"
      ],
      "metadata": {
        "id": "3u-6q1ZKj1Yf"
      }
    },
    {
      "cell_type": "code",
      "source": [
        "results_df_dt.sort_values(['mean_test_precision'],ascending = False).iloc[0]"
      ],
      "metadata": {
        "id": "89YYzx--EY9D",
        "colab": {
          "base_uri": "https://localhost:8080/"
        },
        "outputId": "ca50da5f-d630-43c1-c6f4-e6de9939e319"
      },
      "execution_count": 78,
      "outputs": [
        {
          "output_type": "execute_result",
          "data": {
            "text/plain": [
              "params                 {'criterion': 'entropy', 'max_depth': None, 'max_features': 'log2', 'min_samples_leaf': 3, 'min_samples_split': 10}\n",
              "mean_test_accuracy                                                                                                                0.946429\n",
              "mean_test_precision                                                                                                                0.93114\n",
              "mean_test_recall                                                                                                                  0.915789\n",
              "mean_test_f1                                                                                                                      0.920262\n",
              "Name: 415, dtype: object"
            ]
          },
          "metadata": {},
          "execution_count": 78
        }
      ]
    },
    {
      "cell_type": "markdown",
      "source": [
        "**Testing the above hyperparamters on the Testing Dataset**"
      ],
      "metadata": {
        "id": "m2-bqi3UkCUg"
      }
    },
    {
      "cell_type": "code",
      "source": [
        "dt_clf_pre = DecisionTreeClassifier(criterion = 'entropy', max_depth =  None, max_features =  'log2', min_samples_leaf = 3, min_samples_split =  10, random_state = 42)"
      ],
      "metadata": {
        "id": "lfQE6qrAMwBx"
      },
      "execution_count": 36,
      "outputs": []
    },
    {
      "cell_type": "code",
      "source": [
        "# Fitting the Model\n",
        "dt_clf_pre.fit(X_train,y_train)\n",
        "\n",
        "# Predicting the values\n",
        "y_pred = dt_clf_pre.predict(X_test)"
      ],
      "metadata": {
        "id": "B5zH5vNeMphH"
      },
      "execution_count": 37,
      "outputs": []
    },
    {
      "cell_type": "code",
      "source": [
        "# Accuracy\n",
        "accuracy_score(y_test,y_pred)"
      ],
      "metadata": {
        "colab": {
          "base_uri": "https://localhost:8080/"
        },
        "id": "dTY5LTevNXdK",
        "outputId": "5a6969ad-da05-47f0-de0d-56b57fb46b2e"
      },
      "execution_count": 38,
      "outputs": [
        {
          "output_type": "execute_result",
          "data": {
            "text/plain": [
              "0.9714285714285714"
            ]
          },
          "metadata": {},
          "execution_count": 38
        }
      ]
    },
    {
      "cell_type": "code",
      "source": [
        "# Precision\n",
        "precision_score(y_test,y_pred)"
      ],
      "metadata": {
        "colab": {
          "base_uri": "https://localhost:8080/"
        },
        "id": "Icgo0KYnNcy3",
        "outputId": "29507b1b-456b-4e4b-d9c1-136d78c46d2e"
      },
      "execution_count": 39,
      "outputs": [
        {
          "output_type": "execute_result",
          "data": {
            "text/plain": [
              "0.9791666666666666"
            ]
          },
          "metadata": {},
          "execution_count": 39
        }
      ]
    },
    {
      "cell_type": "code",
      "source": [
        "# Recall\n",
        "recall_score(y_test,y_pred)"
      ],
      "metadata": {
        "colab": {
          "base_uri": "https://localhost:8080/"
        },
        "id": "H4dKsJUNNlW_",
        "outputId": "68516035-bc3e-47b7-c931-d376906c068f"
      },
      "execution_count": 40,
      "outputs": [
        {
          "output_type": "execute_result",
          "data": {
            "text/plain": [
              "0.94"
            ]
          },
          "metadata": {},
          "execution_count": 40
        }
      ]
    },
    {
      "cell_type": "code",
      "source": [
        "# F1\n",
        "f1_score(y_test,y_pred)"
      ],
      "metadata": {
        "colab": {
          "base_uri": "https://localhost:8080/"
        },
        "id": "0sIhphFgNpn6",
        "outputId": "eb2ce106-7fa3-40bf-b119-d83e7cd9cb47"
      },
      "execution_count": 41,
      "outputs": [
        {
          "output_type": "execute_result",
          "data": {
            "text/plain": [
              "0.9591836734693877"
            ]
          },
          "metadata": {},
          "execution_count": 41
        }
      ]
    },
    {
      "cell_type": "code",
      "source": [
        "cm = confusion_matrix(y_test,y_pred,labels = [0,1])\n",
        "sns.heatmap(cm,annot = True,cmap = 'Blues')\n",
        "plt.xlabel('Predicted')\n",
        "plt.ylabel('Actual')\n",
        "plt.show()"
      ],
      "metadata": {
        "colab": {
          "base_uri": "https://localhost:8080/",
          "height": 279
        },
        "id": "JsqfPzFDPk9l",
        "outputId": "134c8767-0828-46a4-a54c-8d7da8d700ca"
      },
      "execution_count": 42,
      "outputs": [
        {
          "output_type": "display_data",
          "data": {
            "text/plain": [
              "<Figure size 432x288 with 2 Axes>"
            ],
            "image/png": "[encoded data removed]"
          },
          "metadata": {
            "needs_background": "light"
          }
        }
      ]
    },
    {
      "cell_type": "markdown",
      "source": [
        " **Identifying the best hyperparameters on the basis of best recall**"
      ],
      "metadata": {
        "id": "jGVVjwK1mC6p"
      }
    },
    {
      "cell_type": "code",
      "source": [
        "results_df_dt.sort_values(['mean_test_recall'],ascending = False).iloc[0]"
      ],
      "metadata": {
        "id": "P8OL1sisEqNO",
        "colab": {
          "base_uri": "https://localhost:8080/"
        },
        "outputId": "b5697afe-e51a-4b1b-8d58-4f8eb1a95013"
      },
      "execution_count": 79,
      "outputs": [
        {
          "output_type": "execute_result",
          "data": {
            "text/plain": [
              "params                 {'criterion': 'entropy', 'max_depth': 3, 'max_features': None, 'min_samples_leaf': 1, 'min_samples_split': 5}\n",
              "mean_test_accuracy                                                                                                          0.930357\n",
              "mean_test_precision                                                                                                         0.857141\n",
              "mean_test_recall                                                                                                            0.963158\n",
              "mean_test_f1                                                                                                                0.905612\n",
              "Name: 242, dtype: object"
            ]
          },
          "metadata": {},
          "execution_count": 79
        }
      ]
    },
    {
      "cell_type": "markdown",
      "source": [
        "**Testing the above parameters on the Testing Dataset**"
      ],
      "metadata": {
        "id": "9PzLmjs2mLW8"
      }
    },
    {
      "cell_type": "code",
      "source": [
        "dt_clf_rec = DecisionTreeClassifier(criterion = 'entropy', max_depth =  3, max_features =  None, min_samples_leaf = 1, min_samples_split =  5, random_state = 42)"
      ],
      "metadata": {
        "id": "WJe5ADPpNv83"
      },
      "execution_count": 44,
      "outputs": []
    },
    {
      "cell_type": "code",
      "source": [
        "# Fitting the Model\n",
        "dt_clf_rec.fit(X_train,y_train)\n",
        "\n",
        "# Predicting the values\n",
        "y_pred = dt_clf_rec.predict(X_test)"
      ],
      "metadata": {
        "id": "BBzbpIEXOEQ1"
      },
      "execution_count": 45,
      "outputs": []
    },
    {
      "cell_type": "code",
      "source": [
        "accuracy_score(y_test,y_pred)"
      ],
      "metadata": {
        "colab": {
          "base_uri": "https://localhost:8080/"
        },
        "id": "Fqb4dKiJOG-y",
        "outputId": "6c82459a-8ac8-4ab7-84a2-ad6cbe25e9a5"
      },
      "execution_count": 46,
      "outputs": [
        {
          "output_type": "execute_result",
          "data": {
            "text/plain": [
              "0.9785714285714285"
            ]
          },
          "metadata": {},
          "execution_count": 46
        }
      ]
    },
    {
      "cell_type": "code",
      "source": [
        "precision_score(y_test,y_pred)"
      ],
      "metadata": {
        "colab": {
          "base_uri": "https://localhost:8080/"
        },
        "id": "PETNja3UOUHq",
        "outputId": "ef826e87-5e50-424b-eff1-3c72cb81463e"
      },
      "execution_count": 47,
      "outputs": [
        {
          "output_type": "execute_result",
          "data": {
            "text/plain": [
              "0.9607843137254902"
            ]
          },
          "metadata": {},
          "execution_count": 47
        }
      ]
    },
    {
      "cell_type": "code",
      "source": [
        "recall_score(y_test,y_pred)"
      ],
      "metadata": {
        "colab": {
          "base_uri": "https://localhost:8080/"
        },
        "id": "7mdMzX7bOX8-",
        "outputId": "0dfc61c8-d87f-4737-8ebb-5676a15b7e1b"
      },
      "execution_count": 48,
      "outputs": [
        {
          "output_type": "execute_result",
          "data": {
            "text/plain": [
              "0.98"
            ]
          },
          "metadata": {},
          "execution_count": 48
        }
      ]
    },
    {
      "cell_type": "code",
      "source": [
        "f1_score(y_test,y_pred)"
      ],
      "metadata": {
        "colab": {
          "base_uri": "https://localhost:8080/"
        },
        "id": "czVOjBH4OcIq",
        "outputId": "6f9b4274-5b49-4b3e-a4bf-bf4328d48dba"
      },
      "execution_count": 49,
      "outputs": [
        {
          "output_type": "execute_result",
          "data": {
            "text/plain": [
              "0.9702970297029702"
            ]
          },
          "metadata": {},
          "execution_count": 49
        }
      ]
    },
    {
      "cell_type": "code",
      "source": [
        "cm = confusion_matrix(y_test,y_pred,labels = [0,1])\n",
        "sns.heatmap(cm,annot = True,cmap = 'Blues')\n",
        "plt.xlabel('Predicted')\n",
        "plt.ylabel('Actual')\n",
        "plt.show()"
      ],
      "metadata": {
        "colab": {
          "base_uri": "https://localhost:8080/",
          "height": 279
        },
        "id": "BVmLQqDkPjMD",
        "outputId": "2f5f06e1-292d-4c9e-983c-3d59878faf11"
      },
      "execution_count": 50,
      "outputs": [
        {
          "output_type": "display_data",
          "data": {
            "text/plain": [
              "<Figure size 432x288 with 2 Axes>"
            ],
            "image/png": "[encoded data removed]"
          },
          "metadata": {
            "needs_background": "light"
          }
        }
      ]
    },
    {
      "cell_type": "markdown",
      "source": [
        "**Identifying the best hyperparameters on the basis of best f1 score**"
      ],
      "metadata": {
        "id": "lEpeBU37myEE"
      }
    },
    {
      "cell_type": "code",
      "source": [
        "results_df_dt.sort_values(['mean_test_f1'],ascending = False).iloc[0]"
      ],
      "metadata": {
        "id": "-OOjHbfDFNBX",
        "colab": {
          "base_uri": "https://localhost:8080/"
        },
        "outputId": "8a00067e-1f70-40f9-cc35-b459a9a32a68"
      },
      "execution_count": 55,
      "outputs": [
        {
          "output_type": "execute_result",
          "data": {
            "text/plain": [
              "params                 {'criterion': 'gini', 'max_depth': 5, 'max_features': 'sqrt', 'min_samples_leaf': 3, 'min_samples_split': 2}\n",
              "mean_test_accuracy                                                                                                             0.95\n",
              "mean_test_precision                                                                                                        0.914105\n",
              "mean_test_recall                                                                                                           0.952632\n",
              "mean_test_f1                                                                                                               0.930423\n",
              "Name: 40, dtype: object"
            ]
          },
          "metadata": {},
          "execution_count": 55
        }
      ]
    },
    {
      "cell_type": "markdown",
      "source": [
        "**Testing the above hyperparameters on Testing dataset**"
      ],
      "metadata": {
        "id": "JbLbSpIhm4c5"
      }
    },
    {
      "cell_type": "code",
      "source": [
        "dt_clf_f1 = DecisionTreeClassifier(criterion = 'gini', max_depth =  5, max_features =  'sqrt', min_samples_leaf = 3, min_samples_split =  2, random_state = 42)"
      ],
      "metadata": {
        "id": "rVVpJTckOfoG"
      },
      "execution_count": 56,
      "outputs": []
    },
    {
      "cell_type": "code",
      "source": [
        "# Fitting the Model\n",
        "dt_clf_f1.fit(X_train,y_train)\n",
        "\n",
        "# Predicting the values\n",
        "y_pred = dt_clf_f1.predict(X_test)"
      ],
      "metadata": {
        "id": "mHeZ8Pl-O1jO"
      },
      "execution_count": 58,
      "outputs": []
    },
    {
      "cell_type": "code",
      "source": [
        "# Accuracy\n",
        "accuracy_score(y_test,y_pred)"
      ],
      "metadata": {
        "colab": {
          "base_uri": "https://localhost:8080/"
        },
        "id": "r18GrhwFO4X8",
        "outputId": "791a0252-dc26-4a81-ba6e-62aba268b515"
      },
      "execution_count": 59,
      "outputs": [
        {
          "output_type": "execute_result",
          "data": {
            "text/plain": [
              "0.9857142857142858"
            ]
          },
          "metadata": {},
          "execution_count": 59
        }
      ]
    },
    {
      "cell_type": "code",
      "source": [
        "# Precision\n",
        "precision_score(y_test,y_pred)"
      ],
      "metadata": {
        "colab": {
          "base_uri": "https://localhost:8080/"
        },
        "id": "ZXUSnpP1O8tU",
        "outputId": "b5a1900f-068a-49a0-c433-046d27798a41"
      },
      "execution_count": 60,
      "outputs": [
        {
          "output_type": "execute_result",
          "data": {
            "text/plain": [
              "0.98"
            ]
          },
          "metadata": {},
          "execution_count": 60
        }
      ]
    },
    {
      "cell_type": "code",
      "source": [
        "# Recall\n",
        "recall_score(y_test,y_pred)"
      ],
      "metadata": {
        "colab": {
          "base_uri": "https://localhost:8080/"
        },
        "id": "FB4OnRJmPAGe",
        "outputId": "852a74fa-ea9e-491b-f294-834ead19cfd9"
      },
      "execution_count": 61,
      "outputs": [
        {
          "output_type": "execute_result",
          "data": {
            "text/plain": [
              "0.98"
            ]
          },
          "metadata": {},
          "execution_count": 61
        }
      ]
    },
    {
      "cell_type": "code",
      "source": [
        "# F1-score\n",
        "f1_score(y_test,y_pred)"
      ],
      "metadata": {
        "colab": {
          "base_uri": "https://localhost:8080/"
        },
        "id": "MuudzZVkPDGZ",
        "outputId": "4a0934cb-74ea-47fa-a33b-e1f4aa732b84"
      },
      "execution_count": 62,
      "outputs": [
        {
          "output_type": "execute_result",
          "data": {
            "text/plain": [
              "0.98"
            ]
          },
          "metadata": {},
          "execution_count": 62
        }
      ]
    },
    {
      "cell_type": "code",
      "source": [
        "# Confusion Matrix\n",
        "cm = confusion_matrix(y_test,y_pred,labels = [0,1])\n",
        "sns.heatmap(cm,annot = True,cmap = 'Blues')\n",
        "plt.xlabel('Predicted')\n",
        "plt.ylabel('Actual')\n",
        "plt.show()"
      ],
      "metadata": {
        "colab": {
          "base_uri": "https://localhost:8080/",
          "height": 279
        },
        "id": "U2dKMXzcPLAJ",
        "outputId": "6cd518f6-9981-433c-8e38-89e0edc0d2a9"
      },
      "execution_count": 65,
      "outputs": [
        {
          "output_type": "display_data",
          "data": {
            "text/plain": [
              "<Figure size 432x288 with 2 Axes>"
            ],
            "image/png": "[encoded data removed]"
          },
          "metadata": {
            "needs_background": "light"
          }
        }
      ]
    },
    {
      "cell_type": "markdown",
      "source": [
        "**Summarising the above results**"
      ],
      "metadata": {
        "id": "BmzTn7IPn1XR"
      }
    },
    {
      "cell_type": "code",
      "source": [
        "conclusion_df = pd.DataFrame([[0.9571428571428572,0.9782608695652174,0.9,0.9375],[0.9714285714285714,0.9791666666666666,0.94,0.9591836734693877],[0.9785714285714285,0.9607843137254902,0.98,0.9702970297029702],[0.9857142857142858,0.98,0.98,0.98]],\n",
        "                             index = pd.Index(['criterion = entropy, max_depth = 8, max_features = sqrt, min_samples_leaf = 5, min_samples_split = 10' , 'criterion = entropy, max_depth =  None, max_features = log2, min_samples_leaf = 3, min_samples_split =  10', 'criterion = entropy, max_depth = 3, max_features = None, min_samples_leaf = 1, min_samples_split = 5',\t'criterion = gini, max_depth = 5, max_features = sqrt, min_samples_leaf = 3, min_samples_split =  2'],name = '-------------------------------------------------------------------------Hyperparameters :'),\n",
        "                             columns = pd.MultiIndex.from_product([['Decision Trees'],['Accuracy','Precision','Recall','F1-score']],names=['------------------------------------------------------------------------------------Model:','-----------------------------------------------------------------------Evaluation Metrics:']))"
      ],
      "metadata": {
        "id": "C3fRRr-iw1kJ"
      },
      "execution_count": 63,
      "outputs": []
    },
    {
      "cell_type": "code",
      "source": [
        "conclusion_df"
      ],
      "metadata": {
        "colab": {
          "base_uri": "https://localhost:8080/",
          "height": 235
        },
        "id": "GKASkaaG6lqN",
        "outputId": "3d8e3d04-fa65-4ff0-c5a9-ef41b1bf6253"
      },
      "execution_count": 64,
      "outputs": [
        {
          "output_type": "execute_result",
          "data": {
            "text/plain": [
              "------------------------------------------------------------------------------------Model:                 Decision Trees  \\\n",
              "-----------------------------------------------------------------------Evaluation Metrics:                       Accuracy   \n",
              "-------------------------------------------------------------------------Hyperparameters :                                  \n",
              "criterion = entropy, max_depth = 8, max_features = sqrt, min_samples_leaf = 5, min_samples_split = 10            0.957143   \n",
              "criterion = entropy, max_depth =  None, max_features = log2, min_samples_leaf = 3, min_samples_split =  10       0.971429   \n",
              "criterion = entropy, max_depth = 3, max_features = None, min_samples_leaf = 1, min_samples_split = 5             0.978571   \n",
              "criterion = gini, max_depth = 5, max_features = sqrt, min_samples_leaf = 3, min_samples_split =  2               0.985714   \n",
              "\n",
              "------------------------------------------------------------------------------------Model:                            \\\n",
              "-----------------------------------------------------------------------Evaluation Metrics:                 Precision   \n",
              "-------------------------------------------------------------------------Hyperparameters :                             \n",
              "criterion = entropy, max_depth = 8, max_features = sqrt, min_samples_leaf = 5, min_samples_split = 10       0.978261   \n",
              "criterion = entropy, max_depth =  None, max_features = log2, min_samples_leaf = 3, min_samples_split =  10  0.979167   \n",
              "criterion = entropy, max_depth = 3, max_features = None, min_samples_leaf = 1, min_samples_split = 5        0.960784   \n",
              "criterion = gini, max_depth = 5, max_features = sqrt, min_samples_leaf = 3, min_samples_split =  2          0.980000   \n",
              "\n",
              "------------------------------------------------------------------------------------Model:                         \\\n",
              "-----------------------------------------------------------------------Evaluation Metrics:                 Recall   \n",
              "-------------------------------------------------------------------------Hyperparameters :                          \n",
              "criterion = entropy, max_depth = 8, max_features = sqrt, min_samples_leaf = 5, min_samples_split = 10        0.90   \n",
              "criterion = entropy, max_depth =  None, max_features = log2, min_samples_leaf = 3, min_samples_split =  10   0.94   \n",
              "criterion = entropy, max_depth = 3, max_features = None, min_samples_leaf = 1, min_samples_split = 5         0.98   \n",
              "criterion = gini, max_depth = 5, max_features = sqrt, min_samples_leaf = 3, min_samples_split =  2           0.98   \n",
              "\n",
              "------------------------------------------------------------------------------------Model:                            \n",
              "-----------------------------------------------------------------------Evaluation Metrics:                  F1-score  \n",
              "-------------------------------------------------------------------------Hyperparameters :                            \n",
              "criterion = entropy, max_depth = 8, max_features = sqrt, min_samples_leaf = 5, min_samples_split = 10       0.937500  \n",
              "criterion = entropy, max_depth =  None, max_features = log2, min_samples_leaf = 3, min_samples_split =  10  0.959184  \n",
              "criterion = entropy, max_depth = 3, max_features = None, min_samples_leaf = 1, min_samples_split = 5        0.970297  \n",
              "criterion = gini, max_depth = 5, max_features = sqrt, min_samples_leaf = 3, min_samples_split =  2          0.980000  "
            ],
            "text/html": [
              "\n",
              "  <div id=\"df-a83492c9-f7ca-43b6-a5f0-34c479bfc64f\">\n",
              "    <div class=\"colab-df-container\">\n",
              "      <div>\n",
              "<style scoped>\n",
              "    .dataframe tbody tr th:only-of-type {\n",
              "        vertical-align: middle;\n",
              "    }\n",
              "\n",
              "    .dataframe tbody tr th {\n",
              "        vertical-align: top;\n",
              "    }\n",
              "\n",
              "    .dataframe thead tr th {\n",
              "        text-align: left;\n",
              "    }\n",
              "\n",
              "    .dataframe thead tr:last-of-type th {\n",
              "        text-align: right;\n",
              "    }\n",
              "</style>\n",
              "<table border=\"1\" class=\"dataframe\">\n",
              "  <thead>\n",
              "    <tr>\n",
              "      <th>------------------------------------------------------------------------------------Model:</th>\n",
              "      <th colspan=\"4\" halign=\"left\">Decision Trees</th>\n",
              "    </tr>\n",
              "    <tr>\n",
              "      <th>-----------------------------------------------------------------------Evaluation Metrics:</th>\n",
              "      <th>Accuracy</th>\n",
              "      <th>Precision</th>\n",
              "      <th>Recall</th>\n",
              "      <th>F1-score</th>\n",
              "    </tr>\n",
              "    <tr>\n",
              "      <th>-------------------------------------------------------------------------Hyperparameters :</th>\n",
              "      <th></th>\n",
              "      <th></th>\n",
              "      <th></th>\n",
              "      <th></th>\n",
              "    </tr>\n",
              "  </thead>\n",
              "  <tbody>\n",
              "    <tr>\n",
              "      <th>criterion = entropy, max_depth = 8, max_features = sqrt, min_samples_leaf = 5, min_samples_split = 10</th>\n",
              "      <td>0.957143</td>\n",
              "      <td>0.978261</td>\n",
              "      <td>0.90</td>\n",
              "      <td>0.937500</td>\n",
              "    </tr>\n",
              "    <tr>\n",
              "      <th>criterion = entropy, max_depth =  None, max_features = log2, min_samples_leaf = 3, min_samples_split =  10</th>\n",
              "      <td>0.971429</td>\n",
              "      <td>0.979167</td>\n",
              "      <td>0.94</td>\n",
              "      <td>0.959184</td>\n",
              "    </tr>\n",
              "    <tr>\n",
              "      <th>criterion = entropy, max_depth = 3, max_features = None, min_samples_leaf = 1, min_samples_split = 5</th>\n",
              "      <td>0.978571</td>\n",
              "      <td>0.960784</td>\n",
              "      <td>0.98</td>\n",
              "      <td>0.970297</td>\n",
              "    </tr>\n",
              "    <tr>\n",
              "      <th>criterion = gini, max_depth = 5, max_features = sqrt, min_samples_leaf = 3, min_samples_split =  2</th>\n",
              "      <td>0.985714</td>\n",
              "      <td>0.980000</td>\n",
              "      <td>0.98</td>\n",
              "      <td>0.980000</td>\n",
              "    </tr>\n",
              "  </tbody>\n",
              "</table>\n",
              "</div>\n",
              "      <button class=\"colab-df-convert\" onclick=\"convertToInteractive('df-a83492c9-f7ca-43b6-a5f0-34c479bfc64f')\"\n",
              "              title=\"Convert this dataframe to an interactive table.\"\n",
              "              style=\"display:none;\">\n",
              "        \n",
              "  <svg xmlns=\"http://www.w3.org/2000/svg\" height=\"24px\"viewBox=\"0 0 24 24\"\n",
              "       width=\"24px\">\n",
              "    <path d=\"M0 0h24v24H0V0z\" fill=\"none\"/>\n",
              "    <path d=\"M18.56 5.44l.94 2.06.94-2.06 2.06-.94-2.06-.94-.94-2.06-.94 2.06-2.06.94zm-11 1L8.5 8.5l.94-2.06 2.06-.94-2.06-.94L8.5 2.5l-.94 2.06-2.06.94zm10 10l.94 2.06.94-2.06 2.06-.94-2.06-.94-.94-2.06-.94 2.06-2.06.94z\"/><path d=\"M17.41 7.96l-1.37-1.37c-.4-.4-.92-.59-1.43-.59-.52 0-1.04.2-1.43.59L10.3 9.45l-7.72 7.72c-.78.78-.78 2.05 0 2.83L4 21.41c.39.39.9.59 1.41.59.51 0 1.02-.2 1.41-.59l7.78-7.78 2.81-2.81c.8-.78.8-2.07 0-2.86zM5.41 20L4 18.59l7.72-7.72 1.47 1.35L5.41 20z\"/>\n",
              "  </svg>\n",
              "      </button>\n",
              "      \n",
              "  <style>\n",
              "    .colab-df-container {\n",
              "      display:flex;\n",
              "      flex-wrap:wrap;\n",
              "      gap: 12px;\n",
              "    }\n",
              "\n",
              "    .colab-df-convert {\n",
              "      background-color: #E8F0FE;\n",
              "      border: none;\n",
              "      border-radius: 50%;\n",
              "      cursor: pointer;\n",
              "      display: none;\n",
              "      fill: #1967D2;\n",
              "      height: 32px;\n",
              "      padding: 0 0 0 0;\n",
              "      width: 32px;\n",
              "    }\n",
              "\n",
              "    .colab-df-convert:hover {\n",
              "      background-color: #E2EBFA;\n",
              "      box-shadow: 0px 1px 2px rgba(60, 64, 67, 0.3), 0px 1px 3px 1px rgba(60, 64, 67, 0.15);\n",
              "      fill: #174EA6;\n",
              "    }\n",
              "\n",
              "    [theme=dark] .colab-df-convert {\n",
              "      background-color: #3B4455;\n",
              "      fill: #D2E3FC;\n",
              "    }\n",
              "\n",
              "    [theme=dark] .colab-df-convert:hover {\n",
              "      background-color: #434B5C;\n",
              "      box-shadow: 0px 1px 3px 1px rgba(0, 0, 0, 0.15);\n",
              "      filter: drop-shadow(0px 1px 2px rgba(0, 0, 0, 0.3));\n",
              "      fill: #FFFFFF;\n",
              "    }\n",
              "  </style>\n",
              "\n",
              "      <script>\n",
              "        const buttonEl =\n",
              "          document.querySelector('#df-a83492c9-f7ca-43b6-a5f0-34c479bfc64f button.colab-df-convert');\n",
              "        buttonEl.style.display =\n",
              "          google.colab.kernel.accessAllowed ? 'block' : 'none';\n",
              "\n",
              "        async function convertToInteractive(key) {\n",
              "          const element = document.querySelector('#df-a83492c9-f7ca-43b6-a5f0-34c479bfc64f');\n",
              "          const dataTable =\n",
              "            await google.colab.kernel.invokeFunction('convertToInteractive',\n",
              "                                                     [key], {});\n",
              "          if (!dataTable) return;\n",
              "\n",
              "          const docLinkHtml = 'Like what you see? Visit the ' +\n",
              "            '<a target=\"_blank\" href=https://colab.research.google.com/notebooks/data_table.ipynb>data table notebook</a>'\n",
              "            + ' to learn more about interactive tables.';\n",
              "          element.innerHTML = '';\n",
              "          dataTable['output_type'] = 'display_data';\n",
              "          await google.colab.output.renderOutput(dataTable, element);\n",
              "          const docLink = document.createElement('div');\n",
              "          docLink.innerHTML = docLinkHtml;\n",
              "          element.appendChild(docLink);\n",
              "        }\n",
              "      </script>\n",
              "    </div>\n",
              "  </div>\n",
              "  "
            ]
          },
          "metadata": {},
          "execution_count": 64
        }
      ]
    },
    {
      "cell_type": "markdown",
      "source": [
        "# Random Forest"
      ],
      "metadata": {
        "id": "Y_lndjOYGjjK"
      }
    },
    {
      "cell_type": "markdown",
      "source": [
        "For the Random Forest Classifier, we are going to tune the following hyperparameters:\n",
        "\n",
        "\n",
        "1.  **n_estimators**\n",
        "\n",
        "> It specifies the number of trees in a forest. Obviously, increasing the number of trees in the forest will imporve the performance of the model but if the forest becomes very large we start getting diminishing returns.\n",
        "\n",
        "\n",
        "2.   **max_features**\n",
        "\n",
        "\n",
        "> It represents the number of feature we should consider while splitting at each node.\n",
        "\n",
        "3. **max_depth**\n",
        "\n",
        "\n",
        "> It specifies the maximum depth of the decision tree, the depth of the decision tree is defined as the number of nodes from the root to the farthest leaf. If its value is high, the tree will be more deep and complex and becomes more prone to overfitting the training data.\n",
        "\n",
        "4. **min_samples_split**\n",
        "\n",
        "\n",
        "> It determines the minimum number of samples required to split a node into further sub-nodes. Low value of it, may leads to overfitting.\n",
        "\n",
        "5. **min_samples_leaf**\n",
        "\n",
        "> It determines the minimum number of samples required to be at a leaf node. Low value of it, may lead to overfitting.\n",
        "\n",
        "6. **criterion**\n",
        "\n",
        "\n",
        "> It determines the function used to measure the quality of the split while building tree.\n",
        "\n",
        "\n",
        "\n",
        "\n",
        "\n",
        "\n",
        "\n",
        "\n",
        "\n",
        "\n",
        "\n",
        "\n",
        "\n",
        "\n",
        "\n",
        "\n"
      ],
      "metadata": {
        "id": "eoyEbuyVZpdI"
      }
    },
    {
      "cell_type": "code",
      "source": [
        "# Hyperparameters \n",
        "rf_hyperparameters = {\n",
        "    'n_estimators' : [50,100,200],\n",
        "    'max_features' : ['sqrt', 'log2',None],\n",
        "    'max_depth': [3,5,8,None],\n",
        "    'min_samples_split': [2,5,7,10],\n",
        "    'min_samples_leaf' : [2,3,5,8],\n",
        "    'criterion': ['gini','entropy']  \n",
        "}"
      ],
      "metadata": {
        "id": "xLNgBt_IoUNt"
      },
      "execution_count": 80,
      "outputs": []
    },
    {
      "cell_type": "code",
      "source": [
        "# Searching for the best hyperparameters\n",
        "rf_clf = RandomForestClassifier(n_jobs = -1, random_state=42)\n",
        "\n",
        "search_rf = GridSearchCV(estimator = rf_clf,param_grid = rf_hyperparameters,cv = 10, scoring = ('accuracy','precision','recall','f1'),refit = False)\n",
        "\n",
        "search_rf.fit(X_train,y_train)\n",
        "\n",
        "results_df_rf = pd.DataFrame(search_rf.cv_results_)[['params','mean_test_accuracy','mean_test_precision','mean_test_recall','mean_test_f1']]\n"
      ],
      "metadata": {
        "id": "hrl5gw-geDi4"
      },
      "execution_count": 81,
      "outputs": []
    },
    {
      "cell_type": "markdown",
      "source": [
        "**Finding the best hyperparameters on the basis of best accuracy**"
      ],
      "metadata": {
        "id": "TEfKUzq7phnx"
      }
    },
    {
      "cell_type": "code",
      "source": [
        "results_df_rf.sort_values('mean_test_accuracy',ascending = False).iloc[0]"
      ],
      "metadata": {
        "id": "w2k9WZoHBcfT",
        "colab": {
          "base_uri": "https://localhost:8080/"
        },
        "outputId": "0a60e78a-8f40-41da-fe47-816e819655de"
      },
      "execution_count": 82,
      "outputs": [
        {
          "output_type": "execute_result",
          "data": {
            "text/plain": [
              "params                 {'criterion': 'entropy', 'max_depth': None, 'max_features': 'sqrt', 'min_samples_leaf': 2, 'min_samples_split': 5, 'n_estimators': 200}\n",
              "mean_test_accuracy                                                                                                                                    0.966071\n",
              "mean_test_precision                                                                                                                                   0.939076\n",
              "mean_test_recall                                                                                                                                      0.968421\n",
              "mean_test_f1                                                                                                                                           0.95246\n",
              "Name: 1013, dtype: object"
            ]
          },
          "metadata": {},
          "execution_count": 82
        }
      ]
    },
    {
      "cell_type": "markdown",
      "source": [
        "**Testing the above hyperparameters on the Testing Dataset**"
      ],
      "metadata": {
        "id": "WBSBqmbhpuzv"
      }
    },
    {
      "cell_type": "code",
      "source": [
        "rf_clf_acc = RandomForestClassifier(criterion='entropy',max_depth = None,max_features = 'sqrt',min_samples_leaf=2,min_samples_split=5,n_estimators = 200,random_state = 42)"
      ],
      "metadata": {
        "id": "58JI6t8Wea4t"
      },
      "execution_count": 83,
      "outputs": []
    },
    {
      "cell_type": "code",
      "source": [
        "# Fitting the model\n",
        "rf_clf_acc.fit(X_train,y_train)\n",
        "\n",
        "# Predicting the model\n",
        "y_pred = rf_clf_acc.predict(X_test)"
      ],
      "metadata": {
        "id": "si1FD7DNfWU4"
      },
      "execution_count": 84,
      "outputs": []
    },
    {
      "cell_type": "code",
      "source": [
        "# Accuracy\n",
        "accuracy_score(y_test,y_pred)"
      ],
      "metadata": {
        "colab": {
          "base_uri": "https://localhost:8080/"
        },
        "id": "9YFkGEktftYW",
        "outputId": "d10518ac-a1f7-4af1-d0d6-1d252f9391b6"
      },
      "execution_count": 85,
      "outputs": [
        {
          "output_type": "execute_result",
          "data": {
            "text/plain": [
              "0.9928571428571429"
            ]
          },
          "metadata": {},
          "execution_count": 85
        }
      ]
    },
    {
      "cell_type": "code",
      "source": [
        "# Precision\n",
        "precision_score(y_test,y_pred)"
      ],
      "metadata": {
        "colab": {
          "base_uri": "https://localhost:8080/"
        },
        "id": "tOD2LmYMgNm4",
        "outputId": "410b1aa3-407d-4420-9393-d1c02639cf3e"
      },
      "execution_count": 86,
      "outputs": [
        {
          "output_type": "execute_result",
          "data": {
            "text/plain": [
              "1.0"
            ]
          },
          "metadata": {},
          "execution_count": 86
        }
      ]
    },
    {
      "cell_type": "code",
      "source": [
        "# Recall\n",
        "recall_score(y_test,y_pred)"
      ],
      "metadata": {
        "colab": {
          "base_uri": "https://localhost:8080/"
        },
        "id": "SYBpzByngG9q",
        "outputId": "fd9a440f-c0d9-4772-dacd-d04e9e8ac569"
      },
      "execution_count": 87,
      "outputs": [
        {
          "output_type": "execute_result",
          "data": {
            "text/plain": [
              "0.98"
            ]
          },
          "metadata": {},
          "execution_count": 87
        }
      ]
    },
    {
      "cell_type": "code",
      "source": [
        "# F1 score\n",
        "f1_score(y_test,y_pred)"
      ],
      "metadata": {
        "colab": {
          "base_uri": "https://localhost:8080/"
        },
        "id": "eOl7nWilgMWo",
        "outputId": "0a9d4d65-0fe0-40b2-8667-d1cf275a33dc"
      },
      "execution_count": 88,
      "outputs": [
        {
          "output_type": "execute_result",
          "data": {
            "text/plain": [
              "0.98989898989899"
            ]
          },
          "metadata": {},
          "execution_count": 88
        }
      ]
    },
    {
      "cell_type": "code",
      "source": [
        "# Confusion Matrix\n",
        "cm = confusion_matrix(y_test,y_pred,labels = [0,1])\n",
        "sns.heatmap(cm,annot = True,cmap = 'Blues')\n",
        "plt.xlabel('Predicted')\n",
        "plt.ylabel('Actual')\n",
        "plt.show()"
      ],
      "metadata": {
        "colab": {
          "base_uri": "https://localhost:8080/",
          "height": 283
        },
        "id": "7MwnPkWPpDr-",
        "outputId": "3342a50b-a74b-4aa1-df05-e4cf11e6396b"
      },
      "execution_count": 89,
      "outputs": [
        {
          "output_type": "display_data",
          "data": {
            "text/plain": [
              "<Figure size 432x288 with 2 Axes>"
            ],
            "image/png": "[encoded data removed]"
          },
          "metadata": {
            "needs_background": "light"
          }
        }
      ]
    },
    {
      "cell_type": "markdown",
      "source": [
        "**Find the best hyperparamters on the basis of best precision**"
      ],
      "metadata": {
        "id": "GldgtiCorK4u"
      }
    },
    {
      "cell_type": "code",
      "source": [
        "results_df_rf.sort_values('mean_test_precision',ascending = False).iloc[0]"
      ],
      "metadata": {
        "id": "4IlKKIaVIgKy",
        "colab": {
          "base_uri": "https://localhost:8080/"
        },
        "outputId": "184491e6-cb71-4f5a-ad31-4306d8647f81"
      },
      "execution_count": 90,
      "outputs": [
        {
          "output_type": "execute_result",
          "data": {
            "text/plain": [
              "params                 {'criterion': 'entropy', 'max_depth': 8, 'max_features': 'sqrt', 'min_samples_leaf': 2, 'min_samples_split': 7, 'n_estimators': 100}\n",
              "mean_test_accuracy                                                                                                                                   0.9625\n",
              "mean_test_precision                                                                                                                                0.943307\n",
              "mean_test_recall                                                                                                                                   0.952632\n",
              "mean_test_f1                                                                                                                                       0.946646\n",
              "Name: 871, dtype: object"
            ]
          },
          "metadata": {},
          "execution_count": 90
        }
      ]
    },
    {
      "cell_type": "markdown",
      "source": [
        "**Using the hyperparameters on the testing dataset**\n"
      ],
      "metadata": {
        "id": "VoIO-jmyranL"
      }
    },
    {
      "cell_type": "code",
      "source": [
        "rf_clf_prec = RandomForestClassifier(criterion='entropy',max_depth = 8,max_features = 'sqrt',min_samples_leaf=2,min_samples_split=7,n_estimators = 100, random_state = 42)"
      ],
      "metadata": {
        "id": "sSlJrMBqgdnp"
      },
      "execution_count": 91,
      "outputs": []
    },
    {
      "cell_type": "code",
      "source": [
        "# Fitting the Model\n",
        "rf_clf_prec.fit(X_train,y_train)\n",
        "\n",
        "# Predicting \n",
        "y_pred = rf_clf_prec.predict(X_test)"
      ],
      "metadata": {
        "id": "_RX8-NlYg87n"
      },
      "execution_count": 92,
      "outputs": []
    },
    {
      "cell_type": "code",
      "source": [
        "# Accuracy\n",
        "accuracy_score(y_test,y_pred)"
      ],
      "metadata": {
        "colab": {
          "base_uri": "https://localhost:8080/"
        },
        "id": "N0wk41axhGaE",
        "outputId": "37259007-6cff-440a-b9bd-f9a08e2b13cd"
      },
      "execution_count": 93,
      "outputs": [
        {
          "output_type": "execute_result",
          "data": {
            "text/plain": [
              "0.9928571428571429"
            ]
          },
          "metadata": {},
          "execution_count": 93
        }
      ]
    },
    {
      "cell_type": "code",
      "source": [
        "# Precision\n",
        "precision_score(y_test,y_pred)"
      ],
      "metadata": {
        "colab": {
          "base_uri": "https://localhost:8080/"
        },
        "id": "iTDk-ZyshLvd",
        "outputId": "fe8e9d10-36df-4e2c-c23c-d5bdc738175a"
      },
      "execution_count": 94,
      "outputs": [
        {
          "output_type": "execute_result",
          "data": {
            "text/plain": [
              "1.0"
            ]
          },
          "metadata": {},
          "execution_count": 94
        }
      ]
    },
    {
      "cell_type": "code",
      "source": [
        "# Recall\n",
        "recall_score(y_test,y_pred)"
      ],
      "metadata": {
        "colab": {
          "base_uri": "https://localhost:8080/"
        },
        "id": "-AEm3mZihRA9",
        "outputId": "d5bbee64-1a44-4f19-93f4-81529784f37f"
      },
      "execution_count": 95,
      "outputs": [
        {
          "output_type": "execute_result",
          "data": {
            "text/plain": [
              "0.98"
            ]
          },
          "metadata": {},
          "execution_count": 95
        }
      ]
    },
    {
      "cell_type": "code",
      "source": [
        "# F1 score\n",
        "f1_score(y_test,y_pred)"
      ],
      "metadata": {
        "colab": {
          "base_uri": "https://localhost:8080/"
        },
        "id": "ErmEc4cdhUD1",
        "outputId": "3dc84238-e9c4-4dd7-dd68-4275c036210a"
      },
      "execution_count": 96,
      "outputs": [
        {
          "output_type": "execute_result",
          "data": {
            "text/plain": [
              "0.98989898989899"
            ]
          },
          "metadata": {},
          "execution_count": 96
        }
      ]
    },
    {
      "cell_type": "code",
      "source": [
        "# Confusion Matrix\n",
        "cm = confusion_matrix(y_test,y_pred,labels = [0,1])\n",
        "sns.heatmap(cm,annot = True,cmap = 'Blues')\n",
        "plt.xlabel('Predicted')\n",
        "plt.ylabel('Actual')\n",
        "plt.show()"
      ],
      "metadata": {
        "colab": {
          "base_uri": "https://localhost:8080/",
          "height": 283
        },
        "id": "BkS935xGqIpP",
        "outputId": "85b569a8-e82c-4bd4-e11a-10cb97fb644b"
      },
      "execution_count": 97,
      "outputs": [
        {
          "output_type": "display_data",
          "data": {
            "text/plain": [
              "<Figure size 432x288 with 2 Axes>"
            ],
            "image/png": "[encoded data removed]"
          },
          "metadata": {
            "needs_background": "light"
          }
        }
      ]
    },
    {
      "cell_type": "markdown",
      "source": [
        "**Find the best hyperparamters on the basis of best recall**"
      ],
      "metadata": {
        "id": "Oi7AFVMIsJGx"
      }
    },
    {
      "cell_type": "code",
      "source": [
        "results_df_rf.sort_values('mean_test_recall',ascending = False).iloc[0]"
      ],
      "metadata": {
        "id": "l55TQsEhIkZl",
        "colab": {
          "base_uri": "https://localhost:8080/"
        },
        "outputId": "9a7d0dba-ab95-4c6d-cec9-646a7326afa6"
      },
      "execution_count": 98,
      "outputs": [
        {
          "output_type": "execute_result",
          "data": {
            "text/plain": [
              "params                 {'criterion': 'entropy', 'max_depth': 3, 'max_features': None, 'min_samples_leaf': 2, 'min_samples_split': 5, 'n_estimators': 50}\n",
              "mean_test_accuracy                                                                                                                              0.964286\n",
              "mean_test_precision                                                                                                                             0.925728\n",
              "mean_test_recall                                                                                                                                0.978947\n",
              "mean_test_f1                                                                                                                                    0.950677\n",
              "Name: 675, dtype: object"
            ]
          },
          "metadata": {},
          "execution_count": 98
        }
      ]
    },
    {
      "cell_type": "markdown",
      "source": [
        "**Using the above hyperparamters on the Testing dataset**"
      ],
      "metadata": {
        "id": "7CK4TVQdsZdV"
      }
    },
    {
      "cell_type": "code",
      "source": [
        "rf_clf_rec = RandomForestClassifier(criterion='entropy',max_depth = 3,max_features = None,min_samples_leaf=2,min_samples_split=5,n_estimators = 50,random_state = 42)"
      ],
      "metadata": {
        "id": "q3EI8qy5lvjR"
      },
      "execution_count": 99,
      "outputs": []
    },
    {
      "cell_type": "code",
      "source": [
        "# Fitting the model\n",
        "rf_clf_rec.fit(X_train,y_train)\n",
        "\n",
        "# Predicting the value\n",
        "y_pred = rf_clf_rec.predict(X_test)"
      ],
      "metadata": {
        "id": "2PKRlLHJl2rv"
      },
      "execution_count": 100,
      "outputs": []
    },
    {
      "cell_type": "code",
      "source": [
        "# Accuracy\n",
        "accuracy_score(y_test,y_pred)"
      ],
      "metadata": {
        "colab": {
          "base_uri": "https://localhost:8080/"
        },
        "id": "xbL8X6m1mLF-",
        "outputId": "781d8a76-61cc-4842-b5b1-7460c2e272c0"
      },
      "execution_count": 101,
      "outputs": [
        {
          "output_type": "execute_result",
          "data": {
            "text/plain": [
              "0.9785714285714285"
            ]
          },
          "metadata": {},
          "execution_count": 101
        }
      ]
    },
    {
      "cell_type": "code",
      "source": [
        "# Precision\n",
        "precision_score(y_test,y_pred)"
      ],
      "metadata": {
        "colab": {
          "base_uri": "https://localhost:8080/"
        },
        "id": "tHDsOsmVmO8Y",
        "outputId": "e7eeee6f-899a-46c8-ce6e-da2743762cd1"
      },
      "execution_count": 102,
      "outputs": [
        {
          "output_type": "execute_result",
          "data": {
            "text/plain": [
              "0.9795918367346939"
            ]
          },
          "metadata": {},
          "execution_count": 102
        }
      ]
    },
    {
      "cell_type": "code",
      "source": [
        "# Recall\n",
        "recall_score(y_test,y_pred)"
      ],
      "metadata": {
        "colab": {
          "base_uri": "https://localhost:8080/"
        },
        "id": "p9xKESwjmZS2",
        "outputId": "8b8d3bb3-52b5-4a2f-9eb7-65d58656da41"
      },
      "execution_count": 103,
      "outputs": [
        {
          "output_type": "execute_result",
          "data": {
            "text/plain": [
              "0.96"
            ]
          },
          "metadata": {},
          "execution_count": 103
        }
      ]
    },
    {
      "cell_type": "code",
      "source": [
        "# F1 score\n",
        "f1_score(y_test,y_pred)"
      ],
      "metadata": {
        "colab": {
          "base_uri": "https://localhost:8080/"
        },
        "id": "u1ZoXvcfmcTA",
        "outputId": "f5d7d5cf-fc91-4b88-8bbe-ad0283266e04"
      },
      "execution_count": 104,
      "outputs": [
        {
          "output_type": "execute_result",
          "data": {
            "text/plain": [
              "0.9696969696969697"
            ]
          },
          "metadata": {},
          "execution_count": 104
        }
      ]
    },
    {
      "cell_type": "code",
      "source": [
        "# Confusion Matrix\n",
        "cm = confusion_matrix(y_test,y_pred,labels = [0,1])\n",
        "sns.heatmap(cm,annot = True,cmap = 'Blues')\n",
        "plt.xlabel('Predicted')\n",
        "plt.ylabel('Actual')\n",
        "plt.show()"
      ],
      "metadata": {
        "colab": {
          "base_uri": "https://localhost:8080/",
          "height": 279
        },
        "id": "ARKyiBz7qRUH",
        "outputId": "843b700d-659e-4a4c-a1d4-74f66043cee5"
      },
      "execution_count": 105,
      "outputs": [
        {
          "output_type": "display_data",
          "data": {
            "text/plain": [
              "<Figure size 432x288 with 2 Axes>"
            ],
            "image/png": "[encoded data removed]"
          },
          "metadata": {
            "needs_background": "light"
          }
        }
      ]
    },
    {
      "cell_type": "markdown",
      "source": [
        "**Find the best hyperparamters on the basis of best f1-score**"
      ],
      "metadata": {
        "id": "gJkV0RIQtn-y"
      }
    },
    {
      "cell_type": "code",
      "source": [
        "results_df_rf.sort_values('mean_test_f1',ascending = False).iloc[0]"
      ],
      "metadata": {
        "id": "KWVsy4T1JK3I",
        "colab": {
          "base_uri": "https://localhost:8080/"
        },
        "outputId": "4e952fb9-8ebf-4274-f7d5-a079af9c601e"
      },
      "execution_count": 106,
      "outputs": [
        {
          "output_type": "execute_result",
          "data": {
            "text/plain": [
              "params                 {'criterion': 'entropy', 'max_depth': 3, 'max_features': None, 'min_samples_leaf': 2, 'min_samples_split': 7, 'n_estimators': 50}\n",
              "mean_test_accuracy                                                                                                                              0.966071\n",
              "mean_test_precision                                                                                                                             0.934364\n",
              "mean_test_recall                                                                                                                                0.973684\n",
              "mean_test_f1                                                                                                                                    0.952727\n",
              "Name: 678, dtype: object"
            ]
          },
          "metadata": {},
          "execution_count": 106
        }
      ]
    },
    {
      "cell_type": "markdown",
      "source": [
        "**Using the above hyperparameters on the testing dataset**"
      ],
      "metadata": {
        "id": "I486Q_5mt5bv"
      }
    },
    {
      "cell_type": "code",
      "source": [
        "rf_clf_f1 = RandomForestClassifier(criterion='entropy',max_depth = 3,max_features = None,min_samples_leaf=2,min_samples_split=7,n_estimators = 50,random_state = 42)"
      ],
      "metadata": {
        "id": "Tk2bkoV5nz61"
      },
      "execution_count": 107,
      "outputs": []
    },
    {
      "cell_type": "code",
      "source": [
        "# Fitting the model\n",
        "rf_clf_f1.fit(X_train,y_train)\n",
        "\n",
        "# Predicting \n",
        "y_pred = rf_clf_f1.predict(X_test)"
      ],
      "metadata": {
        "id": "wbdsAb-jn7bR"
      },
      "execution_count": 108,
      "outputs": []
    },
    {
      "cell_type": "code",
      "source": [
        "# Accuracy\n",
        "accuracy_score(y_test,y_pred)"
      ],
      "metadata": {
        "colab": {
          "base_uri": "https://localhost:8080/"
        },
        "id": "x8RiIlfAoAp8",
        "outputId": "9b68c2df-19b4-4273-9ee1-1c497208b5bb"
      },
      "execution_count": 109,
      "outputs": [
        {
          "output_type": "execute_result",
          "data": {
            "text/plain": [
              "0.9785714285714285"
            ]
          },
          "metadata": {},
          "execution_count": 109
        }
      ]
    },
    {
      "cell_type": "code",
      "source": [
        "# Precision\n",
        "precision_score(y_test,y_pred)"
      ],
      "metadata": {
        "colab": {
          "base_uri": "https://localhost:8080/"
        },
        "id": "1VJkY6o6oIcY",
        "outputId": "77bad4fd-5b52-4506-e35a-7da19450d491"
      },
      "execution_count": 110,
      "outputs": [
        {
          "output_type": "execute_result",
          "data": {
            "text/plain": [
              "0.9795918367346939"
            ]
          },
          "metadata": {},
          "execution_count": 110
        }
      ]
    },
    {
      "cell_type": "code",
      "source": [
        "# Recall\n",
        "recall_score(y_test,y_pred)"
      ],
      "metadata": {
        "colab": {
          "base_uri": "https://localhost:8080/"
        },
        "id": "mqRieMsFoM11",
        "outputId": "bde9acb6-b837-4132-a570-3a87025276fb"
      },
      "execution_count": 111,
      "outputs": [
        {
          "output_type": "execute_result",
          "data": {
            "text/plain": [
              "0.96"
            ]
          },
          "metadata": {},
          "execution_count": 111
        }
      ]
    },
    {
      "cell_type": "code",
      "source": [
        "# F1 score\n",
        "f1_score(y_test,y_pred)"
      ],
      "metadata": {
        "colab": {
          "base_uri": "https://localhost:8080/"
        },
        "id": "82G2GdmhoQPQ",
        "outputId": "15d20394-f1f9-4e19-d106-79ef5bf8831e"
      },
      "execution_count": 112,
      "outputs": [
        {
          "output_type": "execute_result",
          "data": {
            "text/plain": [
              "0.9696969696969697"
            ]
          },
          "metadata": {},
          "execution_count": 112
        }
      ]
    },
    {
      "cell_type": "code",
      "source": [
        "# Confusion Matrix\n",
        "cm = confusion_matrix(y_test,y_pred,labels = [0,1])\n",
        "sns.heatmap(cm,annot = True,cmap = 'Blues')\n",
        "plt.xlabel('Predicted')\n",
        "plt.ylabel('Actual')\n",
        "plt.show()"
      ],
      "metadata": {
        "colab": {
          "base_uri": "https://localhost:8080/",
          "height": 279
        },
        "id": "BxABhv5zqnDQ",
        "outputId": "a7158106-8eb5-4671-9e86-2ab75a6ce5e8"
      },
      "execution_count": 113,
      "outputs": [
        {
          "output_type": "display_data",
          "data": {
            "text/plain": [
              "<Figure size 432x288 with 2 Axes>"
            ],
            "image/png": "[encoded data removed]"
          },
          "metadata": {
            "needs_background": "light"
          }
        }
      ]
    },
    {
      "cell_type": "markdown",
      "source": [
        "**Summarising the results**"
      ],
      "metadata": {
        "id": "yev8ni86uc-c"
      }
    },
    {
      "cell_type": "code",
      "source": [
        "conclusion_df = pd.DataFrame([[0.9928571428571429,1.0,0.98,0.98989898989899],[0.9928571428571429,1.0,0.98,0.98989898989899],[0.9785714285714285,0.9795918367346939,0.96,0.9696969696969697],[0.9785714285714285,0.9795918367346939,0.96,0.9696969696969697]],\n",
        "                             index = pd.Index(['criterion = entropy, max_depth = None, max_features = sqrt, min_samples_leaf = 2, min_samples_split = 5, n_estimates = 200' , 'criterion = entropy, max_depth =  8, max_features = sqrt, min_samples_leaf = 2, min_samples_split =  7,n_estimators = 100', 'criterion = entropy, max_depth = 3, max_features = None, min_samples_leaf = 2, min_samples_split = 5,n_estimators = 50',\t'criterion = entropy, max_depth = 3, max_features = None, min_samples_leaf = 2, min_samples_split =  7,n_estimators = 50'],name = '----------------------------------------------------------------------------------Hyperparameters :'),\n",
        "                             columns = pd.MultiIndex.from_product([['Random Forest'],['Accuracy','Precision','Recall','F1']],names=['---------------------------------------------------------------------------------------------Model:','--------------------------------------------------------------------------------Evaluation Metrics:']))"
      ],
      "metadata": {
        "id": "rQpDz7MM8Sft"
      },
      "execution_count": 29,
      "outputs": []
    },
    {
      "cell_type": "code",
      "source": [
        "conclusion_df"
      ],
      "metadata": {
        "colab": {
          "base_uri": "https://localhost:8080/",
          "height": 279
        },
        "id": "T-FBDZJNSBRl",
        "outputId": "397b24fe-e4bd-49f8-97cc-cc437c0dd6b7"
      },
      "execution_count": 30,
      "outputs": [
        {
          "output_type": "execute_result",
          "data": {
            "text/plain": [
              "---------------------------------------------------------------------------------------------Model: Random Forest  \\\n",
              "--------------------------------------------------------------------------------Evaluation Metrics:      Accuracy   \n",
              "-----------------------------------------------...                                                                  \n",
              "criterion = entropy, max_depth = None, max_feat...                                                       0.992857   \n",
              "criterion = entropy, max_depth =  8, max_featur...                                                       0.992857   \n",
              "criterion = entropy, max_depth = 3, max_feature...                                                       0.978571   \n",
              "criterion = entropy, max_depth = 3, max_feature...                                                       0.978571   \n",
              "\n",
              "---------------------------------------------------------------------------------------------Model:            \\\n",
              "--------------------------------------------------------------------------------Evaluation Metrics: Precision   \n",
              "-----------------------------------------------...                                                              \n",
              "criterion = entropy, max_depth = None, max_feat...                                                   1.000000   \n",
              "criterion = entropy, max_depth =  8, max_featur...                                                   1.000000   \n",
              "criterion = entropy, max_depth = 3, max_feature...                                                   0.979592   \n",
              "criterion = entropy, max_depth = 3, max_feature...                                                   0.979592   \n",
              "\n",
              "---------------------------------------------------------------------------------------------Model:         \\\n",
              "--------------------------------------------------------------------------------Evaluation Metrics: Recall   \n",
              "-----------------------------------------------...                                                           \n",
              "criterion = entropy, max_depth = None, max_feat...                                                    0.98   \n",
              "criterion = entropy, max_depth =  8, max_featur...                                                    0.98   \n",
              "criterion = entropy, max_depth = 3, max_feature...                                                    0.96   \n",
              "criterion = entropy, max_depth = 3, max_feature...                                                    0.96   \n",
              "\n",
              "---------------------------------------------------------------------------------------------Model:            \n",
              "--------------------------------------------------------------------------------Evaluation Metrics:        F1  \n",
              "-----------------------------------------------...                                                             \n",
              "criterion = entropy, max_depth = None, max_feat...                                                   0.989899  \n",
              "criterion = entropy, max_depth =  8, max_featur...                                                   0.989899  \n",
              "criterion = entropy, max_depth = 3, max_feature...                                                   0.969697  \n",
              "criterion = entropy, max_depth = 3, max_feature...                                                   0.969697  "
            ],
            "text/html": [
              "\n",
              "  <div id=\"df-e9ad9f19-5856-4218-b0cd-5ab510c6df2c\">\n",
              "    <div class=\"colab-df-container\">\n",
              "      <div>\n",
              "<style scoped>\n",
              "    .dataframe tbody tr th:only-of-type {\n",
              "        vertical-align: middle;\n",
              "    }\n",
              "\n",
              "    .dataframe tbody tr th {\n",
              "        vertical-align: top;\n",
              "    }\n",
              "\n",
              "    .dataframe thead tr th {\n",
              "        text-align: left;\n",
              "    }\n",
              "\n",
              "    .dataframe thead tr:last-of-type th {\n",
              "        text-align: right;\n",
              "    }\n",
              "</style>\n",
              "<table border=\"1\" class=\"dataframe\">\n",
              "  <thead>\n",
              "    <tr>\n",
              "      <th>---------------------------------------------------------------------------------------------Model:</th>\n",
              "      <th colspan=\"4\" halign=\"left\">Random Forest</th>\n",
              "    </tr>\n",
              "    <tr>\n",
              "      <th>--------------------------------------------------------------------------------Evaluation Metrics:</th>\n",
              "      <th>Accuracy</th>\n",
              "      <th>Precision</th>\n",
              "      <th>Recall</th>\n",
              "      <th>F1</th>\n",
              "    </tr>\n",
              "    <tr>\n",
              "      <th>----------------------------------------------------------------------------------Hyperparameters :</th>\n",
              "      <th></th>\n",
              "      <th></th>\n",
              "      <th></th>\n",
              "      <th></th>\n",
              "    </tr>\n",
              "  </thead>\n",
              "  <tbody>\n",
              "    <tr>\n",
              "      <th>criterion = entropy, max_depth = None, max_features = sqrt, min_samples_leaf = 2, min_samples_split = 5, n_estimates = 200</th>\n",
              "      <td>0.992857</td>\n",
              "      <td>1.000000</td>\n",
              "      <td>0.98</td>\n",
              "      <td>0.989899</td>\n",
              "    </tr>\n",
              "    <tr>\n",
              "      <th>criterion = entropy, max_depth =  8, max_features = sqrt, min_samples_leaf = 2, min_samples_split =  7,n_estimators = 100</th>\n",
              "      <td>0.992857</td>\n",
              "      <td>1.000000</td>\n",
              "      <td>0.98</td>\n",
              "      <td>0.989899</td>\n",
              "    </tr>\n",
              "    <tr>\n",
              "      <th>criterion = entropy, max_depth = 3, max_features = None, min_samples_leaf = 2, min_samples_split = 5,n_estimators = 50</th>\n",
              "      <td>0.978571</td>\n",
              "      <td>0.979592</td>\n",
              "      <td>0.96</td>\n",
              "      <td>0.969697</td>\n",
              "    </tr>\n",
              "    <tr>\n",
              "      <th>criterion = entropy, max_depth = 3, max_features = None, min_samples_leaf = 2, min_samples_split =  7,n_estimators = 50</th>\n",
              "      <td>0.978571</td>\n",
              "      <td>0.979592</td>\n",
              "      <td>0.96</td>\n",
              "      <td>0.969697</td>\n",
              "    </tr>\n",
              "  </tbody>\n",
              "</table>\n",
              "</div>\n",
              "      <button class=\"colab-df-convert\" onclick=\"convertToInteractive('df-e9ad9f19-5856-4218-b0cd-5ab510c6df2c')\"\n",
              "              title=\"Convert this dataframe to an interactive table.\"\n",
              "              style=\"display:none;\">\n",
              "        \n",
              "  <svg xmlns=\"http://www.w3.org/2000/svg\" height=\"24px\"viewBox=\"0 0 24 24\"\n",
              "       width=\"24px\">\n",
              "    <path d=\"M0 0h24v24H0V0z\" fill=\"none\"/>\n",
              "    <path d=\"M18.56 5.44l.94 2.06.94-2.06 2.06-.94-2.06-.94-.94-2.06-.94 2.06-2.06.94zm-11 1L8.5 8.5l.94-2.06 2.06-.94-2.06-.94L8.5 2.5l-.94 2.06-2.06.94zm10 10l.94 2.06.94-2.06 2.06-.94-2.06-.94-.94-2.06-.94 2.06-2.06.94z\"/><path d=\"M17.41 7.96l-1.37-1.37c-.4-.4-.92-.59-1.43-.59-.52 0-1.04.2-1.43.59L10.3 9.45l-7.72 7.72c-.78.78-.78 2.05 0 2.83L4 21.41c.39.39.9.59 1.41.59.51 0 1.02-.2 1.41-.59l7.78-7.78 2.81-2.81c.8-.78.8-2.07 0-2.86zM5.41 20L4 18.59l7.72-7.72 1.47 1.35L5.41 20z\"/>\n",
              "  </svg>\n",
              "      </button>\n",
              "      \n",
              "  <style>\n",
              "    .colab-df-container {\n",
              "      display:flex;\n",
              "      flex-wrap:wrap;\n",
              "      gap: 12px;\n",
              "    }\n",
              "\n",
              "    .colab-df-convert {\n",
              "      background-color: #E8F0FE;\n",
              "      border: none;\n",
              "      border-radius: 50%;\n",
              "      cursor: pointer;\n",
              "      display: none;\n",
              "      fill: #1967D2;\n",
              "      height: 32px;\n",
              "      padding: 0 0 0 0;\n",
              "      width: 32px;\n",
              "    }\n",
              "\n",
              "    .colab-df-convert:hover {\n",
              "      background-color: #E2EBFA;\n",
              "      box-shadow: 0px 1px 2px rgba(60, 64, 67, 0.3), 0px 1px 3px 1px rgba(60, 64, 67, 0.15);\n",
              "      fill: #174EA6;\n",
              "    }\n",
              "\n",
              "    [theme=dark] .colab-df-convert {\n",
              "      background-color: #3B4455;\n",
              "      fill: #D2E3FC;\n",
              "    }\n",
              "\n",
              "    [theme=dark] .colab-df-convert:hover {\n",
              "      background-color: #434B5C;\n",
              "      box-shadow: 0px 1px 3px 1px rgba(0, 0, 0, 0.15);\n",
              "      filter: drop-shadow(0px 1px 2px rgba(0, 0, 0, 0.3));\n",
              "      fill: #FFFFFF;\n",
              "    }\n",
              "  </style>\n",
              "\n",
              "      <script>\n",
              "        const buttonEl =\n",
              "          document.querySelector('#df-e9ad9f19-5856-4218-b0cd-5ab510c6df2c button.colab-df-convert');\n",
              "        buttonEl.style.display =\n",
              "          google.colab.kernel.accessAllowed ? 'block' : 'none';\n",
              "\n",
              "        async function convertToInteractive(key) {\n",
              "          const element = document.querySelector('#df-e9ad9f19-5856-4218-b0cd-5ab510c6df2c');\n",
              "          const dataTable =\n",
              "            await google.colab.kernel.invokeFunction('convertToInteractive',\n",
              "                                                     [key], {});\n",
              "          if (!dataTable) return;\n",
              "\n",
              "          const docLinkHtml = 'Like what you see? Visit the ' +\n",
              "            '<a target=\"_blank\" href=https://colab.research.google.com/notebooks/data_table.ipynb>data table notebook</a>'\n",
              "            + ' to learn more about interactive tables.';\n",
              "          element.innerHTML = '';\n",
              "          dataTable['output_type'] = 'display_data';\n",
              "          await google.colab.output.renderOutput(dataTable, element);\n",
              "          const docLink = document.createElement('div');\n",
              "          docLink.innerHTML = docLinkHtml;\n",
              "          element.appendChild(docLink);\n",
              "        }\n",
              "      </script>\n",
              "    </div>\n",
              "  </div>\n",
              "  "
            ]
          },
          "metadata": {},
          "execution_count": 30
        }
      ]
    },
    {
      "cell_type": "markdown",
      "source": [
        "# KNN"
      ],
      "metadata": {
        "id": "Ctri3P8YmnJJ"
      }
    },
    {
      "cell_type": "code",
      "source": [
        "# Hyperparameters\n",
        "knn_hyperparameters = {\n",
        "   'n_neighbors': [3,5,7,10,13],\n",
        "   'weights': ['uniform','distance'],\n",
        "   'p':[1,2]\n",
        "}"
      ],
      "metadata": {
        "id": "tUpYvPC2mhla"
      },
      "execution_count": 114,
      "outputs": []
    },
    {
      "cell_type": "code",
      "source": [
        "# searching the best hyperparameters\n",
        "knn_clf = KNeighborsClassifier(n_jobs = -1)\n",
        "\n",
        "search_knn = GridSearchCV(estimator = knn_clf,param_grid = knn_hyperparameters,cv = 10, scoring = ('accuracy','precision','recall','f1'),refit = False)\n",
        "\n",
        "search_knn.fit(X_train,y_train)\n",
        "\n",
        "results_df_knn = pd.DataFrame(search_knn.cv_results_)[['params','mean_test_accuracy','mean_test_precision','mean_test_recall','mean_test_f1']]\n"
      ],
      "metadata": {
        "id": "-Enbv04uYS0v"
      },
      "execution_count": 115,
      "outputs": []
    },
    {
      "cell_type": "markdown",
      "source": [
        "**Finding the best hyperparamters on the basis of accuracy**"
      ],
      "metadata": {
        "id": "ati-8VlVuotU"
      }
    },
    {
      "cell_type": "code",
      "source": [
        "results_df_knn.sort_values('mean_test_accuracy',ascending = False).iloc[0]"
      ],
      "metadata": {
        "id": "HTOhvGLqcXpI",
        "colab": {
          "base_uri": "https://localhost:8080/"
        },
        "outputId": "a9cb192a-1873-4966-a31e-0e94149a153c"
      },
      "execution_count": 116,
      "outputs": [
        {
          "output_type": "execute_result",
          "data": {
            "text/plain": [
              "params                 {'n_neighbors': 5, 'p': 1, 'weights': 'distance'}\n",
              "mean_test_accuracy                                              0.966071\n",
              "mean_test_precision                                             0.943834\n",
              "mean_test_recall                                                0.963158\n",
              "mean_test_f1                                                    0.952182\n",
              "Name: 5, dtype: object"
            ]
          },
          "metadata": {},
          "execution_count": 116
        }
      ]
    },
    {
      "cell_type": "markdown",
      "source": [
        "**Using the above hyperparameters on Testing dataset**"
      ],
      "metadata": {
        "id": "Wvgr6cxHwGB2"
      }
    },
    {
      "cell_type": "code",
      "source": [
        "knn_clf_acc = KNeighborsClassifier(n_neighbors = 5, p = 1,weights = 'distance')\n",
        "\n",
        "# Fitting the Model\n",
        "knn_clf_acc.fit(X_train,y_train)\n",
        "\n",
        "# Predicting\n",
        "y_pred = knn_clf_acc.predict(X_test)"
      ],
      "metadata": {
        "id": "B31HwC0jrLB1"
      },
      "execution_count": 117,
      "outputs": []
    },
    {
      "cell_type": "code",
      "source": [
        "# Accuracy\n",
        "accuracy_score(y_test,y_pred)"
      ],
      "metadata": {
        "colab": {
          "base_uri": "https://localhost:8080/"
        },
        "id": "G5oKtFmXsaKX",
        "outputId": "4d5e4bed-5fc5-4e9e-c21d-f9dc2939704c"
      },
      "execution_count": 118,
      "outputs": [
        {
          "output_type": "execute_result",
          "data": {
            "text/plain": [
              "0.9785714285714285"
            ]
          },
          "metadata": {},
          "execution_count": 118
        }
      ]
    },
    {
      "cell_type": "code",
      "source": [
        "# Precision\n",
        "precision_score(y_test,y_pred)"
      ],
      "metadata": {
        "colab": {
          "base_uri": "https://localhost:8080/"
        },
        "id": "kYOeGfPosdOc",
        "outputId": "4bbdb10a-9c31-4760-92cf-bfa17d0db1d4"
      },
      "execution_count": 119,
      "outputs": [
        {
          "output_type": "execute_result",
          "data": {
            "text/plain": [
              "1.0"
            ]
          },
          "metadata": {},
          "execution_count": 119
        }
      ]
    },
    {
      "cell_type": "code",
      "source": [
        "# Recall\n",
        "recall_score(y_test,y_pred)"
      ],
      "metadata": {
        "colab": {
          "base_uri": "https://localhost:8080/"
        },
        "id": "Tg2q0ev7sgzE",
        "outputId": "acd416cc-0d24-4178-d8c4-e2175b70c0c0"
      },
      "execution_count": 120,
      "outputs": [
        {
          "output_type": "execute_result",
          "data": {
            "text/plain": [
              "0.94"
            ]
          },
          "metadata": {},
          "execution_count": 120
        }
      ]
    },
    {
      "cell_type": "code",
      "source": [
        "# f1-score\n",
        "f1_score(y_test,y_pred)"
      ],
      "metadata": {
        "colab": {
          "base_uri": "https://localhost:8080/"
        },
        "id": "_G_U_nb-s-GV",
        "outputId": "6f691e7a-f348-4e1f-e2db-ddd1697c15f1"
      },
      "execution_count": 121,
      "outputs": [
        {
          "output_type": "execute_result",
          "data": {
            "text/plain": [
              "0.9690721649484536"
            ]
          },
          "metadata": {},
          "execution_count": 121
        }
      ]
    },
    {
      "cell_type": "code",
      "source": [
        "# Confusion Matrix\n",
        "cm = confusion_matrix(y_test,y_pred,labels = [0,1])\n",
        "sns.heatmap(cm,annot = True,cmap = 'Blues')\n",
        "plt.xlabel('Predicted')\n",
        "plt.ylabel('Actual')\n",
        "plt.show()"
      ],
      "metadata": {
        "colab": {
          "base_uri": "https://localhost:8080/",
          "height": 283
        },
        "id": "_rWU3HeUtA_v",
        "outputId": "4096f3a1-8141-4ebf-b57b-3133ff225ec9"
      },
      "execution_count": 122,
      "outputs": [
        {
          "output_type": "display_data",
          "data": {
            "text/plain": [
              "<Figure size 432x288 with 2 Axes>"
            ],
            "image/png": "[encoded data removed]"
          },
          "metadata": {
            "needs_background": "light"
          }
        }
      ]
    },
    {
      "cell_type": "markdown",
      "source": [
        "**Finding the best hyperparamters on the basis of precision**"
      ],
      "metadata": {
        "id": "AdfxItX9wpbc"
      }
    },
    {
      "cell_type": "code",
      "source": [
        "results_df_knn.sort_values('mean_test_precision',ascending = False).iloc[0]"
      ],
      "metadata": {
        "id": "_5uITvPhcomS",
        "colab": {
          "base_uri": "https://localhost:8080/"
        },
        "outputId": "1283993b-bd16-4a8c-81c8-1d1b00a5aed5"
      },
      "execution_count": 123,
      "outputs": [
        {
          "output_type": "execute_result",
          "data": {
            "text/plain": [
              "params                 {'n_neighbors': 10, 'p': 1, 'weights': 'distance'}\n",
              "mean_test_accuracy                                                 0.9625\n",
              "mean_test_precision                                              0.951582\n",
              "mean_test_recall                                                 0.942105\n",
              "mean_test_f1                                                     0.945724\n",
              "Name: 13, dtype: object"
            ]
          },
          "metadata": {},
          "execution_count": 123
        }
      ]
    },
    {
      "cell_type": "markdown",
      "source": [
        "**Using the above hyperparameters on Testing dataset**"
      ],
      "metadata": {
        "id": "9jS_4lt3xChr"
      }
    },
    {
      "cell_type": "code",
      "source": [
        "knn_clf_pre = KNeighborsClassifier(n_neighbors = 10, p = 1,weights = 'distance')\n",
        "\n",
        "# Fitting the model\n",
        "knn_clf_pre.fit(X_train,y_train)\n",
        "\n",
        "# Predicting \n",
        "y_pred = knn_clf_pre.predict(X_test)"
      ],
      "metadata": {
        "id": "Erbx6qddtJE7"
      },
      "execution_count": 124,
      "outputs": []
    },
    {
      "cell_type": "code",
      "source": [
        "# Accuracy\n",
        "accuracy_score(y_test,y_pred)"
      ],
      "metadata": {
        "colab": {
          "base_uri": "https://localhost:8080/"
        },
        "id": "GfMnVaXjtdCA",
        "outputId": "7393307d-dad6-48c6-ffcf-568fd9d5dc62"
      },
      "execution_count": 125,
      "outputs": [
        {
          "output_type": "execute_result",
          "data": {
            "text/plain": [
              "0.9785714285714285"
            ]
          },
          "metadata": {},
          "execution_count": 125
        }
      ]
    },
    {
      "cell_type": "code",
      "source": [
        "# Precision\n",
        "precision_score(y_test,y_pred)"
      ],
      "metadata": {
        "colab": {
          "base_uri": "https://localhost:8080/"
        },
        "id": "rv122Pnxtimx",
        "outputId": "19cd0b71-9117-4456-964d-1b48e2d80994"
      },
      "execution_count": 126,
      "outputs": [
        {
          "output_type": "execute_result",
          "data": {
            "text/plain": [
              "1.0"
            ]
          },
          "metadata": {},
          "execution_count": 126
        }
      ]
    },
    {
      "cell_type": "code",
      "source": [
        "# Recall\n",
        "recall_score(y_test,y_pred)"
      ],
      "metadata": {
        "colab": {
          "base_uri": "https://localhost:8080/"
        },
        "id": "M2wBCv4jti5x",
        "outputId": "6d2965b8-f83c-4e47-a871-d4199a37c960"
      },
      "execution_count": 127,
      "outputs": [
        {
          "output_type": "execute_result",
          "data": {
            "text/plain": [
              "0.94"
            ]
          },
          "metadata": {},
          "execution_count": 127
        }
      ]
    },
    {
      "cell_type": "code",
      "source": [
        "# f1 score\n",
        "f1_score(y_test,y_pred)"
      ],
      "metadata": {
        "colab": {
          "base_uri": "https://localhost:8080/"
        },
        "id": "i1eaTDgftjRt",
        "outputId": "98872ab6-1ba2-487a-cabe-22dfb9ee0b3d"
      },
      "execution_count": 128,
      "outputs": [
        {
          "output_type": "execute_result",
          "data": {
            "text/plain": [
              "0.9690721649484536"
            ]
          },
          "metadata": {},
          "execution_count": 128
        }
      ]
    },
    {
      "cell_type": "code",
      "source": [
        "# Confusion Matrix\n",
        "cm = confusion_matrix(y_test,y_pred,labels = [0,1])\n",
        "sns.heatmap(cm,annot = True,cmap = 'Blues')\n",
        "plt.xlabel('Predicted')\n",
        "plt.ylabel('Actual')\n",
        "plt.show()"
      ],
      "metadata": {
        "colab": {
          "base_uri": "https://localhost:8080/",
          "height": 283
        },
        "id": "Q7ZY_oKotjfj",
        "outputId": "5c684f00-d1e9-46c2-d65a-d35a29771679"
      },
      "execution_count": 129,
      "outputs": [
        {
          "output_type": "display_data",
          "data": {
            "text/plain": [
              "<Figure size 432x288 with 2 Axes>"
            ],
            "image/png": "[encoded data removed]"
          },
          "metadata": {
            "needs_background": "light"
          }
        }
      ]
    },
    {
      "cell_type": "markdown",
      "source": [
        "**Finding the best hyperparamters on the basis of recall**"
      ],
      "metadata": {
        "id": "rJ5Wmv2Hz2l_"
      }
    },
    {
      "cell_type": "code",
      "source": [
        "results_df_knn.sort_values('mean_test_recall',ascending = False).iloc[0]"
      ],
      "metadata": {
        "id": "7dmFyMKucreZ",
        "colab": {
          "base_uri": "https://localhost:8080/"
        },
        "outputId": "980962e5-91f5-4446-9d4d-2e178a63f3fa"
      },
      "execution_count": 130,
      "outputs": [
        {
          "output_type": "execute_result",
          "data": {
            "text/plain": [
              "params                 {'n_neighbors': 5, 'p': 2, 'weights': 'uniform'}\n",
              "mean_test_accuracy                                             0.966071\n",
              "mean_test_precision                                            0.944221\n",
              "mean_test_recall                                               0.963158\n",
              "mean_test_f1                                                   0.952139\n",
              "Name: 6, dtype: object"
            ]
          },
          "metadata": {},
          "execution_count": 130
        }
      ]
    },
    {
      "cell_type": "markdown",
      "source": [
        "**Using the hyperparameters on the testing dataset**"
      ],
      "metadata": {
        "id": "1WKZMZE3z_4C"
      }
    },
    {
      "cell_type": "code",
      "source": [
        "knn_clf_rec = KNeighborsClassifier(n_neighbors = 5, p = 2,weights = 'uniform')\n",
        "\n",
        "# Fitting the Model\n",
        "knn_clf_rec.fit(X_train,y_train)\n",
        "\n",
        "# Predict\n",
        "y_pred = knn_clf_rec.predict(X_test)"
      ],
      "metadata": {
        "id": "QYU115W3uW2k"
      },
      "execution_count": 131,
      "outputs": []
    },
    {
      "cell_type": "code",
      "source": [
        "# Accuracy\n",
        "accuracy_score(y_test,y_pred)"
      ],
      "metadata": {
        "colab": {
          "base_uri": "https://localhost:8080/"
        },
        "id": "jwirE--lujwE",
        "outputId": "de02ebe5-c4dc-4311-9685-1597bf7107f2"
      },
      "execution_count": 132,
      "outputs": [
        {
          "output_type": "execute_result",
          "data": {
            "text/plain": [
              "0.9928571428571429"
            ]
          },
          "metadata": {},
          "execution_count": 132
        }
      ]
    },
    {
      "cell_type": "code",
      "source": [
        "# Precision\n",
        "precision_score(y_test,y_pred)"
      ],
      "metadata": {
        "colab": {
          "base_uri": "https://localhost:8080/"
        },
        "id": "_1oOzcqHun-V",
        "outputId": "703e0b98-6e55-49ca-c198-12f77cbb9776"
      },
      "execution_count": 133,
      "outputs": [
        {
          "output_type": "execute_result",
          "data": {
            "text/plain": [
              "1.0"
            ]
          },
          "metadata": {},
          "execution_count": 133
        }
      ]
    },
    {
      "cell_type": "code",
      "source": [
        "# Recall\n",
        "recall_score(y_test,y_pred)"
      ],
      "metadata": {
        "colab": {
          "base_uri": "https://localhost:8080/"
        },
        "id": "PBAUA8-Bu1fL",
        "outputId": "3c887cb7-541c-4c97-a676-9eedbbb1bcb2"
      },
      "execution_count": 134,
      "outputs": [
        {
          "output_type": "execute_result",
          "data": {
            "text/plain": [
              "0.98"
            ]
          },
          "metadata": {},
          "execution_count": 134
        }
      ]
    },
    {
      "cell_type": "code",
      "source": [
        "# F1 score\n",
        "f1_score(y_test,y_pred)"
      ],
      "metadata": {
        "colab": {
          "base_uri": "https://localhost:8080/"
        },
        "id": "9yl38Qonu5iy",
        "outputId": "64013f50-4903-4799-a065-3c1ff99a6f79"
      },
      "execution_count": 135,
      "outputs": [
        {
          "output_type": "execute_result",
          "data": {
            "text/plain": [
              "0.98989898989899"
            ]
          },
          "metadata": {},
          "execution_count": 135
        }
      ]
    },
    {
      "cell_type": "code",
      "source": [
        "# Confusion Matrix\n",
        "cm = confusion_matrix(y_test,y_pred,labels = [0,1])\n",
        "sns.heatmap(cm,annot = True,cmap = 'Blues')\n",
        "plt.xlabel('Predicted')\n",
        "plt.ylabel('Actual')\n",
        "plt.show()"
      ],
      "metadata": {
        "colab": {
          "base_uri": "https://localhost:8080/",
          "height": 283
        },
        "id": "yr_3WoEnusk4",
        "outputId": "8b67f3fe-1543-4de3-c4b8-3cee680a3fa6"
      },
      "execution_count": 136,
      "outputs": [
        {
          "output_type": "display_data",
          "data": {
            "text/plain": [
              "<Figure size 432x288 with 2 Axes>"
            ],
            "image/png": "[encoded data removed]"
          },
          "metadata": {
            "needs_background": "light"
          }
        }
      ]
    },
    {
      "cell_type": "markdown",
      "source": [
        "**Finding the best hyperparamters on the basis of f1_score**"
      ],
      "metadata": {
        "id": "XCC9rilh0prf"
      }
    },
    {
      "cell_type": "code",
      "source": [
        "results_df_knn.sort_values('mean_test_f1',ascending = False).iloc[0]"
      ],
      "metadata": {
        "id": "5asGgBx6cvS5",
        "colab": {
          "base_uri": "https://localhost:8080/"
        },
        "outputId": "ca6cf1bb-a8f2-4d42-a401-2eda617be2c9"
      },
      "execution_count": 137,
      "outputs": [
        {
          "output_type": "execute_result",
          "data": {
            "text/plain": [
              "params                 {'n_neighbors': 5, 'p': 1, 'weights': 'distance'}\n",
              "mean_test_accuracy                                              0.966071\n",
              "mean_test_precision                                             0.943834\n",
              "mean_test_recall                                                0.963158\n",
              "mean_test_f1                                                    0.952182\n",
              "Name: 5, dtype: object"
            ]
          },
          "metadata": {},
          "execution_count": 137
        }
      ]
    },
    {
      "cell_type": "markdown",
      "source": [
        "**Using the hyperparamters on Testing dataset**"
      ],
      "metadata": {
        "id": "WrJm25hE1CC2"
      }
    },
    {
      "cell_type": "code",
      "source": [
        "knn_clf_f1 = KNeighborsClassifier(n_neighbors = 5, p = 1,weights = 'distance')\n",
        "\n",
        "# Fitting the model\n",
        "knn_clf_f1.fit(X_train,y_train)\n",
        "\n",
        "# Predict\n",
        "y_pred = knn_clf_f1.predict(X_test)"
      ],
      "metadata": {
        "id": "fZndzqO8vHPr"
      },
      "execution_count": 138,
      "outputs": []
    },
    {
      "cell_type": "code",
      "source": [
        "# Accuracy\n",
        "accuracy_score(y_test,y_pred)"
      ],
      "metadata": {
        "colab": {
          "base_uri": "https://localhost:8080/"
        },
        "id": "xqij0Mg3vMvM",
        "outputId": "8b01b500-2252-419a-a3a0-227845cfcd66"
      },
      "execution_count": 139,
      "outputs": [
        {
          "output_type": "execute_result",
          "data": {
            "text/plain": [
              "0.9785714285714285"
            ]
          },
          "metadata": {},
          "execution_count": 139
        }
      ]
    },
    {
      "cell_type": "code",
      "source": [
        "# Precision\n",
        "precision_score(y_test,y_pred)"
      ],
      "metadata": {
        "colab": {
          "base_uri": "https://localhost:8080/"
        },
        "id": "lE0w3DLlvpr0",
        "outputId": "13143777-d83a-4f6b-dbb9-b0d4ae3e299b"
      },
      "execution_count": 140,
      "outputs": [
        {
          "output_type": "execute_result",
          "data": {
            "text/plain": [
              "1.0"
            ]
          },
          "metadata": {},
          "execution_count": 140
        }
      ]
    },
    {
      "cell_type": "code",
      "source": [
        "# Recall\n",
        "recall_score(y_test,y_pred)"
      ],
      "metadata": {
        "colab": {
          "base_uri": "https://localhost:8080/"
        },
        "id": "ZSwgpRI1vuIL",
        "outputId": "7ebe1a1b-947c-4582-a3ae-315b9ecd7a86"
      },
      "execution_count": 141,
      "outputs": [
        {
          "output_type": "execute_result",
          "data": {
            "text/plain": [
              "0.94"
            ]
          },
          "metadata": {},
          "execution_count": 141
        }
      ]
    },
    {
      "cell_type": "code",
      "source": [
        "# F1 score\n",
        "f1_score(y_test,y_pred)"
      ],
      "metadata": {
        "colab": {
          "base_uri": "https://localhost:8080/"
        },
        "id": "dNIqyv-7vzIu",
        "outputId": "f50be96a-a76e-40e8-8f6a-008725eef395"
      },
      "execution_count": 142,
      "outputs": [
        {
          "output_type": "execute_result",
          "data": {
            "text/plain": [
              "0.9690721649484536"
            ]
          },
          "metadata": {},
          "execution_count": 142
        }
      ]
    },
    {
      "cell_type": "code",
      "source": [
        "# Confusion Matrix\n",
        "cm = confusion_matrix(y_test,y_pred,labels = [0,1])\n",
        "sns.heatmap(cm,annot = True,cmap = 'Blues')\n",
        "plt.xlabel('Predicted')\n",
        "plt.ylabel('Actual')\n",
        "plt.show()"
      ],
      "metadata": {
        "colab": {
          "base_uri": "https://localhost:8080/",
          "height": 283
        },
        "id": "WRSbi6dHv2Dd",
        "outputId": "d1c9994c-fc7d-4f8b-8c61-dba95e0a85cd"
      },
      "execution_count": 143,
      "outputs": [
        {
          "output_type": "display_data",
          "data": {
            "text/plain": [
              "<Figure size 432x288 with 2 Axes>"
            ],
            "image/png": "[encoded data removed]"
          },
          "metadata": {
            "needs_background": "light"
          }
        }
      ]
    },
    {
      "cell_type": "markdown",
      "source": [
        "**Summarizing the results**"
      ],
      "metadata": {
        "id": "r3YKlQy-04kV"
      }
    },
    {
      "cell_type": "code",
      "source": [
        "conclusion_df = pd.DataFrame([[0.9785714285714285,1.0,0.94,0.9690721649484536],[0.9785714285714285,1.0,0.94,0.9690721649484536],[0.9928571428571429,1.0,0.98,0.98989898989899],[0.9785714285714285,1.0,0.94,0.9690721649484536]],\n",
        "                             index = pd.Index(['n_neighbors = 5, p = 1,weights = distance' , 'n_neighbors = 10, p = 1,weights = distance', 'n_neighbors = 5, p = 2,weights = uniform',\t'n_neighbors = 5, p = 1,weights = distance'],name = '----------------------------------------------------------------------------------Hyperparameters :'),\n",
        "                             columns = pd.MultiIndex.from_product([['K Nearest Neighbour'],['Accuracy','Precision','Recall','F1']],names=['---------------------------------------------------------------------------------------------Model:','--------------------------------------------------------------------------------Evaluation Metrics:']))"
      ],
      "metadata": {
        "id": "pnolTKIaYjmu"
      },
      "execution_count": 144,
      "outputs": []
    },
    {
      "cell_type": "code",
      "source": [
        "conclusion_df"
      ],
      "metadata": {
        "colab": {
          "base_uri": "https://localhost:8080/",
          "height": 279
        },
        "id": "sVZKsXcHa4HW",
        "outputId": "ed786e64-1c22-4c67-80fd-82043cc2c7d8"
      },
      "execution_count": 145,
      "outputs": [
        {
          "output_type": "execute_result",
          "data": {
            "text/plain": [
              "---------------------------------------------------------------------------------------------Model: K Nearest Neighbour  \\\n",
              "--------------------------------------------------------------------------------Evaluation Metrics:            Accuracy   \n",
              "----------------------------------------------------------------------------------Hyperparameters :                       \n",
              "n_neighbors = 5, p = 1,weights = distance                                                                      0.978571   \n",
              "n_neighbors = 10, p = 1,weights = distance                                                                     0.978571   \n",
              "n_neighbors = 5, p = 2,weights = uniform                                                                       0.992857   \n",
              "n_neighbors = 5, p = 1,weights = distance                                                                      0.978571   \n",
              "\n",
              "---------------------------------------------------------------------------------------------Model:            \\\n",
              "--------------------------------------------------------------------------------Evaluation Metrics: Precision   \n",
              "----------------------------------------------------------------------------------Hyperparameters :             \n",
              "n_neighbors = 5, p = 1,weights = distance                                                                 1.0   \n",
              "n_neighbors = 10, p = 1,weights = distance                                                                1.0   \n",
              "n_neighbors = 5, p = 2,weights = uniform                                                                  1.0   \n",
              "n_neighbors = 5, p = 1,weights = distance                                                                 1.0   \n",
              "\n",
              "---------------------------------------------------------------------------------------------Model:         \\\n",
              "--------------------------------------------------------------------------------Evaluation Metrics: Recall   \n",
              "----------------------------------------------------------------------------------Hyperparameters :          \n",
              "n_neighbors = 5, p = 1,weights = distance                                                             0.94   \n",
              "n_neighbors = 10, p = 1,weights = distance                                                            0.94   \n",
              "n_neighbors = 5, p = 2,weights = uniform                                                              0.98   \n",
              "n_neighbors = 5, p = 1,weights = distance                                                             0.94   \n",
              "\n",
              "---------------------------------------------------------------------------------------------Model:            \n",
              "--------------------------------------------------------------------------------Evaluation Metrics:        F1  \n",
              "----------------------------------------------------------------------------------Hyperparameters :            \n",
              "n_neighbors = 5, p = 1,weights = distance                                                            0.969072  \n",
              "n_neighbors = 10, p = 1,weights = distance                                                           0.969072  \n",
              "n_neighbors = 5, p = 2,weights = uniform                                                             0.989899  \n",
              "n_neighbors = 5, p = 1,weights = distance                                                            0.969072  "
            ],
            "text/html": [
              "\n",
              "  <div id=\"df-a33b4276-3bd5-448e-96bc-9f315b93b7cf\">\n",
              "    <div class=\"colab-df-container\">\n",
              "      <div>\n",
              "<style scoped>\n",
              "    .dataframe tbody tr th:only-of-type {\n",
              "        vertical-align: middle;\n",
              "    }\n",
              "\n",
              "    .dataframe tbody tr th {\n",
              "        vertical-align: top;\n",
              "    }\n",
              "\n",
              "    .dataframe thead tr th {\n",
              "        text-align: left;\n",
              "    }\n",
              "\n",
              "    .dataframe thead tr:last-of-type th {\n",
              "        text-align: right;\n",
              "    }\n",
              "</style>\n",
              "<table border=\"1\" class=\"dataframe\">\n",
              "  <thead>\n",
              "    <tr>\n",
              "      <th>---------------------------------------------------------------------------------------------Model:</th>\n",
              "      <th colspan=\"4\" halign=\"left\">K Nearest Neighbour</th>\n",
              "    </tr>\n",
              "    <tr>\n",
              "      <th>--------------------------------------------------------------------------------Evaluation Metrics:</th>\n",
              "      <th>Accuracy</th>\n",
              "      <th>Precision</th>\n",
              "      <th>Recall</th>\n",
              "      <th>F1</th>\n",
              "    </tr>\n",
              "    <tr>\n",
              "      <th>----------------------------------------------------------------------------------Hyperparameters :</th>\n",
              "      <th></th>\n",
              "      <th></th>\n",
              "      <th></th>\n",
              "      <th></th>\n",
              "    </tr>\n",
              "  </thead>\n",
              "  <tbody>\n",
              "    <tr>\n",
              "      <th>n_neighbors = 5, p = 1,weights = distance</th>\n",
              "      <td>0.978571</td>\n",
              "      <td>1.0</td>\n",
              "      <td>0.94</td>\n",
              "      <td>0.969072</td>\n",
              "    </tr>\n",
              "    <tr>\n",
              "      <th>n_neighbors = 10, p = 1,weights = distance</th>\n",
              "      <td>0.978571</td>\n",
              "      <td>1.0</td>\n",
              "      <td>0.94</td>\n",
              "      <td>0.969072</td>\n",
              "    </tr>\n",
              "    <tr>\n",
              "      <th>n_neighbors = 5, p = 2,weights = uniform</th>\n",
              "      <td>0.992857</td>\n",
              "      <td>1.0</td>\n",
              "      <td>0.98</td>\n",
              "      <td>0.989899</td>\n",
              "    </tr>\n",
              "    <tr>\n",
              "      <th>n_neighbors = 5, p = 1,weights = distance</th>\n",
              "      <td>0.978571</td>\n",
              "      <td>1.0</td>\n",
              "      <td>0.94</td>\n",
              "      <td>0.969072</td>\n",
              "    </tr>\n",
              "  </tbody>\n",
              "</table>\n",
              "</div>\n",
              "      <button class=\"colab-df-convert\" onclick=\"convertToInteractive('df-a33b4276-3bd5-448e-96bc-9f315b93b7cf')\"\n",
              "              title=\"Convert this dataframe to an interactive table.\"\n",
              "              style=\"display:none;\">\n",
              "        \n",
              "  <svg xmlns=\"http://www.w3.org/2000/svg\" height=\"24px\"viewBox=\"0 0 24 24\"\n",
              "       width=\"24px\">\n",
              "    <path d=\"M0 0h24v24H0V0z\" fill=\"none\"/>\n",
              "    <path d=\"M18.56 5.44l.94 2.06.94-2.06 2.06-.94-2.06-.94-.94-2.06-.94 2.06-2.06.94zm-11 1L8.5 8.5l.94-2.06 2.06-.94-2.06-.94L8.5 2.5l-.94 2.06-2.06.94zm10 10l.94 2.06.94-2.06 2.06-.94-2.06-.94-.94-2.06-.94 2.06-2.06.94z\"/><path d=\"M17.41 7.96l-1.37-1.37c-.4-.4-.92-.59-1.43-.59-.52 0-1.04.2-1.43.59L10.3 9.45l-7.72 7.72c-.78.78-.78 2.05 0 2.83L4 21.41c.39.39.9.59 1.41.59.51 0 1.02-.2 1.41-.59l7.78-7.78 2.81-2.81c.8-.78.8-2.07 0-2.86zM5.41 20L4 18.59l7.72-7.72 1.47 1.35L5.41 20z\"/>\n",
              "  </svg>\n",
              "      </button>\n",
              "      \n",
              "  <style>\n",
              "    .colab-df-container {\n",
              "      display:flex;\n",
              "      flex-wrap:wrap;\n",
              "      gap: 12px;\n",
              "    }\n",
              "\n",
              "    .colab-df-convert {\n",
              "      background-color: #E8F0FE;\n",
              "      border: none;\n",
              "      border-radius: 50%;\n",
              "      cursor: pointer;\n",
              "      display: none;\n",
              "      fill: #1967D2;\n",
              "      height: 32px;\n",
              "      padding: 0 0 0 0;\n",
              "      width: 32px;\n",
              "    }\n",
              "\n",
              "    .colab-df-convert:hover {\n",
              "      background-color: #E2EBFA;\n",
              "      box-shadow: 0px 1px 2px rgba(60, 64, 67, 0.3), 0px 1px 3px 1px rgba(60, 64, 67, 0.15);\n",
              "      fill: #174EA6;\n",
              "    }\n",
              "\n",
              "    [theme=dark] .colab-df-convert {\n",
              "      background-color: #3B4455;\n",
              "      fill: #D2E3FC;\n",
              "    }\n",
              "\n",
              "    [theme=dark] .colab-df-convert:hover {\n",
              "      background-color: #434B5C;\n",
              "      box-shadow: 0px 1px 3px 1px rgba(0, 0, 0, 0.15);\n",
              "      filter: drop-shadow(0px 1px 2px rgba(0, 0, 0, 0.3));\n",
              "      fill: #FFFFFF;\n",
              "    }\n",
              "  </style>\n",
              "\n",
              "      <script>\n",
              "        const buttonEl =\n",
              "          document.querySelector('#df-a33b4276-3bd5-448e-96bc-9f315b93b7cf button.colab-df-convert');\n",
              "        buttonEl.style.display =\n",
              "          google.colab.kernel.accessAllowed ? 'block' : 'none';\n",
              "\n",
              "        async function convertToInteractive(key) {\n",
              "          const element = document.querySelector('#df-a33b4276-3bd5-448e-96bc-9f315b93b7cf');\n",
              "          const dataTable =\n",
              "            await google.colab.kernel.invokeFunction('convertToInteractive',\n",
              "                                                     [key], {});\n",
              "          if (!dataTable) return;\n",
              "\n",
              "          const docLinkHtml = 'Like what you see? Visit the ' +\n",
              "            '<a target=\"_blank\" href=https://colab.research.google.com/notebooks/data_table.ipynb>data table notebook</a>'\n",
              "            + ' to learn more about interactive tables.';\n",
              "          element.innerHTML = '';\n",
              "          dataTable['output_type'] = 'display_data';\n",
              "          await google.colab.output.renderOutput(dataTable, element);\n",
              "          const docLink = document.createElement('div');\n",
              "          docLink.innerHTML = docLinkHtml;\n",
              "          element.appendChild(docLink);\n",
              "        }\n",
              "      </script>\n",
              "    </div>\n",
              "  </div>\n",
              "  "
            ]
          },
          "metadata": {},
          "execution_count": 145
        }
      ]
    },
    {
      "cell_type": "markdown",
      "source": [
        "We are getting best accuracy and f1 score for the same set of hyperparameters."
      ],
      "metadata": {
        "id": "5Xz2RJZd-xId"
      }
    },
    {
      "cell_type": "code",
      "source": [],
      "metadata": {
        "id": "JIXHVCpw-2PH"
      },
      "execution_count": null,
      "outputs": []
    }
  ]
}