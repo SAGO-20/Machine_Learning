{
 "cells": [
  {
   "cell_type": "code",
   "execution_count": 1,
   "id": "b2e3a8cb",
   "metadata": {
    "_cell_guid": "b1076dfc-b9ad-4769-8c92-a6c4dae69d19",
    "_uuid": "8f2839f25d086af736a60e9eeb907d3b93b6e0e5",
    "execution": {
     "iopub.execute_input": "2022-07-27T19:23:17.085149Z",
     "iopub.status.busy": "2022-07-27T19:23:17.084595Z",
     "iopub.status.idle": "2022-07-27T19:23:17.094704Z",
     "shell.execute_reply": "2022-07-27T19:23:17.093796Z"
    },
    "papermill": {
     "duration": 0.019531,
     "end_time": "2022-07-27T19:23:17.097334",
     "exception": false,
     "start_time": "2022-07-27T19:23:17.077803",
     "status": "completed"
    },
    "tags": []
   },
   "outputs": [],
   "source": [
    "# This Python 3 environment comes with many helpful analytics libraries installed\n",
    "# It is defined by the kaggle/python Docker image: https://github.com/kaggle/docker-python\n",
    "# For example, here's several helpful packages to load\n",
    "\n",
    "import numpy as np # linear algebra\n",
    "import pandas as pd # data processing, CSV file I/O (e.g. pd.read_csv)\n",
    "\n",
    "# Input data files are available in the read-only \"../input/\" directory\n",
    "# For example, running this (by clicking run or pressing Shift+Enter) will list all files under the input directory\n",
    "\n",
    "import os\n",
    "for dirname, _, filenames in os.walk('/kaggle/input'):\n",
    "    for filename in filenames:\n",
    "        print(os.path.join(dirname, filename))\n",
    "\n",
    "# You can write up to 20GB to the current directory (/kaggle/working/) that gets preserved as output when you create a version using \"Save & Run All\" \n",
    "# You can also write temporary files to /kaggle/temp/, but they won't be saved outside of the current session"
   ]
  },
  {
   "cell_type": "markdown",
   "id": "6b8840af",
   "metadata": {
    "papermill": {
     "duration": 0.004029,
     "end_time": "2022-07-27T19:23:17.105988",
     "exception": false,
     "start_time": "2022-07-27T19:23:17.101959",
     "status": "completed"
    },
    "tags": []
   },
   "source": [
    "# Here, I will make implement my own Logistic Regression function"
   ]
  },
  {
   "cell_type": "code",
   "execution_count": 2,
   "id": "6e4d3922",
   "metadata": {
    "execution": {
     "iopub.execute_input": "2022-07-27T19:23:17.116780Z",
     "iopub.status.busy": "2022-07-27T19:23:17.115686Z",
     "iopub.status.idle": "2022-07-27T19:23:17.125043Z",
     "shell.execute_reply": "2022-07-27T19:23:17.124377Z"
    },
    "papermill": {
     "duration": 0.016724,
     "end_time": "2022-07-27T19:23:17.127010",
     "exception": false,
     "start_time": "2022-07-27T19:23:17.110286",
     "status": "completed"
    },
    "tags": []
   },
   "outputs": [],
   "source": [
    "# Logistic Regression\n",
    "import numpy as np\n",
    "\n",
    "class LogisticRegression:\n",
    "    def __init__(self,learning_rate =0.001,n_iters = 1000):\n",
    "        self.lr = learning_rate\n",
    "        self.n_iters = n_iters\n",
    "        self.weights = None\n",
    "        self.bias = None\n",
    "    \n",
    "    def fit(self,X,y):\n",
    "        n_samples,n_features = X.shape\n",
    "        \n",
    "        # initialize the parameters\n",
    "        self.weights = np.zeros(n_features)\n",
    "        self.bias = 0\n",
    "        \n",
    "        # Gradient Descent\n",
    "        for _ in range(self.n_iters):\n",
    "            # approximate y with linear combinations of weights and x, plus bias\n",
    "            linear_model = np.dot(X,self.weights) + self.bias\n",
    "            \n",
    "            # apply sigmoid function\n",
    "            y_predicted = self._sigmoid(linear_model)\n",
    "            \n",
    "            # compute gradients\n",
    "            dw = (1/n_samples) * np.dot(X.T, (y_predicted - y))\n",
    "            db = (1/n_samples) * np.sum(y_predicted - y)\n",
    "            \n",
    "            # update parameters\n",
    "            self.weights = self.weights - self.lr * dw\n",
    "            self.bias = self.bias - self.lr * db\n",
    "            \n",
    "            \n",
    "    \n",
    "    def predict(self,X):\n",
    "        linear_model = np.dot(X,self.weights) + self.bias\n",
    "        y_predicted = self._sigmoid(linear_model)\n",
    "        y_predicted_cls = [1 if i > 0.5 else 0 for i in y_predicted]\n",
    "        return np.array(y_predicted_cls)\n",
    "    \n",
    "    def _sigmoid(self,x):\n",
    "        return 1 / (1 + np.exp(-x))\n"
   ]
  },
  {
   "cell_type": "code",
   "execution_count": 3,
   "id": "cbc26980",
   "metadata": {
    "execution": {
     "iopub.execute_input": "2022-07-27T19:23:17.134683Z",
     "iopub.status.busy": "2022-07-27T19:23:17.134245Z",
     "iopub.status.idle": "2022-07-27T19:23:17.138119Z",
     "shell.execute_reply": "2022-07-27T19:23:17.137219Z"
    },
    "papermill": {
     "duration": 0.010049,
     "end_time": "2022-07-27T19:23:17.140271",
     "exception": false,
     "start_time": "2022-07-27T19:23:17.130222",
     "status": "completed"
    },
    "tags": []
   },
   "outputs": [],
   "source": [
    "# Building an accuracy function\n",
    "def accuracy(y_true,y_pred):\n",
    "    accuracy = (np.sum(y_true == y_pred) / len(y_true)) * 100\n",
    "    return accuracy"
   ]
  },
  {
   "cell_type": "markdown",
   "id": "bac9d309",
   "metadata": {
    "papermill": {
     "duration": 0.00248,
     "end_time": "2022-07-27T19:23:17.145815",
     "exception": false,
     "start_time": "2022-07-27T19:23:17.143335",
     "status": "completed"
    },
    "tags": []
   },
   "source": [
    "# Testing the code on Breast Cancer Dataset"
   ]
  },
  {
   "cell_type": "code",
   "execution_count": 4,
   "id": "2bd108bb",
   "metadata": {
    "execution": {
     "iopub.execute_input": "2022-07-27T19:23:17.153215Z",
     "iopub.status.busy": "2022-07-27T19:23:17.152753Z",
     "iopub.status.idle": "2022-07-27T19:23:18.409063Z",
     "shell.execute_reply": "2022-07-27T19:23:18.407909Z"
    },
    "papermill": {
     "duration": 1.262937,
     "end_time": "2022-07-27T19:23:18.411428",
     "exception": false,
     "start_time": "2022-07-27T19:23:17.148491",
     "status": "completed"
    },
    "tags": []
   },
   "outputs": [],
   "source": [
    "from sklearn.model_selection import train_test_split\n",
    "from sklearn import datasets"
   ]
  },
  {
   "cell_type": "code",
   "execution_count": 5,
   "id": "793d4adf",
   "metadata": {
    "execution": {
     "iopub.execute_input": "2022-07-27T19:23:18.418726Z",
     "iopub.status.busy": "2022-07-27T19:23:18.418404Z",
     "iopub.status.idle": "2022-07-27T19:23:18.435663Z",
     "shell.execute_reply": "2022-07-27T19:23:18.434564Z"
    },
    "papermill": {
     "duration": 0.023252,
     "end_time": "2022-07-27T19:23:18.437788",
     "exception": false,
     "start_time": "2022-07-27T19:23:18.414536",
     "status": "completed"
    },
    "tags": []
   },
   "outputs": [],
   "source": [
    "breast_dataset = datasets.load_breast_cancer()\n",
    "X, y = breast_dataset.data , breast_dataset.target"
   ]
  },
  {
   "cell_type": "code",
   "execution_count": 6,
   "id": "ce728ea1",
   "metadata": {
    "execution": {
     "iopub.execute_input": "2022-07-27T19:23:18.446620Z",
     "iopub.status.busy": "2022-07-27T19:23:18.446020Z",
     "iopub.status.idle": "2022-07-27T19:23:18.453386Z",
     "shell.execute_reply": "2022-07-27T19:23:18.452378Z"
    },
    "papermill": {
     "duration": 0.01531,
     "end_time": "2022-07-27T19:23:18.456082",
     "exception": false,
     "start_time": "2022-07-27T19:23:18.440772",
     "status": "completed"
    },
    "tags": []
   },
   "outputs": [],
   "source": [
    "X_train, X_test, y_train, y_test = train_test_split(X,y,test_size = 0.2, random_state = 1234)"
   ]
  },
  {
   "cell_type": "code",
   "execution_count": 7,
   "id": "f6aa5bd6",
   "metadata": {
    "execution": {
     "iopub.execute_input": "2022-07-27T19:23:18.466764Z",
     "iopub.status.busy": "2022-07-27T19:23:18.466455Z",
     "iopub.status.idle": "2022-07-27T19:23:18.527875Z",
     "shell.execute_reply": "2022-07-27T19:23:18.526790Z"
    },
    "papermill": {
     "duration": 0.069952,
     "end_time": "2022-07-27T19:23:18.530657",
     "exception": false,
     "start_time": "2022-07-27T19:23:18.460705",
     "status": "completed"
    },
    "tags": []
   },
   "outputs": [],
   "source": [
    "# Fitting the regression\n",
    "regressor = LogisticRegression(learning_rate = 0.0001, n_iters = 1000)\n",
    "regressor.fit(X_train,y_train)\n",
    "\n"
   ]
  },
  {
   "cell_type": "code",
   "execution_count": 8,
   "id": "1cff5915",
   "metadata": {
    "execution": {
     "iopub.execute_input": "2022-07-27T19:23:18.544381Z",
     "iopub.status.busy": "2022-07-27T19:23:18.543315Z",
     "iopub.status.idle": "2022-07-27T19:23:18.547648Z",
     "shell.execute_reply": "2022-07-27T19:23:18.546988Z"
    },
    "papermill": {
     "duration": 0.014183,
     "end_time": "2022-07-27T19:23:18.550880",
     "exception": false,
     "start_time": "2022-07-27T19:23:18.536697",
     "status": "completed"
    },
    "tags": []
   },
   "outputs": [],
   "source": [
    "# Making the predictions\n",
    "predictions = regressor.predict(X_test)"
   ]
  },
  {
   "cell_type": "code",
   "execution_count": 9,
   "id": "5bd7922f",
   "metadata": {
    "execution": {
     "iopub.execute_input": "2022-07-27T19:23:18.560037Z",
     "iopub.status.busy": "2022-07-27T19:23:18.559696Z",
     "iopub.status.idle": "2022-07-27T19:23:18.564221Z",
     "shell.execute_reply": "2022-07-27T19:23:18.563532Z"
    },
    "papermill": {
     "duration": 0.015675,
     "end_time": "2022-07-27T19:23:18.570518",
     "exception": false,
     "start_time": "2022-07-27T19:23:18.554843",
     "status": "completed"
    },
    "tags": []
   },
   "outputs": [
    {
     "name": "stdout",
     "output_type": "stream",
     "text": [
      "Accuracy is 92.98245614035088 %\n"
     ]
    }
   ],
   "source": [
    "# Finding the accuracy\n",
    "print('Accuracy is {} %'.format(accuracy(y_test,predictions)))"
   ]
  },
  {
   "cell_type": "markdown",
   "id": "a67cedb2",
   "metadata": {
    "papermill": {
     "duration": 0.003808,
     "end_time": "2022-07-27T19:23:18.580249",
     "exception": false,
     "start_time": "2022-07-27T19:23:18.576441",
     "status": "completed"
    },
    "tags": []
   },
   "source": [
    "**\n",
    "Accuracy is quite good provided that the algorithm is not optimized.\n",
    "**"
   ]
  }
 ],
 "metadata": {
  "kernelspec": {
   "display_name": "Python 3",
   "language": "python",
   "name": "python3"
  },
  "language_info": {
   "codemirror_mode": {
    "name": "ipython",
    "version": 3
   },
   "file_extension": ".py",
   "mimetype": "text/x-python",
   "name": "python",
   "nbconvert_exporter": "python",
   "pygments_lexer": "ipython3",
   "version": "3.7.12"
  },
  "papermill": {
   "default_parameters": {},
   "duration": 13.593967,
   "end_time": "2022-07-27T19:23:21.928858",
   "environment_variables": {},
   "exception": null,
   "input_path": "__notebook__.ipynb",
   "output_path": "__notebook__.ipynb",
   "parameters": {},
   "start_time": "2022-07-27T19:23:08.334891",
   "version": "2.3.4"
  }
 },
 "nbformat": 4,
 "nbformat_minor": 5
}
