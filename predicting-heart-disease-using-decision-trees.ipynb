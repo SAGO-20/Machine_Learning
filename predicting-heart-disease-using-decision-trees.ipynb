{
 "cells": [
  {
   "cell_type": "code",
   "execution_count": 1,
   "id": "9b454940",
   "metadata": {
    "_cell_guid": "b1076dfc-b9ad-4769-8c92-a6c4dae69d19",
    "_uuid": "8f2839f25d086af736a60e9eeb907d3b93b6e0e5",
    "execution": {
     "iopub.execute_input": "2022-07-22T09:59:40.806458Z",
     "iopub.status.busy": "2022-07-22T09:59:40.805597Z",
     "iopub.status.idle": "2022-07-22T09:59:40.828582Z",
     "shell.execute_reply": "2022-07-22T09:59:40.827837Z"
    },
    "papermill": {
     "duration": 0.042854,
     "end_time": "2022-07-22T09:59:40.831035",
     "exception": false,
     "start_time": "2022-07-22T09:59:40.788181",
     "status": "completed"
    },
    "tags": []
   },
   "outputs": [
    {
     "name": "stdout",
     "output_type": "stream",
     "text": [
      "/kaggle/input/heart-disease/processed.cleveland.data\n"
     ]
    }
   ],
   "source": [
    "# This Python 3 environment comes with many helpful analytics libraries installed\n",
    "# It is defined by the kaggle/python Docker image: https://github.com/kaggle/docker-python\n",
    "# For example, here's several helpful packages to load\n",
    "\n",
    "import numpy as np # linear algebra\n",
    "import pandas as pd # data processing, CSV file I/O (e.g. pd.read_csv)\n",
    "\n",
    "# Input data files are available in the read-only \"../input/\" directory\n",
    "# For example, running this (by clicking run or pressing Shift+Enter) will list all files under the input directory\n",
    "\n",
    "import os\n",
    "for dirname, _, filenames in os.walk('/kaggle/input'):\n",
    "    for filename in filenames:\n",
    "        print(os.path.join(dirname, filename))\n",
    "\n",
    "# You can write up to 20GB to the current directory (/kaggle/working/) that gets preserved as output when you create a version using \"Save & Run All\" \n",
    "# You can also write temporary files to /kaggle/temp/, but they won't be saved outside of the current session"
   ]
  },
  {
   "cell_type": "markdown",
   "id": "2106993b",
   "metadata": {
    "papermill": {
     "duration": 0.014316,
     "end_time": "2022-07-22T09:59:40.860384",
     "exception": false,
     "start_time": "2022-07-22T09:59:40.846068",
     "status": "completed"
    },
    "tags": []
   },
   "source": [
    "# Here, I will be predicting heart disease using Decision Tree Algorithm"
   ]
  },
  {
   "cell_type": "markdown",
   "id": "92a95a01",
   "metadata": {
    "papermill": {
     "duration": 0.015876,
     "end_time": "2022-07-22T09:59:40.890873",
     "exception": false,
     "start_time": "2022-07-22T09:59:40.874997",
     "status": "completed"
    },
    "tags": []
   },
   "source": [
    "# Importing the necessary libraries"
   ]
  },
  {
   "cell_type": "code",
   "execution_count": 2,
   "id": "33f22966",
   "metadata": {
    "execution": {
     "iopub.execute_input": "2022-07-22T09:59:40.922624Z",
     "iopub.status.busy": "2022-07-22T09:59:40.921411Z",
     "iopub.status.idle": "2022-07-22T09:59:41.999146Z",
     "shell.execute_reply": "2022-07-22T09:59:41.998123Z"
    },
    "papermill": {
     "duration": 1.096279,
     "end_time": "2022-07-22T09:59:42.001926",
     "exception": false,
     "start_time": "2022-07-22T09:59:40.905647",
     "status": "completed"
    },
    "tags": []
   },
   "outputs": [],
   "source": [
    "import numpy as np\n",
    "import pandas as pd\n",
    "import matplotlib.pyplot as plt #This is needed to build plots\n",
    "from sklearn.tree import DecisionTreeClassifier #This is needed to build classification tree\n",
    "from sklearn.tree import plot_tree # to visualize classification tree\n",
    "from sklearn.model_selection import train_test_split # split data into training and testing set\n",
    "from sklearn.model_selection import cross_val_score  # for cross validation\n",
    "from sklearn.metrics import confusion_matrix # to create confusion matrix (This helps to measure the accuracy of model)\n",
    "from sklearn.metrics import plot_confusion_matrix # to visualize the confusion matrix\n"
   ]
  },
  {
   "cell_type": "markdown",
   "id": "02199dc6",
   "metadata": {
    "papermill": {
     "duration": 0.014276,
     "end_time": "2022-07-22T09:59:42.031181",
     "exception": false,
     "start_time": "2022-07-22T09:59:42.016905",
     "status": "completed"
    },
    "tags": []
   },
   "source": [
    "# Importing the Data"
   ]
  },
  {
   "cell_type": "code",
   "execution_count": 3,
   "id": "ac88024d",
   "metadata": {
    "execution": {
     "iopub.execute_input": "2022-07-22T09:59:42.061389Z",
     "iopub.status.busy": "2022-07-22T09:59:42.061068Z",
     "iopub.status.idle": "2022-07-22T09:59:42.081681Z",
     "shell.execute_reply": "2022-07-22T09:59:42.081017Z"
    },
    "papermill": {
     "duration": 0.038135,
     "end_time": "2022-07-22T09:59:42.083756",
     "exception": false,
     "start_time": "2022-07-22T09:59:42.045621",
     "status": "completed"
    },
    "tags": []
   },
   "outputs": [],
   "source": [
    "df = pd.read_csv('/kaggle/input/heart-disease/processed.cleveland.data', header = None)"
   ]
  },
  {
   "cell_type": "code",
   "execution_count": 4,
   "id": "8a75922e",
   "metadata": {
    "execution": {
     "iopub.execute_input": "2022-07-22T09:59:42.113973Z",
     "iopub.status.busy": "2022-07-22T09:59:42.113310Z",
     "iopub.status.idle": "2022-07-22T09:59:42.149357Z",
     "shell.execute_reply": "2022-07-22T09:59:42.148324Z"
    },
    "papermill": {
     "duration": 0.053881,
     "end_time": "2022-07-22T09:59:42.151818",
     "exception": false,
     "start_time": "2022-07-22T09:59:42.097937",
     "status": "completed"
    },
    "tags": []
   },
   "outputs": [
    {
     "data": {
      "text/html": [
       "<div>\n",
       "<style scoped>\n",
       "    .dataframe tbody tr th:only-of-type {\n",
       "        vertical-align: middle;\n",
       "    }\n",
       "\n",
       "    .dataframe tbody tr th {\n",
       "        vertical-align: top;\n",
       "    }\n",
       "\n",
       "    .dataframe thead th {\n",
       "        text-align: right;\n",
       "    }\n",
       "</style>\n",
       "<table border=\"1\" class=\"dataframe\">\n",
       "  <thead>\n",
       "    <tr style=\"text-align: right;\">\n",
       "      <th></th>\n",
       "      <th>0</th>\n",
       "      <th>1</th>\n",
       "      <th>2</th>\n",
       "      <th>3</th>\n",
       "      <th>4</th>\n",
       "      <th>5</th>\n",
       "      <th>6</th>\n",
       "      <th>7</th>\n",
       "      <th>8</th>\n",
       "      <th>9</th>\n",
       "      <th>10</th>\n",
       "      <th>11</th>\n",
       "      <th>12</th>\n",
       "      <th>13</th>\n",
       "    </tr>\n",
       "  </thead>\n",
       "  <tbody>\n",
       "    <tr>\n",
       "      <th>0</th>\n",
       "      <td>63.0</td>\n",
       "      <td>1.0</td>\n",
       "      <td>1.0</td>\n",
       "      <td>145.0</td>\n",
       "      <td>233.0</td>\n",
       "      <td>1.0</td>\n",
       "      <td>2.0</td>\n",
       "      <td>150.0</td>\n",
       "      <td>0.0</td>\n",
       "      <td>2.3</td>\n",
       "      <td>3.0</td>\n",
       "      <td>0.0</td>\n",
       "      <td>6.0</td>\n",
       "      <td>0</td>\n",
       "    </tr>\n",
       "    <tr>\n",
       "      <th>1</th>\n",
       "      <td>67.0</td>\n",
       "      <td>1.0</td>\n",
       "      <td>4.0</td>\n",
       "      <td>160.0</td>\n",
       "      <td>286.0</td>\n",
       "      <td>0.0</td>\n",
       "      <td>2.0</td>\n",
       "      <td>108.0</td>\n",
       "      <td>1.0</td>\n",
       "      <td>1.5</td>\n",
       "      <td>2.0</td>\n",
       "      <td>3.0</td>\n",
       "      <td>3.0</td>\n",
       "      <td>2</td>\n",
       "    </tr>\n",
       "    <tr>\n",
       "      <th>2</th>\n",
       "      <td>67.0</td>\n",
       "      <td>1.0</td>\n",
       "      <td>4.0</td>\n",
       "      <td>120.0</td>\n",
       "      <td>229.0</td>\n",
       "      <td>0.0</td>\n",
       "      <td>2.0</td>\n",
       "      <td>129.0</td>\n",
       "      <td>1.0</td>\n",
       "      <td>2.6</td>\n",
       "      <td>2.0</td>\n",
       "      <td>2.0</td>\n",
       "      <td>7.0</td>\n",
       "      <td>1</td>\n",
       "    </tr>\n",
       "    <tr>\n",
       "      <th>3</th>\n",
       "      <td>37.0</td>\n",
       "      <td>1.0</td>\n",
       "      <td>3.0</td>\n",
       "      <td>130.0</td>\n",
       "      <td>250.0</td>\n",
       "      <td>0.0</td>\n",
       "      <td>0.0</td>\n",
       "      <td>187.0</td>\n",
       "      <td>0.0</td>\n",
       "      <td>3.5</td>\n",
       "      <td>3.0</td>\n",
       "      <td>0.0</td>\n",
       "      <td>3.0</td>\n",
       "      <td>0</td>\n",
       "    </tr>\n",
       "    <tr>\n",
       "      <th>4</th>\n",
       "      <td>41.0</td>\n",
       "      <td>0.0</td>\n",
       "      <td>2.0</td>\n",
       "      <td>130.0</td>\n",
       "      <td>204.0</td>\n",
       "      <td>0.0</td>\n",
       "      <td>2.0</td>\n",
       "      <td>172.0</td>\n",
       "      <td>0.0</td>\n",
       "      <td>1.4</td>\n",
       "      <td>1.0</td>\n",
       "      <td>0.0</td>\n",
       "      <td>3.0</td>\n",
       "      <td>0</td>\n",
       "    </tr>\n",
       "    <tr>\n",
       "      <th>5</th>\n",
       "      <td>56.0</td>\n",
       "      <td>1.0</td>\n",
       "      <td>2.0</td>\n",
       "      <td>120.0</td>\n",
       "      <td>236.0</td>\n",
       "      <td>0.0</td>\n",
       "      <td>0.0</td>\n",
       "      <td>178.0</td>\n",
       "      <td>0.0</td>\n",
       "      <td>0.8</td>\n",
       "      <td>1.0</td>\n",
       "      <td>0.0</td>\n",
       "      <td>3.0</td>\n",
       "      <td>0</td>\n",
       "    </tr>\n",
       "    <tr>\n",
       "      <th>6</th>\n",
       "      <td>62.0</td>\n",
       "      <td>0.0</td>\n",
       "      <td>4.0</td>\n",
       "      <td>140.0</td>\n",
       "      <td>268.0</td>\n",
       "      <td>0.0</td>\n",
       "      <td>2.0</td>\n",
       "      <td>160.0</td>\n",
       "      <td>0.0</td>\n",
       "      <td>3.6</td>\n",
       "      <td>3.0</td>\n",
       "      <td>2.0</td>\n",
       "      <td>3.0</td>\n",
       "      <td>3</td>\n",
       "    </tr>\n",
       "    <tr>\n",
       "      <th>7</th>\n",
       "      <td>57.0</td>\n",
       "      <td>0.0</td>\n",
       "      <td>4.0</td>\n",
       "      <td>120.0</td>\n",
       "      <td>354.0</td>\n",
       "      <td>0.0</td>\n",
       "      <td>0.0</td>\n",
       "      <td>163.0</td>\n",
       "      <td>1.0</td>\n",
       "      <td>0.6</td>\n",
       "      <td>1.0</td>\n",
       "      <td>0.0</td>\n",
       "      <td>3.0</td>\n",
       "      <td>0</td>\n",
       "    </tr>\n",
       "    <tr>\n",
       "      <th>8</th>\n",
       "      <td>63.0</td>\n",
       "      <td>1.0</td>\n",
       "      <td>4.0</td>\n",
       "      <td>130.0</td>\n",
       "      <td>254.0</td>\n",
       "      <td>0.0</td>\n",
       "      <td>2.0</td>\n",
       "      <td>147.0</td>\n",
       "      <td>0.0</td>\n",
       "      <td>1.4</td>\n",
       "      <td>2.0</td>\n",
       "      <td>1.0</td>\n",
       "      <td>7.0</td>\n",
       "      <td>2</td>\n",
       "    </tr>\n",
       "    <tr>\n",
       "      <th>9</th>\n",
       "      <td>53.0</td>\n",
       "      <td>1.0</td>\n",
       "      <td>4.0</td>\n",
       "      <td>140.0</td>\n",
       "      <td>203.0</td>\n",
       "      <td>1.0</td>\n",
       "      <td>2.0</td>\n",
       "      <td>155.0</td>\n",
       "      <td>1.0</td>\n",
       "      <td>3.1</td>\n",
       "      <td>3.0</td>\n",
       "      <td>0.0</td>\n",
       "      <td>7.0</td>\n",
       "      <td>1</td>\n",
       "    </tr>\n",
       "  </tbody>\n",
       "</table>\n",
       "</div>"
      ],
      "text/plain": [
       "     0    1    2      3      4    5    6      7    8    9    10   11   12  13\n",
       "0  63.0  1.0  1.0  145.0  233.0  1.0  2.0  150.0  0.0  2.3  3.0  0.0  6.0   0\n",
       "1  67.0  1.0  4.0  160.0  286.0  0.0  2.0  108.0  1.0  1.5  2.0  3.0  3.0   2\n",
       "2  67.0  1.0  4.0  120.0  229.0  0.0  2.0  129.0  1.0  2.6  2.0  2.0  7.0   1\n",
       "3  37.0  1.0  3.0  130.0  250.0  0.0  0.0  187.0  0.0  3.5  3.0  0.0  3.0   0\n",
       "4  41.0  0.0  2.0  130.0  204.0  0.0  2.0  172.0  0.0  1.4  1.0  0.0  3.0   0\n",
       "5  56.0  1.0  2.0  120.0  236.0  0.0  0.0  178.0  0.0  0.8  1.0  0.0  3.0   0\n",
       "6  62.0  0.0  4.0  140.0  268.0  0.0  2.0  160.0  0.0  3.6  3.0  2.0  3.0   3\n",
       "7  57.0  0.0  4.0  120.0  354.0  0.0  0.0  163.0  1.0  0.6  1.0  0.0  3.0   0\n",
       "8  63.0  1.0  4.0  130.0  254.0  0.0  2.0  147.0  0.0  1.4  2.0  1.0  7.0   2\n",
       "9  53.0  1.0  4.0  140.0  203.0  1.0  2.0  155.0  1.0  3.1  3.0  0.0  7.0   1"
      ]
     },
     "execution_count": 4,
     "metadata": {},
     "output_type": "execute_result"
    }
   ],
   "source": [
    "# Checking the dataset first 10 rows\n",
    "df.head(10)"
   ]
  },
  {
   "cell_type": "markdown",
   "id": "8906c1d9",
   "metadata": {
    "papermill": {
     "duration": 0.014963,
     "end_time": "2022-07-22T09:59:42.181755",
     "exception": false,
     "start_time": "2022-07-22T09:59:42.166792",
     "status": "completed"
    },
    "tags": []
   },
   "source": [
    "**It will difficult to work with column indexs, let's add column names.** The column names are given in Attribute section : https://archive.ics.uci.edu/ml/datasets/heart+disease"
   ]
  },
  {
   "cell_type": "code",
   "execution_count": 5,
   "id": "8fd065d1",
   "metadata": {
    "execution": {
     "iopub.execute_input": "2022-07-22T09:59:42.214182Z",
     "iopub.status.busy": "2022-07-22T09:59:42.213402Z",
     "iopub.status.idle": "2022-07-22T09:59:42.219231Z",
     "shell.execute_reply": "2022-07-22T09:59:42.218508Z"
    },
    "papermill": {
     "duration": 0.024596,
     "end_time": "2022-07-22T09:59:42.221433",
     "exception": false,
     "start_time": "2022-07-22T09:59:42.196837",
     "status": "completed"
    },
    "tags": []
   },
   "outputs": [],
   "source": [
    "df.columns = ['age','sex','cp','trestbp','chol','fbs','restecg','thalach','exang','oldpeak','slope','ca','thal','hd']"
   ]
  },
  {
   "cell_type": "code",
   "execution_count": 6,
   "id": "bb97c773",
   "metadata": {
    "execution": {
     "iopub.execute_input": "2022-07-22T09:59:42.254421Z",
     "iopub.status.busy": "2022-07-22T09:59:42.253961Z",
     "iopub.status.idle": "2022-07-22T09:59:42.274482Z",
     "shell.execute_reply": "2022-07-22T09:59:42.273765Z"
    },
    "papermill": {
     "duration": 0.039648,
     "end_time": "2022-07-22T09:59:42.276470",
     "exception": false,
     "start_time": "2022-07-22T09:59:42.236822",
     "status": "completed"
    },
    "tags": []
   },
   "outputs": [
    {
     "data": {
      "text/html": [
       "<div>\n",
       "<style scoped>\n",
       "    .dataframe tbody tr th:only-of-type {\n",
       "        vertical-align: middle;\n",
       "    }\n",
       "\n",
       "    .dataframe tbody tr th {\n",
       "        vertical-align: top;\n",
       "    }\n",
       "\n",
       "    .dataframe thead th {\n",
       "        text-align: right;\n",
       "    }\n",
       "</style>\n",
       "<table border=\"1\" class=\"dataframe\">\n",
       "  <thead>\n",
       "    <tr style=\"text-align: right;\">\n",
       "      <th></th>\n",
       "      <th>age</th>\n",
       "      <th>sex</th>\n",
       "      <th>cp</th>\n",
       "      <th>trestbp</th>\n",
       "      <th>chol</th>\n",
       "      <th>fbs</th>\n",
       "      <th>restecg</th>\n",
       "      <th>thalach</th>\n",
       "      <th>exang</th>\n",
       "      <th>oldpeak</th>\n",
       "      <th>slope</th>\n",
       "      <th>ca</th>\n",
       "      <th>thal</th>\n",
       "      <th>hd</th>\n",
       "    </tr>\n",
       "  </thead>\n",
       "  <tbody>\n",
       "    <tr>\n",
       "      <th>0</th>\n",
       "      <td>63.0</td>\n",
       "      <td>1.0</td>\n",
       "      <td>1.0</td>\n",
       "      <td>145.0</td>\n",
       "      <td>233.0</td>\n",
       "      <td>1.0</td>\n",
       "      <td>2.0</td>\n",
       "      <td>150.0</td>\n",
       "      <td>0.0</td>\n",
       "      <td>2.3</td>\n",
       "      <td>3.0</td>\n",
       "      <td>0.0</td>\n",
       "      <td>6.0</td>\n",
       "      <td>0</td>\n",
       "    </tr>\n",
       "    <tr>\n",
       "      <th>1</th>\n",
       "      <td>67.0</td>\n",
       "      <td>1.0</td>\n",
       "      <td>4.0</td>\n",
       "      <td>160.0</td>\n",
       "      <td>286.0</td>\n",
       "      <td>0.0</td>\n",
       "      <td>2.0</td>\n",
       "      <td>108.0</td>\n",
       "      <td>1.0</td>\n",
       "      <td>1.5</td>\n",
       "      <td>2.0</td>\n",
       "      <td>3.0</td>\n",
       "      <td>3.0</td>\n",
       "      <td>2</td>\n",
       "    </tr>\n",
       "    <tr>\n",
       "      <th>2</th>\n",
       "      <td>67.0</td>\n",
       "      <td>1.0</td>\n",
       "      <td>4.0</td>\n",
       "      <td>120.0</td>\n",
       "      <td>229.0</td>\n",
       "      <td>0.0</td>\n",
       "      <td>2.0</td>\n",
       "      <td>129.0</td>\n",
       "      <td>1.0</td>\n",
       "      <td>2.6</td>\n",
       "      <td>2.0</td>\n",
       "      <td>2.0</td>\n",
       "      <td>7.0</td>\n",
       "      <td>1</td>\n",
       "    </tr>\n",
       "    <tr>\n",
       "      <th>3</th>\n",
       "      <td>37.0</td>\n",
       "      <td>1.0</td>\n",
       "      <td>3.0</td>\n",
       "      <td>130.0</td>\n",
       "      <td>250.0</td>\n",
       "      <td>0.0</td>\n",
       "      <td>0.0</td>\n",
       "      <td>187.0</td>\n",
       "      <td>0.0</td>\n",
       "      <td>3.5</td>\n",
       "      <td>3.0</td>\n",
       "      <td>0.0</td>\n",
       "      <td>3.0</td>\n",
       "      <td>0</td>\n",
       "    </tr>\n",
       "    <tr>\n",
       "      <th>4</th>\n",
       "      <td>41.0</td>\n",
       "      <td>0.0</td>\n",
       "      <td>2.0</td>\n",
       "      <td>130.0</td>\n",
       "      <td>204.0</td>\n",
       "      <td>0.0</td>\n",
       "      <td>2.0</td>\n",
       "      <td>172.0</td>\n",
       "      <td>0.0</td>\n",
       "      <td>1.4</td>\n",
       "      <td>1.0</td>\n",
       "      <td>0.0</td>\n",
       "      <td>3.0</td>\n",
       "      <td>0</td>\n",
       "    </tr>\n",
       "  </tbody>\n",
       "</table>\n",
       "</div>"
      ],
      "text/plain": [
       "    age  sex   cp  trestbp   chol  fbs  restecg  thalach  exang  oldpeak  \\\n",
       "0  63.0  1.0  1.0    145.0  233.0  1.0      2.0    150.0    0.0      2.3   \n",
       "1  67.0  1.0  4.0    160.0  286.0  0.0      2.0    108.0    1.0      1.5   \n",
       "2  67.0  1.0  4.0    120.0  229.0  0.0      2.0    129.0    1.0      2.6   \n",
       "3  37.0  1.0  3.0    130.0  250.0  0.0      0.0    187.0    0.0      3.5   \n",
       "4  41.0  0.0  2.0    130.0  204.0  0.0      2.0    172.0    0.0      1.4   \n",
       "\n",
       "   slope   ca thal  hd  \n",
       "0    3.0  0.0  6.0   0  \n",
       "1    2.0  3.0  3.0   2  \n",
       "2    2.0  2.0  7.0   1  \n",
       "3    3.0  0.0  3.0   0  \n",
       "4    1.0  0.0  3.0   0  "
      ]
     },
     "execution_count": 6,
     "metadata": {},
     "output_type": "execute_result"
    }
   ],
   "source": [
    "# print the first 5 rows\n",
    "df.head(5)"
   ]
  },
  {
   "cell_type": "markdown",
   "id": "8b10432c",
   "metadata": {
    "papermill": {
     "duration": 0.016396,
     "end_time": "2022-07-22T09:59:42.308407",
     "exception": false,
     "start_time": "2022-07-22T09:59:42.292011",
     "status": "completed"
    },
    "tags": []
   },
   "source": [
    "**The DF looks good now.**"
   ]
  },
  {
   "cell_type": "markdown",
   "id": "4a3d57aa",
   "metadata": {
    "papermill": {
     "duration": 0.015096,
     "end_time": "2022-07-22T09:59:42.338843",
     "exception": false,
     "start_time": "2022-07-22T09:59:42.323747",
     "status": "completed"
    },
    "tags": []
   },
   "source": [
    "# Let's deal with Missing Values."
   ]
  },
  {
   "cell_type": "code",
   "execution_count": 7,
   "id": "a112cae4",
   "metadata": {
    "execution": {
     "iopub.execute_input": "2022-07-22T09:59:42.370381Z",
     "iopub.status.busy": "2022-07-22T09:59:42.369615Z",
     "iopub.status.idle": "2022-07-22T09:59:42.376539Z",
     "shell.execute_reply": "2022-07-22T09:59:42.375820Z"
    },
    "papermill": {
     "duration": 0.025184,
     "end_time": "2022-07-22T09:59:42.378727",
     "exception": false,
     "start_time": "2022-07-22T09:59:42.353543",
     "status": "completed"
    },
    "tags": []
   },
   "outputs": [
    {
     "data": {
      "text/plain": [
       "age        float64\n",
       "sex        float64\n",
       "cp         float64\n",
       "trestbp    float64\n",
       "chol       float64\n",
       "fbs        float64\n",
       "restecg    float64\n",
       "thalach    float64\n",
       "exang      float64\n",
       "oldpeak    float64\n",
       "slope      float64\n",
       "ca          object\n",
       "thal        object\n",
       "hd           int64\n",
       "dtype: object"
      ]
     },
     "execution_count": 7,
     "metadata": {},
     "output_type": "execute_result"
    }
   ],
   "source": [
    "# Print the datatypes of all columns\n",
    "df.dtypes"
   ]
  },
  {
   "cell_type": "markdown",
   "id": "4f28bcb9",
   "metadata": {
    "papermill": {
     "duration": 0.01518,
     "end_time": "2022-07-22T09:59:42.409270",
     "exception": false,
     "start_time": "2022-07-22T09:59:42.394090",
     "status": "completed"
    },
    "tags": []
   },
   "source": [
    "**Hmmm..there seems to be something wrong with 'ca' and 'thal' column**. Let's dig more"
   ]
  },
  {
   "cell_type": "code",
   "execution_count": 8,
   "id": "afed63fd",
   "metadata": {
    "execution": {
     "iopub.execute_input": "2022-07-22T09:59:42.441895Z",
     "iopub.status.busy": "2022-07-22T09:59:42.441512Z",
     "iopub.status.idle": "2022-07-22T09:59:42.450902Z",
     "shell.execute_reply": "2022-07-22T09:59:42.450207Z"
    },
    "papermill": {
     "duration": 0.028459,
     "end_time": "2022-07-22T09:59:42.453201",
     "exception": false,
     "start_time": "2022-07-22T09:59:42.424742",
     "status": "completed"
    },
    "tags": []
   },
   "outputs": [
    {
     "data": {
      "text/plain": [
       "array(['0.0', '3.0', '2.0', '1.0', '?'], dtype=object)"
      ]
     },
     "execution_count": 8,
     "metadata": {},
     "output_type": "execute_result"
    }
   ],
   "source": [
    "df['ca'].unique()"
   ]
  },
  {
   "cell_type": "code",
   "execution_count": 9,
   "id": "1f8de377",
   "metadata": {
    "execution": {
     "iopub.execute_input": "2022-07-22T09:59:42.484785Z",
     "iopub.status.busy": "2022-07-22T09:59:42.484141Z",
     "iopub.status.idle": "2022-07-22T09:59:42.489889Z",
     "shell.execute_reply": "2022-07-22T09:59:42.489206Z"
    },
    "papermill": {
     "duration": 0.023204,
     "end_time": "2022-07-22T09:59:42.491781",
     "exception": false,
     "start_time": "2022-07-22T09:59:42.468577",
     "status": "completed"
    },
    "tags": []
   },
   "outputs": [
    {
     "data": {
      "text/plain": [
       "array(['6.0', '3.0', '7.0', '?'], dtype=object)"
      ]
     },
     "execution_count": 9,
     "metadata": {},
     "output_type": "execute_result"
    }
   ],
   "source": [
    "df['thal'].unique()"
   ]
  },
  {
   "cell_type": "markdown",
   "id": "af9e96b6",
   "metadata": {
    "papermill": {
     "duration": 0.015225,
     "end_time": "2022-07-22T09:59:42.521673",
     "exception": false,
     "start_time": "2022-07-22T09:59:42.506448",
     "status": "completed"
    },
    "tags": []
   },
   "source": [
    "**Some of the data is missing in 'ca' and 'thal' column**"
   ]
  },
  {
   "cell_type": "markdown",
   "id": "43d65d66",
   "metadata": {
    "papermill": {
     "duration": 0.014882,
     "end_time": "2022-07-22T09:59:42.551488",
     "exception": false,
     "start_time": "2022-07-22T09:59:42.536606",
     "status": "completed"
    },
    "tags": []
   },
   "source": [
    "Whenever there are missing values in data we either impute the values or remove the rows. The latter solution is easy but if there are so many rows with missing values then removing all the rows will result in small dataset for the training. Let's see how many rows contain the missing values."
   ]
  },
  {
   "cell_type": "code",
   "execution_count": 10,
   "id": "1f55aba8",
   "metadata": {
    "execution": {
     "iopub.execute_input": "2022-07-22T09:59:42.583514Z",
     "iopub.status.busy": "2022-07-22T09:59:42.582688Z",
     "iopub.status.idle": "2022-07-22T09:59:42.593102Z",
     "shell.execute_reply": "2022-07-22T09:59:42.592052Z"
    },
    "papermill": {
     "duration": 0.028582,
     "end_time": "2022-07-22T09:59:42.595150",
     "exception": false,
     "start_time": "2022-07-22T09:59:42.566568",
     "status": "completed"
    },
    "tags": []
   },
   "outputs": [
    {
     "data": {
      "text/plain": [
       "6"
      ]
     },
     "execution_count": 10,
     "metadata": {},
     "output_type": "execute_result"
    }
   ],
   "source": [
    "len(df[(df['ca'] == '?') | (df['thal'] == '?')])"
   ]
  },
  {
   "cell_type": "code",
   "execution_count": 11,
   "id": "fd0f2676",
   "metadata": {
    "execution": {
     "iopub.execute_input": "2022-07-22T09:59:42.628139Z",
     "iopub.status.busy": "2022-07-22T09:59:42.627469Z",
     "iopub.status.idle": "2022-07-22T09:59:42.633081Z",
     "shell.execute_reply": "2022-07-22T09:59:42.632133Z"
    },
    "papermill": {
     "duration": 0.024508,
     "end_time": "2022-07-22T09:59:42.635106",
     "exception": false,
     "start_time": "2022-07-22T09:59:42.610598",
     "status": "completed"
    },
    "tags": []
   },
   "outputs": [
    {
     "data": {
      "text/plain": [
       "303"
      ]
     },
     "execution_count": 11,
     "metadata": {},
     "output_type": "execute_result"
    }
   ],
   "source": [
    "len(df)"
   ]
  },
  {
   "cell_type": "markdown",
   "id": "8d72e3f8",
   "metadata": {
    "papermill": {
     "duration": 0.015489,
     "end_time": "2022-07-22T09:59:42.666388",
     "exception": false,
     "start_time": "2022-07-22T09:59:42.650899",
     "status": "completed"
    },
    "tags": []
   },
   "source": [
    "**I will remove the rows with the missing values because we would still have enough data to train model.**"
   ]
  },
  {
   "cell_type": "code",
   "execution_count": 12,
   "id": "c9237908",
   "metadata": {
    "execution": {
     "iopub.execute_input": "2022-07-22T09:59:42.698768Z",
     "iopub.status.busy": "2022-07-22T09:59:42.698434Z",
     "iopub.status.idle": "2022-07-22T09:59:42.704038Z",
     "shell.execute_reply": "2022-07-22T09:59:42.703301Z"
    },
    "papermill": {
     "duration": 0.024001,
     "end_time": "2022-07-22T09:59:42.705897",
     "exception": false,
     "start_time": "2022-07-22T09:59:42.681896",
     "status": "completed"
    },
    "tags": []
   },
   "outputs": [],
   "source": [
    "df_notmiss = df[(df['ca'] != '?') & (df['thal'] != '?')]"
   ]
  },
  {
   "cell_type": "code",
   "execution_count": 13,
   "id": "20eee07b",
   "metadata": {
    "execution": {
     "iopub.execute_input": "2022-07-22T09:59:42.739720Z",
     "iopub.status.busy": "2022-07-22T09:59:42.739079Z",
     "iopub.status.idle": "2022-07-22T09:59:42.745305Z",
     "shell.execute_reply": "2022-07-22T09:59:42.744509Z"
    },
    "papermill": {
     "duration": 0.025882,
     "end_time": "2022-07-22T09:59:42.747242",
     "exception": false,
     "start_time": "2022-07-22T09:59:42.721360",
     "status": "completed"
    },
    "tags": []
   },
   "outputs": [
    {
     "data": {
      "text/plain": [
       "297"
      ]
     },
     "execution_count": 13,
     "metadata": {},
     "output_type": "execute_result"
    }
   ],
   "source": [
    "len(df_notmiss)"
   ]
  },
  {
   "cell_type": "markdown",
   "id": "b27720f0",
   "metadata": {
    "papermill": {
     "duration": 0.015873,
     "end_time": "2022-07-22T09:59:42.779792",
     "exception": false,
     "start_time": "2022-07-22T09:59:42.763919",
     "status": "completed"
    },
    "tags": []
   },
   "source": [
    "Let's check values of ca and thal column to be double sure."
   ]
  },
  {
   "cell_type": "code",
   "execution_count": 14,
   "id": "0d8da00a",
   "metadata": {
    "execution": {
     "iopub.execute_input": "2022-07-22T09:59:42.812412Z",
     "iopub.status.busy": "2022-07-22T09:59:42.812009Z",
     "iopub.status.idle": "2022-07-22T09:59:42.818627Z",
     "shell.execute_reply": "2022-07-22T09:59:42.817680Z"
    },
    "papermill": {
     "duration": 0.025347,
     "end_time": "2022-07-22T09:59:42.820618",
     "exception": false,
     "start_time": "2022-07-22T09:59:42.795271",
     "status": "completed"
    },
    "tags": []
   },
   "outputs": [
    {
     "data": {
      "text/plain": [
       "array(['0.0', '3.0', '2.0', '1.0'], dtype=object)"
      ]
     },
     "execution_count": 14,
     "metadata": {},
     "output_type": "execute_result"
    }
   ],
   "source": [
    "df_notmiss['ca'].unique()"
   ]
  },
  {
   "cell_type": "code",
   "execution_count": 15,
   "id": "17f4edbb",
   "metadata": {
    "execution": {
     "iopub.execute_input": "2022-07-22T09:59:42.855802Z",
     "iopub.status.busy": "2022-07-22T09:59:42.855106Z",
     "iopub.status.idle": "2022-07-22T09:59:42.861014Z",
     "shell.execute_reply": "2022-07-22T09:59:42.860289Z"
    },
    "papermill": {
     "duration": 0.026005,
     "end_time": "2022-07-22T09:59:42.863006",
     "exception": false,
     "start_time": "2022-07-22T09:59:42.837001",
     "status": "completed"
    },
    "tags": []
   },
   "outputs": [
    {
     "data": {
      "text/plain": [
       "array(['6.0', '3.0', '7.0'], dtype=object)"
      ]
     },
     "execution_count": 15,
     "metadata": {},
     "output_type": "execute_result"
    }
   ],
   "source": [
    "df_notmiss['thal'].unique()"
   ]
  },
  {
   "cell_type": "code",
   "execution_count": 16,
   "id": "cf0bb4f3",
   "metadata": {
    "execution": {
     "iopub.execute_input": "2022-07-22T09:59:42.898393Z",
     "iopub.status.busy": "2022-07-22T09:59:42.897692Z",
     "iopub.status.idle": "2022-07-22T09:59:42.904222Z",
     "shell.execute_reply": "2022-07-22T09:59:42.903238Z"
    },
    "papermill": {
     "duration": 0.026453,
     "end_time": "2022-07-22T09:59:42.906422",
     "exception": false,
     "start_time": "2022-07-22T09:59:42.879969",
     "status": "completed"
    },
    "tags": []
   },
   "outputs": [
    {
     "data": {
      "text/plain": [
       "array([2., 0., 1.])"
      ]
     },
     "execution_count": 16,
     "metadata": {},
     "output_type": "execute_result"
    }
   ],
   "source": [
    "df_notmiss['restecg'].unique()"
   ]
  },
  {
   "cell_type": "markdown",
   "id": "332787f1",
   "metadata": {
    "papermill": {
     "duration": 0.016042,
     "end_time": "2022-07-22T09:59:42.938499",
     "exception": false,
     "start_time": "2022-07-22T09:59:42.922457",
     "status": "completed"
    },
    "tags": []
   },
   "source": [
    "# Hurray!!!! We have dealt with missing data. Now, let's build classification tree."
   ]
  },
  {
   "cell_type": "markdown",
   "id": "8e831f00",
   "metadata": {
    "papermill": {
     "duration": 0.015404,
     "end_time": "2022-07-22T09:59:42.969827",
     "exception": false,
     "start_time": "2022-07-22T09:59:42.954423",
     "status": "completed"
    },
    "tags": []
   },
   "source": [
    "First split the dataset into independent and dependent variables."
   ]
  },
  {
   "cell_type": "code",
   "execution_count": 17,
   "id": "cf1d5304",
   "metadata": {
    "execution": {
     "iopub.execute_input": "2022-07-22T09:59:43.003656Z",
     "iopub.status.busy": "2022-07-22T09:59:43.002905Z",
     "iopub.status.idle": "2022-07-22T09:59:43.026551Z",
     "shell.execute_reply": "2022-07-22T09:59:43.025520Z"
    },
    "papermill": {
     "duration": 0.043349,
     "end_time": "2022-07-22T09:59:43.028766",
     "exception": false,
     "start_time": "2022-07-22T09:59:42.985417",
     "status": "completed"
    },
    "tags": []
   },
   "outputs": [
    {
     "data": {
      "text/html": [
       "<div>\n",
       "<style scoped>\n",
       "    .dataframe tbody tr th:only-of-type {\n",
       "        vertical-align: middle;\n",
       "    }\n",
       "\n",
       "    .dataframe tbody tr th {\n",
       "        vertical-align: top;\n",
       "    }\n",
       "\n",
       "    .dataframe thead th {\n",
       "        text-align: right;\n",
       "    }\n",
       "</style>\n",
       "<table border=\"1\" class=\"dataframe\">\n",
       "  <thead>\n",
       "    <tr style=\"text-align: right;\">\n",
       "      <th></th>\n",
       "      <th>age</th>\n",
       "      <th>sex</th>\n",
       "      <th>cp</th>\n",
       "      <th>trestbp</th>\n",
       "      <th>chol</th>\n",
       "      <th>fbs</th>\n",
       "      <th>restecg</th>\n",
       "      <th>thalach</th>\n",
       "      <th>exang</th>\n",
       "      <th>oldpeak</th>\n",
       "      <th>slope</th>\n",
       "      <th>ca</th>\n",
       "      <th>thal</th>\n",
       "    </tr>\n",
       "  </thead>\n",
       "  <tbody>\n",
       "    <tr>\n",
       "      <th>0</th>\n",
       "      <td>63.0</td>\n",
       "      <td>1.0</td>\n",
       "      <td>1.0</td>\n",
       "      <td>145.0</td>\n",
       "      <td>233.0</td>\n",
       "      <td>1.0</td>\n",
       "      <td>2.0</td>\n",
       "      <td>150.0</td>\n",
       "      <td>0.0</td>\n",
       "      <td>2.3</td>\n",
       "      <td>3.0</td>\n",
       "      <td>0.0</td>\n",
       "      <td>6.0</td>\n",
       "    </tr>\n",
       "    <tr>\n",
       "      <th>1</th>\n",
       "      <td>67.0</td>\n",
       "      <td>1.0</td>\n",
       "      <td>4.0</td>\n",
       "      <td>160.0</td>\n",
       "      <td>286.0</td>\n",
       "      <td>0.0</td>\n",
       "      <td>2.0</td>\n",
       "      <td>108.0</td>\n",
       "      <td>1.0</td>\n",
       "      <td>1.5</td>\n",
       "      <td>2.0</td>\n",
       "      <td>3.0</td>\n",
       "      <td>3.0</td>\n",
       "    </tr>\n",
       "    <tr>\n",
       "      <th>2</th>\n",
       "      <td>67.0</td>\n",
       "      <td>1.0</td>\n",
       "      <td>4.0</td>\n",
       "      <td>120.0</td>\n",
       "      <td>229.0</td>\n",
       "      <td>0.0</td>\n",
       "      <td>2.0</td>\n",
       "      <td>129.0</td>\n",
       "      <td>1.0</td>\n",
       "      <td>2.6</td>\n",
       "      <td>2.0</td>\n",
       "      <td>2.0</td>\n",
       "      <td>7.0</td>\n",
       "    </tr>\n",
       "    <tr>\n",
       "      <th>3</th>\n",
       "      <td>37.0</td>\n",
       "      <td>1.0</td>\n",
       "      <td>3.0</td>\n",
       "      <td>130.0</td>\n",
       "      <td>250.0</td>\n",
       "      <td>0.0</td>\n",
       "      <td>0.0</td>\n",
       "      <td>187.0</td>\n",
       "      <td>0.0</td>\n",
       "      <td>3.5</td>\n",
       "      <td>3.0</td>\n",
       "      <td>0.0</td>\n",
       "      <td>3.0</td>\n",
       "    </tr>\n",
       "    <tr>\n",
       "      <th>4</th>\n",
       "      <td>41.0</td>\n",
       "      <td>0.0</td>\n",
       "      <td>2.0</td>\n",
       "      <td>130.0</td>\n",
       "      <td>204.0</td>\n",
       "      <td>0.0</td>\n",
       "      <td>2.0</td>\n",
       "      <td>172.0</td>\n",
       "      <td>0.0</td>\n",
       "      <td>1.4</td>\n",
       "      <td>1.0</td>\n",
       "      <td>0.0</td>\n",
       "      <td>3.0</td>\n",
       "    </tr>\n",
       "  </tbody>\n",
       "</table>\n",
       "</div>"
      ],
      "text/plain": [
       "    age  sex   cp  trestbp   chol  fbs  restecg  thalach  exang  oldpeak  \\\n",
       "0  63.0  1.0  1.0    145.0  233.0  1.0      2.0    150.0    0.0      2.3   \n",
       "1  67.0  1.0  4.0    160.0  286.0  0.0      2.0    108.0    1.0      1.5   \n",
       "2  67.0  1.0  4.0    120.0  229.0  0.0      2.0    129.0    1.0      2.6   \n",
       "3  37.0  1.0  3.0    130.0  250.0  0.0      0.0    187.0    0.0      3.5   \n",
       "4  41.0  0.0  2.0    130.0  204.0  0.0      2.0    172.0    0.0      1.4   \n",
       "\n",
       "   slope   ca thal  \n",
       "0    3.0  0.0  6.0  \n",
       "1    2.0  3.0  3.0  \n",
       "2    2.0  2.0  7.0  \n",
       "3    3.0  0.0  3.0  \n",
       "4    1.0  0.0  3.0  "
      ]
     },
     "execution_count": 17,
     "metadata": {},
     "output_type": "execute_result"
    }
   ],
   "source": [
    "X = df_notmiss.drop('hd',axis = 1).copy()\n",
    "X.head()"
   ]
  },
  {
   "cell_type": "code",
   "execution_count": 18,
   "id": "57be5230",
   "metadata": {
    "execution": {
     "iopub.execute_input": "2022-07-22T09:59:43.063435Z",
     "iopub.status.busy": "2022-07-22T09:59:43.062718Z",
     "iopub.status.idle": "2022-07-22T09:59:43.069884Z",
     "shell.execute_reply": "2022-07-22T09:59:43.069094Z"
    },
    "papermill": {
     "duration": 0.026345,
     "end_time": "2022-07-22T09:59:43.071860",
     "exception": false,
     "start_time": "2022-07-22T09:59:43.045515",
     "status": "completed"
    },
    "tags": []
   },
   "outputs": [
    {
     "data": {
      "text/plain": [
       "0    0\n",
       "1    2\n",
       "2    1\n",
       "3    0\n",
       "4    0\n",
       "Name: hd, dtype: int64"
      ]
     },
     "execution_count": 18,
     "metadata": {},
     "output_type": "execute_result"
    }
   ],
   "source": [
    "y = df_notmiss['hd']\n",
    "y.head()"
   ]
  },
  {
   "cell_type": "markdown",
   "id": "abbd0807",
   "metadata": {
    "papermill": {
     "duration": 0.015227,
     "end_time": "2022-07-22T09:59:43.102717",
     "exception": false,
     "start_time": "2022-07-22T09:59:43.087490",
     "status": "completed"
    },
    "tags": []
   },
   "source": [
    "**We need to take care of Categorical data.**"
   ]
  },
  {
   "cell_type": "code",
   "execution_count": 19,
   "id": "ce8d772e",
   "metadata": {
    "execution": {
     "iopub.execute_input": "2022-07-22T09:59:43.136121Z",
     "iopub.status.busy": "2022-07-22T09:59:43.135524Z",
     "iopub.status.idle": "2022-07-22T09:59:43.163195Z",
     "shell.execute_reply": "2022-07-22T09:59:43.162164Z"
    },
    "papermill": {
     "duration": 0.0472,
     "end_time": "2022-07-22T09:59:43.165358",
     "exception": false,
     "start_time": "2022-07-22T09:59:43.118158",
     "status": "completed"
    },
    "tags": []
   },
   "outputs": [
    {
     "data": {
      "text/html": [
       "<div>\n",
       "<style scoped>\n",
       "    .dataframe tbody tr th:only-of-type {\n",
       "        vertical-align: middle;\n",
       "    }\n",
       "\n",
       "    .dataframe tbody tr th {\n",
       "        vertical-align: top;\n",
       "    }\n",
       "\n",
       "    .dataframe thead th {\n",
       "        text-align: right;\n",
       "    }\n",
       "</style>\n",
       "<table border=\"1\" class=\"dataframe\">\n",
       "  <thead>\n",
       "    <tr style=\"text-align: right;\">\n",
       "      <th></th>\n",
       "      <th>age</th>\n",
       "      <th>sex</th>\n",
       "      <th>trestbp</th>\n",
       "      <th>chol</th>\n",
       "      <th>fbs</th>\n",
       "      <th>thalach</th>\n",
       "      <th>exang</th>\n",
       "      <th>oldpeak</th>\n",
       "      <th>ca</th>\n",
       "      <th>cp_1.0</th>\n",
       "      <th>...</th>\n",
       "      <th>cp_4.0</th>\n",
       "      <th>restecg_0.0</th>\n",
       "      <th>restecg_1.0</th>\n",
       "      <th>restecg_2.0</th>\n",
       "      <th>slope_1.0</th>\n",
       "      <th>slope_2.0</th>\n",
       "      <th>slope_3.0</th>\n",
       "      <th>thal_3.0</th>\n",
       "      <th>thal_6.0</th>\n",
       "      <th>thal_7.0</th>\n",
       "    </tr>\n",
       "  </thead>\n",
       "  <tbody>\n",
       "    <tr>\n",
       "      <th>0</th>\n",
       "      <td>63.0</td>\n",
       "      <td>1.0</td>\n",
       "      <td>145.0</td>\n",
       "      <td>233.0</td>\n",
       "      <td>1.0</td>\n",
       "      <td>150.0</td>\n",
       "      <td>0.0</td>\n",
       "      <td>2.3</td>\n",
       "      <td>0.0</td>\n",
       "      <td>1</td>\n",
       "      <td>...</td>\n",
       "      <td>0</td>\n",
       "      <td>0</td>\n",
       "      <td>0</td>\n",
       "      <td>1</td>\n",
       "      <td>0</td>\n",
       "      <td>0</td>\n",
       "      <td>1</td>\n",
       "      <td>0</td>\n",
       "      <td>1</td>\n",
       "      <td>0</td>\n",
       "    </tr>\n",
       "    <tr>\n",
       "      <th>1</th>\n",
       "      <td>67.0</td>\n",
       "      <td>1.0</td>\n",
       "      <td>160.0</td>\n",
       "      <td>286.0</td>\n",
       "      <td>0.0</td>\n",
       "      <td>108.0</td>\n",
       "      <td>1.0</td>\n",
       "      <td>1.5</td>\n",
       "      <td>3.0</td>\n",
       "      <td>0</td>\n",
       "      <td>...</td>\n",
       "      <td>1</td>\n",
       "      <td>0</td>\n",
       "      <td>0</td>\n",
       "      <td>1</td>\n",
       "      <td>0</td>\n",
       "      <td>1</td>\n",
       "      <td>0</td>\n",
       "      <td>1</td>\n",
       "      <td>0</td>\n",
       "      <td>0</td>\n",
       "    </tr>\n",
       "    <tr>\n",
       "      <th>2</th>\n",
       "      <td>67.0</td>\n",
       "      <td>1.0</td>\n",
       "      <td>120.0</td>\n",
       "      <td>229.0</td>\n",
       "      <td>0.0</td>\n",
       "      <td>129.0</td>\n",
       "      <td>1.0</td>\n",
       "      <td>2.6</td>\n",
       "      <td>2.0</td>\n",
       "      <td>0</td>\n",
       "      <td>...</td>\n",
       "      <td>1</td>\n",
       "      <td>0</td>\n",
       "      <td>0</td>\n",
       "      <td>1</td>\n",
       "      <td>0</td>\n",
       "      <td>1</td>\n",
       "      <td>0</td>\n",
       "      <td>0</td>\n",
       "      <td>0</td>\n",
       "      <td>1</td>\n",
       "    </tr>\n",
       "    <tr>\n",
       "      <th>3</th>\n",
       "      <td>37.0</td>\n",
       "      <td>1.0</td>\n",
       "      <td>130.0</td>\n",
       "      <td>250.0</td>\n",
       "      <td>0.0</td>\n",
       "      <td>187.0</td>\n",
       "      <td>0.0</td>\n",
       "      <td>3.5</td>\n",
       "      <td>0.0</td>\n",
       "      <td>0</td>\n",
       "      <td>...</td>\n",
       "      <td>0</td>\n",
       "      <td>1</td>\n",
       "      <td>0</td>\n",
       "      <td>0</td>\n",
       "      <td>0</td>\n",
       "      <td>0</td>\n",
       "      <td>1</td>\n",
       "      <td>1</td>\n",
       "      <td>0</td>\n",
       "      <td>0</td>\n",
       "    </tr>\n",
       "    <tr>\n",
       "      <th>4</th>\n",
       "      <td>41.0</td>\n",
       "      <td>0.0</td>\n",
       "      <td>130.0</td>\n",
       "      <td>204.0</td>\n",
       "      <td>0.0</td>\n",
       "      <td>172.0</td>\n",
       "      <td>0.0</td>\n",
       "      <td>1.4</td>\n",
       "      <td>0.0</td>\n",
       "      <td>0</td>\n",
       "      <td>...</td>\n",
       "      <td>0</td>\n",
       "      <td>0</td>\n",
       "      <td>0</td>\n",
       "      <td>1</td>\n",
       "      <td>1</td>\n",
       "      <td>0</td>\n",
       "      <td>0</td>\n",
       "      <td>1</td>\n",
       "      <td>0</td>\n",
       "      <td>0</td>\n",
       "    </tr>\n",
       "  </tbody>\n",
       "</table>\n",
       "<p>5 rows × 22 columns</p>\n",
       "</div>"
      ],
      "text/plain": [
       "    age  sex  trestbp   chol  fbs  thalach  exang  oldpeak   ca  cp_1.0  ...  \\\n",
       "0  63.0  1.0    145.0  233.0  1.0    150.0    0.0      2.3  0.0       1  ...   \n",
       "1  67.0  1.0    160.0  286.0  0.0    108.0    1.0      1.5  3.0       0  ...   \n",
       "2  67.0  1.0    120.0  229.0  0.0    129.0    1.0      2.6  2.0       0  ...   \n",
       "3  37.0  1.0    130.0  250.0  0.0    187.0    0.0      3.5  0.0       0  ...   \n",
       "4  41.0  0.0    130.0  204.0  0.0    172.0    0.0      1.4  0.0       0  ...   \n",
       "\n",
       "   cp_4.0  restecg_0.0  restecg_1.0  restecg_2.0  slope_1.0  slope_2.0  \\\n",
       "0       0            0            0            1          0          0   \n",
       "1       1            0            0            1          0          1   \n",
       "2       1            0            0            1          0          1   \n",
       "3       0            1            0            0          0          0   \n",
       "4       0            0            0            1          1          0   \n",
       "\n",
       "   slope_3.0  thal_3.0  thal_6.0  thal_7.0  \n",
       "0          1         0         1         0  \n",
       "1          0         1         0         0  \n",
       "2          0         0         0         1  \n",
       "3          1         1         0         0  \n",
       "4          0         1         0         0  \n",
       "\n",
       "[5 rows x 22 columns]"
      ]
     },
     "execution_count": 19,
     "metadata": {},
     "output_type": "execute_result"
    }
   ],
   "source": [
    "X_encoded = pd.get_dummies(X, columns = ['cp','restecg','slope','thal'])\n",
    "X_encoded.head()"
   ]
  },
  {
   "cell_type": "markdown",
   "id": "39d9fabe",
   "metadata": {
    "papermill": {
     "duration": 0.015652,
     "end_time": "2022-07-22T09:59:43.197584",
     "exception": false,
     "start_time": "2022-07-22T09:59:43.181932",
     "status": "completed"
    },
    "tags": []
   },
   "source": [
    "We will now convert the y dataset into binary dataset."
   ]
  },
  {
   "cell_type": "code",
   "execution_count": 20,
   "id": "7c57dc3c",
   "metadata": {
    "execution": {
     "iopub.execute_input": "2022-07-22T09:59:43.233484Z",
     "iopub.status.busy": "2022-07-22T09:59:43.233099Z",
     "iopub.status.idle": "2022-07-22T09:59:43.239925Z",
     "shell.execute_reply": "2022-07-22T09:59:43.239119Z"
    },
    "papermill": {
     "duration": 0.027203,
     "end_time": "2022-07-22T09:59:43.241997",
     "exception": false,
     "start_time": "2022-07-22T09:59:43.214794",
     "status": "completed"
    },
    "tags": []
   },
   "outputs": [
    {
     "data": {
      "text/plain": [
       "array([0, 2, 1, 3, 4])"
      ]
     },
     "execution_count": 20,
     "metadata": {},
     "output_type": "execute_result"
    }
   ],
   "source": [
    "y.unique()"
   ]
  },
  {
   "cell_type": "code",
   "execution_count": 21,
   "id": "b190349c",
   "metadata": {
    "execution": {
     "iopub.execute_input": "2022-07-22T09:59:43.277583Z",
     "iopub.status.busy": "2022-07-22T09:59:43.276975Z",
     "iopub.status.idle": "2022-07-22T09:59:43.291550Z",
     "shell.execute_reply": "2022-07-22T09:59:43.290240Z"
    },
    "papermill": {
     "duration": 0.035766,
     "end_time": "2022-07-22T09:59:43.293946",
     "exception": false,
     "start_time": "2022-07-22T09:59:43.258180",
     "status": "completed"
    },
    "tags": []
   },
   "outputs": [
    {
     "name": "stderr",
     "output_type": "stream",
     "text": [
      "/opt/conda/lib/python3.7/site-packages/ipykernel_launcher.py:2: SettingWithCopyWarning: \n",
      "A value is trying to be set on a copy of a slice from a DataFrame\n",
      "\n",
      "See the caveats in the documentation: https://pandas.pydata.org/pandas-docs/stable/user_guide/indexing.html#returning-a-view-versus-a-copy\n",
      "  \n",
      "/opt/conda/lib/python3.7/site-packages/pandas/core/generic.py:8870: SettingWithCopyWarning: \n",
      "A value is trying to be set on a copy of a slice from a DataFrame\n",
      "\n",
      "See the caveats in the documentation: https://pandas.pydata.org/pandas-docs/stable/user_guide/indexing.html#returning-a-view-versus-a-copy\n",
      "  return self._update_inplace(result)\n"
     ]
    },
    {
     "data": {
      "text/plain": [
       "array([0, 1])"
      ]
     },
     "execution_count": 21,
     "metadata": {},
     "output_type": "execute_result"
    }
   ],
   "source": [
    "y_not_zero_index = y>0\n",
    "y[y_not_zero_index] = 1\n",
    "y.unique()"
   ]
  },
  {
   "cell_type": "markdown",
   "id": "f0366a7d",
   "metadata": {
    "papermill": {
     "duration": 0.016964,
     "end_time": "2022-07-22T09:59:43.327386",
     "exception": false,
     "start_time": "2022-07-22T09:59:43.310422",
     "status": "completed"
    },
    "tags": []
   },
   "source": [
    "**Let's start building tree**"
   ]
  },
  {
   "cell_type": "code",
   "execution_count": 22,
   "id": "f8d18952",
   "metadata": {
    "execution": {
     "iopub.execute_input": "2022-07-22T09:59:43.364166Z",
     "iopub.status.busy": "2022-07-22T09:59:43.363532Z",
     "iopub.status.idle": "2022-07-22T09:59:43.369678Z",
     "shell.execute_reply": "2022-07-22T09:59:43.368795Z"
    },
    "papermill": {
     "duration": 0.026732,
     "end_time": "2022-07-22T09:59:43.371683",
     "exception": false,
     "start_time": "2022-07-22T09:59:43.344951",
     "status": "completed"
    },
    "tags": []
   },
   "outputs": [],
   "source": [
    "# First we will need to split the data into train and test set\n",
    "X_train,X_test,y_train,y_test = train_test_split(X_encoded,y,random_state = 42) # use the same random state to get same split"
   ]
  },
  {
   "cell_type": "code",
   "execution_count": 23,
   "id": "1639d8c0",
   "metadata": {
    "execution": {
     "iopub.execute_input": "2022-07-22T09:59:43.405771Z",
     "iopub.status.busy": "2022-07-22T09:59:43.405437Z",
     "iopub.status.idle": "2022-07-22T09:59:43.415677Z",
     "shell.execute_reply": "2022-07-22T09:59:43.414659Z"
    },
    "papermill": {
     "duration": 0.029918,
     "end_time": "2022-07-22T09:59:43.417655",
     "exception": false,
     "start_time": "2022-07-22T09:59:43.387737",
     "status": "completed"
    },
    "tags": []
   },
   "outputs": [],
   "source": [
    "# Create a decision tree and fit it to the training data\n",
    "root_dt = DecisionTreeClassifier(random_state = 42)\n",
    "root_dt = root_dt.fit(X_train,y_train) # We call it a preliminary tree becauase it's not optimised\n"
   ]
  },
  {
   "cell_type": "code",
   "execution_count": 24,
   "id": "40ec4ea2",
   "metadata": {
    "execution": {
     "iopub.execute_input": "2022-07-22T09:59:43.453126Z",
     "iopub.status.busy": "2022-07-22T09:59:43.452756Z",
     "iopub.status.idle": "2022-07-22T09:59:47.956092Z",
     "shell.execute_reply": "2022-07-22T09:59:47.954814Z"
    },
    "papermill": {
     "duration": 4.524641,
     "end_time": "2022-07-22T09:59:47.959329",
     "exception": false,
     "start_time": "2022-07-22T09:59:43.434688",
     "status": "completed"
    },
    "tags": []
   },
   "outputs": [
    {
     "data": {
      "text/plain": [
       "[Text(0.5732758620689655, 0.9583333333333334, 'ca <= 0.5\\ngini = 0.498\\nsamples = 222\\nvalue = [118, 104]\\nclass = No HD'),\n",
       " Text(0.33189655172413796, 0.875, 'thal_7.0 <= 0.5\\ngini = 0.382\\nsamples = 132\\nvalue = [98, 34]\\nclass = No HD'),\n",
       " Text(0.2025862068965517, 0.7916666666666666, 'oldpeak <= 2.7\\ngini = 0.24\\nsamples = 93\\nvalue = [80, 13]\\nclass = No HD'),\n",
       " Text(0.14655172413793102, 0.7083333333333334, 'age <= 58.5\\ngini = 0.185\\nsamples = 87\\nvalue = [78, 9]\\nclass = No HD'),\n",
       " Text(0.08620689655172414, 0.625, 'chol <= 311.5\\ngini = 0.061\\nsamples = 63\\nvalue = [61, 2]\\nclass = No HD'),\n",
       " Text(0.05172413793103448, 0.5416666666666666, 'trestbp <= 109.0\\ngini = 0.033\\nsamples = 60\\nvalue = [59, 1]\\nclass = No HD'),\n",
       " Text(0.034482758620689655, 0.4583333333333333, 'sex <= 0.5\\ngini = 0.278\\nsamples = 6\\nvalue = [5, 1]\\nclass = No HD'),\n",
       " Text(0.017241379310344827, 0.375, 'gini = 0.0\\nsamples = 4\\nvalue = [4, 0]\\nclass = No HD'),\n",
       " Text(0.05172413793103448, 0.375, 'exang <= 0.5\\ngini = 0.5\\nsamples = 2\\nvalue = [1, 1]\\nclass = No HD'),\n",
       " Text(0.034482758620689655, 0.2916666666666667, 'gini = 0.0\\nsamples = 1\\nvalue = [0, 1]\\nclass = Yes HD'),\n",
       " Text(0.06896551724137931, 0.2916666666666667, 'gini = 0.0\\nsamples = 1\\nvalue = [1, 0]\\nclass = No HD'),\n",
       " Text(0.06896551724137931, 0.4583333333333333, 'gini = 0.0\\nsamples = 54\\nvalue = [54, 0]\\nclass = No HD'),\n",
       " Text(0.1206896551724138, 0.5416666666666666, 'thal_6.0 <= 0.5\\ngini = 0.444\\nsamples = 3\\nvalue = [2, 1]\\nclass = No HD'),\n",
       " Text(0.10344827586206896, 0.4583333333333333, 'gini = 0.0\\nsamples = 2\\nvalue = [2, 0]\\nclass = No HD'),\n",
       " Text(0.13793103448275862, 0.4583333333333333, 'gini = 0.0\\nsamples = 1\\nvalue = [0, 1]\\nclass = Yes HD'),\n",
       " Text(0.20689655172413793, 0.625, 'oldpeak <= 1.45\\ngini = 0.413\\nsamples = 24\\nvalue = [17, 7]\\nclass = No HD'),\n",
       " Text(0.1896551724137931, 0.5416666666666666, 'fbs <= 0.5\\ngini = 0.484\\nsamples = 17\\nvalue = [10, 7]\\nclass = No HD'),\n",
       " Text(0.1724137931034483, 0.4583333333333333, 'age <= 64.5\\ngini = 0.498\\nsamples = 15\\nvalue = [8, 7]\\nclass = No HD'),\n",
       " Text(0.13793103448275862, 0.375, 'thalach <= 148.5\\ngini = 0.48\\nsamples = 10\\nvalue = [4, 6]\\nclass = Yes HD'),\n",
       " Text(0.1206896551724138, 0.2916666666666667, 'gini = 0.0\\nsamples = 3\\nvalue = [0, 3]\\nclass = Yes HD'),\n",
       " Text(0.15517241379310345, 0.2916666666666667, 'oldpeak <= 1.3\\ngini = 0.49\\nsamples = 7\\nvalue = [4, 3]\\nclass = No HD'),\n",
       " Text(0.13793103448275862, 0.20833333333333334, 'chol <= 327.5\\ngini = 0.444\\nsamples = 6\\nvalue = [4, 2]\\nclass = No HD'),\n",
       " Text(0.1206896551724138, 0.125, 'gini = 0.0\\nsamples = 3\\nvalue = [3, 0]\\nclass = No HD'),\n",
       " Text(0.15517241379310345, 0.125, 'oldpeak <= 0.6\\ngini = 0.444\\nsamples = 3\\nvalue = [1, 2]\\nclass = Yes HD'),\n",
       " Text(0.13793103448275862, 0.041666666666666664, 'gini = 0.0\\nsamples = 2\\nvalue = [0, 2]\\nclass = Yes HD'),\n",
       " Text(0.1724137931034483, 0.041666666666666664, 'gini = 0.0\\nsamples = 1\\nvalue = [1, 0]\\nclass = No HD'),\n",
       " Text(0.1724137931034483, 0.20833333333333334, 'gini = 0.0\\nsamples = 1\\nvalue = [0, 1]\\nclass = Yes HD'),\n",
       " Text(0.20689655172413793, 0.375, 'thalach <= 93.5\\ngini = 0.32\\nsamples = 5\\nvalue = [4, 1]\\nclass = No HD'),\n",
       " Text(0.1896551724137931, 0.2916666666666667, 'gini = 0.0\\nsamples = 1\\nvalue = [0, 1]\\nclass = Yes HD'),\n",
       " Text(0.22413793103448276, 0.2916666666666667, 'gini = 0.0\\nsamples = 4\\nvalue = [4, 0]\\nclass = No HD'),\n",
       " Text(0.20689655172413793, 0.4583333333333333, 'gini = 0.0\\nsamples = 2\\nvalue = [2, 0]\\nclass = No HD'),\n",
       " Text(0.22413793103448276, 0.5416666666666666, 'gini = 0.0\\nsamples = 7\\nvalue = [7, 0]\\nclass = No HD'),\n",
       " Text(0.25862068965517243, 0.7083333333333334, 'thalach <= 147.5\\ngini = 0.444\\nsamples = 6\\nvalue = [2, 4]\\nclass = Yes HD'),\n",
       " Text(0.2413793103448276, 0.625, 'gini = 0.0\\nsamples = 3\\nvalue = [0, 3]\\nclass = Yes HD'),\n",
       " Text(0.27586206896551724, 0.625, 'age <= 52.5\\ngini = 0.444\\nsamples = 3\\nvalue = [2, 1]\\nclass = No HD'),\n",
       " Text(0.25862068965517243, 0.5416666666666666, 'gini = 0.0\\nsamples = 2\\nvalue = [2, 0]\\nclass = No HD'),\n",
       " Text(0.29310344827586204, 0.5416666666666666, 'gini = 0.0\\nsamples = 1\\nvalue = [0, 1]\\nclass = Yes HD'),\n",
       " Text(0.46120689655172414, 0.7916666666666666, 'cp_4.0 <= 0.5\\ngini = 0.497\\nsamples = 39\\nvalue = [18, 21]\\nclass = Yes HD'),\n",
       " Text(0.3879310344827586, 0.7083333333333334, 'thalach <= 152.0\\ngini = 0.42\\nsamples = 20\\nvalue = [14, 6]\\nclass = No HD'),\n",
       " Text(0.3448275862068966, 0.625, 'oldpeak <= 0.8\\ngini = 0.444\\nsamples = 6\\nvalue = [2, 4]\\nclass = Yes HD'),\n",
       " Text(0.3275862068965517, 0.5416666666666666, 'cp_3.0 <= 0.5\\ngini = 0.444\\nsamples = 3\\nvalue = [2, 1]\\nclass = No HD'),\n",
       " Text(0.3103448275862069, 0.4583333333333333, 'gini = 0.0\\nsamples = 1\\nvalue = [0, 1]\\nclass = Yes HD'),\n",
       " Text(0.3448275862068966, 0.4583333333333333, 'gini = 0.0\\nsamples = 2\\nvalue = [2, 0]\\nclass = No HD'),\n",
       " Text(0.3620689655172414, 0.5416666666666666, 'gini = 0.0\\nsamples = 3\\nvalue = [0, 3]\\nclass = Yes HD'),\n",
       " Text(0.43103448275862066, 0.625, 'slope_3.0 <= 0.5\\ngini = 0.245\\nsamples = 14\\nvalue = [12, 2]\\nclass = No HD'),\n",
       " Text(0.39655172413793105, 0.5416666666666666, 'trestbp <= 161.0\\ngini = 0.153\\nsamples = 12\\nvalue = [11, 1]\\nclass = No HD'),\n",
       " Text(0.3793103448275862, 0.4583333333333333, 'gini = 0.0\\nsamples = 9\\nvalue = [9, 0]\\nclass = No HD'),\n",
       " Text(0.41379310344827586, 0.4583333333333333, 'oldpeak <= 0.35\\ngini = 0.444\\nsamples = 3\\nvalue = [2, 1]\\nclass = No HD'),\n",
       " Text(0.39655172413793105, 0.375, 'gini = 0.0\\nsamples = 1\\nvalue = [0, 1]\\nclass = Yes HD'),\n",
       " Text(0.43103448275862066, 0.375, 'gini = 0.0\\nsamples = 2\\nvalue = [2, 0]\\nclass = No HD'),\n",
       " Text(0.46551724137931033, 0.5416666666666666, 'thalach <= 181.0\\ngini = 0.5\\nsamples = 2\\nvalue = [1, 1]\\nclass = No HD'),\n",
       " Text(0.4482758620689655, 0.4583333333333333, 'gini = 0.0\\nsamples = 1\\nvalue = [0, 1]\\nclass = Yes HD'),\n",
       " Text(0.4827586206896552, 0.4583333333333333, 'gini = 0.0\\nsamples = 1\\nvalue = [1, 0]\\nclass = No HD'),\n",
       " Text(0.5344827586206896, 0.7083333333333334, 'oldpeak <= 0.45\\ngini = 0.332\\nsamples = 19\\nvalue = [4, 15]\\nclass = Yes HD'),\n",
       " Text(0.5172413793103449, 0.625, 'age <= 42.0\\ngini = 0.49\\nsamples = 7\\nvalue = [4, 3]\\nclass = No HD'),\n",
       " Text(0.5, 0.5416666666666666, 'gini = 0.0\\nsamples = 3\\nvalue = [0, 3]\\nclass = Yes HD'),\n",
       " Text(0.5344827586206896, 0.5416666666666666, 'gini = 0.0\\nsamples = 4\\nvalue = [4, 0]\\nclass = No HD'),\n",
       " Text(0.5517241379310345, 0.625, 'gini = 0.0\\nsamples = 12\\nvalue = [0, 12]\\nclass = Yes HD'),\n",
       " Text(0.8146551724137931, 0.875, 'cp_4.0 <= 0.5\\ngini = 0.346\\nsamples = 90\\nvalue = [20, 70]\\nclass = Yes HD'),\n",
       " Text(0.7155172413793104, 0.7916666666666666, 'oldpeak <= 0.55\\ngini = 0.499\\nsamples = 31\\nvalue = [16, 15]\\nclass = No HD'),\n",
       " Text(0.6379310344827587, 0.7083333333333334, 'cp_2.0 <= 0.5\\ngini = 0.401\\nsamples = 18\\nvalue = [13, 5]\\nclass = No HD'),\n",
       " Text(0.5862068965517241, 0.625, 'oldpeak <= 0.35\\ngini = 0.165\\nsamples = 11\\nvalue = [10, 1]\\nclass = No HD'),\n",
       " Text(0.5689655172413793, 0.5416666666666666, 'gini = 0.0\\nsamples = 9\\nvalue = [9, 0]\\nclass = No HD'),\n",
       " Text(0.603448275862069, 0.5416666666666666, 'chol <= 251.0\\ngini = 0.5\\nsamples = 2\\nvalue = [1, 1]\\nclass = No HD'),\n",
       " Text(0.5862068965517241, 0.4583333333333333, 'gini = 0.0\\nsamples = 1\\nvalue = [0, 1]\\nclass = Yes HD'),\n",
       " Text(0.6206896551724138, 0.4583333333333333, 'gini = 0.0\\nsamples = 1\\nvalue = [1, 0]\\nclass = No HD'),\n",
       " Text(0.6896551724137931, 0.625, 'trestbp <= 134.0\\ngini = 0.49\\nsamples = 7\\nvalue = [3, 4]\\nclass = Yes HD'),\n",
       " Text(0.6724137931034483, 0.5416666666666666, 'slope_1.0 <= 0.5\\ngini = 0.375\\nsamples = 4\\nvalue = [3, 1]\\nclass = No HD'),\n",
       " Text(0.6551724137931034, 0.4583333333333333, 'gini = 0.0\\nsamples = 1\\nvalue = [0, 1]\\nclass = Yes HD'),\n",
       " Text(0.6896551724137931, 0.4583333333333333, 'gini = 0.0\\nsamples = 3\\nvalue = [3, 0]\\nclass = No HD'),\n",
       " Text(0.7068965517241379, 0.5416666666666666, 'gini = 0.0\\nsamples = 3\\nvalue = [0, 3]\\nclass = Yes HD'),\n",
       " Text(0.7931034482758621, 0.7083333333333334, 'trestbp <= 139.0\\ngini = 0.355\\nsamples = 13\\nvalue = [3, 10]\\nclass = Yes HD'),\n",
       " Text(0.7586206896551724, 0.625, 'ca <= 2.5\\ngini = 0.18\\nsamples = 10\\nvalue = [1, 9]\\nclass = Yes HD'),\n",
       " Text(0.7413793103448276, 0.5416666666666666, 'gini = 0.0\\nsamples = 7\\nvalue = [0, 7]\\nclass = Yes HD'),\n",
       " Text(0.7758620689655172, 0.5416666666666666, 'thalach <= 142.5\\ngini = 0.444\\nsamples = 3\\nvalue = [1, 2]\\nclass = Yes HD'),\n",
       " Text(0.7586206896551724, 0.4583333333333333, 'gini = 0.0\\nsamples = 2\\nvalue = [0, 2]\\nclass = Yes HD'),\n",
       " Text(0.7931034482758621, 0.4583333333333333, 'gini = 0.0\\nsamples = 1\\nvalue = [1, 0]\\nclass = No HD'),\n",
       " Text(0.8275862068965517, 0.625, 'thalach <= 151.5\\ngini = 0.444\\nsamples = 3\\nvalue = [2, 1]\\nclass = No HD'),\n",
       " Text(0.8103448275862069, 0.5416666666666666, 'gini = 0.0\\nsamples = 1\\nvalue = [0, 1]\\nclass = Yes HD'),\n",
       " Text(0.8448275862068966, 0.5416666666666666, 'gini = 0.0\\nsamples = 2\\nvalue = [2, 0]\\nclass = No HD'),\n",
       " Text(0.9137931034482759, 0.7916666666666666, 'trestbp <= 109.0\\ngini = 0.126\\nsamples = 59\\nvalue = [4, 55]\\nclass = Yes HD'),\n",
       " Text(0.8793103448275862, 0.7083333333333334, 'thalach <= 151.5\\ngini = 0.5\\nsamples = 4\\nvalue = [2, 2]\\nclass = No HD'),\n",
       " Text(0.8620689655172413, 0.625, 'gini = 0.0\\nsamples = 2\\nvalue = [2, 0]\\nclass = No HD'),\n",
       " Text(0.896551724137931, 0.625, 'gini = 0.0\\nsamples = 2\\nvalue = [0, 2]\\nclass = Yes HD'),\n",
       " Text(0.9482758620689655, 0.7083333333333334, 'age <= 63.5\\ngini = 0.07\\nsamples = 55\\nvalue = [2, 53]\\nclass = Yes HD'),\n",
       " Text(0.9310344827586207, 0.625, 'gini = 0.0\\nsamples = 44\\nvalue = [0, 44]\\nclass = Yes HD'),\n",
       " Text(0.9655172413793104, 0.625, 'restecg_2.0 <= 0.5\\ngini = 0.298\\nsamples = 11\\nvalue = [2, 9]\\nclass = Yes HD'),\n",
       " Text(0.9482758620689655, 0.5416666666666666, 'age <= 65.0\\ngini = 0.5\\nsamples = 4\\nvalue = [2, 2]\\nclass = No HD'),\n",
       " Text(0.9310344827586207, 0.4583333333333333, 'gini = 0.0\\nsamples = 2\\nvalue = [2, 0]\\nclass = No HD'),\n",
       " Text(0.9655172413793104, 0.4583333333333333, 'gini = 0.0\\nsamples = 2\\nvalue = [0, 2]\\nclass = Yes HD'),\n",
       " Text(0.9827586206896551, 0.5416666666666666, 'gini = 0.0\\nsamples = 7\\nvalue = [0, 7]\\nclass = Yes HD')]"
      ]
     },
     "execution_count": 24,
     "metadata": {},
     "output_type": "execute_result"
    },
    {
     "data": {
      "image/png": "[encoded data removed]",
      "text/plain": [
       "<Figure size 1080x540 with 1 Axes>"
      ]
     },
     "metadata": {
      "needs_background": "light"
     },
     "output_type": "display_data"
    }
   ],
   "source": [
    "# We will plot the tree now\n",
    "plt.figure(figsize = (15,7.5))\n",
    "plot_tree(root_dt,\n",
    "         filled = True,\n",
    "         rounded = True,\n",
    "         class_names = ['No HD','Yes HD'],\n",
    "         feature_names = X_encoded.columns)"
   ]
  },
  {
   "cell_type": "markdown",
   "id": "66275d99",
   "metadata": {
    "papermill": {
     "duration": 0.019427,
     "end_time": "2022-07-22T09:59:47.998192",
     "exception": false,
     "start_time": "2022-07-22T09:59:47.978765",
     "status": "completed"
    },
    "tags": []
   },
   "source": [
    "**Let's check the accuracy of tree.**"
   ]
  },
  {
   "cell_type": "code",
   "execution_count": 25,
   "id": "f8e2cf97",
   "metadata": {
    "execution": {
     "iopub.execute_input": "2022-07-22T09:59:48.038000Z",
     "iopub.status.busy": "2022-07-22T09:59:48.037623Z",
     "iopub.status.idle": "2022-07-22T09:59:48.240135Z",
     "shell.execute_reply": "2022-07-22T09:59:48.239224Z"
    },
    "papermill": {
     "duration": 0.224714,
     "end_time": "2022-07-22T09:59:48.242223",
     "exception": false,
     "start_time": "2022-07-22T09:59:48.017509",
     "status": "completed"
    },
    "tags": []
   },
   "outputs": [
    {
     "name": "stderr",
     "output_type": "stream",
     "text": [
      "/opt/conda/lib/python3.7/site-packages/sklearn/utils/deprecation.py:87: FutureWarning: Function plot_confusion_matrix is deprecated; Function `plot_confusion_matrix` is deprecated in 1.0 and will be removed in 1.2. Use one of the class methods: ConfusionMatrixDisplay.from_predictions or ConfusionMatrixDisplay.from_estimator.\n",
      "  warnings.warn(msg, category=FutureWarning)\n"
     ]
    },
    {
     "data": {
      "text/plain": [
       "<sklearn.metrics._plot.confusion_matrix.ConfusionMatrixDisplay at 0x7fc1c6dd6150>"
      ]
     },
     "execution_count": 25,
     "metadata": {},
     "output_type": "execute_result"
    },
    {
     "data": {
      "image/png": "[encoded data removed]",
      "text/plain": [
       "<Figure size 432x288 with 2 Axes>"
      ]
     },
     "metadata": {
      "needs_background": "light"
     },
     "output_type": "display_data"
    }
   ],
   "source": [
    "# Confusion Matrix\n",
    "\n",
    "plot_confusion_matrix(root_dt,X_test,y_test,display_labels = ['Does not have HD','Has HD'])"
   ]
  },
  {
   "cell_type": "markdown",
   "id": "d55bc2b4",
   "metadata": {
    "papermill": {
     "duration": 0.020521,
     "end_time": "2022-07-22T09:59:48.284476",
     "exception": false,
     "start_time": "2022-07-22T09:59:48.263955",
     "status": "completed"
    },
    "tags": []
   },
   "source": [
    "The confusion matrix shows that out of all those who have been predicted \"Does not have HD\" infact includes **7** people who does have HD. Also, **11** people who doesn't have \"HD\" but they have been predicted \"Has HD\". One of reason behind the misclassification is **overfit**. So, let's **prune** the tree."
   ]
  },
  {
   "cell_type": "markdown",
   "id": "f0521d42",
   "metadata": {
    "papermill": {
     "duration": 0.020098,
     "end_time": "2022-07-22T09:59:48.324519",
     "exception": false,
     "start_time": "2022-07-22T09:59:48.304421",
     "status": "completed"
    },
    "tags": []
   },
   "source": [
    "**Cost Complexity Pruning**"
   ]
  },
  {
   "cell_type": "code",
   "execution_count": 26,
   "id": "e567fba7",
   "metadata": {
    "execution": {
     "iopub.execute_input": "2022-07-22T09:59:48.365373Z",
     "iopub.status.busy": "2022-07-22T09:59:48.364970Z",
     "iopub.status.idle": "2022-07-22T09:59:48.458363Z",
     "shell.execute_reply": "2022-07-22T09:59:48.457528Z"
    },
    "papermill": {
     "duration": 0.116722,
     "end_time": "2022-07-22T09:59:48.460564",
     "exception": false,
     "start_time": "2022-07-22T09:59:48.343842",
     "status": "completed"
    },
    "tags": []
   },
   "outputs": [],
   "source": [
    "path = root_dt.cost_complexity_pruning_path(X_train,y_train) # determines the value of alpha\n",
    "ccp_alphas = path.ccp_alphas # extract different values of alpha\n",
    "ccp_alphas = ccp_alphas[:-1] #exclude the maximum value of alpha because it will prune all the leaves, leaving us with the root node only.\n",
    "\n",
    "clf_dts = [] # create an array that we will put the decision trees into\n",
    "\n",
    "## Now, we will create one decision tree per value for alpha and store it in array\n",
    "\n",
    "for ccp_alpha in ccp_alphas:\n",
    "    clf_dt = DecisionTreeClassifier(random_state = 0, ccp_alpha = ccp_alpha)\n",
    "    clf_dt.fit(X_train,y_train)\n",
    "    clf_dts.append(clf_dt)"
   ]
  },
  {
   "cell_type": "markdown",
   "id": "85c501cf",
   "metadata": {
    "papermill": {
     "duration": 0.01763,
     "end_time": "2022-07-22T09:59:48.496515",
     "exception": false,
     "start_time": "2022-07-22T09:59:48.478885",
     "status": "completed"
    },
    "tags": []
   },
   "source": [
    "Now let's graph the accuracy of the trees using the **Training Dataset** and **Testing Dataset** as a function of alpha."
   ]
  },
  {
   "cell_type": "code",
   "execution_count": 27,
   "id": "08c8dbf8",
   "metadata": {
    "execution": {
     "iopub.execute_input": "2022-07-22T09:59:48.534918Z",
     "iopub.status.busy": "2022-07-22T09:59:48.534285Z",
     "iopub.status.idle": "2022-07-22T09:59:48.849070Z",
     "shell.execute_reply": "2022-07-22T09:59:48.848270Z"
    },
    "papermill": {
     "duration": 0.336794,
     "end_time": "2022-07-22T09:59:48.851121",
     "exception": false,
     "start_time": "2022-07-22T09:59:48.514327",
     "status": "completed"
    },
    "tags": []
   },
   "outputs": [
    {
     "data": {
      "image/png": "[encoded data removed]",
      "text/plain": [
       "<Figure size 432x288 with 1 Axes>"
      ]
     },
     "metadata": {
      "needs_background": "light"
     },
     "output_type": "display_data"
    }
   ],
   "source": [
    "train_scores = [clf_dt.score(X_train,y_train) for clf_dt in clf_dts ]\n",
    "test_scores = [clf_dt.score(X_test,y_test) for clf_dt in clf_dts]\n",
    "\n",
    "fig,ax = plt.subplots()\n",
    "ax.set_xlabel('alpha')\n",
    "ax.set_ylabel('accuracy')\n",
    "ax.set_title('Accuracy vs alpha for trainig and testing sets.')\n",
    "ax.plot(ccp_alphas, train_scores, marker = 'o', label = 'train',drawstyle = 'steps-post')\n",
    "ax.plot(ccp_alphas, test_scores, marker = 'o',label = 'test',drawstyle = 'steps-post')\n",
    "ax.legend()\n",
    "plt.show()\n"
   ]
  },
  {
   "cell_type": "markdown",
   "id": "5462f8f8",
   "metadata": {
    "papermill": {
     "duration": 0.020453,
     "end_time": "2022-07-22T09:59:48.892122",
     "exception": false,
     "start_time": "2022-07-22T09:59:48.871669",
     "status": "completed"
    },
    "tags": []
   },
   "source": [
    "By eyeballing, I select alpha = 0.016"
   ]
  },
  {
   "cell_type": "markdown",
   "id": "7ea56720",
   "metadata": {
    "papermill": {
     "duration": 0.020099,
     "end_time": "2022-07-22T09:59:48.932968",
     "exception": false,
     "start_time": "2022-07-22T09:59:48.912869",
     "status": "completed"
    },
    "tags": []
   },
   "source": [
    "Since there are many ways to divide the training and testing datasets, how do we know that we have used the best **training** and best **testing** datatset..that's why we'll gonna use **Cross-Validation**."
   ]
  },
  {
   "cell_type": "markdown",
   "id": "1a7e44ca",
   "metadata": {
    "papermill": {
     "duration": 0.018916,
     "end_time": "2022-07-22T09:59:48.971941",
     "exception": false,
     "start_time": "2022-07-22T09:59:48.953025",
     "status": "completed"
    },
    "tags": []
   },
   "source": [
    "**Cross_Validation for Finding the Best Alpha**"
   ]
  },
  {
   "cell_type": "markdown",
   "id": "814da787",
   "metadata": {
    "papermill": {
     "duration": 0.0182,
     "end_time": "2022-07-22T09:59:49.008175",
     "exception": false,
     "start_time": "2022-07-22T09:59:48.989975",
     "status": "completed"
    },
    "tags": []
   },
   "source": [
    "The value of alpha is data sensitive, so we use different set of data we will get different alpha."
   ]
  },
  {
   "cell_type": "markdown",
   "id": "e010e510",
   "metadata": {
    "papermill": {
     "duration": 0.019305,
     "end_time": "2022-07-22T09:59:49.046660",
     "exception": false,
     "start_time": "2022-07-22T09:59:49.027355",
     "status": "completed"
    },
    "tags": []
   },
   "source": [
    "*First, we will demonstrate that using different training and testing dataset with same **alpha** will result in different accuracy, proving that **alpha** is sensitive to the datasets. *"
   ]
  },
  {
   "cell_type": "code",
   "execution_count": 28,
   "id": "57768daf",
   "metadata": {
    "execution": {
     "iopub.execute_input": "2022-07-22T09:59:49.086105Z",
     "iopub.status.busy": "2022-07-22T09:59:49.085482Z",
     "iopub.status.idle": "2022-07-22T09:59:49.323992Z",
     "shell.execute_reply": "2022-07-22T09:59:49.323200Z"
    },
    "papermill": {
     "duration": 0.260754,
     "end_time": "2022-07-22T09:59:49.325921",
     "exception": false,
     "start_time": "2022-07-22T09:59:49.065167",
     "status": "completed"
    },
    "tags": []
   },
   "outputs": [
    {
     "data": {
      "text/plain": [
       "<AxesSubplot:xlabel='tree'>"
      ]
     },
     "execution_count": 28,
     "metadata": {},
     "output_type": "execute_result"
    },
    {
     "data": {
      "image/png": "[encoded data removed]",
      "text/plain": [
       "<Figure size 432x288 with 1 Axes>"
      ]
     },
     "metadata": {
      "needs_background": "light"
     },
     "output_type": "display_data"
    }
   ],
   "source": [
    "clf_dt = DecisionTreeClassifier(random_state = 42, ccp_alpha = 0.016)  # create the tree with ccp_alpha = 0.016\n",
    "\n",
    "## now we'll use 5-fold cross validation create 5 different training and testing datasets that\n",
    "## are then used to train and test the tree\n",
    "## NOTE : We use 5-fold because we don't have tonns of data......\n",
    "\n",
    "scores = cross_val_score(root_dt, X_train,y_train)\n",
    "df = pd.DataFrame(data = {'tree': range(5), 'accuracy': scores})\n",
    "df.plot(x = 'tree',y= 'accuracy',marker ='o',linestyle = '--')\n"
   ]
  },
  {
   "cell_type": "markdown",
   "id": "6aeda76e",
   "metadata": {
    "papermill": {
     "duration": 0.019405,
     "end_time": "2022-07-22T09:59:49.365811",
     "exception": false,
     "start_time": "2022-07-22T09:59:49.346406",
     "status": "completed"
    },
    "tags": []
   },
   "source": [
    "*The graph shows that using different Training and Testing data with same alpha resulted in different accuracies, suggesting that alpha is sensitive to the datasets.So, instead of picking up single **Training** and **Testing** dataset, we'll use cross-validation to find the optimal value for ccp_alpha. *"
   ]
  },
  {
   "cell_type": "code",
   "execution_count": 29,
   "id": "b7ab9bb3",
   "metadata": {
    "execution": {
     "iopub.execute_input": "2022-07-22T09:59:49.407915Z",
     "iopub.status.busy": "2022-07-22T09:59:49.407315Z",
     "iopub.status.idle": "2022-07-22T09:59:50.357790Z",
     "shell.execute_reply": "2022-07-22T09:59:50.356997Z"
    },
    "papermill": {
     "duration": 0.974013,
     "end_time": "2022-07-22T09:59:50.359749",
     "exception": false,
     "start_time": "2022-07-22T09:59:49.385736",
     "status": "completed"
    },
    "tags": []
   },
   "outputs": [
    {
     "data": {
      "text/plain": [
       "<AxesSubplot:xlabel='alpha'>"
      ]
     },
     "execution_count": 29,
     "metadata": {},
     "output_type": "execute_result"
    },
    {
     "data": {
      "image/png": "[encoded data removed]",
      "text/plain": [
       "<Figure size 432x288 with 1 Axes>"
      ]
     },
     "metadata": {
      "needs_background": "light"
     },
     "output_type": "display_data"
    }
   ],
   "source": [
    "## create an array to store the results of each fold during cross validation\n",
    "alpha_loop_values = []\n",
    "\n",
    "## For each candidate value for alpha, we will run the 5-fold cross validation.\n",
    "## Then we will store the mean and standard deviation of the scores (the accuracy) for each call\n",
    "## to cross_val_score in alpha_loop_values......\n",
    "for ccp_alpha in ccp_alphas:\n",
    "    clf_df = DecisionTreeClassifier(random_state = 0, ccp_alpha = ccp_alpha)\n",
    "    scores = cross_val_score(clf_df, X_train, y_train, cv =5)\n",
    "    alpha_loop_values.append([ccp_alpha, np.mean(scores), np.std(scores)])\n",
    "    \n",
    "## Now we can draw a graph of the means and standard deviations of the scores\n",
    "## for each candidate value for alpha\n",
    "alpha_results = pd.DataFrame(alpha_loop_values, columns = ['alpha','mean_accuracy','std'])\n",
    "\n",
    "\n",
    "alpha_results.plot(x = 'alpha',\n",
    "                  y = 'mean_accuracy',\n",
    "                  yerr = 'std',\n",
    "                  marker = 'o',\n",
    "                  linestyle = '--')"
   ]
  },
  {
   "cell_type": "markdown",
   "id": "d42e3dd0",
   "metadata": {
    "papermill": {
     "duration": 0.020557,
     "end_time": "2022-07-22T09:59:50.401779",
     "exception": false,
     "start_time": "2022-07-22T09:59:50.381222",
     "status": "completed"
    },
    "tags": []
   },
   "source": [
    "Using cross validation, we can see that, over all, instead of setting ccp_alpha = 0.016, we need to set it to something closer to 0.014. We can find the exact value with:"
   ]
  },
  {
   "cell_type": "code",
   "execution_count": 30,
   "id": "ecea2810",
   "metadata": {
    "execution": {
     "iopub.execute_input": "2022-07-22T09:59:50.445385Z",
     "iopub.status.busy": "2022-07-22T09:59:50.444744Z",
     "iopub.status.idle": "2022-07-22T09:59:50.454900Z",
     "shell.execute_reply": "2022-07-22T09:59:50.454258Z"
    },
    "papermill": {
     "duration": 0.034674,
     "end_time": "2022-07-22T09:59:50.456774",
     "exception": false,
     "start_time": "2022-07-22T09:59:50.422100",
     "status": "completed"
    },
    "tags": []
   },
   "outputs": [
    {
     "data": {
      "text/html": [
       "<div>\n",
       "<style scoped>\n",
       "    .dataframe tbody tr th:only-of-type {\n",
       "        vertical-align: middle;\n",
       "    }\n",
       "\n",
       "    .dataframe tbody tr th {\n",
       "        vertical-align: top;\n",
       "    }\n",
       "\n",
       "    .dataframe thead th {\n",
       "        text-align: right;\n",
       "    }\n",
       "</style>\n",
       "<table border=\"1\" class=\"dataframe\">\n",
       "  <thead>\n",
       "    <tr style=\"text-align: right;\">\n",
       "      <th></th>\n",
       "      <th>alpha</th>\n",
       "      <th>mean_accuracy</th>\n",
       "      <th>std</th>\n",
       "    </tr>\n",
       "  </thead>\n",
       "  <tbody>\n",
       "    <tr>\n",
       "      <th>20</th>\n",
       "      <td>0.014225</td>\n",
       "      <td>0.747778</td>\n",
       "      <td>0.091395</td>\n",
       "    </tr>\n",
       "  </tbody>\n",
       "</table>\n",
       "</div>"
      ],
      "text/plain": [
       "       alpha  mean_accuracy       std\n",
       "20  0.014225       0.747778  0.091395"
      ]
     },
     "execution_count": 30,
     "metadata": {},
     "output_type": "execute_result"
    }
   ],
   "source": [
    "alpha_results[(alpha_results['alpha'] > 0.014)\n",
    "             & \n",
    "             (alpha_results['alpha'] < 0.015)]"
   ]
  },
  {
   "cell_type": "markdown",
   "id": "612e6bf9",
   "metadata": {
    "papermill": {
     "duration": 0.020127,
     "end_time": "2022-07-22T09:59:50.497361",
     "exception": false,
     "start_time": "2022-07-22T09:59:50.477234",
     "status": "completed"
    },
    "tags": []
   },
   "source": [
    "Now let's store the ideal value for alpha so that we can use it to build the best tree."
   ]
  },
  {
   "cell_type": "code",
   "execution_count": 31,
   "id": "f61e131f",
   "metadata": {
    "execution": {
     "iopub.execute_input": "2022-07-22T09:59:50.538746Z",
     "iopub.status.busy": "2022-07-22T09:59:50.538087Z",
     "iopub.status.idle": "2022-07-22T09:59:50.545991Z",
     "shell.execute_reply": "2022-07-22T09:59:50.545117Z"
    },
    "papermill": {
     "duration": 0.031002,
     "end_time": "2022-07-22T09:59:50.547982",
     "exception": false,
     "start_time": "2022-07-22T09:59:50.516980",
     "status": "completed"
    },
    "tags": []
   },
   "outputs": [
    {
     "data": {
      "text/plain": [
       "20    0.014225\n",
       "Name: alpha, dtype: float64"
      ]
     },
     "execution_count": 31,
     "metadata": {},
     "output_type": "execute_result"
    }
   ],
   "source": [
    "ideal_ccp_alpha = alpha_results[(alpha_results['alpha'] > 0.014)\n",
    "                               & \n",
    "                               (alpha_results['alpha'] < 0.015)]['alpha']\n",
    "ideal_ccp_alpha"
   ]
  },
  {
   "cell_type": "markdown",
   "id": "9e396e54",
   "metadata": {
    "papermill": {
     "duration": 0.020265,
     "end_time": "2022-07-22T09:59:50.588161",
     "exception": false,
     "start_time": "2022-07-22T09:59:50.567896",
     "status": "completed"
    },
    "tags": []
   },
   "source": [
    "*At this point Python thinks that ideal_ccp_alpha is a series, which is a type of array. We can tell because when we printed **ideal_ccp_alpha** out, we got two bits of stuff. The first one was **20**, which is the index in the series, the second one, 0.014225, is the value we want.So we can convert this form a series to a float with the following command:*"
   ]
  },
  {
   "cell_type": "code",
   "execution_count": 32,
   "id": "d02d2736",
   "metadata": {
    "execution": {
     "iopub.execute_input": "2022-07-22T09:59:50.631976Z",
     "iopub.status.busy": "2022-07-22T09:59:50.631610Z",
     "iopub.status.idle": "2022-07-22T09:59:50.637819Z",
     "shell.execute_reply": "2022-07-22T09:59:50.636831Z"
    },
    "papermill": {
     "duration": 0.030871,
     "end_time": "2022-07-22T09:59:50.639917",
     "exception": false,
     "start_time": "2022-07-22T09:59:50.609046",
     "status": "completed"
    },
    "tags": []
   },
   "outputs": [
    {
     "data": {
      "text/plain": [
       "0.014224751066856332"
      ]
     },
     "execution_count": 32,
     "metadata": {},
     "output_type": "execute_result"
    }
   ],
   "source": [
    "# convert ideal_ccp_alpha from a series to a float\n",
    "ideal_ccp_alpha = float(ideal_ccp_alpha)\n",
    "ideal_ccp_alpha"
   ]
  },
  {
   "cell_type": "markdown",
   "id": "83085d96",
   "metadata": {
    "papermill": {
     "duration": 0.019177,
     "end_time": "2022-07-22T09:59:50.680263",
     "exception": false,
     "start_time": "2022-07-22T09:59:50.661086",
     "status": "completed"
    },
    "tags": []
   },
   "source": [
    "**Hoorray!!! Now we have the ideal value for alpha and we can build, evaluate and draw the final Classification Tree.**"
   ]
  },
  {
   "cell_type": "markdown",
   "id": "c345a609",
   "metadata": {
    "papermill": {
     "duration": 0.019481,
     "end_time": "2022-07-22T09:59:50.718890",
     "exception": false,
     "start_time": "2022-07-22T09:59:50.699409",
     "status": "completed"
    },
    "tags": []
   },
   "source": [
    "# Building, Evaluating, Drawing and Interpreting the Final Classification Tree."
   ]
  },
  {
   "cell_type": "markdown",
   "id": "aa26ffa0",
   "metadata": {
    "papermill": {
     "duration": 0.019449,
     "end_time": "2022-07-22T09:59:50.758949",
     "exception": false,
     "start_time": "2022-07-22T09:59:50.739500",
     "status": "completed"
    },
    "tags": []
   },
   "source": [
    "*Now that we have the ideal value for alpha we can build the final Classification Tree by setting ccp_alpha = ideal_ccp_alpha :*"
   ]
  },
  {
   "cell_type": "code",
   "execution_count": 33,
   "id": "ea7884b9",
   "metadata": {
    "execution": {
     "iopub.execute_input": "2022-07-22T09:59:50.800125Z",
     "iopub.status.busy": "2022-07-22T09:59:50.799501Z",
     "iopub.status.idle": "2022-07-22T09:59:50.807357Z",
     "shell.execute_reply": "2022-07-22T09:59:50.806732Z"
    },
    "papermill": {
     "duration": 0.030236,
     "end_time": "2022-07-22T09:59:50.809022",
     "exception": false,
     "start_time": "2022-07-22T09:59:50.778786",
     "status": "completed"
    },
    "tags": []
   },
   "outputs": [],
   "source": [
    "## Build and train a new decision tree, only this time use the optimal value for alpha\n",
    "clf_dt_pruned = DecisionTreeClassifier(random_state = 42, ccp_alpha = ideal_ccp_alpha)\n",
    "clf_dt_pruned = clf_dt_pruned.fit(X_train,y_train)"
   ]
  },
  {
   "cell_type": "markdown",
   "id": "c310ecf9",
   "metadata": {
    "papermill": {
     "duration": 0.020001,
     "end_time": "2022-07-22T09:59:50.848185",
     "exception": false,
     "start_time": "2022-07-22T09:59:50.828184",
     "status": "completed"
    },
    "tags": []
   },
   "source": [
    "*Now let's draw another confusion matrix to see if the pruned tree does better.*"
   ]
  },
  {
   "cell_type": "code",
   "execution_count": 34,
   "id": "1e3d5ced",
   "metadata": {
    "execution": {
     "iopub.execute_input": "2022-07-22T09:59:50.890471Z",
     "iopub.status.busy": "2022-07-22T09:59:50.889828Z",
     "iopub.status.idle": "2022-07-22T09:59:51.092907Z",
     "shell.execute_reply": "2022-07-22T09:59:51.092141Z"
    },
    "papermill": {
     "duration": 0.227015,
     "end_time": "2022-07-22T09:59:51.094900",
     "exception": false,
     "start_time": "2022-07-22T09:59:50.867885",
     "status": "completed"
    },
    "tags": []
   },
   "outputs": [
    {
     "name": "stderr",
     "output_type": "stream",
     "text": [
      "/opt/conda/lib/python3.7/site-packages/sklearn/utils/deprecation.py:87: FutureWarning: Function plot_confusion_matrix is deprecated; Function `plot_confusion_matrix` is deprecated in 1.0 and will be removed in 1.2. Use one of the class methods: ConfusionMatrixDisplay.from_predictions or ConfusionMatrixDisplay.from_estimator.\n",
      "  warnings.warn(msg, category=FutureWarning)\n"
     ]
    },
    {
     "data": {
      "text/plain": [
       "<sklearn.metrics._plot.confusion_matrix.ConfusionMatrixDisplay at 0x7fc1c5129590>"
      ]
     },
     "execution_count": 34,
     "metadata": {},
     "output_type": "execute_result"
    },
    {
     "data": {
      "image/png": "[encoded data removed]",
      "text/plain": [
       "<Figure size 432x288 with 2 Axes>"
      ]
     },
     "metadata": {
      "needs_background": "light"
     },
     "output_type": "display_data"
    }
   ],
   "source": [
    "plot_confusion_matrix(clf_dt_pruned, \n",
    "                     X_test,\n",
    "                     y_test,\n",
    "                     display_labels = [\"Does not have HD\",\"Has HD\"])"
   ]
  },
  {
   "cell_type": "markdown",
   "id": "c398c057",
   "metadata": {
    "papermill": {
     "duration": 0.019923,
     "end_time": "2022-07-22T09:59:51.136054",
     "exception": false,
     "start_time": "2022-07-22T09:59:51.116131",
     "status": "completed"
    },
    "tags": []
   },
   "source": [
    "**Horray!!!** We can see that the pruned tree is better at classifying patients than the full sized tree."
   ]
  },
  {
   "cell_type": "code",
   "execution_count": 35,
   "id": "52951d10",
   "metadata": {
    "execution": {
     "iopub.execute_input": "2022-07-22T09:59:51.179375Z",
     "iopub.status.busy": "2022-07-22T09:59:51.178522Z",
     "iopub.status.idle": "2022-07-22T09:59:51.904081Z",
     "shell.execute_reply": "2022-07-22T09:59:51.902979Z"
    },
    "papermill": {
     "duration": 0.750555,
     "end_time": "2022-07-22T09:59:51.906948",
     "exception": false,
     "start_time": "2022-07-22T09:59:51.156393",
     "status": "completed"
    },
    "tags": []
   },
   "outputs": [
    {
     "data": {
      "image/png": "[encoded data removed]",
      "text/plain": [
       "<Figure size 1080x540 with 1 Axes>"
      ]
     },
     "metadata": {
      "needs_background": "light"
     },
     "output_type": "display_data"
    }
   ],
   "source": [
    "# The Last thing we are going to do is draw the pruned tree and interpret it.\n",
    "plt.figure(figsize = (15,7.5))\n",
    "plot_tree(clf_dt_pruned, \n",
    "         filled = True,\n",
    "         rounded = True,\n",
    "         class_names = [\"No HD\",\"Yes HD\"],\n",
    "         feature_names = X_encoded.columns);"
   ]
  },
  {
   "cell_type": "markdown",
   "id": "a47dc764",
   "metadata": {
    "papermill": {
     "duration": 0.023845,
     "end_time": "2022-07-22T09:59:51.954396",
     "exception": false,
     "start_time": "2022-07-22T09:59:51.930551",
     "status": "completed"
    },
    "tags": []
   },
   "source": [
    "> My Inspiration :\n",
    "* https://www.youtube.com/watch?v=_L39rN6gz7Y\n",
    "* https://www.youtube.com/watch?v=q90UDEgYqeI"
   ]
  },
  {
   "cell_type": "code",
   "execution_count": null,
   "id": "6771f108",
   "metadata": {
    "papermill": {
     "duration": 0.022653,
     "end_time": "2022-07-22T09:59:52.000600",
     "exception": false,
     "start_time": "2022-07-22T09:59:51.977947",
     "status": "completed"
    },
    "tags": []
   },
   "outputs": [],
   "source": []
  }
 ],
 "metadata": {
  "kernelspec": {
   "display_name": "Python 3",
   "language": "python",
   "name": "python3"
  },
  "language_info": {
   "codemirror_mode": {
    "name": "ipython",
    "version": 3
   },
   "file_extension": ".py",
   "mimetype": "text/x-python",
   "name": "python",
   "nbconvert_exporter": "python",
   "pygments_lexer": "ipython3",
   "version": "3.7.12"
  },
  "papermill": {
   "default_parameters": {},
   "duration": 21.144213,
   "end_time": "2022-07-22T09:59:52.644961",
   "environment_variables": {},
   "exception": null,
   "input_path": "__notebook__.ipynb",
   "output_path": "__notebook__.ipynb",
   "parameters": {},
   "start_time": "2022-07-22T09:59:31.500748",
   "version": "2.3.4"
  }
 },
 "nbformat": 4,
 "nbformat_minor": 5
}
