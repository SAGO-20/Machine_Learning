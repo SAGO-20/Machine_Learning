{
 "cells": [
  {
   "cell_type": "code",
   "execution_count": 1,
   "id": "26808133",
   "metadata": {
    "_cell_guid": "b1076dfc-b9ad-4769-8c92-a6c4dae69d19",
    "_uuid": "8f2839f25d086af736a60e9eeb907d3b93b6e0e5",
    "execution": {
     "iopub.execute_input": "2022-07-22T09:49:20.397575Z",
     "iopub.status.busy": "2022-07-22T09:49:20.397122Z",
     "iopub.status.idle": "2022-07-22T09:49:20.415823Z",
     "shell.execute_reply": "2022-07-22T09:49:20.414666Z"
    },
    "papermill": {
     "duration": 0.054233,
     "end_time": "2022-07-22T09:49:20.419655",
     "exception": false,
     "start_time": "2022-07-22T09:49:20.365422",
     "status": "completed"
    },
    "tags": []
   },
   "outputs": [
    {
     "name": "stdout",
     "output_type": "stream",
     "text": [
      "/kaggle/input/titanic/train.csv\n",
      "/kaggle/input/titanic/test.csv\n",
      "/kaggle/input/titanic/gender_submission.csv\n"
     ]
    }
   ],
   "source": [
    "# This Python 3 environment comes with many helpful analytics libraries installed\n",
    "# It is defined by the kaggle/python Docker image: https://github.com/kaggle/docker-python\n",
    "# For example, here's several helpful packages to load\n",
    "\n",
    "import numpy as np # linear algebra\n",
    "import pandas as pd # data processing, CSV file I/O (e.g. pd.read_csv)\n",
    "\n",
    "# Input data files are available in the read-only \"../input/\" directory\n",
    "# For example, running this (by clicking run or pressing Shift+Enter) will list all files under the input directory\n",
    "\n",
    "import os\n",
    "for dirname, _, filenames in os.walk('/kaggle/input'):\n",
    "    for filename in filenames:\n",
    "        print(os.path.join(dirname, filename))\n",
    "\n",
    "# You can write up to 20GB to the current directory (/kaggle/working/) that gets preserved as output when you create a version using \"Save & Run All\" \n",
    "# You can also write temporary files to /kaggle/temp/, but they won't be saved outside of the current session"
   ]
  },
  {
   "cell_type": "markdown",
   "id": "3b0aca5e",
   "metadata": {
    "papermill": {
     "duration": 0.023998,
     "end_time": "2022-07-22T09:49:20.469095",
     "exception": false,
     "start_time": "2022-07-22T09:49:20.445097",
     "status": "completed"
    },
    "tags": []
   },
   "source": [
    "# In this notebook, I'll be using Random Forest Classifier on the famous Titanic Dataset."
   ]
  },
  {
   "cell_type": "markdown",
   "id": "e2838015",
   "metadata": {
    "papermill": {
     "duration": 0.024421,
     "end_time": "2022-07-22T09:49:20.518372",
     "exception": false,
     "start_time": "2022-07-22T09:49:20.493951",
     "status": "completed"
    },
    "tags": []
   },
   "source": [
    "**Exploratory Data Analysis**\n",
    "\n",
    "In this section, we'll try to comprehend the data so that we can figure what we have to do in feature engineering section."
   ]
  },
  {
   "cell_type": "code",
   "execution_count": 2,
   "id": "6ee0a864",
   "metadata": {
    "execution": {
     "iopub.execute_input": "2022-07-22T09:49:20.569252Z",
     "iopub.status.busy": "2022-07-22T09:49:20.568897Z",
     "iopub.status.idle": "2022-07-22T09:49:21.753154Z",
     "shell.execute_reply": "2022-07-22T09:49:21.751958Z"
    },
    "papermill": {
     "duration": 1.213109,
     "end_time": "2022-07-22T09:49:21.756033",
     "exception": false,
     "start_time": "2022-07-22T09:49:20.542924",
     "status": "completed"
    },
    "tags": []
   },
   "outputs": [],
   "source": [
    "# Importing necessary libraries\n",
    "import numpy as np \n",
    "import pandas as pd \n",
    "import matplotlib.pyplot as plt # For visualization \n",
    "import seaborn as sns # For visualization\n"
   ]
  },
  {
   "cell_type": "code",
   "execution_count": 3,
   "id": "cf744e5a",
   "metadata": {
    "execution": {
     "iopub.execute_input": "2022-07-22T09:49:21.806985Z",
     "iopub.status.busy": "2022-07-22T09:49:21.806501Z",
     "iopub.status.idle": "2022-07-22T09:49:21.835376Z",
     "shell.execute_reply": "2022-07-22T09:49:21.833963Z"
    },
    "papermill": {
     "duration": 0.058009,
     "end_time": "2022-07-22T09:49:21.838226",
     "exception": false,
     "start_time": "2022-07-22T09:49:21.780217",
     "status": "completed"
    },
    "tags": []
   },
   "outputs": [],
   "source": [
    "# Import the dataset\n",
    "train = pd.read_csv('/kaggle/input/titanic/train.csv')\n",
    "test = pd.read_csv('../input/titanic/test.csv')"
   ]
  },
  {
   "cell_type": "code",
   "execution_count": 4,
   "id": "26fcba39",
   "metadata": {
    "execution": {
     "iopub.execute_input": "2022-07-22T09:49:21.891994Z",
     "iopub.status.busy": "2022-07-22T09:49:21.891160Z",
     "iopub.status.idle": "2022-07-22T09:49:21.918492Z",
     "shell.execute_reply": "2022-07-22T09:49:21.917634Z"
    },
    "papermill": {
     "duration": 0.059035,
     "end_time": "2022-07-22T09:49:21.921736",
     "exception": false,
     "start_time": "2022-07-22T09:49:21.862701",
     "status": "completed"
    },
    "tags": []
   },
   "outputs": [
    {
     "name": "stdout",
     "output_type": "stream",
     "text": [
      "<class 'pandas.core.frame.DataFrame'>\n",
      "RangeIndex: 891 entries, 0 to 890\n",
      "Data columns (total 12 columns):\n",
      " #   Column       Non-Null Count  Dtype  \n",
      "---  ------       --------------  -----  \n",
      " 0   PassengerId  891 non-null    int64  \n",
      " 1   Survived     891 non-null    int64  \n",
      " 2   Pclass       891 non-null    int64  \n",
      " 3   Name         891 non-null    object \n",
      " 4   Sex          891 non-null    object \n",
      " 5   Age          714 non-null    float64\n",
      " 6   SibSp        891 non-null    int64  \n",
      " 7   Parch        891 non-null    int64  \n",
      " 8   Ticket       891 non-null    object \n",
      " 9   Fare         891 non-null    float64\n",
      " 10  Cabin        204 non-null    object \n",
      " 11  Embarked     889 non-null    object \n",
      "dtypes: float64(2), int64(5), object(5)\n",
      "memory usage: 83.7+ KB\n"
     ]
    }
   ],
   "source": [
    "# Printing the summary of dataset\n",
    "train.info()"
   ]
  },
  {
   "cell_type": "markdown",
   "id": "f2542a4a",
   "metadata": {
    "papermill": {
     "duration": 0.024636,
     "end_time": "2022-07-22T09:49:21.971664",
     "exception": false,
     "start_time": "2022-07-22T09:49:21.947028",
     "status": "completed"
    },
    "tags": []
   },
   "source": [
    "* 5   Age          714 non-null \n",
    "* 10  Cabin        204 non-null\n",
    "* 11  Embarked     889 non-null \n"
   ]
  },
  {
   "cell_type": "markdown",
   "id": "851a8aa2",
   "metadata": {
    "papermill": {
     "duration": 0.028983,
     "end_time": "2022-07-22T09:49:22.024961",
     "exception": false,
     "start_time": "2022-07-22T09:49:21.995978",
     "status": "completed"
    },
    "tags": []
   },
   "source": [
    "**** The above description shows that these three features have null values****"
   ]
  },
  {
   "cell_type": "markdown",
   "id": "d3fcaf5d",
   "metadata": {
    "papermill": {
     "duration": 0.026333,
     "end_time": "2022-07-22T09:49:22.082113",
     "exception": false,
     "start_time": "2022-07-22T09:49:22.055780",
     "status": "completed"
    },
    "tags": []
   },
   "source": [
    "**Survived**"
   ]
  },
  {
   "cell_type": "code",
   "execution_count": 5,
   "id": "f3b31869",
   "metadata": {
    "execution": {
     "iopub.execute_input": "2022-07-22T09:49:22.134934Z",
     "iopub.status.busy": "2022-07-22T09:49:22.134254Z",
     "iopub.status.idle": "2022-07-22T09:49:22.145344Z",
     "shell.execute_reply": "2022-07-22T09:49:22.144083Z"
    },
    "papermill": {
     "duration": 0.040206,
     "end_time": "2022-07-22T09:49:22.147863",
     "exception": false,
     "start_time": "2022-07-22T09:49:22.107657",
     "status": "completed"
    },
    "tags": []
   },
   "outputs": [
    {
     "data": {
      "text/plain": [
       "0    0.616162\n",
       "1    0.383838\n",
       "Name: Survived, dtype: float64"
      ]
     },
     "execution_count": 5,
     "metadata": {},
     "output_type": "execute_result"
    }
   ],
   "source": [
    "# Checking how many people survived as per the dataset\n",
    "train['Survived'].value_counts(normalize = True)"
   ]
  },
  {
   "cell_type": "markdown",
   "id": "47fb0f84",
   "metadata": {
    "papermill": {
     "duration": 0.024438,
     "end_time": "2022-07-22T09:49:22.196787",
     "exception": false,
     "start_time": "2022-07-22T09:49:22.172349",
     "status": "completed"
    },
    "tags": []
   },
   "source": [
    "Around 39% of people survived."
   ]
  },
  {
   "cell_type": "code",
   "execution_count": 6,
   "id": "577e8313",
   "metadata": {
    "execution": {
     "iopub.execute_input": "2022-07-22T09:49:22.247748Z",
     "iopub.status.busy": "2022-07-22T09:49:22.247317Z",
     "iopub.status.idle": "2022-07-22T09:49:22.400024Z",
     "shell.execute_reply": "2022-07-22T09:49:22.397988Z"
    },
    "papermill": {
     "duration": 0.182887,
     "end_time": "2022-07-22T09:49:22.404047",
     "exception": false,
     "start_time": "2022-07-22T09:49:22.221160",
     "status": "completed"
    },
    "tags": []
   },
   "outputs": [
    {
     "data": {
      "text/plain": [
       "<AxesSubplot:xlabel='Survived', ylabel='count'>"
      ]
     },
     "execution_count": 6,
     "metadata": {},
     "output_type": "execute_result"
    },
    {
     "data": {
      "image/png": "[encoded data removed]",
      "text/plain": [
       "<Figure size 432x288 with 1 Axes>"
      ]
     },
     "metadata": {
      "needs_background": "light"
     },
     "output_type": "display_data"
    }
   ],
   "source": [
    "#Let's visualize this\n",
    "sns.countplot(x = 'Survived', data = train)"
   ]
  },
  {
   "cell_type": "markdown",
   "id": "1b55a3db",
   "metadata": {
    "papermill": {
     "duration": 0.024954,
     "end_time": "2022-07-22T09:49:22.458039",
     "exception": false,
     "start_time": "2022-07-22T09:49:22.433085",
     "status": "completed"
    },
    "tags": []
   },
   "source": [
    "**Does passenger class has anything to do with Survival? Let's find out!**"
   ]
  },
  {
   "cell_type": "code",
   "execution_count": 7,
   "id": "8e350181",
   "metadata": {
    "execution": {
     "iopub.execute_input": "2022-07-22T09:49:22.510944Z",
     "iopub.status.busy": "2022-07-22T09:49:22.510050Z",
     "iopub.status.idle": "2022-07-22T09:49:22.520517Z",
     "shell.execute_reply": "2022-07-22T09:49:22.519777Z"
    },
    "papermill": {
     "duration": 0.039087,
     "end_time": "2022-07-22T09:49:22.522476",
     "exception": false,
     "start_time": "2022-07-22T09:49:22.483389",
     "status": "completed"
    },
    "tags": []
   },
   "outputs": [
    {
     "data": {
      "text/plain": [
       "Pclass  Survived\n",
       "1       1           0.629630\n",
       "        0           0.370370\n",
       "2       0           0.527174\n",
       "        1           0.472826\n",
       "3       0           0.757637\n",
       "        1           0.242363\n",
       "Name: Survived, dtype: float64"
      ]
     },
     "execution_count": 7,
     "metadata": {},
     "output_type": "execute_result"
    }
   ],
   "source": [
    "train['Survived'].groupby(train['Pclass']).value_counts(normalize = True)"
   ]
  },
  {
   "cell_type": "markdown",
   "id": "efcdd060",
   "metadata": {
    "papermill": {
     "duration": 0.024956,
     "end_time": "2022-07-22T09:49:22.572452",
     "exception": false,
     "start_time": "2022-07-22T09:49:22.547496",
     "status": "completed"
    },
    "tags": []
   },
   "source": [
    "*It does have!!!!*"
   ]
  },
  {
   "cell_type": "code",
   "execution_count": 8,
   "id": "f6c20cce",
   "metadata": {
    "execution": {
     "iopub.execute_input": "2022-07-22T09:49:22.625365Z",
     "iopub.status.busy": "2022-07-22T09:49:22.624716Z",
     "iopub.status.idle": "2022-07-22T09:49:22.819946Z",
     "shell.execute_reply": "2022-07-22T09:49:22.819197Z"
    },
    "papermill": {
     "duration": 0.224068,
     "end_time": "2022-07-22T09:49:22.821963",
     "exception": false,
     "start_time": "2022-07-22T09:49:22.597895",
     "status": "completed"
    },
    "tags": []
   },
   "outputs": [
    {
     "data": {
      "text/plain": [
       "<AxesSubplot:xlabel='Pclass', ylabel='count'>"
      ]
     },
     "execution_count": 8,
     "metadata": {},
     "output_type": "execute_result"
    },
    {
     "data": {
      "image/png": "[encoded data removed]",
      "text/plain": [
       "<Figure size 432x288 with 1 Axes>"
      ]
     },
     "metadata": {
      "needs_background": "light"
     },
     "output_type": "display_data"
    }
   ],
   "source": [
    "#Let's visualize\n",
    "sns.countplot(x = 'Pclass', data = train, hue = 'Survived')"
   ]
  },
  {
   "cell_type": "markdown",
   "id": "2eeded42",
   "metadata": {
    "papermill": {
     "duration": 0.024423,
     "end_time": "2022-07-22T09:49:22.871894",
     "exception": false,
     "start_time": "2022-07-22T09:49:22.847471",
     "status": "completed"
    },
    "tags": []
   },
   "source": [
    "*Class 1 has the highest survival rate.*"
   ]
  },
  {
   "cell_type": "markdown",
   "id": "a5dd2e93",
   "metadata": {
    "papermill": {
     "duration": 0.025041,
     "end_time": "2022-07-22T09:49:22.921789",
     "exception": false,
     "start_time": "2022-07-22T09:49:22.896748",
     "status": "completed"
    },
    "tags": []
   },
   "source": [
    "**Name**"
   ]
  },
  {
   "cell_type": "markdown",
   "id": "34459757",
   "metadata": {
    "papermill": {
     "duration": 0.025,
     "end_time": "2022-07-22T09:49:22.971827",
     "exception": false,
     "start_time": "2022-07-22T09:49:22.946827",
     "status": "completed"
    },
    "tags": []
   },
   "source": [
    "Let's exlore name column now."
   ]
  },
  {
   "cell_type": "code",
   "execution_count": 9,
   "id": "8081abb7",
   "metadata": {
    "execution": {
     "iopub.execute_input": "2022-07-22T09:49:23.033934Z",
     "iopub.status.busy": "2022-07-22T09:49:23.033228Z",
     "iopub.status.idle": "2022-07-22T09:49:23.040159Z",
     "shell.execute_reply": "2022-07-22T09:49:23.039431Z"
    },
    "papermill": {
     "duration": 0.040651,
     "end_time": "2022-07-22T09:49:23.042103",
     "exception": false,
     "start_time": "2022-07-22T09:49:23.001452",
     "status": "completed"
    },
    "tags": []
   },
   "outputs": [
    {
     "data": {
      "text/plain": [
       "0                              Braund, Mr. Owen Harris\n",
       "1    Cumings, Mrs. John Bradley (Florence Briggs Th...\n",
       "2                               Heikkinen, Miss. Laina\n",
       "3         Futrelle, Mrs. Jacques Heath (Lily May Peel)\n",
       "4                             Allen, Mr. William Henry\n",
       "Name: Name, dtype: object"
      ]
     },
     "execution_count": 9,
     "metadata": {},
     "output_type": "execute_result"
    }
   ],
   "source": [
    "train['Name'].head()"
   ]
  },
  {
   "cell_type": "markdown",
   "id": "e938a5f8",
   "metadata": {
    "papermill": {
     "duration": 0.025742,
     "end_time": "2022-07-22T09:49:23.093755",
     "exception": false,
     "start_time": "2022-07-22T09:49:23.068013",
     "status": "completed"
    },
    "tags": []
   },
   "source": [
    "I don't think so that `Name` column can be any useful. But, we can extract useful information out of it."
   ]
  },
  {
   "cell_type": "code",
   "execution_count": 10,
   "id": "5d9cc64f",
   "metadata": {
    "execution": {
     "iopub.execute_input": "2022-07-22T09:49:23.147586Z",
     "iopub.status.busy": "2022-07-22T09:49:23.146918Z",
     "iopub.status.idle": "2022-07-22T09:49:23.157929Z",
     "shell.execute_reply": "2022-07-22T09:49:23.157169Z"
    },
    "papermill": {
     "duration": 0.040144,
     "end_time": "2022-07-22T09:49:23.159985",
     "exception": false,
     "start_time": "2022-07-22T09:49:23.119841",
     "status": "completed"
    },
    "tags": []
   },
   "outputs": [
    {
     "data": {
      "text/plain": [
       "Mr.          517\n",
       "Miss.        182\n",
       "Mrs.         125\n",
       "Master.       40\n",
       "Dr.            7\n",
       "Rev.           6\n",
       "Mlle.          2\n",
       "Major.         2\n",
       "Col.           2\n",
       "the            1\n",
       "Capt.          1\n",
       "Ms.            1\n",
       "Sir.           1\n",
       "Lady.          1\n",
       "Mme.           1\n",
       "Don.           1\n",
       "Jonkheer.      1\n",
       "Name: Name_Title, dtype: int64"
      ]
     },
     "execution_count": 10,
     "metadata": {},
     "output_type": "execute_result"
    }
   ],
   "source": [
    "# Separating out the title\n",
    "train['Name_Title'] = train['Name'].apply(lambda x : x.split(',')[1]).apply(lambda x: x.split()[0])\n",
    "train['Name_Title'].value_counts()"
   ]
  },
  {
   "cell_type": "code",
   "execution_count": 11,
   "id": "5fdd050c",
   "metadata": {
    "execution": {
     "iopub.execute_input": "2022-07-22T09:49:23.225393Z",
     "iopub.status.busy": "2022-07-22T09:49:23.224417Z",
     "iopub.status.idle": "2022-07-22T09:49:23.235047Z",
     "shell.execute_reply": "2022-07-22T09:49:23.234264Z"
    },
    "papermill": {
     "duration": 0.045615,
     "end_time": "2022-07-22T09:49:23.237010",
     "exception": false,
     "start_time": "2022-07-22T09:49:23.191395",
     "status": "completed"
    },
    "tags": []
   },
   "outputs": [
    {
     "data": {
      "text/plain": [
       "Name_Title\n",
       "Capt.        0.000000\n",
       "Col.         0.500000\n",
       "Don.         0.000000\n",
       "Dr.          0.428571\n",
       "Jonkheer.    0.000000\n",
       "Lady.        1.000000\n",
       "Major.       0.500000\n",
       "Master.      0.575000\n",
       "Miss.        0.697802\n",
       "Mlle.        1.000000\n",
       "Mme.         1.000000\n",
       "Mr.          0.156673\n",
       "Mrs.         0.792000\n",
       "Ms.          1.000000\n",
       "Rev.         0.000000\n",
       "Sir.         1.000000\n",
       "the          1.000000\n",
       "Name: Survived, dtype: float64"
      ]
     },
     "execution_count": 11,
     "metadata": {},
     "output_type": "execute_result"
    }
   ],
   "source": [
    "# Checking the survival rate for new variable\n",
    "train['Survived'].groupby(train['Name_Title']).mean()"
   ]
  },
  {
   "cell_type": "markdown",
   "id": "21b0e1a6",
   "metadata": {
    "papermill": {
     "duration": 0.031365,
     "end_time": "2022-07-22T09:49:23.297461",
     "exception": false,
     "start_time": "2022-07-22T09:49:23.266096",
     "status": "completed"
    },
    "tags": []
   },
   "source": [
    "I belive that the above variable will be useful for our model, since the survial rate appears to be either significantly above or below the average survival rate."
   ]
  },
  {
   "cell_type": "markdown",
   "id": "72204236",
   "metadata": {
    "papermill": {
     "duration": 0.031239,
     "end_time": "2022-07-22T09:49:23.360466",
     "exception": false,
     "start_time": "2022-07-22T09:49:23.329227",
     "status": "completed"
    },
    "tags": []
   },
   "source": [
    "Additionally, we'll be looking any relationship between the length of a name and survival_rate."
   ]
  },
  {
   "cell_type": "code",
   "execution_count": 12,
   "id": "dd90ad2f",
   "metadata": {
    "execution": {
     "iopub.execute_input": "2022-07-22T09:49:23.426261Z",
     "iopub.status.busy": "2022-07-22T09:49:23.425567Z",
     "iopub.status.idle": "2022-07-22T09:49:23.448056Z",
     "shell.execute_reply": "2022-07-22T09:49:23.446930Z"
    },
    "papermill": {
     "duration": 0.058125,
     "end_time": "2022-07-22T09:49:23.450385",
     "exception": false,
     "start_time": "2022-07-22T09:49:23.392260",
     "status": "completed"
    },
    "tags": []
   },
   "outputs": [
    {
     "data": {
      "text/plain": [
       "Name_Len\n",
       "(11.999, 19.0]    0.220588\n",
       "(19.0, 23.0]      0.301282\n",
       "(23.0, 27.0]      0.319797\n",
       "(27.0, 32.0]      0.442424\n",
       "(32.0, 82.0]      0.674556\n",
       "Name: Survived, dtype: float64"
      ]
     },
     "execution_count": 12,
     "metadata": {},
     "output_type": "execute_result"
    }
   ],
   "source": [
    "train['Name_Len'] = train['Name'].apply(lambda x : len(x))\n",
    "train['Survived'].groupby(pd.qcut(train['Name_Len'],5)).mean()\n"
   ]
  },
  {
   "cell_type": "markdown",
   "id": "8fa2a60c",
   "metadata": {
    "papermill": {
     "duration": 0.025397,
     "end_time": "2022-07-22T09:49:23.501499",
     "exception": false,
     "start_time": "2022-07-22T09:49:23.476102",
     "status": "completed"
    },
    "tags": []
   },
   "source": [
    "Interesting....there seems to be clear relationship between length of name and survival_rate.Why do people with long name have high survival rate? Are people with long names are more important, and that's why more likely to be prioritized in a shipwreck?"
   ]
  },
  {
   "cell_type": "markdown",
   "id": "9c362893",
   "metadata": {
    "papermill": {
     "duration": 0.02538,
     "end_time": "2022-07-22T09:49:23.552731",
     "exception": false,
     "start_time": "2022-07-22T09:49:23.527351",
     "status": "completed"
    },
    "tags": []
   },
   "source": [
    "**Sex**"
   ]
  },
  {
   "cell_type": "markdown",
   "id": "355c3c0a",
   "metadata": {
    "papermill": {
     "duration": 0.025429,
     "end_time": "2022-07-22T09:49:23.603749",
     "exception": false,
     "start_time": "2022-07-22T09:49:23.578320",
     "status": "completed"
    },
    "tags": []
   },
   "source": [
    "Let's analyze the Sex column. In any disaster, \"Womens and Children are saved first\". So, there should be high rate of survival among female."
   ]
  },
  {
   "cell_type": "code",
   "execution_count": 13,
   "id": "12b31cc8",
   "metadata": {
    "execution": {
     "iopub.execute_input": "2022-07-22T09:49:23.658069Z",
     "iopub.status.busy": "2022-07-22T09:49:23.657358Z",
     "iopub.status.idle": "2022-07-22T09:49:23.666130Z",
     "shell.execute_reply": "2022-07-22T09:49:23.665280Z"
    },
    "papermill": {
     "duration": 0.038818,
     "end_time": "2022-07-22T09:49:23.668237",
     "exception": false,
     "start_time": "2022-07-22T09:49:23.629419",
     "status": "completed"
    },
    "tags": []
   },
   "outputs": [
    {
     "data": {
      "text/plain": [
       "male      0.647587\n",
       "female    0.352413\n",
       "Name: Sex, dtype: float64"
      ]
     },
     "execution_count": 13,
     "metadata": {},
     "output_type": "execute_result"
    }
   ],
   "source": [
    "train['Sex'].value_counts(normalize = True)"
   ]
  },
  {
   "cell_type": "code",
   "execution_count": 14,
   "id": "2b8c75f1",
   "metadata": {
    "execution": {
     "iopub.execute_input": "2022-07-22T09:49:23.722043Z",
     "iopub.status.busy": "2022-07-22T09:49:23.721323Z",
     "iopub.status.idle": "2022-07-22T09:49:23.731079Z",
     "shell.execute_reply": "2022-07-22T09:49:23.729650Z"
    },
    "papermill": {
     "duration": 0.039522,
     "end_time": "2022-07-22T09:49:23.733691",
     "exception": false,
     "start_time": "2022-07-22T09:49:23.694169",
     "status": "completed"
    },
    "tags": []
   },
   "outputs": [
    {
     "data": {
      "text/plain": [
       "Sex\n",
       "female    0.742038\n",
       "male      0.188908\n",
       "Name: Survived, dtype: float64"
      ]
     },
     "execution_count": 14,
     "metadata": {},
     "output_type": "execute_result"
    }
   ],
   "source": [
    "train['Survived'].groupby(train['Sex']).mean()"
   ]
  },
  {
   "cell_type": "markdown",
   "id": "991402d6",
   "metadata": {
    "papermill": {
     "duration": 0.025682,
     "end_time": "2022-07-22T09:49:23.785723",
     "exception": false,
     "start_time": "2022-07-22T09:49:23.760041",
     "status": "completed"
    },
    "tags": []
   },
   "source": [
    "As expected, female has high survival rate."
   ]
  },
  {
   "cell_type": "markdown",
   "id": "ba4e5d2f",
   "metadata": {
    "papermill": {
     "duration": 0.025719,
     "end_time": "2022-07-22T09:49:23.838246",
     "exception": false,
     "start_time": "2022-07-22T09:49:23.812527",
     "status": "completed"
    },
    "tags": []
   },
   "source": [
    "**Age**"
   ]
  },
  {
   "cell_type": "code",
   "execution_count": 15,
   "id": "66c9ac42",
   "metadata": {
    "execution": {
     "iopub.execute_input": "2022-07-22T09:49:23.893537Z",
     "iopub.status.busy": "2022-07-22T09:49:23.892769Z",
     "iopub.status.idle": "2022-07-22T09:49:23.902995Z",
     "shell.execute_reply": "2022-07-22T09:49:23.901989Z"
    },
    "papermill": {
     "duration": 0.04063,
     "end_time": "2022-07-22T09:49:23.905199",
     "exception": false,
     "start_time": "2022-07-22T09:49:23.864569",
     "status": "completed"
    },
    "tags": []
   },
   "outputs": [
    {
     "data": {
      "text/plain": [
       "Age\n",
       "False    0.293785\n",
       "True     0.406162\n",
       "Name: Survived, dtype: float64"
      ]
     },
     "execution_count": 15,
     "metadata": {},
     "output_type": "execute_result"
    }
   ],
   "source": [
    "#Age is not null\n",
    "train['Survived'].groupby(train['Age'].notnull()).mean()"
   ]
  },
  {
   "cell_type": "code",
   "execution_count": 16,
   "id": "ca54bde5",
   "metadata": {
    "execution": {
     "iopub.execute_input": "2022-07-22T09:49:23.961300Z",
     "iopub.status.busy": "2022-07-22T09:49:23.960639Z",
     "iopub.status.idle": "2022-07-22T09:49:23.970408Z",
     "shell.execute_reply": "2022-07-22T09:49:23.969373Z"
    },
    "papermill": {
     "duration": 0.040512,
     "end_time": "2022-07-22T09:49:23.973050",
     "exception": false,
     "start_time": "2022-07-22T09:49:23.932538",
     "status": "completed"
    },
    "tags": []
   },
   "outputs": [
    {
     "data": {
      "text/plain": [
       "Age\n",
       "False    0.406162\n",
       "True     0.293785\n",
       "Name: Survived, dtype: float64"
      ]
     },
     "execution_count": 16,
     "metadata": {},
     "output_type": "execute_result"
    }
   ],
   "source": [
    "#Age is null\n",
    "train['Survived'].groupby(train['Age'].isnull()).mean()"
   ]
  },
  {
   "cell_type": "markdown",
   "id": "d6be0b8c",
   "metadata": {
    "papermill": {
     "duration": 0.026428,
     "end_time": "2022-07-22T09:49:24.026758",
     "exception": false,
     "start_time": "2022-07-22T09:49:24.000330",
     "status": "completed"
    },
    "tags": []
   },
   "source": [
    "Age with null has 10% lower survival rate than non-nulls."
   ]
  },
  {
   "cell_type": "code",
   "execution_count": 17,
   "id": "80e8f116",
   "metadata": {
    "execution": {
     "iopub.execute_input": "2022-07-22T09:49:24.082305Z",
     "iopub.status.busy": "2022-07-22T09:49:24.081863Z",
     "iopub.status.idle": "2022-07-22T09:49:24.098039Z",
     "shell.execute_reply": "2022-07-22T09:49:24.096955Z"
    },
    "papermill": {
     "duration": 0.046643,
     "end_time": "2022-07-22T09:49:24.100416",
     "exception": false,
     "start_time": "2022-07-22T09:49:24.053773",
     "status": "completed"
    },
    "tags": []
   },
   "outputs": [
    {
     "data": {
      "text/plain": [
       "Age\n",
       "(0.419, 19.0]    0.481707\n",
       "(19.0, 25.0]     0.328467\n",
       "(25.0, 31.8]     0.393701\n",
       "(31.8, 41.0]     0.437500\n",
       "(41.0, 80.0]     0.373239\n",
       "Name: Survived, dtype: float64"
      ]
     },
     "execution_count": 17,
     "metadata": {},
     "output_type": "execute_result"
    }
   ],
   "source": [
    "train['Survived'].groupby(pd.qcut(train['Age'],5)).mean()"
   ]
  },
  {
   "cell_type": "code",
   "execution_count": 18,
   "id": "dac6a8d1",
   "metadata": {
    "execution": {
     "iopub.execute_input": "2022-07-22T09:49:24.155864Z",
     "iopub.status.busy": "2022-07-22T09:49:24.155116Z",
     "iopub.status.idle": "2022-07-22T09:49:24.169933Z",
     "shell.execute_reply": "2022-07-22T09:49:24.168806Z"
    },
    "papermill": {
     "duration": 0.045117,
     "end_time": "2022-07-22T09:49:24.172266",
     "exception": false,
     "start_time": "2022-07-22T09:49:24.127149",
     "status": "completed"
    },
    "tags": []
   },
   "outputs": [
    {
     "data": {
      "text/plain": [
       "(0.419, 19.0]    164\n",
       "(31.8, 41.0]     144\n",
       "(41.0, 80.0]     142\n",
       "(19.0, 25.0]     137\n",
       "(25.0, 31.8]     127\n",
       "Name: Age, dtype: int64"
      ]
     },
     "execution_count": 18,
     "metadata": {},
     "output_type": "execute_result"
    }
   ],
   "source": [
    "pd.qcut(train['Age'],5).value_counts()"
   ]
  },
  {
   "cell_type": "markdown",
   "id": "901311e7",
   "metadata": {
    "papermill": {
     "duration": 0.026976,
     "end_time": "2022-07-22T09:49:24.225757",
     "exception": false,
     "start_time": "2022-07-22T09:49:24.198781",
     "status": "completed"
    },
    "tags": []
   },
   "source": [
    "**SibSp**"
   ]
  },
  {
   "cell_type": "markdown",
   "id": "939e19f4",
   "metadata": {
    "papermill": {
     "duration": 0.026461,
     "end_time": "2022-07-22T09:49:24.279000",
     "exception": false,
     "start_time": "2022-07-22T09:49:24.252539",
     "status": "completed"
    },
    "tags": []
   },
   "source": [
    "SibSp column represents Number of siblings / spouses aboard the Titanic."
   ]
  },
  {
   "cell_type": "markdown",
   "id": "6ef2a31f",
   "metadata": {
    "papermill": {
     "duration": 0.02667,
     "end_time": "2022-07-22T09:49:24.332997",
     "exception": false,
     "start_time": "2022-07-22T09:49:24.306327",
     "status": "completed"
    },
    "tags": []
   },
   "source": [
    "I don't think so it will be a strong predictor. Let's find out."
   ]
  },
  {
   "cell_type": "code",
   "execution_count": 19,
   "id": "2faa0ffe",
   "metadata": {
    "execution": {
     "iopub.execute_input": "2022-07-22T09:49:24.389815Z",
     "iopub.status.busy": "2022-07-22T09:49:24.388627Z",
     "iopub.status.idle": "2022-07-22T09:49:24.399199Z",
     "shell.execute_reply": "2022-07-22T09:49:24.398383Z"
    },
    "papermill": {
     "duration": 0.040976,
     "end_time": "2022-07-22T09:49:24.401253",
     "exception": false,
     "start_time": "2022-07-22T09:49:24.360277",
     "status": "completed"
    },
    "tags": []
   },
   "outputs": [
    {
     "data": {
      "text/plain": [
       "SibSp\n",
       "0    0.345395\n",
       "1    0.535885\n",
       "2    0.464286\n",
       "3    0.250000\n",
       "4    0.166667\n",
       "5    0.000000\n",
       "8    0.000000\n",
       "Name: Survived, dtype: float64"
      ]
     },
     "execution_count": 19,
     "metadata": {},
     "output_type": "execute_result"
    }
   ],
   "source": [
    "train['Survived'].groupby(train['SibSp']).mean()"
   ]
  },
  {
   "cell_type": "code",
   "execution_count": 20,
   "id": "545414c7",
   "metadata": {
    "execution": {
     "iopub.execute_input": "2022-07-22T09:49:24.457163Z",
     "iopub.status.busy": "2022-07-22T09:49:24.456412Z",
     "iopub.status.idle": "2022-07-22T09:49:24.466471Z",
     "shell.execute_reply": "2022-07-22T09:49:24.465309Z"
    },
    "papermill": {
     "duration": 0.040844,
     "end_time": "2022-07-22T09:49:24.468634",
     "exception": false,
     "start_time": "2022-07-22T09:49:24.427790",
     "status": "completed"
    },
    "tags": []
   },
   "outputs": [
    {
     "data": {
      "text/plain": [
       "0    608\n",
       "1    209\n",
       "2     28\n",
       "4     18\n",
       "3     16\n",
       "8      7\n",
       "5      5\n",
       "Name: SibSp, dtype: int64"
      ]
     },
     "execution_count": 20,
     "metadata": {},
     "output_type": "execute_result"
    }
   ],
   "source": [
    "train['SibSp'].value_counts()"
   ]
  },
  {
   "cell_type": "markdown",
   "id": "84595ed9",
   "metadata": {
    "papermill": {
     "duration": 0.027239,
     "end_time": "2022-07-22T09:49:24.522501",
     "exception": false,
     "start_time": "2022-07-22T09:49:24.495262",
     "status": "completed"
    },
    "tags": []
   },
   "source": [
    "**Parch**"
   ]
  },
  {
   "cell_type": "markdown",
   "id": "87ad7f02",
   "metadata": {
    "papermill": {
     "duration": 0.027341,
     "end_time": "2022-07-22T09:49:24.577708",
     "exception": false,
     "start_time": "2022-07-22T09:49:24.550367",
     "status": "completed"
    },
    "tags": []
   },
   "source": [
    "Parch represents Number of parents / children abroad the Titanic"
   ]
  },
  {
   "cell_type": "code",
   "execution_count": 21,
   "id": "15b3dad8",
   "metadata": {
    "execution": {
     "iopub.execute_input": "2022-07-22T09:49:24.635349Z",
     "iopub.status.busy": "2022-07-22T09:49:24.634512Z",
     "iopub.status.idle": "2022-07-22T09:49:24.643805Z",
     "shell.execute_reply": "2022-07-22T09:49:24.642985Z"
    },
    "papermill": {
     "duration": 0.040645,
     "end_time": "2022-07-22T09:49:24.646050",
     "exception": false,
     "start_time": "2022-07-22T09:49:24.605405",
     "status": "completed"
    },
    "tags": []
   },
   "outputs": [
    {
     "data": {
      "text/plain": [
       "Parch\n",
       "0    0.343658\n",
       "1    0.550847\n",
       "2    0.500000\n",
       "3    0.600000\n",
       "4    0.000000\n",
       "5    0.200000\n",
       "6    0.000000\n",
       "Name: Survived, dtype: float64"
      ]
     },
     "execution_count": 21,
     "metadata": {},
     "output_type": "execute_result"
    }
   ],
   "source": [
    "train['Survived'].groupby(train['Parch']).mean()"
   ]
  },
  {
   "cell_type": "code",
   "execution_count": 22,
   "id": "ca4cd834",
   "metadata": {
    "execution": {
     "iopub.execute_input": "2022-07-22T09:49:24.705249Z",
     "iopub.status.busy": "2022-07-22T09:49:24.704836Z",
     "iopub.status.idle": "2022-07-22T09:49:24.714094Z",
     "shell.execute_reply": "2022-07-22T09:49:24.712849Z"
    },
    "papermill": {
     "duration": 0.041359,
     "end_time": "2022-07-22T09:49:24.716848",
     "exception": false,
     "start_time": "2022-07-22T09:49:24.675489",
     "status": "completed"
    },
    "tags": []
   },
   "outputs": [
    {
     "data": {
      "text/plain": [
       "0    678\n",
       "1    118\n",
       "2     80\n",
       "5      5\n",
       "3      5\n",
       "4      4\n",
       "6      1\n",
       "Name: Parch, dtype: int64"
      ]
     },
     "execution_count": 22,
     "metadata": {},
     "output_type": "execute_result"
    }
   ],
   "source": [
    "train['Parch'].value_counts()"
   ]
  },
  {
   "cell_type": "markdown",
   "id": "43ca2ac1",
   "metadata": {
    "papermill": {
     "duration": 0.028005,
     "end_time": "2022-07-22T09:49:24.773378",
     "exception": false,
     "start_time": "2022-07-22T09:49:24.745373",
     "status": "completed"
    },
    "tags": []
   },
   "source": [
    "It is also a weak predictor."
   ]
  },
  {
   "cell_type": "markdown",
   "id": "13f1ea7a",
   "metadata": {
    "papermill": {
     "duration": 0.026828,
     "end_time": "2022-07-22T09:49:24.828085",
     "exception": false,
     "start_time": "2022-07-22T09:49:24.801257",
     "status": "completed"
    },
    "tags": []
   },
   "source": [
    "**Ticket**"
   ]
  },
  {
   "cell_type": "markdown",
   "id": "b2fd75e3",
   "metadata": {
    "papermill": {
     "duration": 0.02771,
     "end_time": "2022-07-22T09:49:24.882797",
     "exception": false,
     "start_time": "2022-07-22T09:49:24.855087",
     "status": "completed"
    },
    "tags": []
   },
   "source": [
    "Let's explore the Ticket feature"
   ]
  },
  {
   "cell_type": "code",
   "execution_count": 23,
   "id": "b1f02c43",
   "metadata": {
    "execution": {
     "iopub.execute_input": "2022-07-22T09:49:24.942717Z",
     "iopub.status.busy": "2022-07-22T09:49:24.942306Z",
     "iopub.status.idle": "2022-07-22T09:49:24.949304Z",
     "shell.execute_reply": "2022-07-22T09:49:24.948614Z"
    },
    "papermill": {
     "duration": 0.038583,
     "end_time": "2022-07-22T09:49:24.951927",
     "exception": false,
     "start_time": "2022-07-22T09:49:24.913344",
     "status": "completed"
    },
    "tags": []
   },
   "outputs": [
    {
     "data": {
      "text/plain": [
       "0           A/5 21171\n",
       "1            PC 17599\n",
       "2    STON/O2. 3101282\n",
       "3              113803\n",
       "4              373450\n",
       "5              330877\n",
       "6               17463\n",
       "7              349909\n",
       "8              347742\n",
       "9              237736\n",
       "Name: Ticket, dtype: object"
      ]
     },
     "execution_count": 23,
     "metadata": {},
     "output_type": "execute_result"
    }
   ],
   "source": [
    "train['Ticket'].head(10)"
   ]
  },
  {
   "cell_type": "markdown",
   "id": "adeafa8f",
   "metadata": {
    "papermill": {
     "duration": 0.026978,
     "end_time": "2022-07-22T09:49:25.006532",
     "exception": false,
     "start_time": "2022-07-22T09:49:24.979554",
     "status": "completed"
    },
    "tags": []
   },
   "source": [
    "One piece of potentially useful informatin is the number of characters in the Ticket column. This could be a reflection of the 'type' of ticket a given passenger had, which could somehow indicate their chances of survival. One theory (which may in fact be verifiable) is that some characteristic of the ticket could indicate the location of the passenger's room, which might be a crucial factor in their escape route, and consequently their survival."
   ]
  },
  {
   "cell_type": "code",
   "execution_count": 24,
   "id": "5d387fb0",
   "metadata": {
    "execution": {
     "iopub.execute_input": "2022-07-22T09:49:25.065393Z",
     "iopub.status.busy": "2022-07-22T09:49:25.065025Z",
     "iopub.status.idle": "2022-07-22T09:49:25.071057Z",
     "shell.execute_reply": "2022-07-22T09:49:25.070284Z"
    },
    "papermill": {
     "duration": 0.037278,
     "end_time": "2022-07-22T09:49:25.073149",
     "exception": false,
     "start_time": "2022-07-22T09:49:25.035871",
     "status": "completed"
    },
    "tags": []
   },
   "outputs": [],
   "source": [
    "train['Ticket_Len'] = train['Ticket'].apply(lambda x: len(x))"
   ]
  },
  {
   "cell_type": "code",
   "execution_count": 25,
   "id": "6465dba3",
   "metadata": {
    "execution": {
     "iopub.execute_input": "2022-07-22T09:49:25.129710Z",
     "iopub.status.busy": "2022-07-22T09:49:25.129280Z",
     "iopub.status.idle": "2022-07-22T09:49:25.137181Z",
     "shell.execute_reply": "2022-07-22T09:49:25.136069Z"
    },
    "papermill": {
     "duration": 0.039257,
     "end_time": "2022-07-22T09:49:25.139654",
     "exception": false,
     "start_time": "2022-07-22T09:49:25.100397",
     "status": "completed"
    },
    "tags": []
   },
   "outputs": [
    {
     "data": {
      "text/plain": [
       "6     419\n",
       "5     131\n",
       "4     101\n",
       "8      76\n",
       "10     41\n",
       "7      27\n",
       "9      26\n",
       "17     14\n",
       "16     11\n",
       "13     10\n",
       "12     10\n",
       "15      9\n",
       "11      8\n",
       "18      6\n",
       "3       2\n",
       "Name: Ticket_Len, dtype: int64"
      ]
     },
     "execution_count": 25,
     "metadata": {},
     "output_type": "execute_result"
    }
   ],
   "source": [
    "train['Ticket_Len'].value_counts()"
   ]
  },
  {
   "cell_type": "markdown",
   "id": "56c29d30",
   "metadata": {
    "papermill": {
     "duration": 0.027192,
     "end_time": "2022-07-22T09:49:25.194524",
     "exception": false,
     "start_time": "2022-07-22T09:49:25.167332",
     "status": "completed"
    },
    "tags": []
   },
   "source": [
    "Another piece of information is the first letter of each ticket, which, again, might be indicative of a certain attribute of the ticketholders or their rooms.\n",
    "\n"
   ]
  },
  {
   "cell_type": "code",
   "execution_count": 26,
   "id": "44fc7f83",
   "metadata": {
    "execution": {
     "iopub.execute_input": "2022-07-22T09:49:25.258958Z",
     "iopub.status.busy": "2022-07-22T09:49:25.258568Z",
     "iopub.status.idle": "2022-07-22T09:49:25.265529Z",
     "shell.execute_reply": "2022-07-22T09:49:25.264288Z"
    },
    "papermill": {
     "duration": 0.044689,
     "end_time": "2022-07-22T09:49:25.268031",
     "exception": false,
     "start_time": "2022-07-22T09:49:25.223342",
     "status": "completed"
    },
    "tags": []
   },
   "outputs": [],
   "source": [
    "train['Ticket_Lett'] = train['Ticket'].apply(lambda x: str(x)[0])"
   ]
  },
  {
   "cell_type": "code",
   "execution_count": 27,
   "id": "b021a7b2",
   "metadata": {
    "execution": {
     "iopub.execute_input": "2022-07-22T09:49:25.325155Z",
     "iopub.status.busy": "2022-07-22T09:49:25.324578Z",
     "iopub.status.idle": "2022-07-22T09:49:25.334016Z",
     "shell.execute_reply": "2022-07-22T09:49:25.333042Z"
    },
    "papermill": {
     "duration": 0.040844,
     "end_time": "2022-07-22T09:49:25.336285",
     "exception": false,
     "start_time": "2022-07-22T09:49:25.295441",
     "status": "completed"
    },
    "tags": []
   },
   "outputs": [
    {
     "data": {
      "text/plain": [
       "3    301\n",
       "2    183\n",
       "1    146\n",
       "P     65\n",
       "S     65\n",
       "C     47\n",
       "A     29\n",
       "W     13\n",
       "4     10\n",
       "7      9\n",
       "F      7\n",
       "6      6\n",
       "L      4\n",
       "5      3\n",
       "8      2\n",
       "9      1\n",
       "Name: Ticket_Lett, dtype: int64"
      ]
     },
     "execution_count": 27,
     "metadata": {},
     "output_type": "execute_result"
    }
   ],
   "source": [
    "train['Ticket_Lett'].value_counts()"
   ]
  },
  {
   "cell_type": "code",
   "execution_count": 28,
   "id": "8b95cc09",
   "metadata": {
    "execution": {
     "iopub.execute_input": "2022-07-22T09:49:25.401625Z",
     "iopub.status.busy": "2022-07-22T09:49:25.401145Z",
     "iopub.status.idle": "2022-07-22T09:49:25.411826Z",
     "shell.execute_reply": "2022-07-22T09:49:25.410955Z"
    },
    "papermill": {
     "duration": 0.046474,
     "end_time": "2022-07-22T09:49:25.413903",
     "exception": false,
     "start_time": "2022-07-22T09:49:25.367429",
     "status": "completed"
    },
    "tags": []
   },
   "outputs": [
    {
     "data": {
      "text/plain": [
       "Ticket_Lett\n",
       "1    0.630137\n",
       "2    0.464481\n",
       "3    0.239203\n",
       "4    0.200000\n",
       "5    0.000000\n",
       "6    0.166667\n",
       "7    0.111111\n",
       "8    0.000000\n",
       "9    1.000000\n",
       "A    0.068966\n",
       "C    0.340426\n",
       "F    0.571429\n",
       "L    0.250000\n",
       "P    0.646154\n",
       "S    0.323077\n",
       "W    0.153846\n",
       "Name: Survived, dtype: float64"
      ]
     },
     "execution_count": 28,
     "metadata": {},
     "output_type": "execute_result"
    }
   ],
   "source": [
    "train['Survived'].groupby(train['Ticket_Lett']).mean()"
   ]
  },
  {
   "cell_type": "markdown",
   "id": "39d4ac40",
   "metadata": {
    "papermill": {
     "duration": 0.02749,
     "end_time": "2022-07-22T09:49:25.469044",
     "exception": false,
     "start_time": "2022-07-22T09:49:25.441554",
     "status": "completed"
    },
    "tags": []
   },
   "source": [
    "**Fare**"
   ]
  },
  {
   "cell_type": "markdown",
   "id": "ec10d326",
   "metadata": {
    "papermill": {
     "duration": 0.02742,
     "end_time": "2022-07-22T09:49:25.524126",
     "exception": false,
     "start_time": "2022-07-22T09:49:25.496706",
     "status": "completed"
    },
    "tags": []
   },
   "source": [
    "I am hoping that there will be strong relationship between `Fare` and `Survived`.A similar to `class` and `Survived`."
   ]
  },
  {
   "cell_type": "code",
   "execution_count": 29,
   "id": "c294a644",
   "metadata": {
    "execution": {
     "iopub.execute_input": "2022-07-22T09:49:25.582199Z",
     "iopub.status.busy": "2022-07-22T09:49:25.581413Z",
     "iopub.status.idle": "2022-07-22T09:49:25.597502Z",
     "shell.execute_reply": "2022-07-22T09:49:25.596503Z"
    },
    "papermill": {
     "duration": 0.047565,
     "end_time": "2022-07-22T09:49:25.599633",
     "exception": false,
     "start_time": "2022-07-22T09:49:25.552068",
     "status": "completed"
    },
    "tags": []
   },
   "outputs": [
    {
     "data": {
      "text/plain": [
       "(-0.001, 8.662]    308\n",
       "(26.0, 512.329]    295\n",
       "(8.662, 26.0]      288\n",
       "Name: Fare, dtype: int64"
      ]
     },
     "execution_count": 29,
     "metadata": {},
     "output_type": "execute_result"
    }
   ],
   "source": [
    "pd.qcut(train['Fare'],3).value_counts()"
   ]
  },
  {
   "cell_type": "code",
   "execution_count": 30,
   "id": "f15939e5",
   "metadata": {
    "execution": {
     "iopub.execute_input": "2022-07-22T09:49:25.664032Z",
     "iopub.status.busy": "2022-07-22T09:49:25.663112Z",
     "iopub.status.idle": "2022-07-22T09:49:25.679575Z",
     "shell.execute_reply": "2022-07-22T09:49:25.678396Z"
    },
    "papermill": {
     "duration": 0.050326,
     "end_time": "2022-07-22T09:49:25.682035",
     "exception": false,
     "start_time": "2022-07-22T09:49:25.631709",
     "status": "completed"
    },
    "tags": []
   },
   "outputs": [
    {
     "data": {
      "text/plain": [
       "Fare\n",
       "(-0.001, 8.662]    0.198052\n",
       "(8.662, 26.0]      0.402778\n",
       "(26.0, 512.329]    0.559322\n",
       "Name: Survived, dtype: float64"
      ]
     },
     "execution_count": 30,
     "metadata": {},
     "output_type": "execute_result"
    }
   ],
   "source": [
    "train['Survived'].groupby(pd.qcut(train['Fare'],3)).mean()"
   ]
  },
  {
   "cell_type": "markdown",
   "id": "7dc29480",
   "metadata": {
    "papermill": {
     "duration": 0.027471,
     "end_time": "2022-07-22T09:49:25.737396",
     "exception": false,
     "start_time": "2022-07-22T09:49:25.709925",
     "status": "completed"
    },
    "tags": []
   },
   "source": [
    "**Cabin**"
   ]
  },
  {
   "cell_type": "markdown",
   "id": "7c64fa3d",
   "metadata": {
    "papermill": {
     "duration": 0.027577,
     "end_time": "2022-07-22T09:49:25.792848",
     "exception": false,
     "start_time": "2022-07-22T09:49:25.765271",
     "status": "completed"
    },
    "tags": []
   },
   "source": [
    "This column has the most nulls (almost 700), but we can still extract information from it, like the first letter of each cabin, or the cabin number. The usefulness of this column might be similar to that of the `Ticket` variable."
   ]
  },
  {
   "cell_type": "markdown",
   "id": "c69953f8",
   "metadata": {
    "papermill": {
     "duration": 0.027795,
     "end_time": "2022-07-22T09:49:25.848579",
     "exception": false,
     "start_time": "2022-07-22T09:49:25.820784",
     "status": "completed"
    },
    "tags": []
   },
   "source": [
    "*Cabin Letter*"
   ]
  },
  {
   "cell_type": "code",
   "execution_count": 31,
   "id": "135a41fb",
   "metadata": {
    "execution": {
     "iopub.execute_input": "2022-07-22T09:49:25.907755Z",
     "iopub.status.busy": "2022-07-22T09:49:25.906396Z",
     "iopub.status.idle": "2022-07-22T09:49:25.913425Z",
     "shell.execute_reply": "2022-07-22T09:49:25.912653Z"
    },
    "papermill": {
     "duration": 0.03839,
     "end_time": "2022-07-22T09:49:25.915475",
     "exception": false,
     "start_time": "2022-07-22T09:49:25.877085",
     "status": "completed"
    },
    "tags": []
   },
   "outputs": [],
   "source": [
    "train['Cabin_Letter'] = train['Cabin'].apply(lambda x: str(x)[0])"
   ]
  },
  {
   "cell_type": "code",
   "execution_count": 32,
   "id": "f3e5684d",
   "metadata": {
    "execution": {
     "iopub.execute_input": "2022-07-22T09:49:25.973824Z",
     "iopub.status.busy": "2022-07-22T09:49:25.973205Z",
     "iopub.status.idle": "2022-07-22T09:49:25.981387Z",
     "shell.execute_reply": "2022-07-22T09:49:25.980348Z"
    },
    "papermill": {
     "duration": 0.040242,
     "end_time": "2022-07-22T09:49:25.983672",
     "exception": false,
     "start_time": "2022-07-22T09:49:25.943430",
     "status": "completed"
    },
    "tags": []
   },
   "outputs": [
    {
     "data": {
      "text/plain": [
       "n    687\n",
       "C     59\n",
       "B     47\n",
       "D     33\n",
       "E     32\n",
       "A     15\n",
       "F     13\n",
       "G      4\n",
       "T      1\n",
       "Name: Cabin_Letter, dtype: int64"
      ]
     },
     "execution_count": 32,
     "metadata": {},
     "output_type": "execute_result"
    }
   ],
   "source": [
    "train['Cabin_Letter'].value_counts()"
   ]
  },
  {
   "cell_type": "code",
   "execution_count": 33,
   "id": "01116d1c",
   "metadata": {
    "execution": {
     "iopub.execute_input": "2022-07-22T09:49:26.041811Z",
     "iopub.status.busy": "2022-07-22T09:49:26.041418Z",
     "iopub.status.idle": "2022-07-22T09:49:26.052504Z",
     "shell.execute_reply": "2022-07-22T09:49:26.051413Z"
    },
    "papermill": {
     "duration": 0.042867,
     "end_time": "2022-07-22T09:49:26.054729",
     "exception": false,
     "start_time": "2022-07-22T09:49:26.011862",
     "status": "completed"
    },
    "tags": []
   },
   "outputs": [
    {
     "data": {
      "text/plain": [
       "Cabin_Letter\n",
       "A    0.466667\n",
       "B    0.744681\n",
       "C    0.593220\n",
       "D    0.757576\n",
       "E    0.750000\n",
       "F    0.615385\n",
       "G    0.500000\n",
       "T    0.000000\n",
       "n    0.299854\n",
       "Name: Survived, dtype: float64"
      ]
     },
     "execution_count": 33,
     "metadata": {},
     "output_type": "execute_result"
    }
   ],
   "source": [
    "train['Survived'].groupby(train['Cabin_Letter']).mean()"
   ]
  },
  {
   "cell_type": "markdown",
   "id": "35659397",
   "metadata": {
    "papermill": {
     "duration": 0.029008,
     "end_time": "2022-07-22T09:49:26.111837",
     "exception": false,
     "start_time": "2022-07-22T09:49:26.082829",
     "status": "completed"
    },
    "tags": []
   },
   "source": [
    "> We can see that most of the cabin letters are associated with a high survival rate, so this might very well be a useful variable."
   ]
  },
  {
   "cell_type": "markdown",
   "id": "afb5a8d5",
   "metadata": {
    "papermill": {
     "duration": 0.028898,
     "end_time": "2022-07-22T09:49:26.169343",
     "exception": false,
     "start_time": "2022-07-22T09:49:26.140445",
     "status": "completed"
    },
    "tags": []
   },
   "source": [
    "*Cabin Number*\n",
    "> Upon first glance, this appears to be useless. Not only do we have ~700 nulls which will be difficult to impute, but the correlation with Survived is almost zero. However, the cabin numbers as a whole do seem to have a high surival rate compared to the population average, so we might want to keep this just in case for now."
   ]
  },
  {
   "cell_type": "code",
   "execution_count": 34,
   "id": "1dbec9ed",
   "metadata": {
    "execution": {
     "iopub.execute_input": "2022-07-22T09:49:26.228492Z",
     "iopub.status.busy": "2022-07-22T09:49:26.227812Z",
     "iopub.status.idle": "2022-07-22T09:49:26.239231Z",
     "shell.execute_reply": "2022-07-22T09:49:26.237901Z"
    },
    "papermill": {
     "duration": 0.044007,
     "end_time": "2022-07-22T09:49:26.241832",
     "exception": false,
     "start_time": "2022-07-22T09:49:26.197825",
     "status": "completed"
    },
    "tags": []
   },
   "outputs": [],
   "source": [
    "train['Cabin_num'] = train['Cabin'].apply(lambda x : str(x).split(' ')[-1][1:])\n",
    "train['Cabin_num'].replace('an', np.NaN, inplace = True)\n",
    "train['Cabin_num'] = train['Cabin_num'].apply(lambda x : int(x) if not pd.isnull(x) and x != '' else np.NaN)"
   ]
  },
  {
   "cell_type": "code",
   "execution_count": 35,
   "id": "9fae026b",
   "metadata": {
    "execution": {
     "iopub.execute_input": "2022-07-22T09:49:26.313207Z",
     "iopub.status.busy": "2022-07-22T09:49:26.312749Z",
     "iopub.status.idle": "2022-07-22T09:49:26.326521Z",
     "shell.execute_reply": "2022-07-22T09:49:26.325670Z"
    },
    "papermill": {
     "duration": 0.052464,
     "end_time": "2022-07-22T09:49:26.328715",
     "exception": false,
     "start_time": "2022-07-22T09:49:26.276251",
     "status": "completed"
    },
    "tags": []
   },
   "outputs": [
    {
     "data": {
      "text/plain": [
       "(1.999, 28.667]     67\n",
       "(65.667, 148.0]     67\n",
       "(28.667, 65.667]    66\n",
       "Name: Cabin_num, dtype: int64"
      ]
     },
     "execution_count": 35,
     "metadata": {},
     "output_type": "execute_result"
    }
   ],
   "source": [
    "pd.qcut(train['Cabin_num'],3).value_counts()"
   ]
  },
  {
   "cell_type": "code",
   "execution_count": 36,
   "id": "d750dd6d",
   "metadata": {
    "execution": {
     "iopub.execute_input": "2022-07-22T09:49:26.388282Z",
     "iopub.status.busy": "2022-07-22T09:49:26.387637Z",
     "iopub.status.idle": "2022-07-22T09:49:26.401390Z",
     "shell.execute_reply": "2022-07-22T09:49:26.400542Z"
    },
    "papermill": {
     "duration": 0.046891,
     "end_time": "2022-07-22T09:49:26.404052",
     "exception": false,
     "start_time": "2022-07-22T09:49:26.357161",
     "status": "completed"
    },
    "tags": []
   },
   "outputs": [
    {
     "data": {
      "text/plain": [
       "Cabin_num\n",
       "(1.999, 28.667]     0.716418\n",
       "(28.667, 65.667]    0.651515\n",
       "(65.667, 148.0]     0.641791\n",
       "Name: Survived, dtype: float64"
      ]
     },
     "execution_count": 36,
     "metadata": {},
     "output_type": "execute_result"
    }
   ],
   "source": [
    "train['Survived'].groupby(pd.qcut(train['Cabin_num'],3)).mean()"
   ]
  },
  {
   "cell_type": "code",
   "execution_count": 37,
   "id": "60e9b81e",
   "metadata": {
    "execution": {
     "iopub.execute_input": "2022-07-22T09:49:26.463407Z",
     "iopub.status.busy": "2022-07-22T09:49:26.462745Z",
     "iopub.status.idle": "2022-07-22T09:49:26.471816Z",
     "shell.execute_reply": "2022-07-22T09:49:26.470929Z"
    },
    "papermill": {
     "duration": 0.041449,
     "end_time": "2022-07-22T09:49:26.474046",
     "exception": false,
     "start_time": "2022-07-22T09:49:26.432597",
     "status": "completed"
    },
    "tags": []
   },
   "outputs": [
    {
     "data": {
      "text/plain": [
       "-0.06384595922789371"
      ]
     },
     "execution_count": 37,
     "metadata": {},
     "output_type": "execute_result"
    }
   ],
   "source": [
    "train['Survived'].corr(train['Cabin_num'])"
   ]
  },
  {
   "cell_type": "markdown",
   "id": "2c84d1df",
   "metadata": {
    "papermill": {
     "duration": 0.028281,
     "end_time": "2022-07-22T09:49:26.530690",
     "exception": false,
     "start_time": "2022-07-22T09:49:26.502409",
     "status": "completed"
    },
    "tags": []
   },
   "source": [
    "**Embarked**\n",
    "\n",
    "This column represent the Port of Embarkation. There are three ports Cherbourg (represented by 'C'), Queenstown (represented by 'Q') and Southampton (represented by 'S'). \n",
    "> Let's find out this variable relationship with `Survived`"
   ]
  },
  {
   "cell_type": "code",
   "execution_count": 38,
   "id": "77d38321",
   "metadata": {
    "execution": {
     "iopub.execute_input": "2022-07-22T09:49:26.589025Z",
     "iopub.status.busy": "2022-07-22T09:49:26.588628Z",
     "iopub.status.idle": "2022-07-22T09:49:26.599443Z",
     "shell.execute_reply": "2022-07-22T09:49:26.598166Z"
    },
    "papermill": {
     "duration": 0.044023,
     "end_time": "2022-07-22T09:49:26.603057",
     "exception": false,
     "start_time": "2022-07-22T09:49:26.559034",
     "status": "completed"
    },
    "tags": []
   },
   "outputs": [
    {
     "data": {
      "text/plain": [
       "S    644\n",
       "C    168\n",
       "Q     77\n",
       "Name: Embarked, dtype: int64"
      ]
     },
     "execution_count": 38,
     "metadata": {},
     "output_type": "execute_result"
    }
   ],
   "source": [
    "train['Embarked'].value_counts()"
   ]
  },
  {
   "cell_type": "code",
   "execution_count": 39,
   "id": "4e4e4911",
   "metadata": {
    "execution": {
     "iopub.execute_input": "2022-07-22T09:49:26.668216Z",
     "iopub.status.busy": "2022-07-22T09:49:26.667193Z",
     "iopub.status.idle": "2022-07-22T09:49:26.676366Z",
     "shell.execute_reply": "2022-07-22T09:49:26.675373Z"
    },
    "papermill": {
     "duration": 0.042275,
     "end_time": "2022-07-22T09:49:26.678564",
     "exception": false,
     "start_time": "2022-07-22T09:49:26.636289",
     "status": "completed"
    },
    "tags": []
   },
   "outputs": [
    {
     "data": {
      "text/plain": [
       "S    0.724409\n",
       "C    0.188976\n",
       "Q    0.086614\n",
       "Name: Embarked, dtype: float64"
      ]
     },
     "execution_count": 39,
     "metadata": {},
     "output_type": "execute_result"
    }
   ],
   "source": [
    "train['Embarked'].value_counts(normalize = True)"
   ]
  },
  {
   "cell_type": "code",
   "execution_count": 40,
   "id": "d2a86c18",
   "metadata": {
    "execution": {
     "iopub.execute_input": "2022-07-22T09:49:26.739295Z",
     "iopub.status.busy": "2022-07-22T09:49:26.738095Z",
     "iopub.status.idle": "2022-07-22T09:49:26.749043Z",
     "shell.execute_reply": "2022-07-22T09:49:26.747665Z"
    },
    "papermill": {
     "duration": 0.043893,
     "end_time": "2022-07-22T09:49:26.751658",
     "exception": false,
     "start_time": "2022-07-22T09:49:26.707765",
     "status": "completed"
    },
    "tags": []
   },
   "outputs": [
    {
     "data": {
      "text/plain": [
       "Embarked\n",
       "C    0.553571\n",
       "Q    0.389610\n",
       "S    0.336957\n",
       "Name: Survived, dtype: float64"
      ]
     },
     "execution_count": 40,
     "metadata": {},
     "output_type": "execute_result"
    }
   ],
   "source": [
    "train['Survived'].groupby(train['Embarked']).mean()"
   ]
  },
  {
   "cell_type": "markdown",
   "id": "800c45c9",
   "metadata": {
    "papermill": {
     "duration": 0.029562,
     "end_time": "2022-07-22T09:49:26.810844",
     "exception": false,
     "start_time": "2022-07-22T09:49:26.781282",
     "status": "completed"
    },
    "tags": []
   },
   "source": [
    "*It looks like that the passengers who embarked from Cherbourg have high survival rate.*"
   ]
  },
  {
   "cell_type": "markdown",
   "id": "bb303fd6",
   "metadata": {
    "papermill": {
     "duration": 0.028404,
     "end_time": "2022-07-22T09:49:26.868231",
     "exception": false,
     "start_time": "2022-07-22T09:49:26.839827",
     "status": "completed"
    },
    "tags": []
   },
   "source": [
    "**Feature Engineering**"
   ]
  },
  {
   "cell_type": "markdown",
   "id": "523acd77",
   "metadata": {
    "papermill": {
     "duration": 0.02839,
     "end_time": "2022-07-22T09:49:26.926561",
     "exception": false,
     "start_time": "2022-07-22T09:49:26.898171",
     "status": "completed"
    },
    "tags": []
   },
   "source": [
    "Having explored the variables, we have a good understanding of how we want to transform our variable in preparation for our final dataset. We will perform feature engineering through series of helper functions that each serve a specific purpose."
   ]
  },
  {
   "cell_type": "code",
   "execution_count": 41,
   "id": "33d01495",
   "metadata": {
    "execution": {
     "iopub.execute_input": "2022-07-22T09:49:26.986423Z",
     "iopub.status.busy": "2022-07-22T09:49:26.986016Z",
     "iopub.status.idle": "2022-07-22T09:49:26.993259Z",
     "shell.execute_reply": "2022-07-22T09:49:26.991687Z"
    },
    "papermill": {
     "duration": 0.040236,
     "end_time": "2022-07-22T09:49:26.995737",
     "exception": false,
     "start_time": "2022-07-22T09:49:26.955501",
     "status": "completed"
    },
    "tags": []
   },
   "outputs": [],
   "source": [
    "def names(train,test):\n",
    "    for i in [train, test]:\n",
    "        i['Name_Len'] = i['Name'].apply(lambda x : len(x))\n",
    "        i['Name_Title'] = i['Name'].apply(lambda x : x.split(',')[1]).apply(lambda x : x.split()[0])\n",
    "        del i['Name']\n",
    "    return train, test"
   ]
  },
  {
   "cell_type": "markdown",
   "id": "324c2c54",
   "metadata": {
    "papermill": {
     "duration": 0.028431,
     "end_time": "2022-07-22T09:49:27.053372",
     "exception": false,
     "start_time": "2022-07-22T09:49:27.024941",
     "status": "completed"
    },
    "tags": []
   },
   "source": [
    "Next, we impute the null values of `Age` column by filling in the mean value of the passenger's corresponding title and class. I'll be taking more granular approach hoping that it will be more accuarte than simply taking mean age of the population."
   ]
  },
  {
   "cell_type": "code",
   "execution_count": 42,
   "id": "373050ed",
   "metadata": {
    "execution": {
     "iopub.execute_input": "2022-07-22T09:49:27.112849Z",
     "iopub.status.busy": "2022-07-22T09:49:27.112399Z",
     "iopub.status.idle": "2022-07-22T09:49:27.119880Z",
     "shell.execute_reply": "2022-07-22T09:49:27.118597Z"
    },
    "papermill": {
     "duration": 0.040101,
     "end_time": "2022-07-22T09:49:27.122082",
     "exception": false,
     "start_time": "2022-07-22T09:49:27.081981",
     "status": "completed"
    },
    "tags": []
   },
   "outputs": [],
   "source": [
    "def age_impute(train,test):\n",
    "    for i in [train,test]:\n",
    "        i['Age_Null_Flag'] = i['Age'].apply(lambda x: 1 if pd.isnull(x) else 0)\n",
    "        data = train.groupby(['Name_Title','Pclass'])['Age']\n",
    "        i['Age'] = data.transform(lambda x: x.fillna(x.mean()))\n",
    "    return train,test"
   ]
  },
  {
   "cell_type": "markdown",
   "id": "c68baf1b",
   "metadata": {
    "papermill": {
     "duration": 0.028125,
     "end_time": "2022-07-22T09:49:27.178964",
     "exception": false,
     "start_time": "2022-07-22T09:49:27.150839",
     "status": "completed"
    },
    "tags": []
   },
   "source": [
    "Both `Sibsp` and `Parch` are weak predictors. But we can combine them to crate a new variable that will indicate family size. "
   ]
  },
  {
   "cell_type": "code",
   "execution_count": 43,
   "id": "f7ac7262",
   "metadata": {
    "execution": {
     "iopub.execute_input": "2022-07-22T09:49:27.238388Z",
     "iopub.status.busy": "2022-07-22T09:49:27.237999Z",
     "iopub.status.idle": "2022-07-22T09:49:27.245247Z",
     "shell.execute_reply": "2022-07-22T09:49:27.243926Z"
    },
    "papermill": {
     "duration": 0.039879,
     "end_time": "2022-07-22T09:49:27.247533",
     "exception": false,
     "start_time": "2022-07-22T09:49:27.207654",
     "status": "completed"
    },
    "tags": []
   },
   "outputs": [],
   "source": [
    "def fam_size(train,test):\n",
    "    for i in [train,test]:\n",
    "        i['Fam_Size'] = np.where((i['SibSp'] + i['Parch']) == 0, 'Solo',\n",
    "                                 np.where((i['SibSp'] + i['Parch']) <= 3, 'Nuclear', 'Big'))\n",
    "        del i['SibSp']\n",
    "        del i['Parch']\n",
    "    return train,test"
   ]
  },
  {
   "cell_type": "markdown",
   "id": "8cf77c98",
   "metadata": {
    "papermill": {
     "duration": 0.028454,
     "end_time": "2022-07-22T09:49:27.304857",
     "exception": false,
     "start_time": "2022-07-22T09:49:27.276403",
     "status": "completed"
    },
    "tags": []
   },
   "source": [
    "The `Ticket` column is used to create two new columns: `Ticket_Lett`, which indicates the first letter of each ticket (with the smaller-n values being grouped based on survival rate); and `Ticket_Len`, which indicates the length of the `Ticket` field. "
   ]
  },
  {
   "cell_type": "code",
   "execution_count": 44,
   "id": "e4afc0d7",
   "metadata": {
    "execution": {
     "iopub.execute_input": "2022-07-22T09:49:27.364059Z",
     "iopub.status.busy": "2022-07-22T09:49:27.363369Z",
     "iopub.status.idle": "2022-07-22T09:49:27.372679Z",
     "shell.execute_reply": "2022-07-22T09:49:27.371495Z"
    },
    "papermill": {
     "duration": 0.041527,
     "end_time": "2022-07-22T09:49:27.374960",
     "exception": false,
     "start_time": "2022-07-22T09:49:27.333433",
     "status": "completed"
    },
    "tags": []
   },
   "outputs": [],
   "source": [
    "def ticket_grouped(train,test):\n",
    "    for i in [train,test]:\n",
    "        i['Ticket_Lett'] = i['Ticket'].apply(lambda x : str(x)[0])\n",
    "        i['Ticket_Lett'] = i['Ticket_Lett'].apply(lambda x : str(x))\n",
    "        i['Ticket_Lett'] = np.where((i['Ticket_Lett']).isin(['1','2','3','S','P','C','A']),i['Ticket_Lett'],\n",
    "                                   np.where((i['Ticket_Lett']).isin(['W','4','7','6','L','5','8']),\n",
    "                                   'Low_ticket','Other_ticket'))\n",
    "        i['Ticket_Len'] = i['Ticket'].apply(lambda x : len(x))\n",
    "        del i['Ticket']\n",
    "    return train,test"
   ]
  },
  {
   "cell_type": "markdown",
   "id": "6a15c557",
   "metadata": {
    "papermill": {
     "duration": 0.028466,
     "end_time": "2022-07-22T09:49:27.432401",
     "exception": false,
     "start_time": "2022-07-22T09:49:27.403935",
     "status": "completed"
    },
    "tags": []
   },
   "source": [
    "The following two functions extract the first letter of `Cabin` columns and its number, respectively."
   ]
  },
  {
   "cell_type": "code",
   "execution_count": 45,
   "id": "5613a39f",
   "metadata": {
    "execution": {
     "iopub.execute_input": "2022-07-22T09:49:27.492127Z",
     "iopub.status.busy": "2022-07-22T09:49:27.491266Z",
     "iopub.status.idle": "2022-07-22T09:49:27.497369Z",
     "shell.execute_reply": "2022-07-22T09:49:27.496667Z"
    },
    "papermill": {
     "duration": 0.038415,
     "end_time": "2022-07-22T09:49:27.499533",
     "exception": false,
     "start_time": "2022-07-22T09:49:27.461118",
     "status": "completed"
    },
    "tags": []
   },
   "outputs": [],
   "source": [
    "def cabin(train,test):\n",
    "    for i in [train, test]:\n",
    "        i['Cabin_Letter'] = i['Cabin'].apply(lambda x : str(x)[0])\n",
    "        del i['Cabin']\n",
    "    return train,test"
   ]
  },
  {
   "cell_type": "code",
   "execution_count": 46,
   "id": "4352c794",
   "metadata": {
    "execution": {
     "iopub.execute_input": "2022-07-22T09:49:27.559794Z",
     "iopub.status.busy": "2022-07-22T09:49:27.558940Z",
     "iopub.status.idle": "2022-07-22T09:49:27.568770Z",
     "shell.execute_reply": "2022-07-22T09:49:27.567904Z"
    },
    "papermill": {
     "duration": 0.04274,
     "end_time": "2022-07-22T09:49:27.571243",
     "exception": false,
     "start_time": "2022-07-22T09:49:27.528503",
     "status": "completed"
    },
    "tags": []
   },
   "outputs": [],
   "source": [
    "def cabin_num(train,test):\n",
    "    for i in [train,test]:\n",
    "        i['Cabin_num1'] = i['Cabin'].apply(lambda x : str(x).split(' ')[-1][1:])\n",
    "        i['Cabin_num1'].replace('an',np.NaN, inplace = True)\n",
    "        i['Cabin_num1'] = i['Cabin_num1'].apply(lambda x : int(x) if not pd.isnull(x) and x != '' else np.NaN)\n",
    "        i['Cabin_num'] = pd.qcut(train['Cabin_num1'],3)\n",
    "    train = pd.concat((train, pd.get_dummies(train['Cabin_num'], prefix = 'Cabin_num')), axis = 1)\n",
    "    test = pd.concat((test, pd.get_dummies(test['Cabin_num'], prefix = 'Cabin_num')), axis = 1)\n",
    "    del train['Cabin_num']\n",
    "    del test['Cabin_num']\n",
    "    del train['Cabin_num1']\n",
    "    del test['Cabin_num1']\n",
    "    return train,test\n"
   ]
  },
  {
   "cell_type": "markdown",
   "id": "b55902e5",
   "metadata": {
    "papermill": {
     "duration": 0.028354,
     "end_time": "2022-07-22T09:49:27.628530",
     "exception": false,
     "start_time": "2022-07-22T09:49:27.600176",
     "status": "completed"
    },
    "tags": []
   },
   "source": [
    "Now, we will fill the null values in `Embarked` column with the most commonly occuring value i.e 'S'.\n"
   ]
  },
  {
   "cell_type": "code",
   "execution_count": 47,
   "id": "c913fc90",
   "metadata": {
    "execution": {
     "iopub.execute_input": "2022-07-22T09:49:27.688899Z",
     "iopub.status.busy": "2022-07-22T09:49:27.688107Z",
     "iopub.status.idle": "2022-07-22T09:49:27.694133Z",
     "shell.execute_reply": "2022-07-22T09:49:27.693076Z"
    },
    "papermill": {
     "duration": 0.039193,
     "end_time": "2022-07-22T09:49:27.696324",
     "exception": false,
     "start_time": "2022-07-22T09:49:27.657131",
     "status": "completed"
    },
    "tags": []
   },
   "outputs": [],
   "source": [
    "def embarked_impute(train,test):\n",
    "    for i in [train,test]:\n",
    "        i['Embarked'] = i['Embarked'].fillna('S')\n",
    "    return train,test"
   ]
  },
  {
   "cell_type": "markdown",
   "id": "3fce15e7",
   "metadata": {
    "papermill": {
     "duration": 0.028387,
     "end_time": "2022-07-22T09:49:27.753385",
     "exception": false,
     "start_time": "2022-07-22T09:49:27.724998",
     "status": "completed"
    },
    "tags": []
   },
   "source": [
    "We also fill in the one missing value of `Fare` in our dataset_test set with the mean from our dataset (training set).\n",
    "****Note****: Transformations of test set data must always be fit using training data."
   ]
  },
  {
   "cell_type": "code",
   "execution_count": 48,
   "id": "e4a368f9",
   "metadata": {
    "execution": {
     "iopub.execute_input": "2022-07-22T09:49:27.814065Z",
     "iopub.status.busy": "2022-07-22T09:49:27.813258Z",
     "iopub.status.idle": "2022-07-22T09:49:27.820243Z",
     "shell.execute_reply": "2022-07-22T09:49:27.819139Z"
    },
    "papermill": {
     "duration": 0.040214,
     "end_time": "2022-07-22T09:49:27.822502",
     "exception": false,
     "start_time": "2022-07-22T09:49:27.782288",
     "status": "completed"
    },
    "tags": []
   },
   "outputs": [],
   "source": [
    "test['Fare'].fillna(train['Fare'].mean(), inplace = True)"
   ]
  },
  {
   "cell_type": "markdown",
   "id": "e7a8d23c",
   "metadata": {
    "papermill": {
     "duration": 0.029777,
     "end_time": "2022-07-22T09:49:27.882563",
     "exception": false,
     "start_time": "2022-07-22T09:49:27.852786",
     "status": "completed"
    },
    "tags": []
   },
   "source": [
    "Now, we need to convert our categorical columns into dummy variable because we are using scikit-learn. The below function does this, and then it drops the original categorical columns. It also makes sure that each category is present in both training and testing datasets."
   ]
  },
  {
   "cell_type": "code",
   "execution_count": 49,
   "id": "84211ace",
   "metadata": {
    "execution": {
     "iopub.execute_input": "2022-07-22T09:49:27.942818Z",
     "iopub.status.busy": "2022-07-22T09:49:27.942352Z",
     "iopub.status.idle": "2022-07-22T09:49:27.952166Z",
     "shell.execute_reply": "2022-07-22T09:49:27.951331Z"
    },
    "papermill": {
     "duration": 0.042798,
     "end_time": "2022-07-22T09:49:27.954458",
     "exception": false,
     "start_time": "2022-07-22T09:49:27.911660",
     "status": "completed"
    },
    "tags": []
   },
   "outputs": [],
   "source": [
    "def dummies(train, test, columns = ['Pclass','Sex','Embarked', 'Ticket_Lett','Cabin_Letter','Name_Title','Fam_Size']):\n",
    "    for column in columns:\n",
    "        train[column] = train[column].apply(lambda x : str(x))\n",
    "        test[column] = test[column].apply(lambda x : str(x))\n",
    "        good_cols = [column + '_' + i for i in train[column].unique() if i in test[column].unique()]\n",
    "        train = pd.concat((train,pd.get_dummies(train[column], prefix = column)[good_cols]), axis = 1)\n",
    "        test = pd.concat((test, pd.get_dummies(test[column], prefix = column)[good_cols]), axis = 1)\n",
    "        del train[column]\n",
    "        del test[column]\n",
    "    return train, test\n",
    "        "
   ]
  },
  {
   "cell_type": "markdown",
   "id": "7b327a51",
   "metadata": {
    "papermill": {
     "duration": 0.028592,
     "end_time": "2022-07-22T09:49:28.012660",
     "exception": false,
     "start_time": "2022-07-22T09:49:27.984068",
     "status": "completed"
    },
    "tags": []
   },
   "source": [
    "Our last helper function drops any column that haven't already been dropped. In our case, we only need to drop the `Passenger_Id` column, which we have decided is not useful for our model."
   ]
  },
  {
   "cell_type": "code",
   "execution_count": 50,
   "id": "cbfe030e",
   "metadata": {
    "execution": {
     "iopub.execute_input": "2022-07-22T09:49:28.073597Z",
     "iopub.status.busy": "2022-07-22T09:49:28.072767Z",
     "iopub.status.idle": "2022-07-22T09:49:28.078641Z",
     "shell.execute_reply": "2022-07-22T09:49:28.077873Z"
    },
    "papermill": {
     "duration": 0.038643,
     "end_time": "2022-07-22T09:49:28.080847",
     "exception": false,
     "start_time": "2022-07-22T09:49:28.042204",
     "status": "completed"
    },
    "tags": []
   },
   "outputs": [],
   "source": [
    "def drop(train, test, bye = ['PassengerId']):\n",
    "    for i in [train,test]:\n",
    "        for z in bye:\n",
    "            del i[z]\n",
    "    return train,test"
   ]
  },
  {
   "cell_type": "markdown",
   "id": "dafa6018",
   "metadata": {
    "papermill": {
     "duration": 0.028649,
     "end_time": "2022-07-22T09:49:28.138422",
     "exception": false,
     "start_time": "2022-07-22T09:49:28.109773",
     "status": "completed"
    },
    "tags": []
   },
   "source": [
    "Now, we can use our helper functions in order to build our dataset that will be used in modelling."
   ]
  },
  {
   "cell_type": "code",
   "execution_count": 51,
   "id": "f94443f2",
   "metadata": {
    "execution": {
     "iopub.execute_input": "2022-07-22T09:49:28.198442Z",
     "iopub.status.busy": "2022-07-22T09:49:28.197595Z",
     "iopub.status.idle": "2022-07-22T09:49:28.338750Z",
     "shell.execute_reply": "2022-07-22T09:49:28.337561Z"
    },
    "papermill": {
     "duration": 0.17474,
     "end_time": "2022-07-22T09:49:28.341903",
     "exception": false,
     "start_time": "2022-07-22T09:49:28.167163",
     "status": "completed"
    },
    "tags": []
   },
   "outputs": [],
   "source": [
    "train = pd.read_csv('../input/titanic/train.csv')\n",
    "test = pd.read_csv('../input/titanic/test.csv')\n",
    "train, test = names(train, test)\n",
    "train, test = age_impute(train, test)\n",
    "train, test = cabin_num(train,test)\n",
    "train, test = cabin(train, test)\n",
    "train, test = embarked_impute(train,test)\n",
    "train,test = fam_size(train,test)\n",
    "test['Fare'].fillna(train['Fare'].mean(), inplace = True)\n",
    "train, test = ticket_grouped(train,test)\n",
    "train, test = dummies(train, test, columns = ['Pclass','Sex','Embarked','Ticket_Lett','Cabin_Letter','Name_Title','Fam_Size'])\n",
    "train, test = drop(train, test)\n"
   ]
  },
  {
   "cell_type": "markdown",
   "id": "2aab79bb",
   "metadata": {
    "papermill": {
     "duration": 0.029457,
     "end_time": "2022-07-22T09:49:28.401275",
     "exception": false,
     "start_time": "2022-07-22T09:49:28.371818",
     "status": "completed"
    },
    "tags": []
   },
   "source": [
    "We can see that our final dataset has 45 columns, composed of our target column and 44 predictor variables."
   ]
  },
  {
   "cell_type": "code",
   "execution_count": 52,
   "id": "2d9ac2a7",
   "metadata": {
    "execution": {
     "iopub.execute_input": "2022-07-22T09:49:28.463885Z",
     "iopub.status.busy": "2022-07-22T09:49:28.463466Z",
     "iopub.status.idle": "2022-07-22T09:49:28.469996Z",
     "shell.execute_reply": "2022-07-22T09:49:28.468556Z"
    },
    "papermill": {
     "duration": 0.040378,
     "end_time": "2022-07-22T09:49:28.472397",
     "exception": false,
     "start_time": "2022-07-22T09:49:28.432019",
     "status": "completed"
    },
    "tags": []
   },
   "outputs": [
    {
     "name": "stdout",
     "output_type": "stream",
     "text": [
      "45\n"
     ]
    }
   ],
   "source": [
    "print(len(train.columns))"
   ]
  },
  {
   "cell_type": "markdown",
   "id": "3a92b012",
   "metadata": {
    "papermill": {
     "duration": 0.028835,
     "end_time": "2022-07-22T09:49:28.530928",
     "exception": false,
     "start_time": "2022-07-22T09:49:28.502093",
     "status": "completed"
    },
    "tags": []
   },
   "source": [
    "**Hyperparameter Training**"
   ]
  },
  {
   "cell_type": "markdown",
   "id": "04530298",
   "metadata": {
    "papermill": {
     "duration": 0.029521,
     "end_time": "2022-07-22T09:49:28.589560",
     "exception": false,
     "start_time": "2022-07-22T09:49:28.560039",
     "status": "completed"
    },
    "tags": []
   },
   "source": [
    "> I'll be using grid search to identify th optimal parameters of our random forest model. Because our training data is quite small, we can \n",
    "get away with testing a wider range of hyperparameter values."
   ]
  },
  {
   "cell_type": "code",
   "execution_count": 53,
   "id": "fbf68e0e",
   "metadata": {
    "execution": {
     "iopub.execute_input": "2022-07-22T09:49:28.651879Z",
     "iopub.status.busy": "2022-07-22T09:49:28.651245Z",
     "iopub.status.idle": "2022-07-22T09:53:42.918282Z",
     "shell.execute_reply": "2022-07-22T09:53:42.916434Z"
    },
    "papermill": {
     "duration": 254.331047,
     "end_time": "2022-07-22T09:53:42.951715",
     "exception": false,
     "start_time": "2022-07-22T09:49:28.620668",
     "status": "completed"
    },
    "tags": []
   },
   "outputs": [
    {
     "name": "stdout",
     "output_type": "stream",
     "text": [
      "0.8383838383838383\n",
      "{'criterion': 'gini', 'min_samples_leaf': 1, 'min_samples_split': 10, 'n_estimators': 700}\n",
      "{'mean_fit_time': array([0.35569572, 0.51627469, 1.97648231, 3.27726801, 4.59401043,\n",
      "       0.29115804, 0.52967111, 1.82720558, 3.04987335, 4.41097585,\n",
      "       0.30266015, 0.48671627, 1.7679708 , 3.03898271, 4.33186173,\n",
      "       0.30169749, 0.49703471, 1.67496729, 2.94572719, 4.45393976,\n",
      "       0.30457815, 0.56985466, 1.9147199 , 3.03503505, 4.4104859 ,\n",
      "       0.30621004, 0.48157438, 1.74211033, 2.93582702, 4.30287019,\n",
      "       0.30708297, 0.48834332, 1.70478225, 2.96628706, 4.22019776,\n",
      "       0.30693038, 0.4862628 , 1.65382735, 2.84764695, 4.47556353,\n",
      "       0.30247887, 0.61828581, 1.91035763, 3.12281688, 4.59971523,\n",
      "       0.31412514, 0.4953053 , 1.82777945, 2.98101187, 4.30975533,\n",
      "       0.29963923, 0.48791242, 1.71331724, 2.95977632, 4.33841499,\n",
      "       0.31419651, 0.49026306, 1.76139506, 2.94144853, 4.510372  ,\n",
      "       0.30321995, 0.65248561, 1.70236484, 2.94928153, 4.27907705,\n",
      "       0.3032376 , 0.47561359, 1.74805864, 2.88107673, 4.22129027,\n",
      "       0.30510378, 0.49618959, 1.66370694, 2.88951619, 4.43854308,\n",
      "       0.32159003, 0.53660123, 1.98150889, 3.23923747, 4.83738828,\n",
      "       0.31815322, 0.65556645, 1.89738774, 3.16789556, 4.56072632,\n",
      "       0.32133921, 0.51732635, 1.8025407 , 3.08492907, 4.38275949,\n",
      "       0.29689646, 0.49587576, 1.84719674, 3.06501881, 4.46843863,\n",
      "       0.3161668 , 0.49308642, 1.74996003, 3.00465218, 4.54742948,\n",
      "       0.33383274, 0.57991552, 1.68689815, 2.86478114, 4.33463883,\n",
      "       0.30613311, 0.53036046, 1.70040743, 2.99992537, 4.47095203,\n",
      "       0.3013378 , 0.52208082, 1.76488185, 3.00625531, 4.34385554,\n",
      "       0.3093454 , 0.48378682, 1.77458517, 2.9378744 , 4.44262155,\n",
      "       0.39635015, 0.53670192, 1.68453455, 2.9151605 , 4.32642547,\n",
      "       0.30699674, 0.48574162, 1.83452988, 3.15934078, 4.15320611,\n",
      "       0.30330761, 0.48863745, 1.71822341, 2.88342388, 4.2133797 ,\n",
      "       0.30280773, 0.48520724, 1.70615466, 2.95625114, 4.36761189,\n",
      "       0.32787728, 0.59839773, 1.64757935, 2.91755692, 4.18863591,\n",
      "       0.29964805, 0.48839513, 1.70565391, 3.03694661, 4.11751986]), 'std_fit_time': array([0.03697125, 0.02272902, 0.01865022, 0.05526744, 0.07164841,\n",
      "       0.00451628, 0.05598789, 0.03911883, 0.04857677, 0.01206241,\n",
      "       0.00926328, 0.01063721, 0.0076337 , 0.04527356, 0.02608919,\n",
      "       0.00643444, 0.02037292, 0.0623769 , 0.03757769, 0.10225117,\n",
      "       0.00834468, 0.08086953, 0.08676343, 0.04627009, 0.15344639,\n",
      "       0.00638569, 0.01459331, 0.02538053, 0.0560236 , 0.03761347,\n",
      "       0.01182622, 0.00595825, 0.04635134, 0.03082728, 0.02066521,\n",
      "       0.0024335 , 0.00603187, 0.01428039, 0.06688308, 0.14662311,\n",
      "       0.00350145, 0.07887109, 0.06537812, 0.07921026, 0.11103896,\n",
      "       0.01245245, 0.00696921, 0.08387093, 0.04155028, 0.03864104,\n",
      "       0.01411805, 0.01375461, 0.04384142, 0.01725002, 0.01506802,\n",
      "       0.01401909, 0.00287728, 0.04400375, 0.04580463, 0.13220467,\n",
      "       0.00215152, 0.12981103, 0.05276551, 0.00461474, 0.07314212,\n",
      "       0.0155854 , 0.01423556, 0.03124744, 0.06891101, 0.07743584,\n",
      "       0.01110496, 0.00958625, 0.0084702 , 0.10558282, 0.06437798,\n",
      "       0.01412616, 0.03990096, 0.05279919, 0.01731666, 0.18624811,\n",
      "       0.01586431, 0.16825375, 0.07204563, 0.02231628, 0.07483001,\n",
      "       0.00646378, 0.04342459, 0.08286225, 0.05269966, 0.04630805,\n",
      "       0.00439534, 0.01925703, 0.04248982, 0.07721481, 0.10129473,\n",
      "       0.02034796, 0.02364614, 0.05328329, 0.05183454, 0.12405171,\n",
      "       0.0083393 , 0.15148931, 0.04153789, 0.06041313, 0.01892959,\n",
      "       0.00663531, 0.04071328, 0.04905313, 0.04981697, 0.0428348 ,\n",
      "       0.0060844 , 0.03632433, 0.05855833, 0.05973883, 0.04617606,\n",
      "       0.01625247, 0.0121384 , 0.0222038 , 0.04310203, 0.15262736,\n",
      "       0.06214033, 0.10644892, 0.04543048, 0.01683268, 0.08592289,\n",
      "       0.01678521, 0.00224955, 0.06074496, 0.10051705, 0.03641873,\n",
      "       0.00610288, 0.01182733, 0.05886494, 0.06683057, 0.09944221,\n",
      "       0.01433026, 0.00941942, 0.07101512, 0.01603664, 0.13819185,\n",
      "       0.03553311, 0.0828729 , 0.01352492, 0.01495168, 0.05853578,\n",
      "       0.00572657, 0.00435561, 0.05230217, 0.07754259, 0.04918948]), 'mean_score_time': array([0.10833995, 0.13184659, 0.2163202 , 0.24090497, 0.34662994,\n",
      "       0.1094501 , 0.11594494, 0.17398961, 0.24020537, 0.37720227,\n",
      "       0.11144781, 0.11051567, 0.21623778, 0.27719784, 0.34268077,\n",
      "       0.10822423, 0.11037723, 0.1731619 , 0.2105945 , 0.38033382,\n",
      "       0.10989881, 0.15151302, 0.21468894, 0.2438221 , 0.307808  ,\n",
      "       0.11126892, 0.11369824, 0.17444301, 0.22021564, 0.34132918,\n",
      "       0.10953363, 0.11062527, 0.17563057, 0.21351417, 0.31008275,\n",
      "       0.1099213 , 0.11126431, 0.14416432, 0.20980954, 0.34498159,\n",
      "       0.11750078, 0.11460098, 0.18030469, 0.24099692, 0.34611257,\n",
      "       0.10752384, 0.12004574, 0.20986493, 0.24068562, 0.34078932,\n",
      "       0.10614133, 0.10962113, 0.17896016, 0.20896101, 0.34049948,\n",
      "       0.10840233, 0.11476016, 0.13961577, 0.21012052, 0.35584362,\n",
      "       0.10726714, 0.13023718, 0.17749317, 0.2093393 , 0.32602843,\n",
      "       0.10696507, 0.11273789, 0.17399033, 0.20693668, 0.34320116,\n",
      "       0.11656229, 0.11080949, 0.17316755, 0.21188529, 0.35120328,\n",
      "       0.11193283, 0.11475507, 0.21455534, 0.28093195, 0.34286348,\n",
      "       0.11666679, 0.11808991, 0.20803857, 0.21236833, 0.34249433,\n",
      "       0.10969289, 0.11544673, 0.21553755, 0.24865309, 0.30920633,\n",
      "       0.10775463, 0.10868351, 0.21050382, 0.25286555, 0.35049558,\n",
      "       0.11401923, 0.11991024, 0.1749076 , 0.30982892, 0.31081478,\n",
      "       0.16035779, 0.10626411, 0.17687352, 0.24629649, 0.35607529,\n",
      "       0.10806791, 0.11094864, 0.208553  , 0.27651334, 0.34334707,\n",
      "       0.11117029, 0.11202796, 0.14430245, 0.24385579, 0.3435332 ,\n",
      "       0.11532354, 0.11055573, 0.18635702, 0.31168302, 0.31106877,\n",
      "       0.14168183, 0.107464  , 0.20782797, 0.24430108, 0.34540391,\n",
      "       0.11681803, 0.11089929, 0.17785255, 0.21748122, 0.31303509,\n",
      "       0.11512669, 0.11315084, 0.10831229, 0.24003863, 0.34740535,\n",
      "       0.10796881, 0.11112364, 0.17355967, 0.22056834, 0.35098235,\n",
      "       0.11936069, 0.1370333 , 0.2078859 , 0.24290339, 0.35762   ,\n",
      "       0.11215615, 0.10598334, 0.17608245, 0.20941512, 0.40739171]), 'std_score_time': array([0.00267311, 0.01254876, 0.00425431, 0.0479538 , 0.04682108,\n",
      "       0.00514515, 0.00974911, 0.0464441 , 0.04742398, 0.04937642,\n",
      "       0.00523607, 0.00352249, 0.00710085, 0.05106445, 0.04671438,\n",
      "       0.00245435, 0.00264422, 0.04752196, 0.0043549 , 0.05226893,\n",
      "       0.00460886, 0.03793701, 0.00365737, 0.04494444, 0.00166324,\n",
      "       0.00576481, 0.00888461, 0.04803363, 0.01625234, 0.04661319,\n",
      "       0.00392588, 0.00173228, 0.04937457, 0.00570925, 0.00063135,\n",
      "       0.0037962 , 0.00403243, 0.05312315, 0.00266312, 0.0480357 ,\n",
      "       0.00820585, 0.00774473, 0.04938227, 0.04777089, 0.04523558,\n",
      "       0.0009572 , 0.00813803, 0.00153014, 0.0477919 , 0.04654317,\n",
      "       0.00019434, 0.00247011, 0.05187041, 0.00173942, 0.04728154,\n",
      "       0.00308191, 0.00626782, 0.0473372 , 0.00122094, 0.06341897,\n",
      "       0.00090165, 0.03218103, 0.05057908, 0.00238024, 0.01178786,\n",
      "       0.00112635, 0.00470837, 0.04692763, 0.00029639, 0.04538103,\n",
      "       0.0092228 , 0.00318596, 0.04762927, 0.00390184, 0.04561007,\n",
      "       0.00617441, 0.01062627, 0.00962988, 0.05236713, 0.04826252,\n",
      "       0.00431122, 0.01082705, 0.00147729, 0.00639565, 0.04790292,\n",
      "       0.00277215, 0.01384882, 0.00277737, 0.04782564, 0.00294534,\n",
      "       0.00279175, 0.0020054 , 0.00255789, 0.04577075, 0.04215104,\n",
      "       0.00962617, 0.00513467, 0.04549097, 0.00312866, 0.00191223,\n",
      "       0.05963045, 0.00035496, 0.05029411, 0.04653632, 0.04126514,\n",
      "       0.00237656, 0.00145598, 0.00266942, 0.04579629, 0.04902518,\n",
      "       0.00729581, 0.00600354, 0.05280768, 0.04784569, 0.04786416,\n",
      "       0.00932494, 0.00282882, 0.05668008, 0.0023574 , 0.00146704,\n",
      "       0.04978882, 0.0026179 , 0.00141152, 0.05278777, 0.04794025,\n",
      "       0.00800485, 0.00337191, 0.04776184, 0.01145439, 0.00562265,\n",
      "       0.00896231, 0.00334006, 0.0020144 , 0.04678148, 0.04438699,\n",
      "       0.0022669 , 0.00399602, 0.04734713, 0.0111664 , 0.060448  ,\n",
      "       0.00984093, 0.04258495, 0.0012309 , 0.04654753, 0.05860904,\n",
      "       0.00459507, 0.00023553, 0.04968448, 0.00419796, 0.00146655]), 'param_criterion': masked_array(data=['gini', 'gini', 'gini', 'gini', 'gini', 'gini', 'gini',\n",
      "                   'gini', 'gini', 'gini', 'gini', 'gini', 'gini', 'gini',\n",
      "                   'gini', 'gini', 'gini', 'gini', 'gini', 'gini', 'gini',\n",
      "                   'gini', 'gini', 'gini', 'gini', 'gini', 'gini', 'gini',\n",
      "                   'gini', 'gini', 'gini', 'gini', 'gini', 'gini', 'gini',\n",
      "                   'gini', 'gini', 'gini', 'gini', 'gini', 'gini', 'gini',\n",
      "                   'gini', 'gini', 'gini', 'gini', 'gini', 'gini', 'gini',\n",
      "                   'gini', 'gini', 'gini', 'gini', 'gini', 'gini', 'gini',\n",
      "                   'gini', 'gini', 'gini', 'gini', 'gini', 'gini', 'gini',\n",
      "                   'gini', 'gini', 'gini', 'gini', 'gini', 'gini', 'gini',\n",
      "                   'gini', 'gini', 'gini', 'gini', 'gini', 'entropy',\n",
      "                   'entropy', 'entropy', 'entropy', 'entropy', 'entropy',\n",
      "                   'entropy', 'entropy', 'entropy', 'entropy', 'entropy',\n",
      "                   'entropy', 'entropy', 'entropy', 'entropy', 'entropy',\n",
      "                   'entropy', 'entropy', 'entropy', 'entropy', 'entropy',\n",
      "                   'entropy', 'entropy', 'entropy', 'entropy', 'entropy',\n",
      "                   'entropy', 'entropy', 'entropy', 'entropy', 'entropy',\n",
      "                   'entropy', 'entropy', 'entropy', 'entropy', 'entropy',\n",
      "                   'entropy', 'entropy', 'entropy', 'entropy', 'entropy',\n",
      "                   'entropy', 'entropy', 'entropy', 'entropy', 'entropy',\n",
      "                   'entropy', 'entropy', 'entropy', 'entropy', 'entropy',\n",
      "                   'entropy', 'entropy', 'entropy', 'entropy', 'entropy',\n",
      "                   'entropy', 'entropy', 'entropy', 'entropy', 'entropy',\n",
      "                   'entropy', 'entropy', 'entropy', 'entropy', 'entropy',\n",
      "                   'entropy', 'entropy', 'entropy', 'entropy', 'entropy',\n",
      "                   'entropy', 'entropy', 'entropy', 'entropy'],\n",
      "             mask=[False, False, False, False, False, False, False, False,\n",
      "                   False, False, False, False, False, False, False, False,\n",
      "                   False, False, False, False, False, False, False, False,\n",
      "                   False, False, False, False, False, False, False, False,\n",
      "                   False, False, False, False, False, False, False, False,\n",
      "                   False, False, False, False, False, False, False, False,\n",
      "                   False, False, False, False, False, False, False, False,\n",
      "                   False, False, False, False, False, False, False, False,\n",
      "                   False, False, False, False, False, False, False, False,\n",
      "                   False, False, False, False, False, False, False, False,\n",
      "                   False, False, False, False, False, False, False, False,\n",
      "                   False, False, False, False, False, False, False, False,\n",
      "                   False, False, False, False, False, False, False, False,\n",
      "                   False, False, False, False, False, False, False, False,\n",
      "                   False, False, False, False, False, False, False, False,\n",
      "                   False, False, False, False, False, False, False, False,\n",
      "                   False, False, False, False, False, False, False, False,\n",
      "                   False, False, False, False, False, False, False, False,\n",
      "                   False, False, False, False, False, False],\n",
      "       fill_value='?',\n",
      "            dtype=object), 'param_min_samples_leaf': masked_array(data=[1, 1, 1, 1, 1, 1, 1, 1, 1, 1, 1, 1, 1, 1, 1, 1, 1, 1,\n",
      "                   1, 1, 1, 1, 1, 1, 1, 5, 5, 5, 5, 5, 5, 5, 5, 5, 5, 5,\n",
      "                   5, 5, 5, 5, 5, 5, 5, 5, 5, 5, 5, 5, 5, 5, 10, 10, 10,\n",
      "                   10, 10, 10, 10, 10, 10, 10, 10, 10, 10, 10, 10, 10, 10,\n",
      "                   10, 10, 10, 10, 10, 10, 10, 10, 1, 1, 1, 1, 1, 1, 1, 1,\n",
      "                   1, 1, 1, 1, 1, 1, 1, 1, 1, 1, 1, 1, 1, 1, 1, 1, 1, 5,\n",
      "                   5, 5, 5, 5, 5, 5, 5, 5, 5, 5, 5, 5, 5, 5, 5, 5, 5, 5,\n",
      "                   5, 5, 5, 5, 5, 5, 10, 10, 10, 10, 10, 10, 10, 10, 10,\n",
      "                   10, 10, 10, 10, 10, 10, 10, 10, 10, 10, 10, 10, 10, 10,\n",
      "                   10, 10],\n",
      "             mask=[False, False, False, False, False, False, False, False,\n",
      "                   False, False, False, False, False, False, False, False,\n",
      "                   False, False, False, False, False, False, False, False,\n",
      "                   False, False, False, False, False, False, False, False,\n",
      "                   False, False, False, False, False, False, False, False,\n",
      "                   False, False, False, False, False, False, False, False,\n",
      "                   False, False, False, False, False, False, False, False,\n",
      "                   False, False, False, False, False, False, False, False,\n",
      "                   False, False, False, False, False, False, False, False,\n",
      "                   False, False, False, False, False, False, False, False,\n",
      "                   False, False, False, False, False, False, False, False,\n",
      "                   False, False, False, False, False, False, False, False,\n",
      "                   False, False, False, False, False, False, False, False,\n",
      "                   False, False, False, False, False, False, False, False,\n",
      "                   False, False, False, False, False, False, False, False,\n",
      "                   False, False, False, False, False, False, False, False,\n",
      "                   False, False, False, False, False, False, False, False,\n",
      "                   False, False, False, False, False, False, False, False,\n",
      "                   False, False, False, False, False, False],\n",
      "       fill_value='?',\n",
      "            dtype=object), 'param_min_samples_split': masked_array(data=[2, 2, 2, 2, 2, 4, 4, 4, 4, 4, 10, 10, 10, 10, 10, 12,\n",
      "                   12, 12, 12, 12, 16, 16, 16, 16, 16, 2, 2, 2, 2, 2, 4,\n",
      "                   4, 4, 4, 4, 10, 10, 10, 10, 10, 12, 12, 12, 12, 12, 16,\n",
      "                   16, 16, 16, 16, 2, 2, 2, 2, 2, 4, 4, 4, 4, 4, 10, 10,\n",
      "                   10, 10, 10, 12, 12, 12, 12, 12, 16, 16, 16, 16, 16, 2,\n",
      "                   2, 2, 2, 2, 4, 4, 4, 4, 4, 10, 10, 10, 10, 10, 12, 12,\n",
      "                   12, 12, 12, 16, 16, 16, 16, 16, 2, 2, 2, 2, 2, 4, 4, 4,\n",
      "                   4, 4, 10, 10, 10, 10, 10, 12, 12, 12, 12, 12, 16, 16,\n",
      "                   16, 16, 16, 2, 2, 2, 2, 2, 4, 4, 4, 4, 4, 10, 10, 10,\n",
      "                   10, 10, 12, 12, 12, 12, 12, 16, 16, 16, 16, 16],\n",
      "             mask=[False, False, False, False, False, False, False, False,\n",
      "                   False, False, False, False, False, False, False, False,\n",
      "                   False, False, False, False, False, False, False, False,\n",
      "                   False, False, False, False, False, False, False, False,\n",
      "                   False, False, False, False, False, False, False, False,\n",
      "                   False, False, False, False, False, False, False, False,\n",
      "                   False, False, False, False, False, False, False, False,\n",
      "                   False, False, False, False, False, False, False, False,\n",
      "                   False, False, False, False, False, False, False, False,\n",
      "                   False, False, False, False, False, False, False, False,\n",
      "                   False, False, False, False, False, False, False, False,\n",
      "                   False, False, False, False, False, False, False, False,\n",
      "                   False, False, False, False, False, False, False, False,\n",
      "                   False, False, False, False, False, False, False, False,\n",
      "                   False, False, False, False, False, False, False, False,\n",
      "                   False, False, False, False, False, False, False, False,\n",
      "                   False, False, False, False, False, False, False, False,\n",
      "                   False, False, False, False, False, False, False, False,\n",
      "                   False, False, False, False, False, False],\n",
      "       fill_value='?',\n",
      "            dtype=object), 'param_n_estimators': masked_array(data=[50, 100, 400, 700, 1000, 50, 100, 400, 700, 1000, 50,\n",
      "                   100, 400, 700, 1000, 50, 100, 400, 700, 1000, 50, 100,\n",
      "                   400, 700, 1000, 50, 100, 400, 700, 1000, 50, 100, 400,\n",
      "                   700, 1000, 50, 100, 400, 700, 1000, 50, 100, 400, 700,\n",
      "                   1000, 50, 100, 400, 700, 1000, 50, 100, 400, 700, 1000,\n",
      "                   50, 100, 400, 700, 1000, 50, 100, 400, 700, 1000, 50,\n",
      "                   100, 400, 700, 1000, 50, 100, 400, 700, 1000, 50, 100,\n",
      "                   400, 700, 1000, 50, 100, 400, 700, 1000, 50, 100, 400,\n",
      "                   700, 1000, 50, 100, 400, 700, 1000, 50, 100, 400, 700,\n",
      "                   1000, 50, 100, 400, 700, 1000, 50, 100, 400, 700, 1000,\n",
      "                   50, 100, 400, 700, 1000, 50, 100, 400, 700, 1000, 50,\n",
      "                   100, 400, 700, 1000, 50, 100, 400, 700, 1000, 50, 100,\n",
      "                   400, 700, 1000, 50, 100, 400, 700, 1000, 50, 100, 400,\n",
      "                   700, 1000, 50, 100, 400, 700, 1000],\n",
      "             mask=[False, False, False, False, False, False, False, False,\n",
      "                   False, False, False, False, False, False, False, False,\n",
      "                   False, False, False, False, False, False, False, False,\n",
      "                   False, False, False, False, False, False, False, False,\n",
      "                   False, False, False, False, False, False, False, False,\n",
      "                   False, False, False, False, False, False, False, False,\n",
      "                   False, False, False, False, False, False, False, False,\n",
      "                   False, False, False, False, False, False, False, False,\n",
      "                   False, False, False, False, False, False, False, False,\n",
      "                   False, False, False, False, False, False, False, False,\n",
      "                   False, False, False, False, False, False, False, False,\n",
      "                   False, False, False, False, False, False, False, False,\n",
      "                   False, False, False, False, False, False, False, False,\n",
      "                   False, False, False, False, False, False, False, False,\n",
      "                   False, False, False, False, False, False, False, False,\n",
      "                   False, False, False, False, False, False, False, False,\n",
      "                   False, False, False, False, False, False, False, False,\n",
      "                   False, False, False, False, False, False, False, False,\n",
      "                   False, False, False, False, False, False],\n",
      "       fill_value='?',\n",
      "            dtype=object), 'params': [{'criterion': 'gini', 'min_samples_leaf': 1, 'min_samples_split': 2, 'n_estimators': 50}, {'criterion': 'gini', 'min_samples_leaf': 1, 'min_samples_split': 2, 'n_estimators': 100}, {'criterion': 'gini', 'min_samples_leaf': 1, 'min_samples_split': 2, 'n_estimators': 400}, {'criterion': 'gini', 'min_samples_leaf': 1, 'min_samples_split': 2, 'n_estimators': 700}, {'criterion': 'gini', 'min_samples_leaf': 1, 'min_samples_split': 2, 'n_estimators': 1000}, {'criterion': 'gini', 'min_samples_leaf': 1, 'min_samples_split': 4, 'n_estimators': 50}, {'criterion': 'gini', 'min_samples_leaf': 1, 'min_samples_split': 4, 'n_estimators': 100}, {'criterion': 'gini', 'min_samples_leaf': 1, 'min_samples_split': 4, 'n_estimators': 400}, {'criterion': 'gini', 'min_samples_leaf': 1, 'min_samples_split': 4, 'n_estimators': 700}, {'criterion': 'gini', 'min_samples_leaf': 1, 'min_samples_split': 4, 'n_estimators': 1000}, {'criterion': 'gini', 'min_samples_leaf': 1, 'min_samples_split': 10, 'n_estimators': 50}, {'criterion': 'gini', 'min_samples_leaf': 1, 'min_samples_split': 10, 'n_estimators': 100}, {'criterion': 'gini', 'min_samples_leaf': 1, 'min_samples_split': 10, 'n_estimators': 400}, {'criterion': 'gini', 'min_samples_leaf': 1, 'min_samples_split': 10, 'n_estimators': 700}, {'criterion': 'gini', 'min_samples_leaf': 1, 'min_samples_split': 10, 'n_estimators': 1000}, {'criterion': 'gini', 'min_samples_leaf': 1, 'min_samples_split': 12, 'n_estimators': 50}, {'criterion': 'gini', 'min_samples_leaf': 1, 'min_samples_split': 12, 'n_estimators': 100}, {'criterion': 'gini', 'min_samples_leaf': 1, 'min_samples_split': 12, 'n_estimators': 400}, {'criterion': 'gini', 'min_samples_leaf': 1, 'min_samples_split': 12, 'n_estimators': 700}, {'criterion': 'gini', 'min_samples_leaf': 1, 'min_samples_split': 12, 'n_estimators': 1000}, {'criterion': 'gini', 'min_samples_leaf': 1, 'min_samples_split': 16, 'n_estimators': 50}, {'criterion': 'gini', 'min_samples_leaf': 1, 'min_samples_split': 16, 'n_estimators': 100}, {'criterion': 'gini', 'min_samples_leaf': 1, 'min_samples_split': 16, 'n_estimators': 400}, {'criterion': 'gini', 'min_samples_leaf': 1, 'min_samples_split': 16, 'n_estimators': 700}, {'criterion': 'gini', 'min_samples_leaf': 1, 'min_samples_split': 16, 'n_estimators': 1000}, {'criterion': 'gini', 'min_samples_leaf': 5, 'min_samples_split': 2, 'n_estimators': 50}, {'criterion': 'gini', 'min_samples_leaf': 5, 'min_samples_split': 2, 'n_estimators': 100}, {'criterion': 'gini', 'min_samples_leaf': 5, 'min_samples_split': 2, 'n_estimators': 400}, {'criterion': 'gini', 'min_samples_leaf': 5, 'min_samples_split': 2, 'n_estimators': 700}, {'criterion': 'gini', 'min_samples_leaf': 5, 'min_samples_split': 2, 'n_estimators': 1000}, {'criterion': 'gini', 'min_samples_leaf': 5, 'min_samples_split': 4, 'n_estimators': 50}, {'criterion': 'gini', 'min_samples_leaf': 5, 'min_samples_split': 4, 'n_estimators': 100}, {'criterion': 'gini', 'min_samples_leaf': 5, 'min_samples_split': 4, 'n_estimators': 400}, {'criterion': 'gini', 'min_samples_leaf': 5, 'min_samples_split': 4, 'n_estimators': 700}, {'criterion': 'gini', 'min_samples_leaf': 5, 'min_samples_split': 4, 'n_estimators': 1000}, {'criterion': 'gini', 'min_samples_leaf': 5, 'min_samples_split': 10, 'n_estimators': 50}, {'criterion': 'gini', 'min_samples_leaf': 5, 'min_samples_split': 10, 'n_estimators': 100}, {'criterion': 'gini', 'min_samples_leaf': 5, 'min_samples_split': 10, 'n_estimators': 400}, {'criterion': 'gini', 'min_samples_leaf': 5, 'min_samples_split': 10, 'n_estimators': 700}, {'criterion': 'gini', 'min_samples_leaf': 5, 'min_samples_split': 10, 'n_estimators': 1000}, {'criterion': 'gini', 'min_samples_leaf': 5, 'min_samples_split': 12, 'n_estimators': 50}, {'criterion': 'gini', 'min_samples_leaf': 5, 'min_samples_split': 12, 'n_estimators': 100}, {'criterion': 'gini', 'min_samples_leaf': 5, 'min_samples_split': 12, 'n_estimators': 400}, {'criterion': 'gini', 'min_samples_leaf': 5, 'min_samples_split': 12, 'n_estimators': 700}, {'criterion': 'gini', 'min_samples_leaf': 5, 'min_samples_split': 12, 'n_estimators': 1000}, {'criterion': 'gini', 'min_samples_leaf': 5, 'min_samples_split': 16, 'n_estimators': 50}, {'criterion': 'gini', 'min_samples_leaf': 5, 'min_samples_split': 16, 'n_estimators': 100}, {'criterion': 'gini', 'min_samples_leaf': 5, 'min_samples_split': 16, 'n_estimators': 400}, {'criterion': 'gini', 'min_samples_leaf': 5, 'min_samples_split': 16, 'n_estimators': 700}, {'criterion': 'gini', 'min_samples_leaf': 5, 'min_samples_split': 16, 'n_estimators': 1000}, {'criterion': 'gini', 'min_samples_leaf': 10, 'min_samples_split': 2, 'n_estimators': 50}, {'criterion': 'gini', 'min_samples_leaf': 10, 'min_samples_split': 2, 'n_estimators': 100}, {'criterion': 'gini', 'min_samples_leaf': 10, 'min_samples_split': 2, 'n_estimators': 400}, {'criterion': 'gini', 'min_samples_leaf': 10, 'min_samples_split': 2, 'n_estimators': 700}, {'criterion': 'gini', 'min_samples_leaf': 10, 'min_samples_split': 2, 'n_estimators': 1000}, {'criterion': 'gini', 'min_samples_leaf': 10, 'min_samples_split': 4, 'n_estimators': 50}, {'criterion': 'gini', 'min_samples_leaf': 10, 'min_samples_split': 4, 'n_estimators': 100}, {'criterion': 'gini', 'min_samples_leaf': 10, 'min_samples_split': 4, 'n_estimators': 400}, {'criterion': 'gini', 'min_samples_leaf': 10, 'min_samples_split': 4, 'n_estimators': 700}, {'criterion': 'gini', 'min_samples_leaf': 10, 'min_samples_split': 4, 'n_estimators': 1000}, {'criterion': 'gini', 'min_samples_leaf': 10, 'min_samples_split': 10, 'n_estimators': 50}, {'criterion': 'gini', 'min_samples_leaf': 10, 'min_samples_split': 10, 'n_estimators': 100}, {'criterion': 'gini', 'min_samples_leaf': 10, 'min_samples_split': 10, 'n_estimators': 400}, {'criterion': 'gini', 'min_samples_leaf': 10, 'min_samples_split': 10, 'n_estimators': 700}, {'criterion': 'gini', 'min_samples_leaf': 10, 'min_samples_split': 10, 'n_estimators': 1000}, {'criterion': 'gini', 'min_samples_leaf': 10, 'min_samples_split': 12, 'n_estimators': 50}, {'criterion': 'gini', 'min_samples_leaf': 10, 'min_samples_split': 12, 'n_estimators': 100}, {'criterion': 'gini', 'min_samples_leaf': 10, 'min_samples_split': 12, 'n_estimators': 400}, {'criterion': 'gini', 'min_samples_leaf': 10, 'min_samples_split': 12, 'n_estimators': 700}, {'criterion': 'gini', 'min_samples_leaf': 10, 'min_samples_split': 12, 'n_estimators': 1000}, {'criterion': 'gini', 'min_samples_leaf': 10, 'min_samples_split': 16, 'n_estimators': 50}, {'criterion': 'gini', 'min_samples_leaf': 10, 'min_samples_split': 16, 'n_estimators': 100}, {'criterion': 'gini', 'min_samples_leaf': 10, 'min_samples_split': 16, 'n_estimators': 400}, {'criterion': 'gini', 'min_samples_leaf': 10, 'min_samples_split': 16, 'n_estimators': 700}, {'criterion': 'gini', 'min_samples_leaf': 10, 'min_samples_split': 16, 'n_estimators': 1000}, {'criterion': 'entropy', 'min_samples_leaf': 1, 'min_samples_split': 2, 'n_estimators': 50}, {'criterion': 'entropy', 'min_samples_leaf': 1, 'min_samples_split': 2, 'n_estimators': 100}, {'criterion': 'entropy', 'min_samples_leaf': 1, 'min_samples_split': 2, 'n_estimators': 400}, {'criterion': 'entropy', 'min_samples_leaf': 1, 'min_samples_split': 2, 'n_estimators': 700}, {'criterion': 'entropy', 'min_samples_leaf': 1, 'min_samples_split': 2, 'n_estimators': 1000}, {'criterion': 'entropy', 'min_samples_leaf': 1, 'min_samples_split': 4, 'n_estimators': 50}, {'criterion': 'entropy', 'min_samples_leaf': 1, 'min_samples_split': 4, 'n_estimators': 100}, {'criterion': 'entropy', 'min_samples_leaf': 1, 'min_samples_split': 4, 'n_estimators': 400}, {'criterion': 'entropy', 'min_samples_leaf': 1, 'min_samples_split': 4, 'n_estimators': 700}, {'criterion': 'entropy', 'min_samples_leaf': 1, 'min_samples_split': 4, 'n_estimators': 1000}, {'criterion': 'entropy', 'min_samples_leaf': 1, 'min_samples_split': 10, 'n_estimators': 50}, {'criterion': 'entropy', 'min_samples_leaf': 1, 'min_samples_split': 10, 'n_estimators': 100}, {'criterion': 'entropy', 'min_samples_leaf': 1, 'min_samples_split': 10, 'n_estimators': 400}, {'criterion': 'entropy', 'min_samples_leaf': 1, 'min_samples_split': 10, 'n_estimators': 700}, {'criterion': 'entropy', 'min_samples_leaf': 1, 'min_samples_split': 10, 'n_estimators': 1000}, {'criterion': 'entropy', 'min_samples_leaf': 1, 'min_samples_split': 12, 'n_estimators': 50}, {'criterion': 'entropy', 'min_samples_leaf': 1, 'min_samples_split': 12, 'n_estimators': 100}, {'criterion': 'entropy', 'min_samples_leaf': 1, 'min_samples_split': 12, 'n_estimators': 400}, {'criterion': 'entropy', 'min_samples_leaf': 1, 'min_samples_split': 12, 'n_estimators': 700}, {'criterion': 'entropy', 'min_samples_leaf': 1, 'min_samples_split': 12, 'n_estimators': 1000}, {'criterion': 'entropy', 'min_samples_leaf': 1, 'min_samples_split': 16, 'n_estimators': 50}, {'criterion': 'entropy', 'min_samples_leaf': 1, 'min_samples_split': 16, 'n_estimators': 100}, {'criterion': 'entropy', 'min_samples_leaf': 1, 'min_samples_split': 16, 'n_estimators': 400}, {'criterion': 'entropy', 'min_samples_leaf': 1, 'min_samples_split': 16, 'n_estimators': 700}, {'criterion': 'entropy', 'min_samples_leaf': 1, 'min_samples_split': 16, 'n_estimators': 1000}, {'criterion': 'entropy', 'min_samples_leaf': 5, 'min_samples_split': 2, 'n_estimators': 50}, {'criterion': 'entropy', 'min_samples_leaf': 5, 'min_samples_split': 2, 'n_estimators': 100}, {'criterion': 'entropy', 'min_samples_leaf': 5, 'min_samples_split': 2, 'n_estimators': 400}, {'criterion': 'entropy', 'min_samples_leaf': 5, 'min_samples_split': 2, 'n_estimators': 700}, {'criterion': 'entropy', 'min_samples_leaf': 5, 'min_samples_split': 2, 'n_estimators': 1000}, {'criterion': 'entropy', 'min_samples_leaf': 5, 'min_samples_split': 4, 'n_estimators': 50}, {'criterion': 'entropy', 'min_samples_leaf': 5, 'min_samples_split': 4, 'n_estimators': 100}, {'criterion': 'entropy', 'min_samples_leaf': 5, 'min_samples_split': 4, 'n_estimators': 400}, {'criterion': 'entropy', 'min_samples_leaf': 5, 'min_samples_split': 4, 'n_estimators': 700}, {'criterion': 'entropy', 'min_samples_leaf': 5, 'min_samples_split': 4, 'n_estimators': 1000}, {'criterion': 'entropy', 'min_samples_leaf': 5, 'min_samples_split': 10, 'n_estimators': 50}, {'criterion': 'entropy', 'min_samples_leaf': 5, 'min_samples_split': 10, 'n_estimators': 100}, {'criterion': 'entropy', 'min_samples_leaf': 5, 'min_samples_split': 10, 'n_estimators': 400}, {'criterion': 'entropy', 'min_samples_leaf': 5, 'min_samples_split': 10, 'n_estimators': 700}, {'criterion': 'entropy', 'min_samples_leaf': 5, 'min_samples_split': 10, 'n_estimators': 1000}, {'criterion': 'entropy', 'min_samples_leaf': 5, 'min_samples_split': 12, 'n_estimators': 50}, {'criterion': 'entropy', 'min_samples_leaf': 5, 'min_samples_split': 12, 'n_estimators': 100}, {'criterion': 'entropy', 'min_samples_leaf': 5, 'min_samples_split': 12, 'n_estimators': 400}, {'criterion': 'entropy', 'min_samples_leaf': 5, 'min_samples_split': 12, 'n_estimators': 700}, {'criterion': 'entropy', 'min_samples_leaf': 5, 'min_samples_split': 12, 'n_estimators': 1000}, {'criterion': 'entropy', 'min_samples_leaf': 5, 'min_samples_split': 16, 'n_estimators': 50}, {'criterion': 'entropy', 'min_samples_leaf': 5, 'min_samples_split': 16, 'n_estimators': 100}, {'criterion': 'entropy', 'min_samples_leaf': 5, 'min_samples_split': 16, 'n_estimators': 400}, {'criterion': 'entropy', 'min_samples_leaf': 5, 'min_samples_split': 16, 'n_estimators': 700}, {'criterion': 'entropy', 'min_samples_leaf': 5, 'min_samples_split': 16, 'n_estimators': 1000}, {'criterion': 'entropy', 'min_samples_leaf': 10, 'min_samples_split': 2, 'n_estimators': 50}, {'criterion': 'entropy', 'min_samples_leaf': 10, 'min_samples_split': 2, 'n_estimators': 100}, {'criterion': 'entropy', 'min_samples_leaf': 10, 'min_samples_split': 2, 'n_estimators': 400}, {'criterion': 'entropy', 'min_samples_leaf': 10, 'min_samples_split': 2, 'n_estimators': 700}, {'criterion': 'entropy', 'min_samples_leaf': 10, 'min_samples_split': 2, 'n_estimators': 1000}, {'criterion': 'entropy', 'min_samples_leaf': 10, 'min_samples_split': 4, 'n_estimators': 50}, {'criterion': 'entropy', 'min_samples_leaf': 10, 'min_samples_split': 4, 'n_estimators': 100}, {'criterion': 'entropy', 'min_samples_leaf': 10, 'min_samples_split': 4, 'n_estimators': 400}, {'criterion': 'entropy', 'min_samples_leaf': 10, 'min_samples_split': 4, 'n_estimators': 700}, {'criterion': 'entropy', 'min_samples_leaf': 10, 'min_samples_split': 4, 'n_estimators': 1000}, {'criterion': 'entropy', 'min_samples_leaf': 10, 'min_samples_split': 10, 'n_estimators': 50}, {'criterion': 'entropy', 'min_samples_leaf': 10, 'min_samples_split': 10, 'n_estimators': 100}, {'criterion': 'entropy', 'min_samples_leaf': 10, 'min_samples_split': 10, 'n_estimators': 400}, {'criterion': 'entropy', 'min_samples_leaf': 10, 'min_samples_split': 10, 'n_estimators': 700}, {'criterion': 'entropy', 'min_samples_leaf': 10, 'min_samples_split': 10, 'n_estimators': 1000}, {'criterion': 'entropy', 'min_samples_leaf': 10, 'min_samples_split': 12, 'n_estimators': 50}, {'criterion': 'entropy', 'min_samples_leaf': 10, 'min_samples_split': 12, 'n_estimators': 100}, {'criterion': 'entropy', 'min_samples_leaf': 10, 'min_samples_split': 12, 'n_estimators': 400}, {'criterion': 'entropy', 'min_samples_leaf': 10, 'min_samples_split': 12, 'n_estimators': 700}, {'criterion': 'entropy', 'min_samples_leaf': 10, 'min_samples_split': 12, 'n_estimators': 1000}, {'criterion': 'entropy', 'min_samples_leaf': 10, 'min_samples_split': 16, 'n_estimators': 50}, {'criterion': 'entropy', 'min_samples_leaf': 10, 'min_samples_split': 16, 'n_estimators': 100}, {'criterion': 'entropy', 'min_samples_leaf': 10, 'min_samples_split': 16, 'n_estimators': 400}, {'criterion': 'entropy', 'min_samples_leaf': 10, 'min_samples_split': 16, 'n_estimators': 700}, {'criterion': 'entropy', 'min_samples_leaf': 10, 'min_samples_split': 16, 'n_estimators': 1000}], 'split0_test_score': array([0.80808081, 0.8013468 , 0.80808081, 0.81481481, 0.8047138 ,\n",
      "       0.81818182, 0.83164983, 0.82491582, 0.82491582, 0.82491582,\n",
      "       0.81144781, 0.81144781, 0.80808081, 0.81481481, 0.81818182,\n",
      "       0.80808081, 0.80808081, 0.81144781, 0.8047138 , 0.80808081,\n",
      "       0.81481481, 0.80808081, 0.80808081, 0.80808081, 0.80808081,\n",
      "       0.82154882, 0.81818182, 0.81818182, 0.81818182, 0.81818182,\n",
      "       0.82154882, 0.81818182, 0.81818182, 0.81818182, 0.81818182,\n",
      "       0.82154882, 0.81818182, 0.81818182, 0.81818182, 0.81818182,\n",
      "       0.83164983, 0.82491582, 0.81818182, 0.81818182, 0.81818182,\n",
      "       0.83164983, 0.82828283, 0.81481481, 0.81818182, 0.82154882,\n",
      "       0.81818182, 0.82154882, 0.81144781, 0.81481481, 0.81144781,\n",
      "       0.81818182, 0.82154882, 0.81144781, 0.81481481, 0.81144781,\n",
      "       0.81818182, 0.82154882, 0.81144781, 0.81481481, 0.81144781,\n",
      "       0.81818182, 0.82154882, 0.81144781, 0.81481481, 0.81144781,\n",
      "       0.81818182, 0.82154882, 0.81144781, 0.81481481, 0.81144781,\n",
      "       0.8013468 , 0.80808081, 0.81144781, 0.81144781, 0.80808081,\n",
      "       0.81144781, 0.80808081, 0.82491582, 0.82491582, 0.82491582,\n",
      "       0.80808081, 0.80808081, 0.81144781, 0.81144781, 0.81144781,\n",
      "       0.82828283, 0.81481481, 0.81144781, 0.81481481, 0.81481481,\n",
      "       0.80808081, 0.80808081, 0.81481481, 0.81481481, 0.81144781,\n",
      "       0.80808081, 0.81144781, 0.80808081, 0.81144781, 0.81481481,\n",
      "       0.80808081, 0.81144781, 0.80808081, 0.81144781, 0.81481481,\n",
      "       0.80808081, 0.81144781, 0.80808081, 0.81144781, 0.81481481,\n",
      "       0.81818182, 0.80808081, 0.81144781, 0.81144781, 0.81818182,\n",
      "       0.8047138 , 0.81144781, 0.81144781, 0.81144781, 0.81481481,\n",
      "       0.82828283, 0.82154882, 0.80808081, 0.80808081, 0.80808081,\n",
      "       0.82828283, 0.82154882, 0.80808081, 0.80808081, 0.80808081,\n",
      "       0.82828283, 0.82154882, 0.80808081, 0.80808081, 0.80808081,\n",
      "       0.82828283, 0.82154882, 0.80808081, 0.80808081, 0.80808081,\n",
      "       0.82828283, 0.82154882, 0.80808081, 0.80808081, 0.80808081]), 'split1_test_score': array([0.84511785, 0.85185185, 0.85858586, 0.85521886, 0.85521886,\n",
      "       0.84848485, 0.84175084, 0.85185185, 0.85185185, 0.84848485,\n",
      "       0.85185185, 0.84848485, 0.85521886, 0.85858586, 0.85858586,\n",
      "       0.83164983, 0.83838384, 0.84511785, 0.85185185, 0.85185185,\n",
      "       0.85858586, 0.84511785, 0.83838384, 0.84848485, 0.84511785,\n",
      "       0.82828283, 0.82828283, 0.83838384, 0.83838384, 0.83501684,\n",
      "       0.82828283, 0.82828283, 0.83838384, 0.83838384, 0.83501684,\n",
      "       0.82828283, 0.82828283, 0.83838384, 0.83838384, 0.83501684,\n",
      "       0.83164983, 0.83838384, 0.83164983, 0.84175084, 0.83501684,\n",
      "       0.82828283, 0.83164983, 0.83501684, 0.83501684, 0.83838384,\n",
      "       0.81818182, 0.83501684, 0.83164983, 0.83164983, 0.83164983,\n",
      "       0.81818182, 0.83501684, 0.83164983, 0.83164983, 0.83164983,\n",
      "       0.81818182, 0.83501684, 0.83164983, 0.83164983, 0.83164983,\n",
      "       0.81818182, 0.83501684, 0.83164983, 0.83164983, 0.83164983,\n",
      "       0.81818182, 0.83501684, 0.83164983, 0.83164983, 0.83164983,\n",
      "       0.83838384, 0.84511785, 0.85858586, 0.86195286, 0.86195286,\n",
      "       0.84511785, 0.86195286, 0.84848485, 0.84848485, 0.84848485,\n",
      "       0.84175084, 0.84175084, 0.84511785, 0.84848485, 0.84848485,\n",
      "       0.85185185, 0.85521886, 0.84848485, 0.84848485, 0.85521886,\n",
      "       0.84511785, 0.84848485, 0.84511785, 0.85185185, 0.84511785,\n",
      "       0.83501684, 0.84511785, 0.83501684, 0.83164983, 0.83501684,\n",
      "       0.83501684, 0.84511785, 0.83501684, 0.83164983, 0.83501684,\n",
      "       0.83501684, 0.84511785, 0.83501684, 0.83164983, 0.83501684,\n",
      "       0.82828283, 0.84848485, 0.83838384, 0.83501684, 0.83501684,\n",
      "       0.83501684, 0.84511785, 0.83164983, 0.83838384, 0.83838384,\n",
      "       0.83164983, 0.83164983, 0.83501684, 0.83164983, 0.82828283,\n",
      "       0.83164983, 0.83164983, 0.83501684, 0.83164983, 0.82828283,\n",
      "       0.83164983, 0.83164983, 0.83501684, 0.83164983, 0.82828283,\n",
      "       0.83164983, 0.83164983, 0.83501684, 0.83164983, 0.82828283,\n",
      "       0.83164983, 0.83164983, 0.83501684, 0.83164983, 0.82828283]), 'split2_test_score': array([0.82491582, 0.82828283, 0.83164983, 0.82828283, 0.82491582,\n",
      "       0.84511785, 0.83838384, 0.83164983, 0.83501684, 0.83501684,\n",
      "       0.84175084, 0.84511785, 0.83838384, 0.84175084, 0.83838384,\n",
      "       0.84175084, 0.84511785, 0.84175084, 0.84175084, 0.84175084,\n",
      "       0.82828283, 0.84511785, 0.83838384, 0.83501684, 0.83838384,\n",
      "       0.82154882, 0.82828283, 0.81481481, 0.81481481, 0.82154882,\n",
      "       0.82154882, 0.82828283, 0.81481481, 0.81481481, 0.82154882,\n",
      "       0.82154882, 0.82828283, 0.81481481, 0.81481481, 0.82154882,\n",
      "       0.81818182, 0.81818182, 0.81481481, 0.81481481, 0.81481481,\n",
      "       0.81144781, 0.80808081, 0.81818182, 0.81481481, 0.81818182,\n",
      "       0.82491582, 0.80808081, 0.7979798 , 0.7979798 , 0.7979798 ,\n",
      "       0.82491582, 0.80808081, 0.7979798 , 0.7979798 , 0.7979798 ,\n",
      "       0.82491582, 0.80808081, 0.7979798 , 0.7979798 , 0.7979798 ,\n",
      "       0.82491582, 0.80808081, 0.7979798 , 0.7979798 , 0.7979798 ,\n",
      "       0.82491582, 0.80808081, 0.7979798 , 0.7979798 , 0.7979798 ,\n",
      "       0.83838384, 0.82828283, 0.82828283, 0.82491582, 0.82154882,\n",
      "       0.82828283, 0.83838384, 0.84175084, 0.83501684, 0.83164983,\n",
      "       0.83838384, 0.84511785, 0.83501684, 0.84511785, 0.83838384,\n",
      "       0.83501684, 0.83501684, 0.84175084, 0.84175084, 0.84175084,\n",
      "       0.84175084, 0.85185185, 0.84175084, 0.83838384, 0.83838384,\n",
      "       0.81818182, 0.81818182, 0.81144781, 0.81481481, 0.81818182,\n",
      "       0.81818182, 0.81818182, 0.81144781, 0.81481481, 0.81818182,\n",
      "       0.81818182, 0.81818182, 0.81144781, 0.81481481, 0.81818182,\n",
      "       0.82154882, 0.82491582, 0.82154882, 0.82491582, 0.82491582,\n",
      "       0.83164983, 0.82154882, 0.82828283, 0.82154882, 0.82154882,\n",
      "       0.81818182, 0.8013468 , 0.7979798 , 0.7979798 , 0.7979798 ,\n",
      "       0.81818182, 0.8013468 , 0.7979798 , 0.7979798 , 0.7979798 ,\n",
      "       0.81818182, 0.8013468 , 0.7979798 , 0.7979798 , 0.7979798 ,\n",
      "       0.81818182, 0.8013468 , 0.7979798 , 0.7979798 , 0.7979798 ,\n",
      "       0.81818182, 0.8013468 , 0.7979798 , 0.7979798 , 0.7979798 ]), 'mean_test_score': array([0.82603816, 0.82716049, 0.83277217, 0.83277217, 0.82828283,\n",
      "       0.8372615 , 0.8372615 , 0.83613917, 0.8372615 , 0.83613917,\n",
      "       0.83501684, 0.83501684, 0.8338945 , 0.83838384, 0.83838384,\n",
      "       0.82716049, 0.8305275 , 0.83277217, 0.83277217, 0.8338945 ,\n",
      "       0.8338945 , 0.83277217, 0.82828283, 0.8305275 , 0.8305275 ,\n",
      "       0.82379349, 0.82491582, 0.82379349, 0.82379349, 0.82491582,\n",
      "       0.82379349, 0.82491582, 0.82379349, 0.82379349, 0.82491582,\n",
      "       0.82379349, 0.82491582, 0.82379349, 0.82379349, 0.82491582,\n",
      "       0.82716049, 0.82716049, 0.82154882, 0.82491582, 0.82267116,\n",
      "       0.82379349, 0.82267116, 0.82267116, 0.82267116, 0.82603816,\n",
      "       0.82042649, 0.82154882, 0.81369248, 0.81481481, 0.81369248,\n",
      "       0.82042649, 0.82154882, 0.81369248, 0.81481481, 0.81369248,\n",
      "       0.82042649, 0.82154882, 0.81369248, 0.81481481, 0.81369248,\n",
      "       0.82042649, 0.82154882, 0.81369248, 0.81481481, 0.81369248,\n",
      "       0.82042649, 0.82154882, 0.81369248, 0.81481481, 0.81369248,\n",
      "       0.82603816, 0.82716049, 0.83277217, 0.83277217, 0.8305275 ,\n",
      "       0.82828283, 0.83613917, 0.83838384, 0.83613917, 0.83501684,\n",
      "       0.82940516, 0.83164983, 0.8305275 , 0.83501684, 0.83277217,\n",
      "       0.83838384, 0.83501684, 0.8338945 , 0.83501684, 0.8372615 ,\n",
      "       0.83164983, 0.83613917, 0.8338945 , 0.83501684, 0.83164983,\n",
      "       0.82042649, 0.82491582, 0.81818182, 0.81930415, 0.82267116,\n",
      "       0.82042649, 0.82491582, 0.81818182, 0.81930415, 0.82267116,\n",
      "       0.82042649, 0.82491582, 0.81818182, 0.81930415, 0.82267116,\n",
      "       0.82267116, 0.82716049, 0.82379349, 0.82379349, 0.82603816,\n",
      "       0.82379349, 0.82603816, 0.82379349, 0.82379349, 0.82491582,\n",
      "       0.82603816, 0.81818182, 0.81369248, 0.81257015, 0.81144781,\n",
      "       0.82603816, 0.81818182, 0.81369248, 0.81257015, 0.81144781,\n",
      "       0.82603816, 0.81818182, 0.81369248, 0.81257015, 0.81144781,\n",
      "       0.82603816, 0.81818182, 0.81369248, 0.81257015, 0.81144781,\n",
      "       0.82603816, 0.81818182, 0.81369248, 0.81257015, 0.81144781]), 'std_test_score': array([0.01514112, 0.02063387, 0.02063387, 0.01679756, 0.0207556 ,\n",
      "       0.01356122, 0.00419939, 0.01144561, 0.01111054, 0.00965469,\n",
      "       0.01716842, 0.01672241, 0.01950409, 0.01802736, 0.01649488,\n",
      "       0.01410753, 0.01610853, 0.01514112, 0.02026428, 0.01871305,\n",
      "       0.01830472, 0.01745943, 0.01428499, 0.01679756, 0.01610853,\n",
      "       0.00317444, 0.00476166, 0.0104081 , 0.0104081 , 0.00727356,\n",
      "       0.00317444, 0.00476166, 0.0104081 , 0.0104081 , 0.00727356,\n",
      "       0.00317444, 0.00476166, 0.0104081 , 0.0104081 , 0.00727356,\n",
      "       0.00634888, 0.00839878, 0.00727356, 0.01198325, 0.00883727,\n",
      "       0.00883727, 0.0104081 , 0.00883727, 0.00883727, 0.00883727,\n",
      "       0.00317444, 0.01099659, 0.01383707, 0.01374573, 0.01383707,\n",
      "       0.00317444, 0.01099659, 0.01383707, 0.01374573, 0.01383707,\n",
      "       0.00317444, 0.01099659, 0.01383707, 0.01374573, 0.01383707,\n",
      "       0.00317444, 0.01099659, 0.01383707, 0.01374573, 0.01383707,\n",
      "       0.00317444, 0.01099659, 0.01383707, 0.01374573, 0.01383707,\n",
      "       0.01745943, 0.01514112, 0.01950409, 0.02135387, 0.02289122,\n",
      "       0.01374573, 0.02205037, 0.00991219, 0.00965469, 0.00991219,\n",
      "       0.01514112, 0.01672241, 0.01410753, 0.01672241, 0.01563231,\n",
      "       0.00991219, 0.01649488, 0.01610853, 0.01454712, 0.01679756,\n",
      "       0.01672241, 0.01988782, 0.01356122, 0.0153066 , 0.01454712,\n",
      "       0.01111054, 0.01454712, 0.01198325, 0.00883727, 0.00883727,\n",
      "       0.01111054, 0.01454712, 0.01198325, 0.00883727, 0.00883727,\n",
      "       0.01111054, 0.01454712, 0.01198325, 0.00883727, 0.00883727,\n",
      "       0.00419939, 0.01657107, 0.01111054, 0.00965469, 0.00691853,\n",
      "       0.01356122, 0.01410753, 0.00883727, 0.01111054, 0.00991219,\n",
      "       0.00572281, 0.01259817, 0.01563231, 0.01410753, 0.01259817,\n",
      "       0.00572281, 0.01259817, 0.01563231, 0.01410753, 0.01259817,\n",
      "       0.00572281, 0.01259817, 0.01563231, 0.01410753, 0.01259817,\n",
      "       0.00572281, 0.01259817, 0.01563231, 0.01410753, 0.01259817,\n",
      "       0.00572281, 0.01259817, 0.01563231, 0.01410753, 0.01259817]), 'rank_test_score': array([ 59,  46,  26,  26,  43,   5,   7,   9,   5,   9,  14,  14,  21,\n",
      "         1,   1,  46,  37,  26,  26,  21,  21,  26,  43,  37,  37,  73,\n",
      "        62,  73,  73,  62,  73,  62,  73,  73,  62,  73,  62,  73,  73,\n",
      "        62,  46,  46,  96,  62,  88,  73,  88,  88,  88,  52, 102,  96,\n",
      "       126, 121, 126, 102,  96, 126, 121, 126, 102,  96, 126, 121, 126,\n",
      "       102,  96, 126, 121, 126, 102,  96, 126, 121, 126,  59,  46,  26,\n",
      "        26,  37,  43,  13,   1,   9,  14,  42,  34,  37,  14,  26,   1,\n",
      "        14,  21,  14,   7,  34,   9,  21,  20,  34, 102,  62, 113, 110,\n",
      "        88, 102,  62, 113, 110,  88, 102,  62, 113, 110,  88,  88,  46,\n",
      "        73,  73,  59,  73,  52,  73,  73,  62,  52, 113, 126, 141, 146,\n",
      "        52, 113, 126, 141, 146,  52, 113, 126, 141, 146,  52, 113, 126,\n",
      "       141, 146,  52, 113, 126, 141, 146], dtype=int32)}\n"
     ]
    }
   ],
   "source": [
    "from sklearn.model_selection import GridSearchCV\n",
    "from sklearn.ensemble import RandomForestClassifier\n",
    "\n",
    "classifier = RandomForestClassifier(max_features = 'auto',oob_score = True, random_state = 1, n_jobs = -1)\n",
    "\n",
    "param_grid = {'criterion' : [\"gini\",\"entropy\"], \"min_samples_leaf\" : [1,5,10],\"min_samples_split\" : [2,4,10,12,16], \n",
    "             \"n_estimators\" : [50, 100, 400, 700, 1000]}\n",
    "\n",
    "gs = GridSearchCV(estimator = classifier, param_grid = param_grid, scoring = 'accuracy', cv = 3, n_jobs = -1)\n",
    "\n",
    "gs.fit(train.iloc[:,1:], train.iloc[:,0])\n",
    "\n",
    "print(gs.best_score_)\n",
    "print(gs.best_params_)\n",
    "print(gs.cv_results_)\n"
   ]
  },
  {
   "cell_type": "markdown",
   "id": "939ba475",
   "metadata": {
    "papermill": {
     "duration": 0.030616,
     "end_time": "2022-07-22T09:53:43.013140",
     "exception": false,
     "start_time": "2022-07-22T09:53:42.982524",
     "status": "completed"
    },
    "tags": []
   },
   "source": [
    "We had used n_jobs = -1, so that model use all the available cores. And used random_state = 1 to get the same results."
   ]
  },
  {
   "cell_type": "markdown",
   "id": "cfdd55fb",
   "metadata": {
    "papermill": {
     "duration": 0.029722,
     "end_time": "2022-07-22T09:53:43.165578",
     "exception": false,
     "start_time": "2022-07-22T09:53:43.135856",
     "status": "completed"
    },
    "tags": []
   },
   "source": [
    "*We can see that our optimal parameter settings are not at the endpoints of our provided values, meaning that we don't\n",
    "have to test more values.*"
   ]
  },
  {
   "cell_type": "markdown",
   "id": "2a5802ec",
   "metadata": {
    "papermill": {
     "duration": 0.03034,
     "end_time": "2022-07-22T09:53:43.226324",
     "exception": false,
     "start_time": "2022-07-22T09:53:43.195984",
     "status": "completed"
    },
    "tags": []
   },
   "source": [
    "**Model Estimation and Evaluation**"
   ]
  },
  {
   "cell_type": "markdown",
   "id": "cad4cd84",
   "metadata": {
    "papermill": {
     "duration": 0.029475,
     "end_time": "2022-07-22T09:53:43.285924",
     "exception": false,
     "start_time": "2022-07-22T09:53:43.256449",
     "status": "completed"
    },
    "tags": []
   },
   "source": [
    "We can fit our model using hyperparameters. The out-of-bag score can give us an unbiased estimate of the model accuracy."
   ]
  },
  {
   "cell_type": "code",
   "execution_count": 54,
   "id": "c344c454",
   "metadata": {
    "execution": {
     "iopub.execute_input": "2022-07-22T09:53:43.348017Z",
     "iopub.status.busy": "2022-07-22T09:53:43.347542Z",
     "iopub.status.idle": "2022-07-22T09:53:46.001019Z",
     "shell.execute_reply": "2022-07-22T09:53:45.999539Z"
    },
    "papermill": {
     "duration": 2.688436,
     "end_time": "2022-07-22T09:53:46.004289",
     "exception": false,
     "start_time": "2022-07-22T09:53:43.315853",
     "status": "completed"
    },
    "tags": []
   },
   "outputs": [
    {
     "name": "stdout",
     "output_type": "stream",
     "text": [
      "0.8294051627384961\n"
     ]
    }
   ],
   "source": [
    "from sklearn.ensemble import RandomForestClassifier\n",
    "\n",
    "RF = RandomForestClassifier(criterion = 'gini', \n",
    "                           n_estimators = 700,\n",
    "                           min_samples_split = 10,\n",
    "                           min_samples_leaf = 1,\n",
    "                           max_features = 'auto',\n",
    "                           oob_score = True,\n",
    "                           random_state = 1,\n",
    "                           n_jobs = -1)\n",
    "RF.fit(train.iloc[:,1:], train.iloc[:,0])\n",
    "print(RF.oob_score_)"
   ]
  },
  {
   "cell_type": "markdown",
   "id": "914254dc",
   "metadata": {
    "papermill": {
     "duration": 0.037206,
     "end_time": "2022-07-22T09:53:46.076805",
     "exception": false,
     "start_time": "2022-07-22T09:53:46.039599",
     "status": "completed"
    },
    "tags": []
   },
   "source": [
    "Let's take a brief look at our variable importance according to our random forest model."
   ]
  },
  {
   "cell_type": "code",
   "execution_count": 55,
   "id": "d9dbf8ca",
   "metadata": {
    "execution": {
     "iopub.execute_input": "2022-07-22T09:53:46.153390Z",
     "iopub.status.busy": "2022-07-22T09:53:46.152927Z",
     "iopub.status.idle": "2022-07-22T09:53:46.381757Z",
     "shell.execute_reply": "2022-07-22T09:53:46.380586Z"
    },
    "papermill": {
     "duration": 0.269567,
     "end_time": "2022-07-22T09:53:46.384008",
     "exception": false,
     "start_time": "2022-07-22T09:53:46.114441",
     "status": "completed"
    },
    "tags": []
   },
   "outputs": [
    {
     "data": {
      "text/html": [
       "<div>\n",
       "<style scoped>\n",
       "    .dataframe tbody tr th:only-of-type {\n",
       "        vertical-align: middle;\n",
       "    }\n",
       "\n",
       "    .dataframe tbody tr th {\n",
       "        vertical-align: top;\n",
       "    }\n",
       "\n",
       "    .dataframe thead th {\n",
       "        text-align: right;\n",
       "    }\n",
       "</style>\n",
       "<table border=\"1\" class=\"dataframe\">\n",
       "  <thead>\n",
       "    <tr style=\"text-align: right;\">\n",
       "      <th></th>\n",
       "      <th>variable</th>\n",
       "      <th>importance</th>\n",
       "    </tr>\n",
       "  </thead>\n",
       "  <tbody>\n",
       "    <tr>\n",
       "      <th>12</th>\n",
       "      <td>Sex_female</td>\n",
       "      <td>0.111215</td>\n",
       "    </tr>\n",
       "    <tr>\n",
       "      <th>11</th>\n",
       "      <td>Sex_male</td>\n",
       "      <td>0.109769</td>\n",
       "    </tr>\n",
       "    <tr>\n",
       "      <th>33</th>\n",
       "      <td>Name_Title_Mr.</td>\n",
       "      <td>0.109746</td>\n",
       "    </tr>\n",
       "    <tr>\n",
       "      <th>1</th>\n",
       "      <td>Fare</td>\n",
       "      <td>0.088209</td>\n",
       "    </tr>\n",
       "    <tr>\n",
       "      <th>2</th>\n",
       "      <td>Name_Len</td>\n",
       "      <td>0.087904</td>\n",
       "    </tr>\n",
       "    <tr>\n",
       "      <th>0</th>\n",
       "      <td>Age</td>\n",
       "      <td>0.078651</td>\n",
       "    </tr>\n",
       "    <tr>\n",
       "      <th>8</th>\n",
       "      <td>Pclass_3</td>\n",
       "      <td>0.043268</td>\n",
       "    </tr>\n",
       "    <tr>\n",
       "      <th>35</th>\n",
       "      <td>Name_Title_Miss.</td>\n",
       "      <td>0.031292</td>\n",
       "    </tr>\n",
       "    <tr>\n",
       "      <th>7</th>\n",
       "      <td>Ticket_Len</td>\n",
       "      <td>0.031079</td>\n",
       "    </tr>\n",
       "    <tr>\n",
       "      <th>34</th>\n",
       "      <td>Name_Title_Mrs.</td>\n",
       "      <td>0.028852</td>\n",
       "    </tr>\n",
       "    <tr>\n",
       "      <th>25</th>\n",
       "      <td>Cabin_Letter_n</td>\n",
       "      <td>0.027893</td>\n",
       "    </tr>\n",
       "    <tr>\n",
       "      <th>43</th>\n",
       "      <td>Fam_Size_Big</td>\n",
       "      <td>0.025199</td>\n",
       "    </tr>\n",
       "    <tr>\n",
       "      <th>41</th>\n",
       "      <td>Fam_Size_Nuclear</td>\n",
       "      <td>0.022704</td>\n",
       "    </tr>\n",
       "    <tr>\n",
       "      <th>9</th>\n",
       "      <td>Pclass_1</td>\n",
       "      <td>0.021810</td>\n",
       "    </tr>\n",
       "    <tr>\n",
       "      <th>19</th>\n",
       "      <td>Ticket_Lett_1</td>\n",
       "      <td>0.017999</td>\n",
       "    </tr>\n",
       "    <tr>\n",
       "      <th>20</th>\n",
       "      <td>Ticket_Lett_3</td>\n",
       "      <td>0.012902</td>\n",
       "    </tr>\n",
       "    <tr>\n",
       "      <th>10</th>\n",
       "      <td>Pclass_2</td>\n",
       "      <td>0.012345</td>\n",
       "    </tr>\n",
       "    <tr>\n",
       "      <th>36</th>\n",
       "      <td>Name_Title_Master.</td>\n",
       "      <td>0.012098</td>\n",
       "    </tr>\n",
       "    <tr>\n",
       "      <th>23</th>\n",
       "      <td>Ticket_Lett_Low_ticket</td>\n",
       "      <td>0.011723</td>\n",
       "    </tr>\n",
       "    <tr>\n",
       "      <th>13</th>\n",
       "      <td>Embarked_S</td>\n",
       "      <td>0.011546</td>\n",
       "    </tr>\n",
       "  </tbody>\n",
       "</table>\n",
       "</div>"
      ],
      "text/plain": [
       "                  variable  importance\n",
       "12              Sex_female    0.111215\n",
       "11                Sex_male    0.109769\n",
       "33          Name_Title_Mr.    0.109746\n",
       "1                     Fare    0.088209\n",
       "2                 Name_Len    0.087904\n",
       "0                      Age    0.078651\n",
       "8                 Pclass_3    0.043268\n",
       "35        Name_Title_Miss.    0.031292\n",
       "7               Ticket_Len    0.031079\n",
       "34         Name_Title_Mrs.    0.028852\n",
       "25          Cabin_Letter_n    0.027893\n",
       "43            Fam_Size_Big    0.025199\n",
       "41        Fam_Size_Nuclear    0.022704\n",
       "9                 Pclass_1    0.021810\n",
       "19           Ticket_Lett_1    0.017999\n",
       "20           Ticket_Lett_3    0.012902\n",
       "10                Pclass_2    0.012345\n",
       "36      Name_Title_Master.    0.012098\n",
       "23  Ticket_Lett_Low_ticket    0.011723\n",
       "13              Embarked_S    0.011546"
      ]
     },
     "execution_count": 55,
     "metadata": {},
     "output_type": "execute_result"
    }
   ],
   "source": [
    "pd.concat((pd.DataFrame(train.iloc[:,1:].columns, columns = ['variable']),\n",
    "          pd.DataFrame(RF.feature_importances_, columns = ['importance'])),\n",
    "         axis = 1).sort_values(by = 'importance', ascending = False)[:20]"
   ]
  },
  {
   "cell_type": "markdown",
   "id": "449847ec",
   "metadata": {
    "papermill": {
     "duration": 0.031634,
     "end_time": "2022-07-22T09:53:46.446897",
     "exception": false,
     "start_time": "2022-07-22T09:53:46.415263",
     "status": "completed"
    },
    "tags": []
   },
   "source": [
    "Our last step is to predict the target variable for our test data."
   ]
  },
  {
   "cell_type": "code",
   "execution_count": 56,
   "id": "97f405c2",
   "metadata": {
    "execution": {
     "iopub.execute_input": "2022-07-22T09:53:46.511570Z",
     "iopub.status.busy": "2022-07-22T09:53:46.510236Z",
     "iopub.status.idle": "2022-07-22T09:53:46.833093Z",
     "shell.execute_reply": "2022-07-22T09:53:46.831799Z"
    },
    "papermill": {
     "duration": 0.357714,
     "end_time": "2022-07-22T09:53:46.835745",
     "exception": false,
     "start_time": "2022-07-22T09:53:46.478031",
     "status": "completed"
    },
    "tags": []
   },
   "outputs": [],
   "source": [
    "predictions = RF.predict(test)\n",
    "predictions = pd.DataFrame(predictions, columns = ['Survived'])\n",
    "test = pd.read_csv('../input/titanic/test.csv')\n",
    "predictions = pd.concat((test.iloc[:, 0], predictions), axis = 1)\n"
   ]
  },
  {
   "cell_type": "code",
   "execution_count": 57,
   "id": "7130e672",
   "metadata": {
    "execution": {
     "iopub.execute_input": "2022-07-22T09:53:46.899384Z",
     "iopub.status.busy": "2022-07-22T09:53:46.898841Z",
     "iopub.status.idle": "2022-07-22T09:53:46.912957Z",
     "shell.execute_reply": "2022-07-22T09:53:46.912024Z"
    },
    "papermill": {
     "duration": 0.048501,
     "end_time": "2022-07-22T09:53:46.915168",
     "exception": false,
     "start_time": "2022-07-22T09:53:46.866667",
     "status": "completed"
    },
    "tags": []
   },
   "outputs": [
    {
     "data": {
      "text/html": [
       "<div>\n",
       "<style scoped>\n",
       "    .dataframe tbody tr th:only-of-type {\n",
       "        vertical-align: middle;\n",
       "    }\n",
       "\n",
       "    .dataframe tbody tr th {\n",
       "        vertical-align: top;\n",
       "    }\n",
       "\n",
       "    .dataframe thead th {\n",
       "        text-align: right;\n",
       "    }\n",
       "</style>\n",
       "<table border=\"1\" class=\"dataframe\">\n",
       "  <thead>\n",
       "    <tr style=\"text-align: right;\">\n",
       "      <th></th>\n",
       "      <th>PassengerId</th>\n",
       "      <th>Survived</th>\n",
       "    </tr>\n",
       "  </thead>\n",
       "  <tbody>\n",
       "    <tr>\n",
       "      <th>0</th>\n",
       "      <td>892</td>\n",
       "      <td>0</td>\n",
       "    </tr>\n",
       "    <tr>\n",
       "      <th>1</th>\n",
       "      <td>893</td>\n",
       "      <td>1</td>\n",
       "    </tr>\n",
       "    <tr>\n",
       "      <th>2</th>\n",
       "      <td>894</td>\n",
       "      <td>0</td>\n",
       "    </tr>\n",
       "    <tr>\n",
       "      <th>3</th>\n",
       "      <td>895</td>\n",
       "      <td>0</td>\n",
       "    </tr>\n",
       "    <tr>\n",
       "      <th>4</th>\n",
       "      <td>896</td>\n",
       "      <td>1</td>\n",
       "    </tr>\n",
       "    <tr>\n",
       "      <th>...</th>\n",
       "      <td>...</td>\n",
       "      <td>...</td>\n",
       "    </tr>\n",
       "    <tr>\n",
       "      <th>413</th>\n",
       "      <td>1305</td>\n",
       "      <td>0</td>\n",
       "    </tr>\n",
       "    <tr>\n",
       "      <th>414</th>\n",
       "      <td>1306</td>\n",
       "      <td>1</td>\n",
       "    </tr>\n",
       "    <tr>\n",
       "      <th>415</th>\n",
       "      <td>1307</td>\n",
       "      <td>0</td>\n",
       "    </tr>\n",
       "    <tr>\n",
       "      <th>416</th>\n",
       "      <td>1308</td>\n",
       "      <td>0</td>\n",
       "    </tr>\n",
       "    <tr>\n",
       "      <th>417</th>\n",
       "      <td>1309</td>\n",
       "      <td>1</td>\n",
       "    </tr>\n",
       "  </tbody>\n",
       "</table>\n",
       "<p>418 rows × 2 columns</p>\n",
       "</div>"
      ],
      "text/plain": [
       "     PassengerId  Survived\n",
       "0            892         0\n",
       "1            893         1\n",
       "2            894         0\n",
       "3            895         0\n",
       "4            896         1\n",
       "..           ...       ...\n",
       "413         1305         0\n",
       "414         1306         1\n",
       "415         1307         0\n",
       "416         1308         0\n",
       "417         1309         1\n",
       "\n",
       "[418 rows x 2 columns]"
      ]
     },
     "execution_count": 57,
     "metadata": {},
     "output_type": "execute_result"
    }
   ],
   "source": [
    "predictions"
   ]
  },
  {
   "cell_type": "markdown",
   "id": "54633564",
   "metadata": {
    "papermill": {
     "duration": 0.031146,
     "end_time": "2022-07-22T09:53:46.978086",
     "exception": false,
     "start_time": "2022-07-22T09:53:46.946940",
     "status": "completed"
    },
    "tags": []
   },
   "source": [
    "> My Inspiration : \n",
    "* https://www.kaggle.com/code/zlatankr/titanic-random-forest-82-78/data\n",
    "* https://www.youtube.com/watch?v=J4Wdy0Wc_xQ\n",
    "* https://pandas.pydata.org/docs/reference/api/pandas.get_dummies.html\n",
    "* https://scikit-learn.org/stable/modules/generated/sklearn.ensemble.RandomForestClassifier.html\n",
    "* https://scikit-learn.org/stable/modules/generated/sklearn.model_selection.GridSearchCV.html\n"
   ]
  }
 ],
 "metadata": {
  "kernelspec": {
   "display_name": "Python 3",
   "language": "python",
   "name": "python3"
  },
  "language_info": {
   "codemirror_mode": {
    "name": "ipython",
    "version": 3
   },
   "file_extension": ".py",
   "mimetype": "text/x-python",
   "name": "python",
   "nbconvert_exporter": "python",
   "pygments_lexer": "ipython3",
   "version": "3.7.12"
  },
  "papermill": {
   "default_parameters": {},
   "duration": 279.745405,
   "end_time": "2022-07-22T09:53:49.631421",
   "environment_variables": {},
   "exception": null,
   "input_path": "__notebook__.ipynb",
   "output_path": "__notebook__.ipynb",
   "parameters": {},
   "start_time": "2022-07-22T09:49:09.886016",
   "version": "2.3.4"
  }
 },
 "nbformat": 4,
 "nbformat_minor": 5
}
